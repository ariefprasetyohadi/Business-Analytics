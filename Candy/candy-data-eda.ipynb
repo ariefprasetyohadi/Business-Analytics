{
 "cells": [
  {
   "cell_type": "markdown",
   "id": "f39580e5",
   "metadata": {
    "papermill": {
     "duration": 0.028237,
     "end_time": "2023-11-23T21:02:22.325221",
     "exception": false,
     "start_time": "2023-11-23T21:02:22.296984",
     "status": "completed"
    },
    "tags": []
   },
   "source": [
    "## About the Dataset"
   ]
  },
  {
   "cell_type": "markdown",
   "id": "d260991e",
   "metadata": {
    "papermill": {
     "duration": 0.027315,
     "end_time": "2023-11-23T21:02:22.380639",
     "exception": false,
     "start_time": "2023-11-23T21:02:22.353324",
     "status": "completed"
    },
    "tags": []
   },
   "source": [
    "This is the official survey form for the 2017 Candy Hierarchy. All data collected is anonymous and will be shared with the public as a raw spreadsheet (xml) file. This data is not intended for research purposes, but rather for the writing of a satirical/humour creative non­fiction science piece to be published at BoingBoing."
   ]
  },
  {
   "cell_type": "markdown",
   "id": "2083f81a",
   "metadata": {
    "papermill": {
     "duration": 0.027707,
     "end_time": "2023-11-23T21:02:22.436941",
     "exception": false,
     "start_time": "2023-11-23T21:02:22.409234",
     "status": "completed"
    },
    "tags": []
   },
   "source": [
    "## In Mind Questions"
   ]
  },
  {
   "cell_type": "markdown",
   "id": "eb34b62e",
   "metadata": {
    "papermill": {
     "duration": 0.027341,
     "end_time": "2023-11-23T21:02:22.491876",
     "exception": false,
     "start_time": "2023-11-23T21:02:22.464535",
     "status": "completed"
    },
    "tags": []
   },
   "source": [
    "- General Questions related to the existence of\n",
    "    - missing values?\n",
    "    - wrong datatypes for columns?\n",
    "    - complete duplicates in the data?\n",
    "    - outliers in each column?\n",
    "    - changed the column names?\n",
    "    - wrong range of values?\n",
    "    - columns dropped it?\n",
    "    <p>&nbsp;</p>\n",
    "- Questions raised during analysis\n",
    "    - Most people `going out` or not?\n",
    "    - What is most common `gender`?\n",
    "    - What is mean of people `age` did the survey?\n",
    "    - What is most `nationality` of people did the survey?\n",
    "    - What is most `dress color` people prefer that?\n",
    "    - What is `day` most people prefer that?\n",
    "    - What is most `website` checked out?\n",
    "    - What is the `most loved` candy?\n",
    "    - What is the `most hated` candy?"
   ]
  },
  {
   "cell_type": "markdown",
   "id": "c1c785bc",
   "metadata": {
    "papermill": {
     "duration": 0.028067,
     "end_time": "2023-11-23T21:02:22.547622",
     "exception": false,
     "start_time": "2023-11-23T21:02:22.519555",
     "status": "completed"
    },
    "tags": []
   },
   "source": [
    "## Loading Data & Libraries"
   ]
  },
  {
   "cell_type": "code",
   "execution_count": 1,
   "id": "ecc4d45f",
   "metadata": {
    "execution": {
     "iopub.execute_input": "2023-11-23T21:02:22.674297Z",
     "iopub.status.busy": "2023-11-23T21:02:22.673505Z",
     "iopub.status.idle": "2023-11-23T21:02:25.537900Z",
     "shell.execute_reply": "2023-11-23T21:02:25.536564Z"
    },
    "papermill": {
     "duration": 2.96582,
     "end_time": "2023-11-23T21:02:25.541177",
     "exception": false,
     "start_time": "2023-11-23T21:02:22.575357",
     "status": "completed"
    },
    "tags": []
   },
   "outputs": [],
   "source": [
    "# import libraries\n",
    "import pandas as pd\n",
    "import numpy as np\n",
    "import matplotlib.pylab as plt\n",
    "import seaborn as sns\n",
    "from fuzzywuzzy import process,fuzz\n",
    "\n",
    "# set style of visualization\n",
    "sns.set_style(\"whitegrid\")\n",
    "sns.set_palette(\"RdBu\")"
   ]
  },
  {
   "cell_type": "markdown",
   "id": "c633e19f",
   "metadata": {
    "papermill": {
     "duration": 0.028131,
     "end_time": "2023-11-23T21:02:25.597105",
     "exception": false,
     "start_time": "2023-11-23T21:02:25.568974",
     "status": "completed"
    },
    "tags": []
   },
   "source": [
    "### Remove Warning"
   ]
  },
  {
   "cell_type": "code",
   "execution_count": 2,
   "id": "6f6f74c9",
   "metadata": {
    "execution": {
     "iopub.execute_input": "2023-11-23T21:02:25.657585Z",
     "iopub.status.busy": "2023-11-23T21:02:25.656699Z",
     "iopub.status.idle": "2023-11-23T21:02:25.662545Z",
     "shell.execute_reply": "2023-11-23T21:02:25.661627Z"
    },
    "papermill": {
     "duration": 0.03804,
     "end_time": "2023-11-23T21:02:25.664816",
     "exception": false,
     "start_time": "2023-11-23T21:02:25.626776",
     "status": "completed"
    },
    "tags": []
   },
   "outputs": [],
   "source": [
    "import warnings\n",
    "warnings.filterwarnings('ignore', category = UserWarning, module ='openpyxl')"
   ]
  },
  {
   "cell_type": "code",
   "execution_count": 3,
   "id": "0ddb5a53",
   "metadata": {
    "execution": {
     "iopub.execute_input": "2023-11-23T21:02:25.722933Z",
     "iopub.status.busy": "2023-11-23T21:02:25.722185Z",
     "iopub.status.idle": "2023-11-23T21:02:30.564306Z",
     "shell.execute_reply": "2023-11-23T21:02:30.563377Z"
    },
    "papermill": {
     "duration": 4.874125,
     "end_time": "2023-11-23T21:02:30.566945",
     "exception": false,
     "start_time": "2023-11-23T21:02:25.692820",
     "status": "completed"
    },
    "tags": []
   },
   "outputs": [],
   "source": [
    "# read dataset\n",
    "\n",
    "candyData = pd.read_excel(\"/kaggle/input/candy-data/candyhierarchy2017.xlsx\")"
   ]
  },
  {
   "cell_type": "markdown",
   "id": "55b4a69b",
   "metadata": {
    "papermill": {
     "duration": 0.027757,
     "end_time": "2023-11-23T21:02:30.622665",
     "exception": false,
     "start_time": "2023-11-23T21:02:30.594908",
     "status": "completed"
    },
    "tags": []
   },
   "source": [
    "## Show Sample Of Data"
   ]
  },
  {
   "cell_type": "code",
   "execution_count": 4,
   "id": "104d0d76",
   "metadata": {
    "execution": {
     "iopub.execute_input": "2023-11-23T21:02:30.684107Z",
     "iopub.status.busy": "2023-11-23T21:02:30.683121Z",
     "iopub.status.idle": "2023-11-23T21:02:30.732429Z",
     "shell.execute_reply": "2023-11-23T21:02:30.731089Z"
    },
    "papermill": {
     "duration": 0.082937,
     "end_time": "2023-11-23T21:02:30.735646",
     "exception": false,
     "start_time": "2023-11-23T21:02:30.652709",
     "status": "completed"
    },
    "tags": []
   },
   "outputs": [
    {
     "data": {
      "text/html": [
       "<div>\n",
       "<style scoped>\n",
       "    .dataframe tbody tr th:only-of-type {\n",
       "        vertical-align: middle;\n",
       "    }\n",
       "\n",
       "    .dataframe tbody tr th {\n",
       "        vertical-align: top;\n",
       "    }\n",
       "\n",
       "    .dataframe thead th {\n",
       "        text-align: right;\n",
       "    }\n",
       "</style>\n",
       "<table border=\"1\" class=\"dataframe\">\n",
       "  <thead>\n",
       "    <tr style=\"text-align: right;\">\n",
       "      <th></th>\n",
       "      <th>Internal ID</th>\n",
       "      <th>Q1: GOING OUT?</th>\n",
       "      <th>Q2: GENDER</th>\n",
       "      <th>Q3: AGE</th>\n",
       "      <th>Q4: COUNTRY</th>\n",
       "      <th>Q5: STATE, PROVINCE, COUNTY, ETC</th>\n",
       "      <th>Q6 | 100 Grand Bar</th>\n",
       "      <th>Q6 | Anonymous brown globs that come in black and orange wrappers\\t(a.k.a. Mary Janes)</th>\n",
       "      <th>Q6 | Any full-sized candy bar</th>\n",
       "      <th>Q6 | Black Jacks</th>\n",
       "      <th>...</th>\n",
       "      <th>Q8: DESPAIR OTHER</th>\n",
       "      <th>Q9: OTHER COMMENTS</th>\n",
       "      <th>Q10: DRESS</th>\n",
       "      <th>Unnamed: 113</th>\n",
       "      <th>Q11: DAY</th>\n",
       "      <th>Q12: MEDIA [Daily Dish]</th>\n",
       "      <th>Q12: MEDIA [Science]</th>\n",
       "      <th>Q12: MEDIA [ESPN]</th>\n",
       "      <th>Q12: MEDIA [Yahoo]</th>\n",
       "      <th>Click Coordinates (x, y)</th>\n",
       "    </tr>\n",
       "  </thead>\n",
       "  <tbody>\n",
       "    <tr>\n",
       "      <th>1387</th>\n",
       "      <td>90278959</td>\n",
       "      <td>NaN</td>\n",
       "      <td>Male</td>\n",
       "      <td>43</td>\n",
       "      <td>United ststes</td>\n",
       "      <td>California</td>\n",
       "      <td>NaN</td>\n",
       "      <td>NaN</td>\n",
       "      <td>NaN</td>\n",
       "      <td>NaN</td>\n",
       "      <td>...</td>\n",
       "      <td>NaN</td>\n",
       "      <td>NaN</td>\n",
       "      <td>NaN</td>\n",
       "      <td>NaN</td>\n",
       "      <td>NaN</td>\n",
       "      <td>NaN</td>\n",
       "      <td>NaN</td>\n",
       "      <td>NaN</td>\n",
       "      <td>NaN</td>\n",
       "      <td>NaN</td>\n",
       "    </tr>\n",
       "    <tr>\n",
       "      <th>879</th>\n",
       "      <td>90276452</td>\n",
       "      <td>Yes</td>\n",
       "      <td>Other</td>\n",
       "      <td>40</td>\n",
       "      <td>United States</td>\n",
       "      <td>Massachusetts</td>\n",
       "      <td>JOY</td>\n",
       "      <td>DESPAIR</td>\n",
       "      <td>JOY</td>\n",
       "      <td>NaN</td>\n",
       "      <td>...</td>\n",
       "      <td>Stickers</td>\n",
       "      <td>NaN</td>\n",
       "      <td>White and gold</td>\n",
       "      <td>NaN</td>\n",
       "      <td>Sunday</td>\n",
       "      <td>NaN</td>\n",
       "      <td>1.0</td>\n",
       "      <td>NaN</td>\n",
       "      <td>NaN</td>\n",
       "      <td>(80, 24)</td>\n",
       "    </tr>\n",
       "    <tr>\n",
       "      <th>2040</th>\n",
       "      <td>90285452</td>\n",
       "      <td>No</td>\n",
       "      <td>Female</td>\n",
       "      <td>45</td>\n",
       "      <td>USA</td>\n",
       "      <td>Iowa</td>\n",
       "      <td>JOY</td>\n",
       "      <td>DESPAIR</td>\n",
       "      <td>JOY</td>\n",
       "      <td>DESPAIR</td>\n",
       "      <td>...</td>\n",
       "      <td>NaN</td>\n",
       "      <td>Old me wishes for the more innocent days of ca...</td>\n",
       "      <td>White and gold</td>\n",
       "      <td>NaN</td>\n",
       "      <td>Sunday</td>\n",
       "      <td>NaN</td>\n",
       "      <td>1.0</td>\n",
       "      <td>NaN</td>\n",
       "      <td>NaN</td>\n",
       "      <td>(78, 24)</td>\n",
       "    </tr>\n",
       "    <tr>\n",
       "      <th>769</th>\n",
       "      <td>90275982</td>\n",
       "      <td>No</td>\n",
       "      <td>Male</td>\n",
       "      <td>39.4</td>\n",
       "      <td>US of A</td>\n",
       "      <td>Michigin</td>\n",
       "      <td>JOY</td>\n",
       "      <td>NaN</td>\n",
       "      <td>NaN</td>\n",
       "      <td>NaN</td>\n",
       "      <td>...</td>\n",
       "      <td>NaN</td>\n",
       "      <td>NaN</td>\n",
       "      <td>White and gold</td>\n",
       "      <td>NaN</td>\n",
       "      <td>Sunday</td>\n",
       "      <td>NaN</td>\n",
       "      <td>NaN</td>\n",
       "      <td>NaN</td>\n",
       "      <td>NaN</td>\n",
       "      <td>NaN</td>\n",
       "    </tr>\n",
       "  </tbody>\n",
       "</table>\n",
       "<p>4 rows × 120 columns</p>\n",
       "</div>"
      ],
      "text/plain": [
       "      Internal ID Q1: GOING OUT? Q2: GENDER Q3: AGE    Q4: COUNTRY  \\\n",
       "1387     90278959            NaN       Male      43  United ststes   \n",
       "879      90276452            Yes      Other      40  United States   \n",
       "2040     90285452             No     Female      45            USA   \n",
       "769      90275982             No       Male    39.4        US of A   \n",
       "\n",
       "     Q5: STATE, PROVINCE, COUNTY, ETC Q6 | 100 Grand Bar  \\\n",
       "1387                       California                NaN   \n",
       "879                     Massachusetts                JOY   \n",
       "2040                             Iowa                JOY   \n",
       "769                          Michigin                JOY   \n",
       "\n",
       "     Q6 | Anonymous brown globs that come in black and orange wrappers\\t(a.k.a. Mary Janes)  \\\n",
       "1387                                                NaN                                       \n",
       "879                                             DESPAIR                                       \n",
       "2040                                            DESPAIR                                       \n",
       "769                                                 NaN                                       \n",
       "\n",
       "     Q6 | Any full-sized candy bar Q6 | Black Jacks  ... Q8: DESPAIR OTHER  \\\n",
       "1387                           NaN              NaN  ...               NaN   \n",
       "879                            JOY              NaN  ...          Stickers   \n",
       "2040                           JOY          DESPAIR  ...               NaN   \n",
       "769                            NaN              NaN  ...               NaN   \n",
       "\n",
       "                                     Q9: OTHER COMMENTS      Q10: DRESS  \\\n",
       "1387                                                NaN             NaN   \n",
       "879                                                 NaN  White and gold   \n",
       "2040  Old me wishes for the more innocent days of ca...  White and gold   \n",
       "769                                                 NaN  White and gold   \n",
       "\n",
       "     Unnamed: 113 Q11: DAY Q12: MEDIA [Daily Dish] Q12: MEDIA [Science]  \\\n",
       "1387          NaN      NaN                     NaN                  NaN   \n",
       "879           NaN   Sunday                     NaN                  1.0   \n",
       "2040          NaN   Sunday                     NaN                  1.0   \n",
       "769           NaN   Sunday                     NaN                  NaN   \n",
       "\n",
       "     Q12: MEDIA [ESPN] Q12: MEDIA [Yahoo] Click Coordinates (x, y)  \n",
       "1387               NaN                NaN                      NaN  \n",
       "879                NaN                NaN                 (80, 24)  \n",
       "2040               NaN                NaN                 (78, 24)  \n",
       "769                NaN                NaN                      NaN  \n",
       "\n",
       "[4 rows x 120 columns]"
      ]
     },
     "execution_count": 4,
     "metadata": {},
     "output_type": "execute_result"
    }
   ],
   "source": [
    "# see randome 4 rows \n",
    "\n",
    "candyData.sample(4)"
   ]
  },
  {
   "cell_type": "markdown",
   "id": "f99780e7",
   "metadata": {
    "papermill": {
     "duration": 0.027902,
     "end_time": "2023-11-23T21:02:30.791994",
     "exception": false,
     "start_time": "2023-11-23T21:02:30.764092",
     "status": "completed"
    },
    "tags": []
   },
   "source": [
    "## Show More Info"
   ]
  },
  {
   "cell_type": "code",
   "execution_count": 5,
   "id": "ee9882fa",
   "metadata": {
    "execution": {
     "iopub.execute_input": "2023-11-23T21:02:30.851248Z",
     "iopub.status.busy": "2023-11-23T21:02:30.850792Z",
     "iopub.status.idle": "2023-11-23T21:02:30.857269Z",
     "shell.execute_reply": "2023-11-23T21:02:30.856368Z"
    },
    "papermill": {
     "duration": 0.03921,
     "end_time": "2023-11-23T21:02:30.859513",
     "exception": false,
     "start_time": "2023-11-23T21:02:30.820303",
     "status": "completed"
    },
    "tags": []
   },
   "outputs": [
    {
     "data": {
      "text/plain": [
       "(2460, 120)"
      ]
     },
     "execution_count": 5,
     "metadata": {},
     "output_type": "execute_result"
    }
   ],
   "source": [
    "# see dimensions \n",
    "\n",
    "candyData.shape"
   ]
  },
  {
   "cell_type": "code",
   "execution_count": 6,
   "id": "a6e8c54c",
   "metadata": {
    "execution": {
     "iopub.execute_input": "2023-11-23T21:02:30.919472Z",
     "iopub.status.busy": "2023-11-23T21:02:30.919041Z",
     "iopub.status.idle": "2023-11-23T21:02:30.955400Z",
     "shell.execute_reply": "2023-11-23T21:02:30.954019Z"
    },
    "papermill": {
     "duration": 0.070516,
     "end_time": "2023-11-23T21:02:30.958315",
     "exception": false,
     "start_time": "2023-11-23T21:02:30.887799",
     "status": "completed"
    },
    "tags": []
   },
   "outputs": [
    {
     "data": {
      "text/plain": [
       "Internal ID                    0\n",
       "Q1: GOING OUT?               110\n",
       "Q2: GENDER                    41\n",
       "Q3: AGE                       84\n",
       "Q4: COUNTRY                   64\n",
       "                            ... \n",
       "Q12: MEDIA [Daily Dish]     2375\n",
       "Q12: MEDIA [Science]        1098\n",
       "Q12: MEDIA [ESPN]           2361\n",
       "Q12: MEDIA [Yahoo]          2393\n",
       "Click Coordinates (x, y)     855\n",
       "Length: 120, dtype: int64"
      ]
     },
     "execution_count": 6,
     "metadata": {},
     "output_type": "execute_result"
    }
   ],
   "source": [
    "# Checking for Null Values\n",
    "\n",
    "candyData.isna().sum() "
   ]
  },
  {
   "cell_type": "code",
   "execution_count": 7,
   "id": "8a99ae26",
   "metadata": {
    "execution": {
     "iopub.execute_input": "2023-11-23T21:02:31.019672Z",
     "iopub.status.busy": "2023-11-23T21:02:31.019265Z",
     "iopub.status.idle": "2023-11-23T21:02:31.094684Z",
     "shell.execute_reply": "2023-11-23T21:02:31.093295Z"
    },
    "papermill": {
     "duration": 0.109619,
     "end_time": "2023-11-23T21:02:31.097554",
     "exception": false,
     "start_time": "2023-11-23T21:02:30.987935",
     "status": "completed"
    },
    "tags": []
   },
   "outputs": [
    {
     "data": {
      "text/plain": [
       "False"
      ]
     },
     "execution_count": 7,
     "metadata": {},
     "output_type": "execute_result"
    }
   ],
   "source": [
    "# check if duplicated\n",
    "\n",
    "candyData.duplicated().any()"
   ]
  },
  {
   "cell_type": "code",
   "execution_count": 8,
   "id": "37f0dc51",
   "metadata": {
    "execution": {
     "iopub.execute_input": "2023-11-23T21:02:31.159343Z",
     "iopub.status.busy": "2023-11-23T21:02:31.158898Z",
     "iopub.status.idle": "2023-11-23T21:02:31.194442Z",
     "shell.execute_reply": "2023-11-23T21:02:31.193215Z"
    },
    "papermill": {
     "duration": 0.069964,
     "end_time": "2023-11-23T21:02:31.197285",
     "exception": false,
     "start_time": "2023-11-23T21:02:31.127321",
     "status": "completed"
    },
    "tags": []
   },
   "outputs": [
    {
     "data": {
      "text/html": [
       "<div>\n",
       "<style scoped>\n",
       "    .dataframe tbody tr th:only-of-type {\n",
       "        vertical-align: middle;\n",
       "    }\n",
       "\n",
       "    .dataframe tbody tr th {\n",
       "        vertical-align: top;\n",
       "    }\n",
       "\n",
       "    .dataframe thead th {\n",
       "        text-align: right;\n",
       "    }\n",
       "</style>\n",
       "<table border=\"1\" class=\"dataframe\">\n",
       "  <thead>\n",
       "    <tr style=\"text-align: right;\">\n",
       "      <th></th>\n",
       "      <th>Internal ID</th>\n",
       "      <th>Q12: MEDIA [Daily Dish]</th>\n",
       "      <th>Q12: MEDIA [Science]</th>\n",
       "      <th>Q12: MEDIA [ESPN]</th>\n",
       "      <th>Q12: MEDIA [Yahoo]</th>\n",
       "    </tr>\n",
       "  </thead>\n",
       "  <tbody>\n",
       "    <tr>\n",
       "      <th>count</th>\n",
       "      <td>2.460000e+03</td>\n",
       "      <td>85.0</td>\n",
       "      <td>1362.0</td>\n",
       "      <td>99.0</td>\n",
       "      <td>67.0</td>\n",
       "    </tr>\n",
       "    <tr>\n",
       "      <th>mean</th>\n",
       "      <td>9.028016e+07</td>\n",
       "      <td>1.0</td>\n",
       "      <td>1.0</td>\n",
       "      <td>1.0</td>\n",
       "      <td>1.0</td>\n",
       "    </tr>\n",
       "    <tr>\n",
       "      <th>std</th>\n",
       "      <td>7.435532e+03</td>\n",
       "      <td>0.0</td>\n",
       "      <td>0.0</td>\n",
       "      <td>0.0</td>\n",
       "      <td>0.0</td>\n",
       "    </tr>\n",
       "    <tr>\n",
       "      <th>min</th>\n",
       "      <td>9.025877e+07</td>\n",
       "      <td>1.0</td>\n",
       "      <td>1.0</td>\n",
       "      <td>1.0</td>\n",
       "      <td>1.0</td>\n",
       "    </tr>\n",
       "    <tr>\n",
       "      <th>25%</th>\n",
       "      <td>9.027520e+07</td>\n",
       "      <td>1.0</td>\n",
       "      <td>1.0</td>\n",
       "      <td>1.0</td>\n",
       "      <td>1.0</td>\n",
       "    </tr>\n",
       "    <tr>\n",
       "      <th>50%</th>\n",
       "      <td>9.027780e+07</td>\n",
       "      <td>1.0</td>\n",
       "      <td>1.0</td>\n",
       "      <td>1.0</td>\n",
       "      <td>1.0</td>\n",
       "    </tr>\n",
       "    <tr>\n",
       "      <th>75%</th>\n",
       "      <td>9.028242e+07</td>\n",
       "      <td>1.0</td>\n",
       "      <td>1.0</td>\n",
       "      <td>1.0</td>\n",
       "      <td>1.0</td>\n",
       "    </tr>\n",
       "    <tr>\n",
       "      <th>max</th>\n",
       "      <td>9.031480e+07</td>\n",
       "      <td>1.0</td>\n",
       "      <td>1.0</td>\n",
       "      <td>1.0</td>\n",
       "      <td>1.0</td>\n",
       "    </tr>\n",
       "  </tbody>\n",
       "</table>\n",
       "</div>"
      ],
      "text/plain": [
       "        Internal ID  Q12: MEDIA [Daily Dish]  Q12: MEDIA [Science]  \\\n",
       "count  2.460000e+03                     85.0                1362.0   \n",
       "mean   9.028016e+07                      1.0                   1.0   \n",
       "std    7.435532e+03                      0.0                   0.0   \n",
       "min    9.025877e+07                      1.0                   1.0   \n",
       "25%    9.027520e+07                      1.0                   1.0   \n",
       "50%    9.027780e+07                      1.0                   1.0   \n",
       "75%    9.028242e+07                      1.0                   1.0   \n",
       "max    9.031480e+07                      1.0                   1.0   \n",
       "\n",
       "       Q12: MEDIA [ESPN]  Q12: MEDIA [Yahoo]  \n",
       "count               99.0                67.0  \n",
       "mean                 1.0                 1.0  \n",
       "std                  0.0                 0.0  \n",
       "min                  1.0                 1.0  \n",
       "25%                  1.0                 1.0  \n",
       "50%                  1.0                 1.0  \n",
       "75%                  1.0                 1.0  \n",
       "max                  1.0                 1.0  "
      ]
     },
     "execution_count": 8,
     "metadata": {},
     "output_type": "execute_result"
    }
   ],
   "source": [
    "# see quick info of numeric values\n",
    "\n",
    "candyData.describe()"
   ]
  },
  {
   "cell_type": "code",
   "execution_count": 9,
   "id": "596a5279",
   "metadata": {
    "execution": {
     "iopub.execute_input": "2023-11-23T21:02:31.258064Z",
     "iopub.status.busy": "2023-11-23T21:02:31.257626Z",
     "iopub.status.idle": "2023-11-23T21:02:31.487820Z",
     "shell.execute_reply": "2023-11-23T21:02:31.486243Z"
    },
    "papermill": {
     "duration": 0.264312,
     "end_time": "2023-11-23T21:02:31.490786",
     "exception": false,
     "start_time": "2023-11-23T21:02:31.226474",
     "status": "completed"
    },
    "tags": []
   },
   "outputs": [
    {
     "data": {
      "text/html": [
       "<div>\n",
       "<style scoped>\n",
       "    .dataframe tbody tr th:only-of-type {\n",
       "        vertical-align: middle;\n",
       "    }\n",
       "\n",
       "    .dataframe tbody tr th {\n",
       "        vertical-align: top;\n",
       "    }\n",
       "\n",
       "    .dataframe thead th {\n",
       "        text-align: right;\n",
       "    }\n",
       "</style>\n",
       "<table border=\"1\" class=\"dataframe\">\n",
       "  <thead>\n",
       "    <tr style=\"text-align: right;\">\n",
       "      <th></th>\n",
       "      <th>Q1: GOING OUT?</th>\n",
       "      <th>Q2: GENDER</th>\n",
       "      <th>Q3: AGE</th>\n",
       "      <th>Q4: COUNTRY</th>\n",
       "      <th>Q5: STATE, PROVINCE, COUNTY, ETC</th>\n",
       "      <th>Q6 | 100 Grand Bar</th>\n",
       "      <th>Q6 | Anonymous brown globs that come in black and orange wrappers\\t(a.k.a. Mary Janes)</th>\n",
       "      <th>Q6 | Any full-sized candy bar</th>\n",
       "      <th>Q6 | Black Jacks</th>\n",
       "      <th>Q6 | Bonkers (the candy)</th>\n",
       "      <th>...</th>\n",
       "      <th>Q6 | White Bread</th>\n",
       "      <th>Q6 | Whole Wheat anything</th>\n",
       "      <th>Q6 | York Peppermint Patties</th>\n",
       "      <th>Q7: JOY OTHER</th>\n",
       "      <th>Q8: DESPAIR OTHER</th>\n",
       "      <th>Q9: OTHER COMMENTS</th>\n",
       "      <th>Q10: DRESS</th>\n",
       "      <th>Unnamed: 113</th>\n",
       "      <th>Q11: DAY</th>\n",
       "      <th>Click Coordinates (x, y)</th>\n",
       "    </tr>\n",
       "  </thead>\n",
       "  <tbody>\n",
       "    <tr>\n",
       "      <th>count</th>\n",
       "      <td>2350</td>\n",
       "      <td>2419</td>\n",
       "      <td>2376</td>\n",
       "      <td>2396</td>\n",
       "      <td>2360</td>\n",
       "      <td>1713</td>\n",
       "      <td>1726</td>\n",
       "      <td>1788</td>\n",
       "      <td>1502</td>\n",
       "      <td>1468</td>\n",
       "      <td>...</td>\n",
       "      <td>1703</td>\n",
       "      <td>1713</td>\n",
       "      <td>1755</td>\n",
       "      <td>911</td>\n",
       "      <td>717</td>\n",
       "      <td>386</td>\n",
       "      <td>1716</td>\n",
       "      <td>9</td>\n",
       "      <td>1735</td>\n",
       "      <td>1605</td>\n",
       "    </tr>\n",
       "    <tr>\n",
       "      <th>unique</th>\n",
       "      <td>2</td>\n",
       "      <td>4</td>\n",
       "      <td>106</td>\n",
       "      <td>128</td>\n",
       "      <td>511</td>\n",
       "      <td>3</td>\n",
       "      <td>3</td>\n",
       "      <td>3</td>\n",
       "      <td>3</td>\n",
       "      <td>3</td>\n",
       "      <td>...</td>\n",
       "      <td>3</td>\n",
       "      <td>3</td>\n",
       "      <td>3</td>\n",
       "      <td>867</td>\n",
       "      <td>685</td>\n",
       "      <td>385</td>\n",
       "      <td>2</td>\n",
       "      <td>1</td>\n",
       "      <td>2</td>\n",
       "      <td>952</td>\n",
       "    </tr>\n",
       "    <tr>\n",
       "      <th>top</th>\n",
       "      <td>No</td>\n",
       "      <td>Male</td>\n",
       "      <td>40</td>\n",
       "      <td>USA</td>\n",
       "      <td>California</td>\n",
       "      <td>JOY</td>\n",
       "      <td>DESPAIR</td>\n",
       "      <td>JOY</td>\n",
       "      <td>DESPAIR</td>\n",
       "      <td>MEH</td>\n",
       "      <td>...</td>\n",
       "      <td>DESPAIR</td>\n",
       "      <td>DESPAIR</td>\n",
       "      <td>JOY</td>\n",
       "      <td>Almond Joy</td>\n",
       "      <td>Trump</td>\n",
       "      <td>nom nom nom!</td>\n",
       "      <td>White and gold</td>\n",
       "      <td>dress (https://survey.ubc.ca/media/assets/user...</td>\n",
       "      <td>Friday</td>\n",
       "      <td>(77, 24)</td>\n",
       "    </tr>\n",
       "    <tr>\n",
       "      <th>freq</th>\n",
       "      <td>2038</td>\n",
       "      <td>1467</td>\n",
       "      <td>92</td>\n",
       "      <td>699</td>\n",
       "      <td>132</td>\n",
       "      <td>873</td>\n",
       "      <td>1089</td>\n",
       "      <td>1559</td>\n",
       "      <td>793</td>\n",
       "      <td>857</td>\n",
       "      <td>...</td>\n",
       "      <td>1455</td>\n",
       "      <td>1289</td>\n",
       "      <td>1105</td>\n",
       "      <td>10</td>\n",
       "      <td>7</td>\n",
       "      <td>2</td>\n",
       "      <td>1081</td>\n",
       "      <td>9</td>\n",
       "      <td>1091</td>\n",
       "      <td>9</td>\n",
       "    </tr>\n",
       "  </tbody>\n",
       "</table>\n",
       "<p>4 rows × 115 columns</p>\n",
       "</div>"
      ],
      "text/plain": [
       "       Q1: GOING OUT? Q2: GENDER  Q3: AGE Q4: COUNTRY  \\\n",
       "count            2350       2419     2376        2396   \n",
       "unique              2          4      106         128   \n",
       "top                No       Male       40         USA   \n",
       "freq             2038       1467       92         699   \n",
       "\n",
       "       Q5: STATE, PROVINCE, COUNTY, ETC Q6 | 100 Grand Bar  \\\n",
       "count                              2360               1713   \n",
       "unique                              511                  3   \n",
       "top                          California                JOY   \n",
       "freq                                132                873   \n",
       "\n",
       "       Q6 | Anonymous brown globs that come in black and orange wrappers\\t(a.k.a. Mary Janes)  \\\n",
       "count                                                1726                                       \n",
       "unique                                                  3                                       \n",
       "top                                               DESPAIR                                       \n",
       "freq                                                 1089                                       \n",
       "\n",
       "       Q6 | Any full-sized candy bar Q6 | Black Jacks  \\\n",
       "count                           1788             1502   \n",
       "unique                             3                3   \n",
       "top                              JOY          DESPAIR   \n",
       "freq                            1559              793   \n",
       "\n",
       "       Q6 | Bonkers (the candy)  ... Q6 | White Bread  \\\n",
       "count                      1468  ...             1703   \n",
       "unique                        3  ...                3   \n",
       "top                         MEH  ...          DESPAIR   \n",
       "freq                        857  ...             1455   \n",
       "\n",
       "       Q6 | Whole Wheat anything Q6 | York Peppermint Patties Q7: JOY OTHER  \\\n",
       "count                       1713                         1755           911   \n",
       "unique                         3                            3           867   \n",
       "top                      DESPAIR                          JOY    Almond Joy   \n",
       "freq                        1289                         1105            10   \n",
       "\n",
       "       Q8: DESPAIR OTHER Q9: OTHER COMMENTS      Q10: DRESS  \\\n",
       "count                717                386            1716   \n",
       "unique               685                385               2   \n",
       "top                Trump       nom nom nom!  White and gold   \n",
       "freq                   7                  2            1081   \n",
       "\n",
       "                                             Unnamed: 113 Q11: DAY  \\\n",
       "count                                                   9     1735   \n",
       "unique                                                  1        2   \n",
       "top     dress (https://survey.ubc.ca/media/assets/user...   Friday   \n",
       "freq                                                    9     1091   \n",
       "\n",
       "       Click Coordinates (x, y)  \n",
       "count                      1605  \n",
       "unique                      952  \n",
       "top                    (77, 24)  \n",
       "freq                          9  \n",
       "\n",
       "[4 rows x 115 columns]"
      ]
     },
     "execution_count": 9,
     "metadata": {},
     "output_type": "execute_result"
    }
   ],
   "source": [
    "# see quick info of category values \n",
    "\n",
    "candyData.describe(include = object)"
   ]
  },
  {
   "cell_type": "markdown",
   "id": "c5b594bc",
   "metadata": {
    "papermill": {
     "duration": 0.029839,
     "end_time": "2023-11-23T21:02:31.552060",
     "exception": false,
     "start_time": "2023-11-23T21:02:31.522221",
     "status": "completed"
    },
    "tags": []
   },
   "source": [
    "### Above cells' conclusion\n",
    "\n",
    "- Dataset has a lot of missing values\n",
    "- Dataset has no complete duplicates\n",
    "- We need to remove some columns not use\n",
    "- We need to modify some column datatype\n",
    "- We need to rename some column name to avoid confusion"
   ]
  },
  {
   "cell_type": "markdown",
   "id": "84306cdf",
   "metadata": {
    "papermill": {
     "duration": 0.029456,
     "end_time": "2023-11-23T21:02:31.611188",
     "exception": false,
     "start_time": "2023-11-23T21:02:31.581732",
     "status": "completed"
    },
    "tags": []
   },
   "source": [
    "## Cleaning"
   ]
  },
  {
   "cell_type": "code",
   "execution_count": 10,
   "id": "aadeee74",
   "metadata": {
    "execution": {
     "iopub.execute_input": "2023-11-23T21:02:31.682347Z",
     "iopub.status.busy": "2023-11-23T21:02:31.681508Z",
     "iopub.status.idle": "2023-11-23T21:02:35.215261Z",
     "shell.execute_reply": "2023-11-23T21:02:35.213693Z"
    },
    "papermill": {
     "duration": 3.569301,
     "end_time": "2023-11-23T21:02:35.219071",
     "exception": false,
     "start_time": "2023-11-23T21:02:31.649770",
     "status": "completed"
    },
    "tags": []
   },
   "outputs": [
    {
     "name": "stdout",
     "output_type": "stream",
     "text": [
      "Column Q7: JOY OTHER contains 1549 nan value\n",
      "\n",
      "Column Q8: DESPAIR OTHER contains 1743 nan value\n",
      "\n",
      "Column Q9: OTHER COMMENTS contains 2074 nan value\n",
      "\n",
      "Column Unnamed: 113 contains 2451 nan value\n",
      "\n",
      "Column Q12: MEDIA [Daily Dish] contains 2375 nan value\n",
      "\n",
      "Column Q12: MEDIA [ESPN] contains 2361 nan value\n",
      "\n",
      "Column Q12: MEDIA [Yahoo] contains 2393 nan value\n",
      "\n"
     ]
    }
   ],
   "source": [
    "# show columns that hase more 50 % nan value\n",
    "\n",
    "for i in range(len(candyData.isnull().sum())):\n",
    "    if candyData.isna().sum()[i] > 1229 :\n",
    "        print(f\"Column {candyData.isna().sum().index[i]} contains {candyData.isna().sum()[i]} nan value\\n\")"
   ]
  },
  {
   "cell_type": "markdown",
   "id": "f7670b0c",
   "metadata": {
    "papermill": {
     "duration": 0.029915,
     "end_time": "2023-11-23T21:02:35.279403",
     "exception": false,
     "start_time": "2023-11-23T21:02:35.249488",
     "status": "completed"
    },
    "tags": []
   },
   "source": [
    "#### We don't remove `Q12` columns but we try to fixed it"
   ]
  },
  {
   "cell_type": "code",
   "execution_count": 11,
   "id": "f1e4640b",
   "metadata": {
    "execution": {
     "iopub.execute_input": "2023-11-23T21:02:35.342595Z",
     "iopub.status.busy": "2023-11-23T21:02:35.342200Z",
     "iopub.status.idle": "2023-11-23T21:02:35.354267Z",
     "shell.execute_reply": "2023-11-23T21:02:35.352902Z"
    },
    "papermill": {
     "duration": 0.046838,
     "end_time": "2023-11-23T21:02:35.357157",
     "exception": false,
     "start_time": "2023-11-23T21:02:35.310319",
     "status": "completed"
    },
    "tags": []
   },
   "outputs": [],
   "source": [
    "# drop columns we not used\n",
    "\n",
    "candyData.drop(columns = [\"Internal ID\", \"Unnamed: 113\", \"Click Coordinates (x, y)\"], inplace = True)"
   ]
  },
  {
   "cell_type": "code",
   "execution_count": 12,
   "id": "459ee69e",
   "metadata": {
    "execution": {
     "iopub.execute_input": "2023-11-23T21:02:35.420425Z",
     "iopub.status.busy": "2023-11-23T21:02:35.419886Z",
     "iopub.status.idle": "2023-11-23T21:02:35.432513Z",
     "shell.execute_reply": "2023-11-23T21:02:35.431219Z"
    },
    "papermill": {
     "duration": 0.047575,
     "end_time": "2023-11-23T21:02:35.435318",
     "exception": false,
     "start_time": "2023-11-23T21:02:35.387743",
     "status": "completed"
    },
    "tags": []
   },
   "outputs": [],
   "source": [
    "# drop columns that contain more than 50 % nan value\n",
    "\n",
    "candyData.drop(columns=[\"Q7: JOY OTHER\", \"Q8: DESPAIR OTHER\", \"Q9: OTHER COMMENTS\"],inplace= True)"
   ]
  },
  {
   "cell_type": "code",
   "execution_count": 13,
   "id": "9a248881",
   "metadata": {
    "execution": {
     "iopub.execute_input": "2023-11-23T21:02:35.498248Z",
     "iopub.status.busy": "2023-11-23T21:02:35.497733Z",
     "iopub.status.idle": "2023-11-23T21:02:35.506333Z",
     "shell.execute_reply": "2023-11-23T21:02:35.505030Z"
    },
    "papermill": {
     "duration": 0.043524,
     "end_time": "2023-11-23T21:02:35.509129",
     "exception": false,
     "start_time": "2023-11-23T21:02:35.465605",
     "status": "completed"
    },
    "tags": []
   },
   "outputs": [],
   "source": [
    "# handle columns name\n",
    "\n",
    "# 1- create dictionary key is old name and value is new name\n",
    "newNames = {\"Q1: GOING OUT?\" :\"going out\", \"Q2: GENDER\": \"gender\", \"Q3: AGE\": \"age\", \"Q4: COUNTRY\": \"country\",\n",
    "            \"Q10: DRESS\" : \"dress\", \"Q12: MEDIA [Science]\":\"Science\",\"Q11: DAY\": \"day\", \"Q12: MEDIA [Daily Dish]\":\"Daily Dish\",\n",
    "            \"Q12: MEDIA [ESPN]\":\"ESPN\", \"Q12: MEDIA [Yahoo]\":\"Yahoo\"}\n",
    "\n",
    "# 2- rename columns\n",
    "candyData.rename(columns = newNames, inplace= True)"
   ]
  },
  {
   "cell_type": "markdown",
   "id": "28e801be",
   "metadata": {
    "papermill": {
     "duration": 0.029863,
     "end_time": "2023-11-23T21:02:35.569627",
     "exception": false,
     "start_time": "2023-11-23T21:02:35.539764",
     "status": "completed"
    },
    "tags": []
   },
   "source": [
    "## Function to visualize columns to avoid duplicate code"
   ]
  },
  {
   "cell_type": "code",
   "execution_count": 14,
   "id": "32df2d17",
   "metadata": {
    "execution": {
     "iopub.execute_input": "2023-11-23T21:02:35.633761Z",
     "iopub.status.busy": "2023-11-23T21:02:35.633244Z",
     "iopub.status.idle": "2023-11-23T21:02:35.641908Z",
     "shell.execute_reply": "2023-11-23T21:02:35.641123Z"
    },
    "papermill": {
     "duration": 0.043211,
     "end_time": "2023-11-23T21:02:35.644496",
     "exception": false,
     "start_time": "2023-11-23T21:02:35.601285",
     "status": "completed"
    },
    "tags": []
   },
   "outputs": [],
   "source": [
    "# create function to visualized categorical column using count plot\n",
    "\n",
    "def count_plot(x_axis = None, y_axis = None, hue = None, rotation = 0, top = None):\n",
    "    \"\"\"\n",
    "    1) input : x_axis, column name, data type must be object or categorical\n",
    "    3) output : cout plot using seaborn modules, unique values in x-axis and frequency in y-axis\n",
    "    4) use bar_label to show frequency of each unique values above each column in graph\n",
    "    5) top parameter i use it to specify indexes i want to see it\n",
    "    \"\"\"\n",
    "    if x_axis: # if we neet to visualized in x-axis\n",
    "        order = candyData[x_axis].value_counts().iloc[:top].index\n",
    "        \n",
    "    else : # if we neet to visualized in y-axis\n",
    "        order = candyData[y_axis].value_counts().iloc[:top].index\n",
    "        \n",
    "    graph = sns.countplot(x = x_axis, y = y_axis, data = candyData, hue = hue, order = order)\n",
    "    for container in graph.containers:\n",
    "        graph.bar_label(container)\n",
    "        \n",
    "        \n",
    "    plt.xticks(rotation = rotation)\n",
    "    plt.show()"
   ]
  },
  {
   "cell_type": "code",
   "execution_count": 15,
   "id": "f742598b",
   "metadata": {
    "execution": {
     "iopub.execute_input": "2023-11-23T21:02:35.711962Z",
     "iopub.status.busy": "2023-11-23T21:02:35.711589Z",
     "iopub.status.idle": "2023-11-23T21:02:35.718888Z",
     "shell.execute_reply": "2023-11-23T21:02:35.718064Z"
    },
    "papermill": {
     "duration": 0.042296,
     "end_time": "2023-11-23T21:02:35.722833",
     "exception": false,
     "start_time": "2023-11-23T21:02:35.680537",
     "status": "completed"
    },
    "tags": []
   },
   "outputs": [],
   "source": [
    "# create function that visualized categorical column using pie plot\n",
    "\n",
    "def pie_plot(column_name, explodeIndex = None):\n",
    "    \"\"\"\n",
    "    1) input : column name, column data type must be object or categorical\n",
    "    2) explodeIndex, is the index i need to explode it \n",
    "    2) output : circle chart that shows size of each unique values and percentage \n",
    "    \"\"\"\n",
    "    # Create explode list with zeros of size equal to the number of unique values\n",
    "    explodeList = [0] * candyData[column_name].nunique()\n",
    "    \n",
    "    # Check and set explodeIndex value \n",
    "    if explodeIndex is not None:\n",
    "        explodeList[explodeIndex] = 0.1\n",
    "    \n",
    "    # Create pie plot\n",
    "    plt.pie(candyData[column_name].value_counts(), labels = candyData[column_name].value_counts().index, shadow = True, autopct = \"%1.1f%%\",  explode = explodeList)\n",
    "    plt.show()"
   ]
  },
  {
   "cell_type": "code",
   "execution_count": 16,
   "id": "c952aba1",
   "metadata": {
    "execution": {
     "iopub.execute_input": "2023-11-23T21:02:35.784393Z",
     "iopub.status.busy": "2023-11-23T21:02:35.783904Z",
     "iopub.status.idle": "2023-11-23T21:02:35.790223Z",
     "shell.execute_reply": "2023-11-23T21:02:35.789089Z"
    },
    "papermill": {
     "duration": 0.040227,
     "end_time": "2023-11-23T21:02:35.792808",
     "exception": false,
     "start_time": "2023-11-23T21:02:35.752581",
     "status": "completed"
    },
    "tags": []
   },
   "outputs": [],
   "source": [
    "# create function that visualized numeric columns using box plot\n",
    "\n",
    "def box_plot(x_axis = None, y_axis = None):\n",
    "    \"\"\"\n",
    "    input : x_axis, y_axis and hue column, column data type must be numeric in y_axis\n",
    "    output : box plot to see distribution of column values such as min,max,mean,medien,std\n",
    "    \"\"\"\n",
    "    sns.boxplot(x = x_axis, y = y_axis, data = candyData)\n",
    "    plt.xlabel(x_axis)\n",
    "    plt.show()"
   ]
  },
  {
   "cell_type": "markdown",
   "id": "1059ec6a",
   "metadata": {
    "papermill": {
     "duration": 0.030783,
     "end_time": "2023-11-23T21:02:35.856410",
     "exception": false,
     "start_time": "2023-11-23T21:02:35.825627",
     "status": "completed"
    },
    "tags": []
   },
   "source": [
    "### Cleaning  `going out` column"
   ]
  },
  {
   "cell_type": "code",
   "execution_count": 17,
   "id": "aa901044",
   "metadata": {
    "execution": {
     "iopub.execute_input": "2023-11-23T21:02:35.919062Z",
     "iopub.status.busy": "2023-11-23T21:02:35.918614Z",
     "iopub.status.idle": "2023-11-23T21:02:35.926921Z",
     "shell.execute_reply": "2023-11-23T21:02:35.925527Z"
    },
    "papermill": {
     "duration": 0.04263,
     "end_time": "2023-11-23T21:02:35.929942",
     "exception": false,
     "start_time": "2023-11-23T21:02:35.887312",
     "status": "completed"
    },
    "tags": []
   },
   "outputs": [
    {
     "data": {
      "text/plain": [
       "array([nan, 'No', 'Yes'], dtype=object)"
      ]
     },
     "execution_count": 17,
     "metadata": {},
     "output_type": "execute_result"
    }
   ],
   "source": [
    "# show unique values\n",
    "\n",
    "candyData[\"going out\"].unique()"
   ]
  },
  {
   "cell_type": "code",
   "execution_count": 18,
   "id": "2332a1b5",
   "metadata": {
    "execution": {
     "iopub.execute_input": "2023-11-23T21:02:35.992971Z",
     "iopub.status.busy": "2023-11-23T21:02:35.992173Z",
     "iopub.status.idle": "2023-11-23T21:02:36.000826Z",
     "shell.execute_reply": "2023-11-23T21:02:35.999335Z"
    },
    "papermill": {
     "duration": 0.043357,
     "end_time": "2023-11-23T21:02:36.003383",
     "exception": false,
     "start_time": "2023-11-23T21:02:35.960026",
     "status": "completed"
    },
    "tags": []
   },
   "outputs": [
    {
     "data": {
      "text/plain": [
       "110"
      ]
     },
     "execution_count": 18,
     "metadata": {},
     "output_type": "execute_result"
    }
   ],
   "source": [
    "# see number of missing values \n",
    "\n",
    "candyData[\"going out\"].isna().sum()"
   ]
  },
  {
   "cell_type": "code",
   "execution_count": 19,
   "id": "d4608aaf",
   "metadata": {
    "execution": {
     "iopub.execute_input": "2023-11-23T21:02:36.065601Z",
     "iopub.status.busy": "2023-11-23T21:02:36.065180Z",
     "iopub.status.idle": "2023-11-23T21:02:36.071473Z",
     "shell.execute_reply": "2023-11-23T21:02:36.070314Z"
    },
    "papermill": {
     "duration": 0.040203,
     "end_time": "2023-11-23T21:02:36.073778",
     "exception": false,
     "start_time": "2023-11-23T21:02:36.033575",
     "status": "completed"
    },
    "tags": []
   },
   "outputs": [],
   "source": [
    "# fill nan value with maybe (yse,no)\n",
    "\n",
    "candyData[\"going out\"].fillna(\"MayBe\",inplace = True)"
   ]
  },
  {
   "cell_type": "code",
   "execution_count": 20,
   "id": "86cc834c",
   "metadata": {
    "execution": {
     "iopub.execute_input": "2023-11-23T21:02:36.136670Z",
     "iopub.status.busy": "2023-11-23T21:02:36.136219Z",
     "iopub.status.idle": "2023-11-23T21:02:36.388903Z",
     "shell.execute_reply": "2023-11-23T21:02:36.387705Z"
    },
    "papermill": {
     "duration": 0.288925,
     "end_time": "2023-11-23T21:02:36.393019",
     "exception": false,
     "start_time": "2023-11-23T21:02:36.104094",
     "status": "completed"
    },
    "tags": []
   },
   "outputs": [
    {
     "data": {
      "image/png": "[encoded data removed]",
      "text/plain": [
       "<Figure size 640x480 with 1 Axes>"
      ]
     },
     "metadata": {},
     "output_type": "display_data"
    }
   ],
   "source": [
    "# visualized going out column using pie plot function i create it in cell 15\n",
    "\n",
    "pie_plot(column_name = \"going out\", explodeIndex = 0)"
   ]
  },
  {
   "cell_type": "markdown",
   "id": "a82c92d7",
   "metadata": {
    "papermill": {
     "duration": 0.030541,
     "end_time": "2023-11-23T21:02:36.475737",
     "exception": false,
     "start_time": "2023-11-23T21:02:36.445196",
     "status": "completed"
    },
    "tags": []
   },
   "source": [
    "- **Most people are not going out**"
   ]
  },
  {
   "cell_type": "markdown",
   "id": "461c1e86",
   "metadata": {
    "papermill": {
     "duration": 0.03025,
     "end_time": "2023-11-23T21:02:36.536978",
     "exception": false,
     "start_time": "2023-11-23T21:02:36.506728",
     "status": "completed"
    },
    "tags": []
   },
   "source": [
    "### Cleaning `Gender` column"
   ]
  },
  {
   "cell_type": "code",
   "execution_count": 21,
   "id": "5d2dd4ef",
   "metadata": {
    "execution": {
     "iopub.execute_input": "2023-11-23T21:02:36.601652Z",
     "iopub.status.busy": "2023-11-23T21:02:36.601081Z",
     "iopub.status.idle": "2023-11-23T21:02:36.609057Z",
     "shell.execute_reply": "2023-11-23T21:02:36.607928Z"
    },
    "papermill": {
     "duration": 0.04292,
     "end_time": "2023-11-23T21:02:36.611305",
     "exception": false,
     "start_time": "2023-11-23T21:02:36.568385",
     "status": "completed"
    },
    "tags": []
   },
   "outputs": [
    {
     "data": {
      "text/plain": [
       "array([nan, 'Male', 'Female', \"I'd rather not say\", 'Other'], dtype=object)"
      ]
     },
     "execution_count": 21,
     "metadata": {},
     "output_type": "execute_result"
    }
   ],
   "source": [
    "# show unique values\n",
    "\n",
    "candyData[\"gender\"].unique()"
   ]
  },
  {
   "cell_type": "code",
   "execution_count": 22,
   "id": "f6d082f2",
   "metadata": {
    "execution": {
     "iopub.execute_input": "2023-11-23T21:02:36.681865Z",
     "iopub.status.busy": "2023-11-23T21:02:36.680555Z",
     "iopub.status.idle": "2023-11-23T21:02:36.688661Z",
     "shell.execute_reply": "2023-11-23T21:02:36.687424Z"
    },
    "papermill": {
     "duration": 0.04869,
     "end_time": "2023-11-23T21:02:36.691336",
     "exception": false,
     "start_time": "2023-11-23T21:02:36.642646",
     "status": "completed"
    },
    "tags": []
   },
   "outputs": [
    {
     "data": {
      "text/plain": [
       "41"
      ]
     },
     "execution_count": 22,
     "metadata": {},
     "output_type": "execute_result"
    }
   ],
   "source": [
    "# see number of missing values \n",
    "\n",
    "candyData[\"gender\"].isna().sum()"
   ]
  },
  {
   "cell_type": "code",
   "execution_count": 23,
   "id": "0a1816ca",
   "metadata": {
    "execution": {
     "iopub.execute_input": "2023-11-23T21:02:36.756842Z",
     "iopub.status.busy": "2023-11-23T21:02:36.756397Z",
     "iopub.status.idle": "2023-11-23T21:02:36.762783Z",
     "shell.execute_reply": "2023-11-23T21:02:36.761604Z"
    },
    "papermill": {
     "duration": 0.041779,
     "end_time": "2023-11-23T21:02:36.765274",
     "exception": false,
     "start_time": "2023-11-23T21:02:36.723495",
     "status": "completed"
    },
    "tags": []
   },
   "outputs": [],
   "source": [
    "# fill missing values \n",
    "\n",
    "candyData[\"gender\"].fillna(\"Other\", inplace = True)"
   ]
  },
  {
   "cell_type": "code",
   "execution_count": 24,
   "id": "bd45f6ad",
   "metadata": {
    "execution": {
     "iopub.execute_input": "2023-11-23T21:02:36.831465Z",
     "iopub.status.busy": "2023-11-23T21:02:36.831026Z",
     "iopub.status.idle": "2023-11-23T21:02:36.837101Z",
     "shell.execute_reply": "2023-11-23T21:02:36.836267Z"
    },
    "papermill": {
     "duration": 0.042899,
     "end_time": "2023-11-23T21:02:36.839357",
     "exception": false,
     "start_time": "2023-11-23T21:02:36.796458",
     "status": "completed"
    },
    "tags": []
   },
   "outputs": [],
   "source": [
    "# replace Other with I'd rather not say\n",
    "\n",
    "candyData[\"gender\"].replace(\"I'd rather not say\", \"Other\", inplace = True)"
   ]
  },
  {
   "cell_type": "code",
   "execution_count": 25,
   "id": "828ccbce",
   "metadata": {
    "execution": {
     "iopub.execute_input": "2023-11-23T21:02:36.903884Z",
     "iopub.status.busy": "2023-11-23T21:02:36.903150Z",
     "iopub.status.idle": "2023-11-23T21:02:37.058748Z",
     "shell.execute_reply": "2023-11-23T21:02:37.057914Z"
    },
    "papermill": {
     "duration": 0.194289,
     "end_time": "2023-11-23T21:02:37.064599",
     "exception": false,
     "start_time": "2023-11-23T21:02:36.870310",
     "status": "completed"
    },
    "tags": []
   },
   "outputs": [
    {
     "data": {
      "image/png": "[encoded data removed]",
      "text/plain": [
       "<Figure size 640x480 with 1 Axes>"
      ]
     },
     "metadata": {},
     "output_type": "display_data"
    }
   ],
   "source": [
    "# visualized gender column using pie plot function i create it in cell 15\n",
    "\n",
    "pie_plot(column_name = \"gender\", explodeIndex = 0)"
   ]
  },
  {
   "cell_type": "markdown",
   "id": "66086f20",
   "metadata": {
    "papermill": {
     "duration": 0.037875,
     "end_time": "2023-11-23T21:02:37.172754",
     "exception": false,
     "start_time": "2023-11-23T21:02:37.134879",
     "status": "completed"
    },
    "tags": []
   },
   "source": [
    "- **Male is the most common gender**"
   ]
  },
  {
   "cell_type": "markdown",
   "id": "98548184",
   "metadata": {
    "papermill": {
     "duration": 0.031272,
     "end_time": "2023-11-23T21:02:37.236449",
     "exception": false,
     "start_time": "2023-11-23T21:02:37.205177",
     "status": "completed"
    },
    "tags": []
   },
   "source": [
    "### Cleaning `age` column"
   ]
  },
  {
   "cell_type": "code",
   "execution_count": 26,
   "id": "441b3fa8",
   "metadata": {
    "execution": {
     "iopub.execute_input": "2023-11-23T21:02:37.302744Z",
     "iopub.status.busy": "2023-11-23T21:02:37.302073Z",
     "iopub.status.idle": "2023-11-23T21:02:37.309972Z",
     "shell.execute_reply": "2023-11-23T21:02:37.308864Z"
    },
    "papermill": {
     "duration": 0.044947,
     "end_time": "2023-11-23T21:02:37.312962",
     "exception": false,
     "start_time": "2023-11-23T21:02:37.268015",
     "status": "completed"
    },
    "tags": []
   },
   "outputs": [
    {
     "data": {
      "text/plain": [
       "array([nan, 44, 49, 40, 23, 53, 33, 43, 56, 64, 37, 59, 48, 54, 36, 45,\n",
       "       25, 34, 35, 38, 58, 50, 47, 16, 52, 63, 65, 41, 27, 31, 61, 46, 42,\n",
       "       62, 29, 39, 32, 28, 69, 67, 30, 22, 26, 51, 70, 24, 18, 19,\n",
       "       'Old enough', 57, 60, 66, 12, 'Many', 55, 72, '?', 21, 11, 'no', 9,\n",
       "       68, 20, 6, 10, 71, 90, 13, '45-55', 312, 99, 7, 'hahahahaha', 88,\n",
       "       39.4, 74, 102, 'older than dirt', 17, 15, 8, 75, '5u', 'Enough',\n",
       "       'See question 2', '24-50', 14, 'Over 50', 100, 76, 1000,\n",
       "       'sixty-nine', '46 Halloweens.', 'ancient', 77, 'OLD', 'old', 73,\n",
       "       70.5, 1, 'MY NAME JEFF', 4, '59 on the day after Halloween',\n",
       "       'old enough', 'your mom',\n",
       "       'I can remember when Java was a cool new language', '60+'],\n",
       "      dtype=object)"
      ]
     },
     "execution_count": 26,
     "metadata": {},
     "output_type": "execute_result"
    }
   ],
   "source": [
    "# show unique values\n",
    "\n",
    "candyData[\"age\"].unique()"
   ]
  },
  {
   "cell_type": "code",
   "execution_count": 27,
   "id": "c21ce5b7",
   "metadata": {
    "execution": {
     "iopub.execute_input": "2023-11-23T21:02:37.379737Z",
     "iopub.status.busy": "2023-11-23T21:02:37.378833Z",
     "iopub.status.idle": "2023-11-23T21:02:37.387067Z",
     "shell.execute_reply": "2023-11-23T21:02:37.386109Z"
    },
    "papermill": {
     "duration": 0.044457,
     "end_time": "2023-11-23T21:02:37.389655",
     "exception": false,
     "start_time": "2023-11-23T21:02:37.345198",
     "status": "completed"
    },
    "tags": []
   },
   "outputs": [],
   "source": [
    "# convert column data type to numiric and replace non-digits to NAN value\n",
    "\n",
    "candyData['age'] = pd.to_numeric(candyData[\"age\"], errors = \"coerce\")"
   ]
  },
  {
   "cell_type": "code",
   "execution_count": 28,
   "id": "10007f04",
   "metadata": {
    "execution": {
     "iopub.execute_input": "2023-11-23T21:02:37.455739Z",
     "iopub.status.busy": "2023-11-23T21:02:37.455308Z",
     "iopub.status.idle": "2023-11-23T21:02:37.463808Z",
     "shell.execute_reply": "2023-11-23T21:02:37.462545Z"
    },
    "papermill": {
     "duration": 0.044281,
     "end_time": "2023-11-23T21:02:37.466218",
     "exception": false,
     "start_time": "2023-11-23T21:02:37.421937",
     "status": "completed"
    },
    "tags": []
   },
   "outputs": [
    {
     "data": {
      "text/plain": [
       "108"
      ]
     },
     "execution_count": 28,
     "metadata": {},
     "output_type": "execute_result"
    }
   ],
   "source": [
    "# show how many nan value \n",
    "\n",
    "candyData[\"age\"].isna().sum()"
   ]
  },
  {
   "cell_type": "code",
   "execution_count": 29,
   "id": "903e2e15",
   "metadata": {
    "execution": {
     "iopub.execute_input": "2023-11-23T21:02:37.533625Z",
     "iopub.status.busy": "2023-11-23T21:02:37.533172Z",
     "iopub.status.idle": "2023-11-23T21:02:37.829836Z",
     "shell.execute_reply": "2023-11-23T21:02:37.828364Z"
    },
    "papermill": {
     "duration": 0.333673,
     "end_time": "2023-11-23T21:02:37.832811",
     "exception": false,
     "start_time": "2023-11-23T21:02:37.499138",
     "status": "completed"
    },
    "tags": []
   },
   "outputs": [
    {
     "data": {
      "image/png": "[encoded data removed]",
      "text/plain": [
       "<Figure size 640x480 with 1 Axes>"
      ]
     },
     "metadata": {},
     "output_type": "display_data"
    }
   ],
   "source": [
    "# show summary statistic\n",
    "\n",
    "box_plot(x_axis = \"age\") # box plot function i create it in cell 16"
   ]
  },
  {
   "cell_type": "markdown",
   "id": "c30567af",
   "metadata": {
    "papermill": {
     "duration": 0.03227,
     "end_time": "2023-11-23T21:02:37.898222",
     "exception": false,
     "start_time": "2023-11-23T21:02:37.865952",
     "status": "completed"
    },
    "tags": []
   },
   "source": [
    "**`age` column has outliers we need to fixed**"
   ]
  },
  {
   "cell_type": "code",
   "execution_count": 30,
   "id": "83b89f55",
   "metadata": {
    "execution": {
     "iopub.execute_input": "2023-11-23T21:02:37.966636Z",
     "iopub.status.busy": "2023-11-23T21:02:37.966176Z",
     "iopub.status.idle": "2023-11-23T21:02:37.977509Z",
     "shell.execute_reply": "2023-11-23T21:02:37.976119Z"
    },
    "papermill": {
     "duration": 0.048875,
     "end_time": "2023-11-23T21:02:37.980271",
     "exception": false,
     "start_time": "2023-11-23T21:02:37.931396",
     "status": "completed"
    },
    "tags": []
   },
   "outputs": [],
   "source": [
    "# fixed outlier\n",
    "\n",
    "Q1, Q3 = candyData[\"age\"].quantile(0.25), candyData[\"age\"].quantile(0.75)\n",
    "\n",
    "IQR = Q3 - Q1\n",
    "\n",
    "Upper = Q3 + (1.5 * IQR)\n",
    "Lower = Q1 - (1.5 * IQR)\n",
    "\n",
    "# replace out of range with nan value\n",
    "candyData.loc[(candyData[\"age\"] > Upper) | (candyData[\"age\"] < Lower), \"age\"] = np.nan"
   ]
  },
  {
   "cell_type": "code",
   "execution_count": 31,
   "id": "70428055",
   "metadata": {
    "execution": {
     "iopub.execute_input": "2023-11-23T21:02:38.051438Z",
     "iopub.status.busy": "2023-11-23T21:02:38.050991Z",
     "iopub.status.idle": "2023-11-23T21:02:38.058523Z",
     "shell.execute_reply": "2023-11-23T21:02:38.057260Z"
    },
    "papermill": {
     "duration": 0.045563,
     "end_time": "2023-11-23T21:02:38.061105",
     "exception": false,
     "start_time": "2023-11-23T21:02:38.015542",
     "status": "completed"
    },
    "tags": []
   },
   "outputs": [],
   "source": [
    "# fill nan value with median\n",
    "\n",
    "median = candyData[\"age\"].median()\n",
    "candyData[\"age\"].fillna(median, inplace = True)"
   ]
  },
  {
   "cell_type": "code",
   "execution_count": 32,
   "id": "e41b7381",
   "metadata": {
    "execution": {
     "iopub.execute_input": "2023-11-23T21:02:38.129478Z",
     "iopub.status.busy": "2023-11-23T21:02:38.129010Z",
     "iopub.status.idle": "2023-11-23T21:02:38.582461Z",
     "shell.execute_reply": "2023-11-23T21:02:38.581272Z"
    },
    "papermill": {
     "duration": 0.491081,
     "end_time": "2023-11-23T21:02:38.585205",
     "exception": false,
     "start_time": "2023-11-23T21:02:38.094124",
     "status": "completed"
    },
    "tags": []
   },
   "outputs": [
    {
     "data": {
      "image/png": "[encoded data removed]",
      "text/plain": [
       "<Figure size 640x480 with 1 Axes>"
      ]
     },
     "metadata": {},
     "output_type": "display_data"
    }
   ],
   "source": [
    "# see distribution\n",
    "\n",
    "sns.kdeplot(x = \"age\", data = candyData, fill = True)\n",
    "plt.show()"
   ]
  },
  {
   "cell_type": "markdown",
   "id": "cfac3789",
   "metadata": {
    "papermill": {
     "duration": 0.034225,
     "end_time": "2023-11-23T21:02:38.653178",
     "exception": false,
     "start_time": "2023-11-23T21:02:38.618953",
     "status": "completed"
    },
    "tags": []
   },
   "source": [
    "- **Most people who did the survey were between 35 and 50**"
   ]
  },
  {
   "cell_type": "markdown",
   "id": "bf261bd4",
   "metadata": {
    "papermill": {
     "duration": 0.035185,
     "end_time": "2023-11-23T21:02:38.722990",
     "exception": false,
     "start_time": "2023-11-23T21:02:38.687805",
     "status": "completed"
    },
    "tags": []
   },
   "source": [
    "### Cleaning `country` column"
   ]
  },
  {
   "cell_type": "code",
   "execution_count": 33,
   "id": "8537c0bf",
   "metadata": {
    "execution": {
     "iopub.execute_input": "2023-11-23T21:02:38.792423Z",
     "iopub.status.busy": "2023-11-23T21:02:38.791484Z",
     "iopub.status.idle": "2023-11-23T21:02:38.799806Z",
     "shell.execute_reply": "2023-11-23T21:02:38.798528Z"
    },
    "papermill": {
     "duration": 0.046229,
     "end_time": "2023-11-23T21:02:38.802479",
     "exception": false,
     "start_time": "2023-11-23T21:02:38.756250",
     "status": "completed"
    },
    "tags": []
   },
   "outputs": [
    {
     "data": {
      "text/plain": [
       "array([nan, 'USA ', 'USA', 'us', 'usa', 'canada', 'Canada', 'Us', 'US',\n",
       "       'Murica', 'United States', 'uk', 'United Kingdom', 'united states',\n",
       "       'Usa', 'United States ', 'United staes',\n",
       "       'United States of America', 'UAE', 'England', 'UK', 'canada ',\n",
       "       'Mexico', 'United states', 'u.s.a.', 'USAUSAUSA', 'america', 35,\n",
       "       'france', 'United States of America ', 'U.S.A.', 'finland',\n",
       "       'unhinged states', 'Canada ', 'united states of america',\n",
       "       'US of A', 'Unites States', 'The United States', 'North Carolina ',\n",
       "       'Unied States', 'Netherlands', 'germany', 'Europe', 'Earth', 'U S',\n",
       "       'u.s.', 'U.K. ', 'Costa Rica', 'The United States of America',\n",
       "       'unite states', 'U.S.', 46, 'cascadia', 'Australia',\n",
       "       'insanity lately', 'Greece', 'USA? Hard to tell anymore..',\n",
       "       \"'merica\", 'usas', 'Pittsburgh', 45, 'United State', 32, 'France',\n",
       "       'australia', 'A', 'Can', 'Canae', 'New York', 'Trumpistan',\n",
       "       'Ireland', 'United Sates', 'Korea', 'California', 'Japan', 'USa',\n",
       "       'South africa',\n",
       "       'I pretend to be from Canada, but I am really from the United States.',\n",
       "       'Usa ', 'Uk', 'Iceland', 'Germany', 'Canada`', 'Scotland', 'UK ',\n",
       "       'Denmark', 'United Stated', 'France ', 'Switzerland',\n",
       "       'Ahem....Amerca', 'UD', 'Scotland ', 'South Korea', 'New Jersey',\n",
       "       'CANADA', 'Indonesia', 'United ststes', 'America',\n",
       "       'The Netherlands', 'United Statss', 'endland', 'Atlantis',\n",
       "       'murrika', 'USA! USA! USA!', 'USAA', 'Alaska', 'united States ',\n",
       "       'soviet canuckistan', 'N. America', 'Singapore', 'USSA', 'China',\n",
       "       'Taiwan', 'Ireland ', 'hong kong', 'spain', 'Sweden', 'Hong Kong',\n",
       "       'U.S. ', 'Narnia', 'u s a', 'United Statea', 'united ststes', 1,\n",
       "       'subscribe to dm4uz3 on youtube', 'United kingdom',\n",
       "       'USA USA USA!!!!', \"I don't know anymore\", 'Fear and Loathing'],\n",
       "      dtype=object)"
      ]
     },
     "execution_count": 33,
     "metadata": {},
     "output_type": "execute_result"
    }
   ],
   "source": [
    "# show unique values\n",
    "\n",
    "candyData[\"country\"].unique()"
   ]
  },
  {
   "cell_type": "code",
   "execution_count": 34,
   "id": "6559f067",
   "metadata": {
    "execution": {
     "iopub.execute_input": "2023-11-23T21:02:38.871847Z",
     "iopub.status.busy": "2023-11-23T21:02:38.871370Z",
     "iopub.status.idle": "2023-11-23T21:02:38.882971Z",
     "shell.execute_reply": "2023-11-23T21:02:38.881764Z"
    },
    "papermill": {
     "duration": 0.049648,
     "end_time": "2023-11-23T21:02:38.885605",
     "exception": false,
     "start_time": "2023-11-23T21:02:38.835957",
     "status": "completed"
    },
    "tags": []
   },
   "outputs": [],
   "source": [
    "# fixed some errors\n",
    "\n",
    "# 1- convert all value to lower case\n",
    "candyData[\"country\"] = candyData[\"country\"].str.lower()\n",
    "\n",
    "# 2- remove extra spaces \n",
    "candyData[\"country\"] = candyData[\"country\"].str.strip()"
   ]
  },
  {
   "cell_type": "code",
   "execution_count": 35,
   "id": "2a86db59",
   "metadata": {
    "execution": {
     "iopub.execute_input": "2023-11-23T21:02:38.955211Z",
     "iopub.status.busy": "2023-11-23T21:02:38.954770Z",
     "iopub.status.idle": "2023-11-23T21:02:38.963662Z",
     "shell.execute_reply": "2023-11-23T21:02:38.962229Z"
    },
    "papermill": {
     "duration": 0.046901,
     "end_time": "2023-11-23T21:02:38.966228",
     "exception": false,
     "start_time": "2023-11-23T21:02:38.919327",
     "status": "completed"
    },
    "tags": []
   },
   "outputs": [
    {
     "data": {
      "text/plain": [
       "69"
      ]
     },
     "execution_count": 35,
     "metadata": {},
     "output_type": "execute_result"
    }
   ],
   "source": [
    "# show how many nan value \n",
    "\n",
    "candyData[\"country\"].isna().sum() "
   ]
  },
  {
   "cell_type": "code",
   "execution_count": 36,
   "id": "c591d815",
   "metadata": {
    "execution": {
     "iopub.execute_input": "2023-11-23T21:02:39.037226Z",
     "iopub.status.busy": "2023-11-23T21:02:39.036751Z",
     "iopub.status.idle": "2023-11-23T21:02:39.044201Z",
     "shell.execute_reply": "2023-11-23T21:02:39.042812Z"
    },
    "papermill": {
     "duration": 0.046622,
     "end_time": "2023-11-23T21:02:39.046935",
     "exception": false,
     "start_time": "2023-11-23T21:02:39.000313",
     "status": "completed"
    },
    "tags": []
   },
   "outputs": [],
   "source": [
    "# fill nan value\n",
    "\n",
    "candyData[\"country\"].fillna(\"Other\", inplace = True)"
   ]
  },
  {
   "cell_type": "code",
   "execution_count": 37,
   "id": "c14bf3f4",
   "metadata": {
    "execution": {
     "iopub.execute_input": "2023-11-23T21:02:39.117940Z",
     "iopub.status.busy": "2023-11-23T21:02:39.117532Z",
     "iopub.status.idle": "2023-11-23T21:02:39.126408Z",
     "shell.execute_reply": "2023-11-23T21:02:39.125044Z"
    },
    "papermill": {
     "duration": 0.047505,
     "end_time": "2023-11-23T21:02:39.129202",
     "exception": false,
     "start_time": "2023-11-23T21:02:39.081697",
     "status": "completed"
    },
    "tags": []
   },
   "outputs": [
    {
     "data": {
      "text/plain": [
       "array(['Other', 'usa', 'us', 'canada', 'murica', 'united states', 'uk',\n",
       "       'united kingdom', 'united staes', 'united states of america',\n",
       "       'uae', 'england', 'mexico', 'u.s.a.', 'usausausa', 'america',\n",
       "       'france', 'finland', 'unhinged states', 'us of a', 'unites states',\n",
       "       'the united states', 'north carolina', 'unied states',\n",
       "       'netherlands', 'germany', 'europe', 'earth', 'u s', 'u.s.', 'u.k.',\n",
       "       'costa rica', 'the united states of america', 'unite states',\n",
       "       'cascadia', 'australia', 'insanity lately', 'greece',\n",
       "       'usa? hard to tell anymore..', \"'merica\", 'usas', 'pittsburgh',\n",
       "       'united state', 'a', 'can', 'canae', 'new york', 'trumpistan',\n",
       "       'ireland', 'united sates', 'korea', 'california', 'japan',\n",
       "       'south africa',\n",
       "       'i pretend to be from canada, but i am really from the united states.',\n",
       "       'iceland', 'canada`', 'scotland', 'denmark', 'united stated',\n",
       "       'switzerland', 'ahem....amerca', 'ud', 'south korea', 'new jersey',\n",
       "       'indonesia', 'united ststes', 'the netherlands', 'united statss',\n",
       "       'endland', 'atlantis', 'murrika', 'usa! usa! usa!', 'usaa',\n",
       "       'alaska', 'soviet canuckistan', 'n. america', 'singapore', 'ussa',\n",
       "       'china', 'taiwan', 'hong kong', 'spain', 'sweden', 'narnia',\n",
       "       'u s a', 'united statea', 'subscribe to dm4uz3 on youtube',\n",
       "       'usa usa usa!!!!', \"i don't know anymore\", 'fear and loathing'],\n",
       "      dtype=object)"
      ]
     },
     "execution_count": 37,
     "metadata": {},
     "output_type": "execute_result"
    }
   ],
   "source": [
    "# show again unique value\n",
    "\n",
    "candyData[\"country\"].unique()"
   ]
  },
  {
   "cell_type": "code",
   "execution_count": 38,
   "id": "472ad8e5",
   "metadata": {
    "execution": {
     "iopub.execute_input": "2023-11-23T21:02:39.199093Z",
     "iopub.status.busy": "2023-11-23T21:02:39.198653Z",
     "iopub.status.idle": "2023-11-23T21:02:46.795875Z",
     "shell.execute_reply": "2023-11-23T21:02:46.794413Z"
    },
    "papermill": {
     "duration": 7.636051,
     "end_time": "2023-11-23T21:02:46.799186",
     "exception": false,
     "start_time": "2023-11-23T21:02:39.163135",
     "status": "completed"
    },
    "tags": []
   },
   "outputs": [],
   "source": [
    "countries = pd.Series(['usa', 'united states of america','america','united kingdom england', 'hong kong', 'china', 'sweden', 'spain',\n",
    "                       'ireland', 'taiwan', 'singapore', 'netherlands',\n",
    "                       'indonesia', 'south korea', 'switzerland', 'denmark', 'scotland', 'canada', 'iceland', 'south africa',\n",
    "                       'japan', 'greece', 'costa rica', 'germany', 'finland', 'france', 'mexico'])\n",
    "\n",
    "for country in countries:\n",
    "    matches = process.extract(country, candyData['country'], limit = candyData.shape[0])\n",
    "    for potential_match in matches:\n",
    "        if potential_match[1] >= 80:\n",
    "            candyData.loc[candyData['country'] == potential_match[0], 'country'] = country"
   ]
  },
  {
   "cell_type": "code",
   "execution_count": 39,
   "id": "4f6fb074",
   "metadata": {
    "execution": {
     "iopub.execute_input": "2023-11-23T21:02:46.872051Z",
     "iopub.status.busy": "2023-11-23T21:02:46.871601Z",
     "iopub.status.idle": "2023-11-23T21:02:46.880816Z",
     "shell.execute_reply": "2023-11-23T21:02:46.879537Z"
    },
    "papermill": {
     "duration": 0.04865,
     "end_time": "2023-11-23T21:02:46.883713",
     "exception": false,
     "start_time": "2023-11-23T21:02:46.835063",
     "status": "completed"
    },
    "tags": []
   },
   "outputs": [
    {
     "data": {
      "text/plain": [
       "array(['Other', 'usa', 'canada', 'murica', 'america', 'uk', 'uae',\n",
       "       'united kingdom england', 'mexico', 'u.s.a.', 'france', 'finland',\n",
       "       'north carolina', 'netherlands', 'germany', 'europe', 'earth',\n",
       "       'u.k.', 'costa rica', 'cascadia', 'australia', 'insanity lately',\n",
       "       'greece', 'usa? hard to tell anymore..', 'pittsburgh', 'canae',\n",
       "       'new york', 'trumpistan', 'iceland', 'south korea', 'california',\n",
       "       'japan', 'south africa', 'scotland', 'denmark', 'switzerland',\n",
       "       'ud', 'new jersey', 'indonesia', 'endland', 'atlantis', 'murrika',\n",
       "       'alaska', 'soviet canuckistan', 'singapore', 'china', 'taiwan',\n",
       "       'hong kong', 'spain', 'sweden', 'narnia', 'u s a',\n",
       "       'subscribe to dm4uz3 on youtube', \"i don't know anymore\",\n",
       "       'fear and loathing'], dtype=object)"
      ]
     },
     "execution_count": 39,
     "metadata": {},
     "output_type": "execute_result"
    }
   ],
   "source": [
    "# show unique values again\n",
    "\n",
    "candyData[\"country\"].unique()"
   ]
  },
  {
   "cell_type": "code",
   "execution_count": 40,
   "id": "a52558fc",
   "metadata": {
    "execution": {
     "iopub.execute_input": "2023-11-23T21:02:46.955566Z",
     "iopub.status.busy": "2023-11-23T21:02:46.955133Z",
     "iopub.status.idle": "2023-11-23T21:02:46.969666Z",
     "shell.execute_reply": "2023-11-23T21:02:46.968312Z"
    },
    "papermill": {
     "duration": 0.053632,
     "end_time": "2023-11-23T21:02:46.972851",
     "exception": false,
     "start_time": "2023-11-23T21:02:46.919219",
     "status": "completed"
    },
    "tags": []
   },
   "outputs": [],
   "source": [
    "mapping = {'murica':'usa', 'united states of america':'usa','america':'usa', 'u.s.a.':'usa',\n",
    "'north carolina':'usa', 'usa? hard to tell anymore..':'usa', 'pittsburgh':'usa', 'new york':'usa', 'trumpistan':'usa',\n",
    "          'california':'usa', 'ud':'usa', 'new jersey':'usa', 'endland':'uk', 'soviet canuckistan':'canada',\n",
    "           'u s a':'usa', 'united kingdom england':'uk', 'u.k.':'uk', 'cascadia':'usa'}\n",
    "candyData['country'] = candyData['country'].replace(mapping)"
   ]
  },
  {
   "cell_type": "code",
   "execution_count": 41,
   "id": "15a01027",
   "metadata": {
    "execution": {
     "iopub.execute_input": "2023-11-23T21:02:47.045597Z",
     "iopub.status.busy": "2023-11-23T21:02:47.045154Z",
     "iopub.status.idle": "2023-11-23T21:02:47.055153Z",
     "shell.execute_reply": "2023-11-23T21:02:47.053699Z"
    },
    "papermill": {
     "duration": 0.049457,
     "end_time": "2023-11-23T21:02:47.057853",
     "exception": false,
     "start_time": "2023-11-23T21:02:47.008396",
     "status": "completed"
    },
    "tags": []
   },
   "outputs": [
    {
     "data": {
      "text/plain": [
       "array(['Other', 'usa', 'canada', 'uk', 'uae', 'mexico', 'france',\n",
       "       'finland', 'netherlands', 'germany', 'europe', 'earth',\n",
       "       'costa rica', 'australia', 'insanity lately', 'greece', 'canae',\n",
       "       'iceland', 'south korea', 'japan', 'south africa', 'scotland',\n",
       "       'denmark', 'switzerland', 'indonesia', 'atlantis', 'murrika',\n",
       "       'alaska', 'singapore', 'china', 'taiwan', 'hong kong', 'spain',\n",
       "       'sweden', 'narnia', 'subscribe to dm4uz3 on youtube',\n",
       "       \"i don't know anymore\", 'fear and loathing'], dtype=object)"
      ]
     },
     "execution_count": 41,
     "metadata": {},
     "output_type": "execute_result"
    }
   ],
   "source": [
    "# show unique values again\n",
    "\n",
    "candyData[\"country\"].unique()"
   ]
  },
  {
   "cell_type": "code",
   "execution_count": 42,
   "id": "2901ed0a",
   "metadata": {
    "execution": {
     "iopub.execute_input": "2023-11-23T21:02:47.128732Z",
     "iopub.status.busy": "2023-11-23T21:02:47.127835Z",
     "iopub.status.idle": "2023-11-23T21:02:47.136533Z",
     "shell.execute_reply": "2023-11-23T21:02:47.135376Z"
    },
    "papermill": {
     "duration": 0.047616,
     "end_time": "2023-11-23T21:02:47.139767",
     "exception": false,
     "start_time": "2023-11-23T21:02:47.092151",
     "status": "completed"
    },
    "tags": []
   },
   "outputs": [
    {
     "name": "stderr",
     "output_type": "stream",
     "text": [
      "/tmp/ipykernel_19/3281192361.py:1: SettingWithCopyWarning: \n",
      "A value is trying to be set on a copy of a slice from a DataFrame\n",
      "\n",
      "See the caveats in the documentation: https://pandas.pydata.org/pandas-docs/stable/user_guide/indexing.html#returning-a-view-versus-a-copy\n",
      "  candyData.country[~candyData['country'].isin(['usa', 'uk','canada'])] = 'other'\n"
     ]
    }
   ],
   "source": [
    "candyData.country[~candyData['country'].isin(['usa', 'uk','canada'])] = 'other'"
   ]
  },
  {
   "cell_type": "code",
   "execution_count": 43,
   "id": "0088dd43",
   "metadata": {
    "execution": {
     "iopub.execute_input": "2023-11-23T21:02:47.211552Z",
     "iopub.status.busy": "2023-11-23T21:02:47.211082Z",
     "iopub.status.idle": "2023-11-23T21:02:47.447498Z",
     "shell.execute_reply": "2023-11-23T21:02:47.445568Z"
    },
    "papermill": {
     "duration": 0.277686,
     "end_time": "2023-11-23T21:02:47.452063",
     "exception": false,
     "start_time": "2023-11-23T21:02:47.174377",
     "status": "completed"
    },
    "tags": []
   },
   "outputs": [
    {
     "data": {
      "image/png": "[encoded data removed]",
      "text/plain": [
       "<Figure size 640x480 with 1 Axes>"
      ]
     },
     "metadata": {},
     "output_type": "display_data"
    }
   ],
   "source": [
    "# visualized country column\n",
    "\n",
    "pie_plot(column_name = \"country\", explodeIndex = 0)"
   ]
  },
  {
   "cell_type": "markdown",
   "id": "a977afd9",
   "metadata": {
    "papermill": {
     "duration": 0.036592,
     "end_time": "2023-11-23T21:02:47.550218",
     "exception": false,
     "start_time": "2023-11-23T21:02:47.513626",
     "status": "completed"
    },
    "tags": []
   },
   "source": [
    "- **Most people from USA and Canada**"
   ]
  },
  {
   "cell_type": "markdown",
   "id": "cff2f4a8",
   "metadata": {
    "papermill": {
     "duration": 0.036259,
     "end_time": "2023-11-23T21:02:47.622677",
     "exception": false,
     "start_time": "2023-11-23T21:02:47.586418",
     "status": "completed"
    },
    "tags": []
   },
   "source": [
    "### Cleaning `dress` column"
   ]
  },
  {
   "cell_type": "code",
   "execution_count": 44,
   "id": "3a6e9318",
   "metadata": {
    "execution": {
     "iopub.execute_input": "2023-11-23T21:02:47.695350Z",
     "iopub.status.busy": "2023-11-23T21:02:47.694618Z",
     "iopub.status.idle": "2023-11-23T21:02:47.701504Z",
     "shell.execute_reply": "2023-11-23T21:02:47.700527Z"
    },
    "papermill": {
     "duration": 0.046122,
     "end_time": "2023-11-23T21:02:47.703945",
     "exception": false,
     "start_time": "2023-11-23T21:02:47.657823",
     "status": "completed"
    },
    "tags": []
   },
   "outputs": [
    {
     "data": {
      "text/plain": [
       "array([nan, 'White and gold', 'Blue and black'], dtype=object)"
      ]
     },
     "execution_count": 44,
     "metadata": {},
     "output_type": "execute_result"
    }
   ],
   "source": [
    "# show unique values\n",
    "\n",
    "candyData[\"dress\"].unique()"
   ]
  },
  {
   "cell_type": "code",
   "execution_count": 45,
   "id": "0bd041b0",
   "metadata": {
    "execution": {
     "iopub.execute_input": "2023-11-23T21:02:47.780114Z",
     "iopub.status.busy": "2023-11-23T21:02:47.779383Z",
     "iopub.status.idle": "2023-11-23T21:02:47.786542Z",
     "shell.execute_reply": "2023-11-23T21:02:47.785613Z"
    },
    "papermill": {
     "duration": 0.047771,
     "end_time": "2023-11-23T21:02:47.789052",
     "exception": false,
     "start_time": "2023-11-23T21:02:47.741281",
     "status": "completed"
    },
    "tags": []
   },
   "outputs": [
    {
     "data": {
      "text/plain": [
       "744"
      ]
     },
     "execution_count": 45,
     "metadata": {},
     "output_type": "execute_result"
    }
   ],
   "source": [
    "# see number of missing values \n",
    "\n",
    "candyData[\"dress\"].isna().sum()"
   ]
  },
  {
   "cell_type": "code",
   "execution_count": 46,
   "id": "ab41593f",
   "metadata": {
    "execution": {
     "iopub.execute_input": "2023-11-23T21:02:47.864763Z",
     "iopub.status.busy": "2023-11-23T21:02:47.864013Z",
     "iopub.status.idle": "2023-11-23T21:02:47.870732Z",
     "shell.execute_reply": "2023-11-23T21:02:47.869546Z"
    },
    "papermill": {
     "duration": 0.048382,
     "end_time": "2023-11-23T21:02:47.873598",
     "exception": false,
     "start_time": "2023-11-23T21:02:47.825216",
     "status": "completed"
    },
    "tags": []
   },
   "outputs": [],
   "source": [
    "# fill nan value\n",
    "\n",
    "candyData[\"dress\"].fillna(\"Other colors\", inplace = True)"
   ]
  },
  {
   "cell_type": "code",
   "execution_count": 47,
   "id": "5e35de62",
   "metadata": {
    "execution": {
     "iopub.execute_input": "2023-11-23T21:02:47.947772Z",
     "iopub.status.busy": "2023-11-23T21:02:47.947316Z",
     "iopub.status.idle": "2023-11-23T21:02:48.148916Z",
     "shell.execute_reply": "2023-11-23T21:02:48.146452Z"
    },
    "papermill": {
     "duration": 0.244983,
     "end_time": "2023-11-23T21:02:48.154217",
     "exception": false,
     "start_time": "2023-11-23T21:02:47.909234",
     "status": "completed"
    },
    "tags": []
   },
   "outputs": [
    {
     "data": {
      "image/png": "[encoded data removed]",
      "text/plain": [
       "<Figure size 640x480 with 1 Axes>"
      ]
     },
     "metadata": {},
     "output_type": "display_data"
    }
   ],
   "source": [
    "# visualized dress column\n",
    "\n",
    "pie_plot(column_name = \"dress\", explodeIndex = 0)"
   ]
  },
  {
   "cell_type": "markdown",
   "id": "d363784c",
   "metadata": {
    "papermill": {
     "duration": 0.036223,
     "end_time": "2023-11-23T21:02:48.248648",
     "exception": false,
     "start_time": "2023-11-23T21:02:48.212425",
     "status": "completed"
    },
    "tags": []
   },
   "source": [
    "- **Most people like dress white and gold**"
   ]
  },
  {
   "cell_type": "markdown",
   "id": "698e384a",
   "metadata": {
    "papermill": {
     "duration": 0.035436,
     "end_time": "2023-11-23T21:02:48.319974",
     "exception": false,
     "start_time": "2023-11-23T21:02:48.284538",
     "status": "completed"
    },
    "tags": []
   },
   "source": [
    "### Cleaning `day` column"
   ]
  },
  {
   "cell_type": "code",
   "execution_count": 48,
   "id": "16994bbb",
   "metadata": {
    "execution": {
     "iopub.execute_input": "2023-11-23T21:02:48.395298Z",
     "iopub.status.busy": "2023-11-23T21:02:48.394516Z",
     "iopub.status.idle": "2023-11-23T21:02:48.402660Z",
     "shell.execute_reply": "2023-11-23T21:02:48.401440Z"
    },
    "papermill": {
     "duration": 0.048295,
     "end_time": "2023-11-23T21:02:48.405227",
     "exception": false,
     "start_time": "2023-11-23T21:02:48.356932",
     "status": "completed"
    },
    "tags": []
   },
   "outputs": [
    {
     "data": {
      "text/plain": [
       "array([nan, 'Sunday', 'Friday'], dtype=object)"
      ]
     },
     "execution_count": 48,
     "metadata": {},
     "output_type": "execute_result"
    }
   ],
   "source": [
    "# show unique values\n",
    "\n",
    "candyData[\"day\"].unique()"
   ]
  },
  {
   "cell_type": "code",
   "execution_count": 49,
   "id": "c9db7e6d",
   "metadata": {
    "execution": {
     "iopub.execute_input": "2023-11-23T21:02:48.479517Z",
     "iopub.status.busy": "2023-11-23T21:02:48.479099Z",
     "iopub.status.idle": "2023-11-23T21:02:48.487931Z",
     "shell.execute_reply": "2023-11-23T21:02:48.486626Z"
    },
    "papermill": {
     "duration": 0.048998,
     "end_time": "2023-11-23T21:02:48.490551",
     "exception": false,
     "start_time": "2023-11-23T21:02:48.441553",
     "status": "completed"
    },
    "tags": []
   },
   "outputs": [
    {
     "data": {
      "text/plain": [
       "725"
      ]
     },
     "execution_count": 49,
     "metadata": {},
     "output_type": "execute_result"
    }
   ],
   "source": [
    "# see number of missing values \n",
    "\n",
    "candyData[\"day\"].isna().sum()"
   ]
  },
  {
   "cell_type": "code",
   "execution_count": 50,
   "id": "2eca1e04",
   "metadata": {
    "execution": {
     "iopub.execute_input": "2023-11-23T21:02:48.565963Z",
     "iopub.status.busy": "2023-11-23T21:02:48.565224Z",
     "iopub.status.idle": "2023-11-23T21:02:48.571192Z",
     "shell.execute_reply": "2023-11-23T21:02:48.570018Z"
    },
    "papermill": {
     "duration": 0.047085,
     "end_time": "2023-11-23T21:02:48.573875",
     "exception": false,
     "start_time": "2023-11-23T21:02:48.526790",
     "status": "completed"
    },
    "tags": []
   },
   "outputs": [],
   "source": [
    "# fill nan value \n",
    "\n",
    "candyData[\"day\"].fillna(\"Other Day\", inplace = True)  "
   ]
  },
  {
   "cell_type": "code",
   "execution_count": 51,
   "id": "4d1b185b",
   "metadata": {
    "execution": {
     "iopub.execute_input": "2023-11-23T21:02:48.649694Z",
     "iopub.status.busy": "2023-11-23T21:02:48.649223Z",
     "iopub.status.idle": "2023-11-23T21:02:48.838573Z",
     "shell.execute_reply": "2023-11-23T21:02:48.836802Z"
    },
    "papermill": {
     "duration": 0.232793,
     "end_time": "2023-11-23T21:02:48.843515",
     "exception": false,
     "start_time": "2023-11-23T21:02:48.610722",
     "status": "completed"
    },
    "tags": []
   },
   "outputs": [
    {
     "data": {
      "image/png": "[encoded data removed]",
      "text/plain": [
       "<Figure size 640x480 with 1 Axes>"
      ]
     },
     "metadata": {},
     "output_type": "display_data"
    }
   ],
   "source": [
    "# visualized day column\n",
    "\n",
    "pie_plot(column_name = \"day\", explodeIndex = 0)"
   ]
  },
  {
   "cell_type": "markdown",
   "id": "0232a3b0",
   "metadata": {
    "papermill": {
     "duration": 0.03788,
     "end_time": "2023-11-23T21:02:48.943438",
     "exception": false,
     "start_time": "2023-11-23T21:02:48.905558",
     "status": "completed"
    },
    "tags": []
   },
   "source": [
    "- #### Most people preferred friday"
   ]
  },
  {
   "cell_type": "markdown",
   "id": "ff4264ff",
   "metadata": {
    "papermill": {
     "duration": 0.036954,
     "end_time": "2023-11-23T21:02:49.017813",
     "exception": false,
     "start_time": "2023-11-23T21:02:48.980859",
     "status": "completed"
    },
    "tags": []
   },
   "source": [
    "## Create  `MEDIA ` column "
   ]
  },
  {
   "cell_type": "code",
   "execution_count": 52,
   "id": "a08fa967",
   "metadata": {
    "execution": {
     "iopub.execute_input": "2023-11-23T21:02:49.096288Z",
     "iopub.status.busy": "2023-11-23T21:02:49.095425Z",
     "iopub.status.idle": "2023-11-23T21:02:49.115058Z",
     "shell.execute_reply": "2023-11-23T21:02:49.113808Z"
    },
    "papermill": {
     "duration": 0.061154,
     "end_time": "2023-11-23T21:02:49.117678",
     "exception": false,
     "start_time": "2023-11-23T21:02:49.056524",
     "status": "completed"
    },
    "tags": []
   },
   "outputs": [
    {
     "data": {
      "text/html": [
       "<div>\n",
       "<style scoped>\n",
       "    .dataframe tbody tr th:only-of-type {\n",
       "        vertical-align: middle;\n",
       "    }\n",
       "\n",
       "    .dataframe tbody tr th {\n",
       "        vertical-align: top;\n",
       "    }\n",
       "\n",
       "    .dataframe thead th {\n",
       "        text-align: right;\n",
       "    }\n",
       "</style>\n",
       "<table border=\"1\" class=\"dataframe\">\n",
       "  <thead>\n",
       "    <tr style=\"text-align: right;\">\n",
       "      <th></th>\n",
       "      <th>Daily Dish</th>\n",
       "      <th>Science</th>\n",
       "      <th>ESPN</th>\n",
       "      <th>Yahoo</th>\n",
       "    </tr>\n",
       "  </thead>\n",
       "  <tbody>\n",
       "    <tr>\n",
       "      <th>0</th>\n",
       "      <td>NaN</td>\n",
       "      <td>NaN</td>\n",
       "      <td>NaN</td>\n",
       "      <td>NaN</td>\n",
       "    </tr>\n",
       "    <tr>\n",
       "      <th>1</th>\n",
       "      <td>NaN</td>\n",
       "      <td>1.0</td>\n",
       "      <td>NaN</td>\n",
       "      <td>NaN</td>\n",
       "    </tr>\n",
       "    <tr>\n",
       "      <th>2</th>\n",
       "      <td>NaN</td>\n",
       "      <td>NaN</td>\n",
       "      <td>NaN</td>\n",
       "      <td>NaN</td>\n",
       "    </tr>\n",
       "    <tr>\n",
       "      <th>3</th>\n",
       "      <td>NaN</td>\n",
       "      <td>1.0</td>\n",
       "      <td>NaN</td>\n",
       "      <td>NaN</td>\n",
       "    </tr>\n",
       "    <tr>\n",
       "      <th>4</th>\n",
       "      <td>NaN</td>\n",
       "      <td>1.0</td>\n",
       "      <td>NaN</td>\n",
       "      <td>NaN</td>\n",
       "    </tr>\n",
       "    <tr>\n",
       "      <th>...</th>\n",
       "      <td>...</td>\n",
       "      <td>...</td>\n",
       "      <td>...</td>\n",
       "      <td>...</td>\n",
       "    </tr>\n",
       "    <tr>\n",
       "      <th>2455</th>\n",
       "      <td>NaN</td>\n",
       "      <td>NaN</td>\n",
       "      <td>NaN</td>\n",
       "      <td>NaN</td>\n",
       "    </tr>\n",
       "    <tr>\n",
       "      <th>2456</th>\n",
       "      <td>NaN</td>\n",
       "      <td>1.0</td>\n",
       "      <td>NaN</td>\n",
       "      <td>NaN</td>\n",
       "    </tr>\n",
       "    <tr>\n",
       "      <th>2457</th>\n",
       "      <td>NaN</td>\n",
       "      <td>1.0</td>\n",
       "      <td>NaN</td>\n",
       "      <td>NaN</td>\n",
       "    </tr>\n",
       "    <tr>\n",
       "      <th>2458</th>\n",
       "      <td>NaN</td>\n",
       "      <td>NaN</td>\n",
       "      <td>NaN</td>\n",
       "      <td>NaN</td>\n",
       "    </tr>\n",
       "    <tr>\n",
       "      <th>2459</th>\n",
       "      <td>1.0</td>\n",
       "      <td>NaN</td>\n",
       "      <td>NaN</td>\n",
       "      <td>NaN</td>\n",
       "    </tr>\n",
       "  </tbody>\n",
       "</table>\n",
       "<p>2460 rows × 4 columns</p>\n",
       "</div>"
      ],
      "text/plain": [
       "      Daily Dish  Science  ESPN  Yahoo\n",
       "0            NaN      NaN   NaN    NaN\n",
       "1            NaN      1.0   NaN    NaN\n",
       "2            NaN      NaN   NaN    NaN\n",
       "3            NaN      1.0   NaN    NaN\n",
       "4            NaN      1.0   NaN    NaN\n",
       "...          ...      ...   ...    ...\n",
       "2455         NaN      NaN   NaN    NaN\n",
       "2456         NaN      1.0   NaN    NaN\n",
       "2457         NaN      1.0   NaN    NaN\n",
       "2458         NaN      NaN   NaN    NaN\n",
       "2459         1.0      NaN   NaN    NaN\n",
       "\n",
       "[2460 rows x 4 columns]"
      ]
     },
     "execution_count": 52,
     "metadata": {},
     "output_type": "execute_result"
    }
   ],
   "source": [
    "# create sub dataframe media\n",
    "\n",
    "media = candyData[candyData.columns[-4:]]\n",
    "media"
   ]
  },
  {
   "cell_type": "code",
   "execution_count": 53,
   "id": "4fb079ac",
   "metadata": {
    "execution": {
     "iopub.execute_input": "2023-11-23T21:02:49.195127Z",
     "iopub.status.busy": "2023-11-23T21:02:49.194670Z",
     "iopub.status.idle": "2023-11-23T21:02:49.202657Z",
     "shell.execute_reply": "2023-11-23T21:02:49.201412Z"
    },
    "papermill": {
     "duration": 0.050577,
     "end_time": "2023-11-23T21:02:49.205225",
     "exception": false,
     "start_time": "2023-11-23T21:02:49.154648",
     "status": "completed"
    },
    "tags": []
   },
   "outputs": [],
   "source": [
    "# fill nan value with No \n",
    "\n",
    "media = media.fillna(\"NO\")"
   ]
  },
  {
   "cell_type": "code",
   "execution_count": 54,
   "id": "d7592655",
   "metadata": {
    "execution": {
     "iopub.execute_input": "2023-11-23T21:02:49.283203Z",
     "iopub.status.busy": "2023-11-23T21:02:49.282306Z",
     "iopub.status.idle": "2023-11-23T21:02:49.298714Z",
     "shell.execute_reply": "2023-11-23T21:02:49.297560Z"
    },
    "papermill": {
     "duration": 0.058809,
     "end_time": "2023-11-23T21:02:49.301623",
     "exception": false,
     "start_time": "2023-11-23T21:02:49.242814",
     "status": "completed"
    },
    "tags": []
   },
   "outputs": [],
   "source": [
    "# Show most website checked out\n",
    "\n",
    "# 1- craate list of media category\n",
    "media_category = [\"Science\", \"ESPN\", \"Daily Dish\", \"Yahoo\"]\n",
    "\n",
    "# 2- create dictionary key is media category and value is number of ones\n",
    "media_used = {}\n",
    "\n",
    "# 3- loop of list madie to get number of ones\n",
    "for category in media_category:\n",
    "    media_used[category] = len(candyData[candyData[category] == 1.0])\n",
    "    \n",
    "# 4- calculation number of No answer \n",
    "media_used[\"No answer\"] = candyData.shape[0] - sum(media_used.values())\n",
    "\n",
    "# 5- sorte media_used by values\n",
    "media_used = dict(sorted(media_used.items(), key = lambda item : item[1] ,reverse = True))\n",
    "\n",
    "# 6- get all keys in media_used\n",
    "keys = list(media_used.keys())\n",
    "\n",
    "# 7- get all values in media_used\n",
    "values = list(media_used.values())"
   ]
  },
  {
   "cell_type": "code",
   "execution_count": 55,
   "id": "e6fb0c77",
   "metadata": {
    "execution": {
     "iopub.execute_input": "2023-11-23T21:02:49.378840Z",
     "iopub.status.busy": "2023-11-23T21:02:49.378393Z",
     "iopub.status.idle": "2023-11-23T21:02:49.384472Z",
     "shell.execute_reply": "2023-11-23T21:02:49.383271Z"
    },
    "papermill": {
     "duration": 0.047446,
     "end_time": "2023-11-23T21:02:49.386976",
     "exception": false,
     "start_time": "2023-11-23T21:02:49.339530",
     "status": "completed"
    },
    "tags": []
   },
   "outputs": [],
   "source": [
    "# create media column and fill with nan value\n",
    "\n",
    "candyData[\"media\"] = np.nan"
   ]
  },
  {
   "cell_type": "code",
   "execution_count": 56,
   "id": "4e97ec77",
   "metadata": {
    "execution": {
     "iopub.execute_input": "2023-11-23T21:02:49.463841Z",
     "iopub.status.busy": "2023-11-23T21:02:49.463430Z",
     "iopub.status.idle": "2023-11-23T21:02:49.474162Z",
     "shell.execute_reply": "2023-11-23T21:02:49.473216Z"
    },
    "papermill": {
     "duration": 0.051535,
     "end_time": "2023-11-23T21:02:49.476576",
     "exception": false,
     "start_time": "2023-11-23T21:02:49.425041",
     "status": "completed"
    },
    "tags": []
   },
   "outputs": [],
   "source": [
    "# fill nan value using media used dictionary\n",
    "\n",
    "for key,value in media_used.items():\n",
    "    candyData[\"media\"].fillna(key,limit = value, inplace = True)"
   ]
  },
  {
   "cell_type": "code",
   "execution_count": 57,
   "id": "dd58d759",
   "metadata": {
    "execution": {
     "iopub.execute_input": "2023-11-23T21:02:49.553318Z",
     "iopub.status.busy": "2023-11-23T21:02:49.552240Z",
     "iopub.status.idle": "2023-11-23T21:02:49.879915Z",
     "shell.execute_reply": "2023-11-23T21:02:49.878577Z"
    },
    "papermill": {
     "duration": 0.368661,
     "end_time": "2023-11-23T21:02:49.882729",
     "exception": false,
     "start_time": "2023-11-23T21:02:49.514068",
     "status": "completed"
    },
    "tags": []
   },
   "outputs": [
    {
     "data": {
      "image/png": "[encoded data removed]",
      "text/plain": [
       "<Figure size 640x480 with 1 Axes>"
      ]
     },
     "metadata": {},
     "output_type": "display_data"
    }
   ],
   "source": [
    "# visualized media column\n",
    "\n",
    "count_plot(x_axis = \"media\")"
   ]
  },
  {
   "cell_type": "markdown",
   "id": "3a0a412b",
   "metadata": {
    "papermill": {
     "duration": 0.03819,
     "end_time": "2023-11-23T21:02:49.958808",
     "exception": false,
     "start_time": "2023-11-23T21:02:49.920618",
     "status": "completed"
    },
    "tags": []
   },
   "source": [
    "- #### Science is the most  website checked out"
   ]
  },
  {
   "cell_type": "markdown",
   "id": "9f5b9bad",
   "metadata": {
    "papermill": {
     "duration": 0.038184,
     "end_time": "2023-11-23T21:02:50.035894",
     "exception": false,
     "start_time": "2023-11-23T21:02:49.997710",
     "status": "completed"
    },
    "tags": []
   },
   "source": [
    "## Create new DataFrame `candy`"
   ]
  },
  {
   "cell_type": "code",
   "execution_count": 58,
   "id": "4ae41a67",
   "metadata": {
    "execution": {
     "iopub.execute_input": "2023-11-23T21:02:50.115367Z",
     "iopub.status.busy": "2023-11-23T21:02:50.114921Z",
     "iopub.status.idle": "2023-11-23T21:02:50.125076Z",
     "shell.execute_reply": "2023-11-23T21:02:50.123827Z"
    },
    "papermill": {
     "duration": 0.053211,
     "end_time": "2023-11-23T21:02:50.127993",
     "exception": false,
     "start_time": "2023-11-23T21:02:50.074782",
     "status": "completed"
    },
    "tags": []
   },
   "outputs": [],
   "source": [
    "# 1- create list of Question columns \n",
    "Question = [candy for candy in candyData.columns if 'Q6' in str(candy)]\n",
    "\n",
    "# 2- create dataframe call candy\n",
    "candy = pd.DataFrame(candyData[Question])"
   ]
  },
  {
   "cell_type": "code",
   "execution_count": 59,
   "id": "34201b1c",
   "metadata": {
    "execution": {
     "iopub.execute_input": "2023-11-23T21:02:50.208076Z",
     "iopub.status.busy": "2023-11-23T21:02:50.207625Z",
     "iopub.status.idle": "2023-11-23T21:02:50.234712Z",
     "shell.execute_reply": "2023-11-23T21:02:50.233494Z"
    },
    "papermill": {
     "duration": 0.070609,
     "end_time": "2023-11-23T21:02:50.237659",
     "exception": false,
     "start_time": "2023-11-23T21:02:50.167050",
     "status": "completed"
    },
    "tags": []
   },
   "outputs": [
    {
     "data": {
      "text/html": [
       "<div>\n",
       "<style scoped>\n",
       "    .dataframe tbody tr th:only-of-type {\n",
       "        vertical-align: middle;\n",
       "    }\n",
       "\n",
       "    .dataframe tbody tr th {\n",
       "        vertical-align: top;\n",
       "    }\n",
       "\n",
       "    .dataframe thead th {\n",
       "        text-align: right;\n",
       "    }\n",
       "</style>\n",
       "<table border=\"1\" class=\"dataframe\">\n",
       "  <thead>\n",
       "    <tr style=\"text-align: right;\">\n",
       "      <th></th>\n",
       "      <th>Q6 | 100 Grand Bar</th>\n",
       "      <th>Q6 | Anonymous brown globs that come in black and orange wrappers\\t(a.k.a. Mary Janes)</th>\n",
       "      <th>Q6 | Any full-sized candy bar</th>\n",
       "      <th>Q6 | Black Jacks</th>\n",
       "      <th>Q6 | Bonkers (the candy)</th>\n",
       "      <th>Q6 | Bonkers (the board game)</th>\n",
       "      <th>Q6 | Bottle Caps</th>\n",
       "      <th>Q6 | Box'o'Raisins</th>\n",
       "      <th>Q6 | Broken glow stick</th>\n",
       "      <th>Q6 | Butterfinger</th>\n",
       "      <th>...</th>\n",
       "      <th>Q6 | Three Musketeers</th>\n",
       "      <th>Q6 | Tolberone something or other</th>\n",
       "      <th>Q6 | Trail Mix</th>\n",
       "      <th>Q6 | Twix</th>\n",
       "      <th>Q6 | Vials of pure high fructose corn syrup, for main-lining into your vein</th>\n",
       "      <th>Q6 | Vicodin</th>\n",
       "      <th>Q6 | Whatchamacallit Bars</th>\n",
       "      <th>Q6 | White Bread</th>\n",
       "      <th>Q6 | Whole Wheat anything</th>\n",
       "      <th>Q6 | York Peppermint Patties</th>\n",
       "    </tr>\n",
       "  </thead>\n",
       "  <tbody>\n",
       "    <tr>\n",
       "      <th>60</th>\n",
       "      <td>JOY</td>\n",
       "      <td>NaN</td>\n",
       "      <td>JOY</td>\n",
       "      <td>MEH</td>\n",
       "      <td>MEH</td>\n",
       "      <td>DESPAIR</td>\n",
       "      <td>MEH</td>\n",
       "      <td>JOY</td>\n",
       "      <td>DESPAIR</td>\n",
       "      <td>DESPAIR</td>\n",
       "      <td>...</td>\n",
       "      <td>JOY</td>\n",
       "      <td>JOY</td>\n",
       "      <td>JOY</td>\n",
       "      <td>MEH</td>\n",
       "      <td>MEH</td>\n",
       "      <td>MEH</td>\n",
       "      <td>MEH</td>\n",
       "      <td>MEH</td>\n",
       "      <td>MEH</td>\n",
       "      <td>JOY</td>\n",
       "    </tr>\n",
       "    <tr>\n",
       "      <th>1514</th>\n",
       "      <td>MEH</td>\n",
       "      <td>DESPAIR</td>\n",
       "      <td>JOY</td>\n",
       "      <td>NaN</td>\n",
       "      <td>NaN</td>\n",
       "      <td>NaN</td>\n",
       "      <td>MEH</td>\n",
       "      <td>DESPAIR</td>\n",
       "      <td>DESPAIR</td>\n",
       "      <td>JOY</td>\n",
       "      <td>...</td>\n",
       "      <td>DESPAIR</td>\n",
       "      <td>JOY</td>\n",
       "      <td>DESPAIR</td>\n",
       "      <td>JOY</td>\n",
       "      <td>DESPAIR</td>\n",
       "      <td>DESPAIR</td>\n",
       "      <td>JOY</td>\n",
       "      <td>DESPAIR</td>\n",
       "      <td>DESPAIR</td>\n",
       "      <td>MEH</td>\n",
       "    </tr>\n",
       "    <tr>\n",
       "      <th>1111</th>\n",
       "      <td>NaN</td>\n",
       "      <td>NaN</td>\n",
       "      <td>NaN</td>\n",
       "      <td>NaN</td>\n",
       "      <td>NaN</td>\n",
       "      <td>NaN</td>\n",
       "      <td>NaN</td>\n",
       "      <td>NaN</td>\n",
       "      <td>NaN</td>\n",
       "      <td>NaN</td>\n",
       "      <td>...</td>\n",
       "      <td>NaN</td>\n",
       "      <td>NaN</td>\n",
       "      <td>NaN</td>\n",
       "      <td>NaN</td>\n",
       "      <td>NaN</td>\n",
       "      <td>NaN</td>\n",
       "      <td>NaN</td>\n",
       "      <td>NaN</td>\n",
       "      <td>NaN</td>\n",
       "      <td>NaN</td>\n",
       "    </tr>\n",
       "    <tr>\n",
       "      <th>2175</th>\n",
       "      <td>JOY</td>\n",
       "      <td>MEH</td>\n",
       "      <td>JOY</td>\n",
       "      <td>NaN</td>\n",
       "      <td>NaN</td>\n",
       "      <td>NaN</td>\n",
       "      <td>MEH</td>\n",
       "      <td>DESPAIR</td>\n",
       "      <td>DESPAIR</td>\n",
       "      <td>JOY</td>\n",
       "      <td>...</td>\n",
       "      <td>JOY</td>\n",
       "      <td>JOY</td>\n",
       "      <td>MEH</td>\n",
       "      <td>JOY</td>\n",
       "      <td>DESPAIR</td>\n",
       "      <td>DESPAIR</td>\n",
       "      <td>JOY</td>\n",
       "      <td>DESPAIR</td>\n",
       "      <td>MEH</td>\n",
       "      <td>MEH</td>\n",
       "    </tr>\n",
       "    <tr>\n",
       "      <th>1418</th>\n",
       "      <td>MEH</td>\n",
       "      <td>DESPAIR</td>\n",
       "      <td>DESPAIR</td>\n",
       "      <td>MEH</td>\n",
       "      <td>MEH</td>\n",
       "      <td>DESPAIR</td>\n",
       "      <td>JOY</td>\n",
       "      <td>DESPAIR</td>\n",
       "      <td>DESPAIR</td>\n",
       "      <td>MEH</td>\n",
       "      <td>...</td>\n",
       "      <td>JOY</td>\n",
       "      <td>JOY</td>\n",
       "      <td>DESPAIR</td>\n",
       "      <td>JOY</td>\n",
       "      <td>MEH</td>\n",
       "      <td>DESPAIR</td>\n",
       "      <td>DESPAIR</td>\n",
       "      <td>DESPAIR</td>\n",
       "      <td>DESPAIR</td>\n",
       "      <td>JOY</td>\n",
       "    </tr>\n",
       "  </tbody>\n",
       "</table>\n",
       "<p>5 rows × 103 columns</p>\n",
       "</div>"
      ],
      "text/plain": [
       "     Q6 | 100 Grand Bar  \\\n",
       "60                  JOY   \n",
       "1514                MEH   \n",
       "1111                NaN   \n",
       "2175                JOY   \n",
       "1418                MEH   \n",
       "\n",
       "     Q6 | Anonymous brown globs that come in black and orange wrappers\\t(a.k.a. Mary Janes)  \\\n",
       "60                                                  NaN                                       \n",
       "1514                                            DESPAIR                                       \n",
       "1111                                                NaN                                       \n",
       "2175                                                MEH                                       \n",
       "1418                                            DESPAIR                                       \n",
       "\n",
       "     Q6 | Any full-sized candy bar Q6 | Black Jacks Q6 | Bonkers (the candy)  \\\n",
       "60                             JOY              MEH                      MEH   \n",
       "1514                           JOY              NaN                      NaN   \n",
       "1111                           NaN              NaN                      NaN   \n",
       "2175                           JOY              NaN                      NaN   \n",
       "1418                       DESPAIR              MEH                      MEH   \n",
       "\n",
       "     Q6 | Bonkers (the board game) Q6 | Bottle Caps Q6 | Box'o'Raisins  \\\n",
       "60                         DESPAIR              MEH                JOY   \n",
       "1514                           NaN              MEH            DESPAIR   \n",
       "1111                           NaN              NaN                NaN   \n",
       "2175                           NaN              MEH            DESPAIR   \n",
       "1418                       DESPAIR              JOY            DESPAIR   \n",
       "\n",
       "     Q6 | Broken glow stick Q6 | Butterfinger  ... Q6 | Three Musketeers  \\\n",
       "60                  DESPAIR           DESPAIR  ...                   JOY   \n",
       "1514                DESPAIR               JOY  ...               DESPAIR   \n",
       "1111                    NaN               NaN  ...                   NaN   \n",
       "2175                DESPAIR               JOY  ...                   JOY   \n",
       "1418                DESPAIR               MEH  ...                   JOY   \n",
       "\n",
       "     Q6 | Tolberone something or other Q6 | Trail Mix Q6 | Twix  \\\n",
       "60                                 JOY            JOY       MEH   \n",
       "1514                               JOY        DESPAIR       JOY   \n",
       "1111                               NaN            NaN       NaN   \n",
       "2175                               JOY            MEH       JOY   \n",
       "1418                               JOY        DESPAIR       JOY   \n",
       "\n",
       "     Q6 | Vials of pure high fructose corn syrup, for main-lining into your vein  \\\n",
       "60                                                  MEH                            \n",
       "1514                                            DESPAIR                            \n",
       "1111                                                NaN                            \n",
       "2175                                            DESPAIR                            \n",
       "1418                                                MEH                            \n",
       "\n",
       "     Q6 | Vicodin Q6 | Whatchamacallit Bars Q6 | White Bread  \\\n",
       "60            MEH                       MEH              MEH   \n",
       "1514      DESPAIR                       JOY          DESPAIR   \n",
       "1111          NaN                       NaN              NaN   \n",
       "2175      DESPAIR                       JOY          DESPAIR   \n",
       "1418      DESPAIR                   DESPAIR          DESPAIR   \n",
       "\n",
       "     Q6 | Whole Wheat anything Q6 | York Peppermint Patties  \n",
       "60                         MEH                          JOY  \n",
       "1514                   DESPAIR                          MEH  \n",
       "1111                       NaN                          NaN  \n",
       "2175                       MEH                          MEH  \n",
       "1418                   DESPAIR                          JOY  \n",
       "\n",
       "[5 rows x 103 columns]"
      ]
     },
     "execution_count": 59,
     "metadata": {},
     "output_type": "execute_result"
    }
   ],
   "source": [
    "# show sample of dataframe\n",
    "\n",
    "candy.sample(5)"
   ]
  },
  {
   "cell_type": "code",
   "execution_count": 60,
   "id": "387e4194",
   "metadata": {
    "execution": {
     "iopub.execute_input": "2023-11-23T21:02:50.318254Z",
     "iopub.status.busy": "2023-11-23T21:02:50.316839Z",
     "iopub.status.idle": "2023-11-23T21:02:50.324778Z",
     "shell.execute_reply": "2023-11-23T21:02:50.323729Z"
    },
    "papermill": {
     "duration": 0.050303,
     "end_time": "2023-11-23T21:02:50.327221",
     "exception": false,
     "start_time": "2023-11-23T21:02:50.276918",
     "status": "completed"
    },
    "tags": []
   },
   "outputs": [
    {
     "data": {
      "text/plain": [
       "(2460, 103)"
      ]
     },
     "execution_count": 60,
     "metadata": {},
     "output_type": "execute_result"
    }
   ],
   "source": [
    "# see dimensions \n",
    "\n",
    "candy.shape"
   ]
  },
  {
   "cell_type": "code",
   "execution_count": 61,
   "id": "4a233aa6",
   "metadata": {
    "execution": {
     "iopub.execute_input": "2023-11-23T21:02:50.407027Z",
     "iopub.status.busy": "2023-11-23T21:02:50.406589Z",
     "iopub.status.idle": "2023-11-23T21:02:50.440458Z",
     "shell.execute_reply": "2023-11-23T21:02:50.438626Z"
    },
    "papermill": {
     "duration": 0.076932,
     "end_time": "2023-11-23T21:02:50.443397",
     "exception": false,
     "start_time": "2023-11-23T21:02:50.366465",
     "status": "completed"
    },
    "tags": []
   },
   "outputs": [
    {
     "data": {
      "text/plain": [
       "Q6 | 100 Grand Bar                                                                        747\n",
       "Q6 | Anonymous brown globs that come in black and orange wrappers\\t(a.k.a. Mary Janes)    734\n",
       "Q6 | Any full-sized candy bar                                                             672\n",
       "Q6 | Black Jacks                                                                          958\n",
       "Q6 | Bonkers (the candy)                                                                  992\n",
       "                                                                                         ... \n",
       "Q6 | Vicodin                                                                              789\n",
       "Q6 | Whatchamacallit Bars                                                                 823\n",
       "Q6 | White Bread                                                                          757\n",
       "Q6 | Whole Wheat anything                                                                 747\n",
       "Q6 | York Peppermint Patties                                                              705\n",
       "Length: 103, dtype: int64"
      ]
     },
     "execution_count": 61,
     "metadata": {},
     "output_type": "execute_result"
    }
   ],
   "source": [
    "# show how many nan value in each column\n",
    "\n",
    "candy.isna().sum()"
   ]
  },
  {
   "cell_type": "markdown",
   "id": "5061b3b8",
   "metadata": {
    "papermill": {
     "duration": 0.038281,
     "end_time": "2023-11-23T21:02:50.521694",
     "exception": false,
     "start_time": "2023-11-23T21:02:50.483413",
     "status": "completed"
    },
    "tags": []
   },
   "source": [
    "### From  above \n",
    "\n",
    "- We need to fill nan value with other value\n",
    "- We need to rename column name to avoid confusion"
   ]
  },
  {
   "cell_type": "markdown",
   "id": "122a37a9",
   "metadata": {
    "papermill": {
     "duration": 0.03825,
     "end_time": "2023-11-23T21:02:50.598643",
     "exception": false,
     "start_time": "2023-11-23T21:02:50.560393",
     "status": "completed"
    },
    "tags": []
   },
   "source": [
    "## Cleaning"
   ]
  },
  {
   "cell_type": "code",
   "execution_count": 62,
   "id": "35260f14",
   "metadata": {
    "execution": {
     "iopub.execute_input": "2023-11-23T21:02:50.679957Z",
     "iopub.status.busy": "2023-11-23T21:02:50.679560Z",
     "iopub.status.idle": "2023-11-23T21:02:50.722019Z",
     "shell.execute_reply": "2023-11-23T21:02:50.720687Z"
    },
    "papermill": {
     "duration": 0.086924,
     "end_time": "2023-11-23T21:02:50.725079",
     "exception": false,
     "start_time": "2023-11-23T21:02:50.638155",
     "status": "completed"
    },
    "tags": []
   },
   "outputs": [],
   "source": [
    "# fill nan value \n",
    "\n",
    "candy.fillna(\"unknown\", inplace = True)"
   ]
  },
  {
   "cell_type": "code",
   "execution_count": 63,
   "id": "9b552d46",
   "metadata": {
    "execution": {
     "iopub.execute_input": "2023-11-23T21:02:50.812219Z",
     "iopub.status.busy": "2023-11-23T21:02:50.811735Z",
     "iopub.status.idle": "2023-11-23T21:02:50.819174Z",
     "shell.execute_reply": "2023-11-23T21:02:50.817894Z"
    },
    "papermill": {
     "duration": 0.05245,
     "end_time": "2023-11-23T21:02:50.821711",
     "exception": false,
     "start_time": "2023-11-23T21:02:50.769261",
     "status": "completed"
    },
    "tags": []
   },
   "outputs": [],
   "source": [
    "# handle candy columns name\n",
    "\n",
    "# 1- create  dictionary key is old name and value is new name of each column\n",
    "names = {}\n",
    "\n",
    "# 2- loop over columns to fixed name and store old and new name in names\n",
    "for col in candy.columns:\n",
    "    names[col] = col.strip(\"Q6 | \")\n",
    "    \n",
    "# 3- rename columns\n",
    "candy.rename(columns = names, inplace= True)"
   ]
  },
  {
   "cell_type": "code",
   "execution_count": 64,
   "id": "3d3a3d11",
   "metadata": {
    "execution": {
     "iopub.execute_input": "2023-11-23T21:02:50.904242Z",
     "iopub.status.busy": "2023-11-23T21:02:50.903782Z",
     "iopub.status.idle": "2023-11-23T21:02:50.935513Z",
     "shell.execute_reply": "2023-11-23T21:02:50.934308Z"
    },
    "papermill": {
     "duration": 0.075283,
     "end_time": "2023-11-23T21:02:50.938044",
     "exception": false,
     "start_time": "2023-11-23T21:02:50.862761",
     "status": "completed"
    },
    "tags": []
   },
   "outputs": [
    {
     "data": {
      "text/html": [
       "<div>\n",
       "<style scoped>\n",
       "    .dataframe tbody tr th:only-of-type {\n",
       "        vertical-align: middle;\n",
       "    }\n",
       "\n",
       "    .dataframe tbody tr th {\n",
       "        vertical-align: top;\n",
       "    }\n",
       "\n",
       "    .dataframe thead th {\n",
       "        text-align: right;\n",
       "    }\n",
       "</style>\n",
       "<table border=\"1\" class=\"dataframe\">\n",
       "  <thead>\n",
       "    <tr style=\"text-align: right;\">\n",
       "      <th></th>\n",
       "      <th>100 Grand Bar</th>\n",
       "      <th>Anonymous brown globs that come in black and orange wrappers\\t(a.k.a. Mary Janes)</th>\n",
       "      <th>Any full-sized candy bar</th>\n",
       "      <th>Black Jacks</th>\n",
       "      <th>Bonkers (the candy)</th>\n",
       "      <th>Bonkers (the board game)</th>\n",
       "      <th>Bottle Caps</th>\n",
       "      <th>Box'o'Raisins</th>\n",
       "      <th>Broken glow stick</th>\n",
       "      <th>Butterfinger</th>\n",
       "      <th>...</th>\n",
       "      <th>Three Musketeers</th>\n",
       "      <th>Tolberone something or other</th>\n",
       "      <th>Trail Mix</th>\n",
       "      <th>Twix</th>\n",
       "      <th>Vials of pure high fructose corn syrup, for main-lining into your vein</th>\n",
       "      <th>Vicodin</th>\n",
       "      <th>Whatchamacallit Bars</th>\n",
       "      <th>White Bread</th>\n",
       "      <th>Whole Wheat anything</th>\n",
       "      <th>York Peppermint Patties</th>\n",
       "    </tr>\n",
       "  </thead>\n",
       "  <tbody>\n",
       "    <tr>\n",
       "      <th>2191</th>\n",
       "      <td>unknown</td>\n",
       "      <td>unknown</td>\n",
       "      <td>unknown</td>\n",
       "      <td>unknown</td>\n",
       "      <td>unknown</td>\n",
       "      <td>unknown</td>\n",
       "      <td>unknown</td>\n",
       "      <td>unknown</td>\n",
       "      <td>unknown</td>\n",
       "      <td>unknown</td>\n",
       "      <td>...</td>\n",
       "      <td>unknown</td>\n",
       "      <td>unknown</td>\n",
       "      <td>unknown</td>\n",
       "      <td>unknown</td>\n",
       "      <td>unknown</td>\n",
       "      <td>unknown</td>\n",
       "      <td>unknown</td>\n",
       "      <td>unknown</td>\n",
       "      <td>unknown</td>\n",
       "      <td>unknown</td>\n",
       "    </tr>\n",
       "    <tr>\n",
       "      <th>1720</th>\n",
       "      <td>MEH</td>\n",
       "      <td>DESPAIR</td>\n",
       "      <td>JOY</td>\n",
       "      <td>MEH</td>\n",
       "      <td>MEH</td>\n",
       "      <td>MEH</td>\n",
       "      <td>DESPAIR</td>\n",
       "      <td>DESPAIR</td>\n",
       "      <td>DESPAIR</td>\n",
       "      <td>JOY</td>\n",
       "      <td>...</td>\n",
       "      <td>JOY</td>\n",
       "      <td>JOY</td>\n",
       "      <td>DESPAIR</td>\n",
       "      <td>JOY</td>\n",
       "      <td>DESPAIR</td>\n",
       "      <td>DESPAIR</td>\n",
       "      <td>DESPAIR</td>\n",
       "      <td>DESPAIR</td>\n",
       "      <td>DESPAIR</td>\n",
       "      <td>JOY</td>\n",
       "    </tr>\n",
       "    <tr>\n",
       "      <th>2371</th>\n",
       "      <td>JOY</td>\n",
       "      <td>MEH</td>\n",
       "      <td>JOY</td>\n",
       "      <td>JOY</td>\n",
       "      <td>MEH</td>\n",
       "      <td>JOY</td>\n",
       "      <td>DESPAIR</td>\n",
       "      <td>DESPAIR</td>\n",
       "      <td>DESPAIR</td>\n",
       "      <td>JOY</td>\n",
       "      <td>...</td>\n",
       "      <td>JOY</td>\n",
       "      <td>JOY</td>\n",
       "      <td>DESPAIR</td>\n",
       "      <td>JOY</td>\n",
       "      <td>DESPAIR</td>\n",
       "      <td>JOY</td>\n",
       "      <td>JOY</td>\n",
       "      <td>DESPAIR</td>\n",
       "      <td>DESPAIR</td>\n",
       "      <td>DESPAIR</td>\n",
       "    </tr>\n",
       "  </tbody>\n",
       "</table>\n",
       "<p>3 rows × 103 columns</p>\n",
       "</div>"
      ],
      "text/plain": [
       "     100 Grand Bar  \\\n",
       "2191       unknown   \n",
       "1720           MEH   \n",
       "2371           JOY   \n",
       "\n",
       "     Anonymous brown globs that come in black and orange wrappers\\t(a.k.a. Mary Janes)  \\\n",
       "2191                                            unknown                                  \n",
       "1720                                            DESPAIR                                  \n",
       "2371                                                MEH                                  \n",
       "\n",
       "     Any full-sized candy bar Black Jacks Bonkers (the candy)  \\\n",
       "2191                  unknown     unknown             unknown   \n",
       "1720                      JOY         MEH                 MEH   \n",
       "2371                      JOY         JOY                 MEH   \n",
       "\n",
       "     Bonkers (the board game) Bottle Caps Box'o'Raisins Broken glow stick  \\\n",
       "2191                  unknown     unknown       unknown           unknown   \n",
       "1720                      MEH     DESPAIR       DESPAIR           DESPAIR   \n",
       "2371                      JOY     DESPAIR       DESPAIR           DESPAIR   \n",
       "\n",
       "     Butterfinger  ... Three Musketeers Tolberone something or other  \\\n",
       "2191      unknown  ...          unknown                      unknown   \n",
       "1720          JOY  ...              JOY                          JOY   \n",
       "2371          JOY  ...              JOY                          JOY   \n",
       "\n",
       "     Trail Mix     Twix  \\\n",
       "2191   unknown  unknown   \n",
       "1720   DESPAIR      JOY   \n",
       "2371   DESPAIR      JOY   \n",
       "\n",
       "     Vials of pure high fructose corn syrup, for main-lining into your vein  \\\n",
       "2191                                            unknown                       \n",
       "1720                                            DESPAIR                       \n",
       "2371                                            DESPAIR                       \n",
       "\n",
       "      Vicodin Whatchamacallit Bars White Bread Whole Wheat anything  \\\n",
       "2191  unknown              unknown     unknown              unknown   \n",
       "1720  DESPAIR              DESPAIR     DESPAIR              DESPAIR   \n",
       "2371      JOY                  JOY     DESPAIR              DESPAIR   \n",
       "\n",
       "     York Peppermint Patties  \n",
       "2191                 unknown  \n",
       "1720                     JOY  \n",
       "2371                 DESPAIR  \n",
       "\n",
       "[3 rows x 103 columns]"
      ]
     },
     "execution_count": 64,
     "metadata": {},
     "output_type": "execute_result"
    }
   ],
   "source": [
    "candy.sample(3)"
   ]
  },
  {
   "cell_type": "code",
   "execution_count": 65,
   "id": "1cdba7c0",
   "metadata": {
    "execution": {
     "iopub.execute_input": "2023-11-23T21:02:51.018975Z",
     "iopub.status.busy": "2023-11-23T21:02:51.018591Z",
     "iopub.status.idle": "2023-11-23T21:02:51.027328Z",
     "shell.execute_reply": "2023-11-23T21:02:51.025950Z"
    },
    "papermill": {
     "duration": 0.053222,
     "end_time": "2023-11-23T21:02:51.029981",
     "exception": false,
     "start_time": "2023-11-23T21:02:50.976759",
     "status": "completed"
    },
    "tags": []
   },
   "outputs": [],
   "source": [
    "# handle candy columns\n",
    "\n",
    "def visualizing(reversed):\n",
    "    # 1- create create dictionary key is Question and value is number of ones\n",
    "    candy_score = {}\n",
    "\n",
    "    # 2- loop over columns to get number of ones of each column\n",
    "    for column in candy.columns:\n",
    "        candy_score[column] = len(candy[candy[column] == \"JOY\"])\n",
    "\n",
    "    # 3- sorte candy_score by values\n",
    "    candy_score = dict(sorted(candy_score.items(), key = lambda item : item[1] ,reverse = reversed))\n",
    "\n",
    "    # 4- get all keys in candy_score\n",
    "    keys = list(candy_score.keys())\n",
    "\n",
    "    # 5- get all values in candy_score\n",
    "    values = list(candy_score.values())\n",
    "    \n",
    "    # 6- visualizing columns\n",
    "    sns.barplot(y = keys[:5], x = values[:5])\n",
    "    plt.title(\"Candy distirbution\")\n",
    "    plt.xlabel(\"Count\"); plt.ylabel(\"Candy\")\n",
    "    plt.xticks(rotation = 55)\n",
    "    plt.show()"
   ]
  },
  {
   "cell_type": "code",
   "execution_count": 66,
   "id": "e07d2265",
   "metadata": {
    "execution": {
     "iopub.execute_input": "2023-11-23T21:02:51.112439Z",
     "iopub.status.busy": "2023-11-23T21:02:51.111982Z",
     "iopub.status.idle": "2023-11-23T21:02:52.025507Z",
     "shell.execute_reply": "2023-11-23T21:02:52.024573Z"
    },
    "papermill": {
     "duration": 0.956977,
     "end_time": "2023-11-23T21:02:52.027739",
     "exception": false,
     "start_time": "2023-11-23T21:02:51.070762",
     "status": "completed"
    },
    "tags": []
   },
   "outputs": [
    {
     "data": {
      "image/png": "[encoded data removed]",
      "text/plain": [
       "<Figure size 640x480 with 1 Axes>"
      ]
     },
     "metadata": {},
     "output_type": "display_data"
    }
   ],
   "source": [
    "# Top five favorite candy\n",
    "\n",
    "visualizing(True)"
   ]
  },
  {
   "cell_type": "code",
   "execution_count": 67,
   "id": "2cd6c45f",
   "metadata": {
    "execution": {
     "iopub.execute_input": "2023-11-23T21:02:52.113649Z",
     "iopub.status.busy": "2023-11-23T21:02:52.113131Z",
     "iopub.status.idle": "2023-11-23T21:02:53.025030Z",
     "shell.execute_reply": "2023-11-23T21:02:53.023838Z"
    },
    "papermill": {
     "duration": 0.958592,
     "end_time": "2023-11-23T21:02:53.027976",
     "exception": false,
     "start_time": "2023-11-23T21:02:52.069384",
     "status": "completed"
    },
    "tags": []
   },
   "outputs": [
    {
     "data": {
      "image/png": "[encoded data removed]",
      "text/plain": [
       "<Figure size 640x480 with 1 Axes>"
      ]
     },
     "metadata": {},
     "output_type": "display_data"
    }
   ],
   "source": [
    "# First five hated candy\n",
    "\n",
    "visualizing(False)"
   ]
  },
  {
   "cell_type": "markdown",
   "id": "ce3e5695",
   "metadata": {
    "papermill": {
     "duration": 0.040637,
     "end_time": "2023-11-23T21:02:53.109238",
     "exception": false,
     "start_time": "2023-11-23T21:02:53.068601",
     "status": "completed"
    },
    "tags": []
   },
   "source": [
    "### Relationship between `categorical` columns"
   ]
  },
  {
   "cell_type": "code",
   "execution_count": 68,
   "id": "638ed3f9",
   "metadata": {
    "execution": {
     "iopub.execute_input": "2023-11-23T21:02:53.192361Z",
     "iopub.status.busy": "2023-11-23T21:02:53.191897Z",
     "iopub.status.idle": "2023-11-23T21:02:55.053690Z",
     "shell.execute_reply": "2023-11-23T21:02:55.052356Z"
    },
    "papermill": {
     "duration": 1.906744,
     "end_time": "2023-11-23T21:02:55.056356",
     "exception": false,
     "start_time": "2023-11-23T21:02:53.149612",
     "status": "completed"
    },
    "tags": []
   },
   "outputs": [
    {
     "data": {
      "image/png": "[encoded data removed]",
      "text/plain": [
       "<Figure size 1500x1000 with 4 Axes>"
      ]
     },
     "metadata": {},
     "output_type": "display_data"
    }
   ],
   "source": [
    "# create list of columns\n",
    "catColumns = [\"going out\", \"dress\", \"day\", \"media\"]\n",
    "\n",
    "# 1- set figure size\n",
    "plt.figure(figsize=(15, 10))\n",
    "\n",
    "# 2- loop over objcolumns list to plot columns\n",
    "for index, col in enumerate(catColumns):\n",
    "    plt.subplot((len(catColumns) + 1) // 2, 2, index + 1)\n",
    "    graph = sns.countplot(x = \"gender\", data = candyData, hue = col)\n",
    "    for container in graph.containers:\n",
    "        graph.bar_label(container)\n",
    "        \n",
    "    plt.title(col) # set title to each plot\n",
    "    plt.xticks(rotation = 35)\n",
    "    \n",
    "# 3- set layout between two plots\n",
    "plt.tight_layout(pad = 2)\n",
    "plt.show()"
   ]
  },
  {
   "cell_type": "markdown",
   "id": "4ca15a59",
   "metadata": {
    "papermill": {
     "duration": 0.044435,
     "end_time": "2023-11-23T21:02:55.145585",
     "exception": false,
     "start_time": "2023-11-23T21:02:55.101150",
     "status": "completed"
    },
    "tags": []
   },
   "source": [
    "## Conclusion"
   ]
  },
  {
   "cell_type": "markdown",
   "id": "d6ffc6dc",
   "metadata": {
    "papermill": {
     "duration": 0.042587,
     "end_time": "2023-11-23T21:02:55.232143",
     "exception": false,
     "start_time": "2023-11-23T21:02:55.189556",
     "status": "completed"
    },
    "tags": []
   },
   "source": [
    "- Reached Results from Questions\n",
    "    - Most people aren't going out\n",
    "    - Male is the most common gender\n",
    "    - Most people who did the survey age between 35 and 50\n",
    "    - Most countries from USA and Canada\n",
    "    - Most people like dress white and gold\n",
    "    - Most people preferred friday\n",
    "    - Science is the most website checked out\n",
    "    - Full-sized candy bar is the most loved candy\n",
    "    - Broken glow stick is the most hated candy"
   ]
  },
  {
   "cell_type": "markdown",
   "id": "22459917",
   "metadata": {
    "papermill": {
     "duration": 0.042552,
     "end_time": "2023-11-23T21:02:55.317885",
     "exception": false,
     "start_time": "2023-11-23T21:02:55.275333",
     "status": "completed"
    },
    "tags": []
   },
   "source": [
    "## 💡Summary"
   ]
  },
  {
   "cell_type": "markdown",
   "id": "69513aa6",
   "metadata": {
    "papermill": {
     "duration": 0.04239,
     "end_time": "2023-11-23T21:02:55.403110",
     "exception": false,
     "start_time": "2023-11-23T21:02:55.360720",
     "status": "completed"
    },
    "tags": []
   },
   "source": [
    "- ### My main goal was to clean the data so that there are no missing values or duplicates.during that\n",
    "    - I saw the most and the least loved candy , The most preferred day , how do most of people see the dress and what media site people would prefer to enter.\n",
    "    - Most people who made this survey are male most people are not going out the average age for those who take the survey is 42 years old most of people who done this survey are from US\n"
   ]
  }
 ],
 "metadata": {
  "kaggle": {
   "accelerator": "none",
   "dataSources": [
    {
     "datasetId": 605358,
     "sourceId": 1085723,
     "sourceType": "datasetVersion"
    }
   ],
   "dockerImageVersionId": 30587,
   "isGpuEnabled": false,
   "isInternetEnabled": true,
   "language": "python",
   "sourceType": "notebook"
  },
  "kernelspec": {
   "display_name": "Python 3",
   "language": "python",
   "name": "python3"
  },
  "language_info": {
   "codemirror_mode": {
    "name": "ipython",
    "version": 3
   },
   "file_extension": ".py",
   "mimetype": "text/x-python",
   "name": "python",
   "nbconvert_exporter": "python",
   "pygments_lexer": "ipython3",
   "version": "3.10.12"
  },
  "papermill": {
   "default_parameters": {},
   "duration": 38.972372,
   "end_time": "2023-11-23T21:02:56.169830",
   "environment_variables": {},
   "exception": null,
   "input_path": "__notebook__.ipynb",
   "output_path": "__notebook__.ipynb",
   "parameters": {},
   "start_time": "2023-11-23T21:02:17.197458",
   "version": "2.4.0"
  }
 },
 "nbformat": 4,
 "nbformat_minor": 5
}
