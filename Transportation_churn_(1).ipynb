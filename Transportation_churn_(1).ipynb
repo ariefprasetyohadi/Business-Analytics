{
  "cells": [
    {
      "cell_type": "markdown",
      "metadata": {
        "id": "view-in-github",
        "colab_type": "text"
      },
      "source": [
        "<a href=\"https://colab.research.google.com/github/ariefprasetyohadi/Business-Analytics/blob/main/Transportation_churn_(1).ipynb\" target=\"_parent\"><img src=\"https://colab.research.google.com/assets/colab-badge.svg\" alt=\"Open In Colab\"/></a>"
      ]
    },
    {
      "cell_type": "code",
      "execution_count": 177,
      "metadata": {
        "id": "sofBJz4SB9yN"
      },
      "outputs": [],
      "source": [
        "# common\n",
        "import os\n",
        "import pandas as pd\n",
        "import numpy as np\n",
        "\n",
        "# data visualization\n",
        "import matplotlib.pyplot as plt\n",
        "import seaborn as sns\n",
        "from sklearn.metrics import confusion_matrix\n",
        "\n",
        "# splitting the data\n",
        "from sklearn.metrics import accuracy_score, log_loss\n",
        "from sklearn.neighbors import KNeighborsClassifier\n",
        "from sklearn.svm import SVC, LinearSVC\n",
        "from sklearn.tree import DecisionTreeClassifier\n",
        "from sklearn.ensemble import RandomForestClassifier, AdaBoostClassifier, GradientBoostingClassifier\n",
        "from sklearn.naive_bayes import GaussianNB\n",
        "from sklearn.discriminant_analysis import LinearDiscriminantAnalysis, QuadraticDiscriminantAnalysis\n",
        "from xgboost import XGBClassifier\n",
        "import xgboost\n",
        "import math\n",
        "from sklearn import metrics\n",
        "\n",
        "\n"
      ]
    },
    {
      "cell_type": "markdown",
      "metadata": {
        "id": "w2TSx2X_B9yS"
      },
      "source": [
        "# 1.Importing the data"
      ]
    },
    {
      "cell_type": "code",
      "execution_count": 178,
      "metadata": {
        "id": "v5o4aeTPB9yV"
      },
      "outputs": [],
      "source": [
        "# import data\n",
        "path = 'https://raw.githubusercontent.com/ariefprasetyohadi/Business-Analytics/refs/heads/main/Customertravel.csv'\n",
        "df = pd.read_csv(path)"
      ]
    },
    {
      "cell_type": "code",
      "execution_count": 179,
      "metadata": {
        "colab": {
          "base_uri": "https://localhost:8080/",
          "height": 304
        },
        "id": "C0LnK0m-B9yW",
        "outputId": "7d1c6f37-35c0-4389-9d20-5997ee5cbc1a"
      },
      "outputs": [
        {
          "output_type": "execute_result",
          "data": {
            "text/plain": [
              "Age                           0\n",
              "FrequentFlyer                 0\n",
              "AnnualIncomeClass             0\n",
              "ServicesOpted                 0\n",
              "AccountSyncedToSocialMedia    0\n",
              "BookedHotelOrNot              0\n",
              "Target                        0\n",
              "dtype: int64"
            ],
            "text/html": [
              "<div>\n",
              "<style scoped>\n",
              "    .dataframe tbody tr th:only-of-type {\n",
              "        vertical-align: middle;\n",
              "    }\n",
              "\n",
              "    .dataframe tbody tr th {\n",
              "        vertical-align: top;\n",
              "    }\n",
              "\n",
              "    .dataframe thead th {\n",
              "        text-align: right;\n",
              "    }\n",
              "</style>\n",
              "<table border=\"1\" class=\"dataframe\">\n",
              "  <thead>\n",
              "    <tr style=\"text-align: right;\">\n",
              "      <th></th>\n",
              "      <th>0</th>\n",
              "    </tr>\n",
              "  </thead>\n",
              "  <tbody>\n",
              "    <tr>\n",
              "      <th>Age</th>\n",
              "      <td>0</td>\n",
              "    </tr>\n",
              "    <tr>\n",
              "      <th>FrequentFlyer</th>\n",
              "      <td>0</td>\n",
              "    </tr>\n",
              "    <tr>\n",
              "      <th>AnnualIncomeClass</th>\n",
              "      <td>0</td>\n",
              "    </tr>\n",
              "    <tr>\n",
              "      <th>ServicesOpted</th>\n",
              "      <td>0</td>\n",
              "    </tr>\n",
              "    <tr>\n",
              "      <th>AccountSyncedToSocialMedia</th>\n",
              "      <td>0</td>\n",
              "    </tr>\n",
              "    <tr>\n",
              "      <th>BookedHotelOrNot</th>\n",
              "      <td>0</td>\n",
              "    </tr>\n",
              "    <tr>\n",
              "      <th>Target</th>\n",
              "      <td>0</td>\n",
              "    </tr>\n",
              "  </tbody>\n",
              "</table>\n",
              "</div><br><label><b>dtype:</b> int64</label>"
            ]
          },
          "metadata": {},
          "execution_count": 179
        }
      ],
      "source": [
        "# check for null values\n",
        "df.isna().sum()"
      ]
    },
    {
      "cell_type": "code",
      "execution_count": 180,
      "metadata": {
        "colab": {
          "base_uri": "https://localhost:8080/"
        },
        "id": "QuQrE0ICB9yX",
        "outputId": "586bf8b9-c2d5-4012-ccd0-464b70d40600"
      },
      "outputs": [
        {
          "output_type": "execute_result",
          "data": {
            "text/plain": [
              "(954, 7)"
            ]
          },
          "metadata": {},
          "execution_count": 180
        }
      ],
      "source": [
        "df.shape"
      ]
    },
    {
      "cell_type": "code",
      "execution_count": 181,
      "metadata": {
        "colab": {
          "base_uri": "https://localhost:8080/",
          "height": 206
        },
        "id": "bXgXj2c2B9yY",
        "outputId": "8ecd227a-5b91-4626-8ba6-9b100db05dd7"
      },
      "outputs": [
        {
          "output_type": "execute_result",
          "data": {
            "text/plain": [
              "   Age FrequentFlyer AnnualIncomeClass  ServicesOpted  \\\n",
              "0   34            No     Middle Income              6   \n",
              "1   34           Yes        Low Income              5   \n",
              "2   37            No     Middle Income              3   \n",
              "3   30            No     Middle Income              2   \n",
              "4   30            No        Low Income              1   \n",
              "\n",
              "  AccountSyncedToSocialMedia BookedHotelOrNot  Target  \n",
              "0                         No              Yes       0  \n",
              "1                        Yes               No       1  \n",
              "2                        Yes               No       0  \n",
              "3                         No               No       0  \n",
              "4                         No               No       0  "
            ],
            "text/html": [
              "\n",
              "  <div id=\"df-df88d36c-918f-40c3-94e5-7d30cf00a8e8\" class=\"colab-df-container\">\n",
              "    <div>\n",
              "<style scoped>\n",
              "    .dataframe tbody tr th:only-of-type {\n",
              "        vertical-align: middle;\n",
              "    }\n",
              "\n",
              "    .dataframe tbody tr th {\n",
              "        vertical-align: top;\n",
              "    }\n",
              "\n",
              "    .dataframe thead th {\n",
              "        text-align: right;\n",
              "    }\n",
              "</style>\n",
              "<table border=\"1\" class=\"dataframe\">\n",
              "  <thead>\n",
              "    <tr style=\"text-align: right;\">\n",
              "      <th></th>\n",
              "      <th>Age</th>\n",
              "      <th>FrequentFlyer</th>\n",
              "      <th>AnnualIncomeClass</th>\n",
              "      <th>ServicesOpted</th>\n",
              "      <th>AccountSyncedToSocialMedia</th>\n",
              "      <th>BookedHotelOrNot</th>\n",
              "      <th>Target</th>\n",
              "    </tr>\n",
              "  </thead>\n",
              "  <tbody>\n",
              "    <tr>\n",
              "      <th>0</th>\n",
              "      <td>34</td>\n",
              "      <td>No</td>\n",
              "      <td>Middle Income</td>\n",
              "      <td>6</td>\n",
              "      <td>No</td>\n",
              "      <td>Yes</td>\n",
              "      <td>0</td>\n",
              "    </tr>\n",
              "    <tr>\n",
              "      <th>1</th>\n",
              "      <td>34</td>\n",
              "      <td>Yes</td>\n",
              "      <td>Low Income</td>\n",
              "      <td>5</td>\n",
              "      <td>Yes</td>\n",
              "      <td>No</td>\n",
              "      <td>1</td>\n",
              "    </tr>\n",
              "    <tr>\n",
              "      <th>2</th>\n",
              "      <td>37</td>\n",
              "      <td>No</td>\n",
              "      <td>Middle Income</td>\n",
              "      <td>3</td>\n",
              "      <td>Yes</td>\n",
              "      <td>No</td>\n",
              "      <td>0</td>\n",
              "    </tr>\n",
              "    <tr>\n",
              "      <th>3</th>\n",
              "      <td>30</td>\n",
              "      <td>No</td>\n",
              "      <td>Middle Income</td>\n",
              "      <td>2</td>\n",
              "      <td>No</td>\n",
              "      <td>No</td>\n",
              "      <td>0</td>\n",
              "    </tr>\n",
              "    <tr>\n",
              "      <th>4</th>\n",
              "      <td>30</td>\n",
              "      <td>No</td>\n",
              "      <td>Low Income</td>\n",
              "      <td>1</td>\n",
              "      <td>No</td>\n",
              "      <td>No</td>\n",
              "      <td>0</td>\n",
              "    </tr>\n",
              "  </tbody>\n",
              "</table>\n",
              "</div>\n",
              "    <div class=\"colab-df-buttons\">\n",
              "\n",
              "  <div class=\"colab-df-container\">\n",
              "    <button class=\"colab-df-convert\" onclick=\"convertToInteractive('df-df88d36c-918f-40c3-94e5-7d30cf00a8e8')\"\n",
              "            title=\"Convert this dataframe to an interactive table.\"\n",
              "            style=\"display:none;\">\n",
              "\n",
              "  <svg xmlns=\"http://www.w3.org/2000/svg\" height=\"24px\" viewBox=\"0 -960 960 960\">\n",
              "    <path d=\"M120-120v-720h720v720H120Zm60-500h600v-160H180v160Zm220 220h160v-160H400v160Zm0 220h160v-160H400v160ZM180-400h160v-160H180v160Zm440 0h160v-160H620v160ZM180-180h160v-160H180v160Zm440 0h160v-160H620v160Z\"/>\n",
              "  </svg>\n",
              "    </button>\n",
              "\n",
              "  <style>\n",
              "    .colab-df-container {\n",
              "      display:flex;\n",
              "      gap: 12px;\n",
              "    }\n",
              "\n",
              "    .colab-df-convert {\n",
              "      background-color: #E8F0FE;\n",
              "      border: none;\n",
              "      border-radius: 50%;\n",
              "      cursor: pointer;\n",
              "      display: none;\n",
              "      fill: #1967D2;\n",
              "      height: 32px;\n",
              "      padding: 0 0 0 0;\n",
              "      width: 32px;\n",
              "    }\n",
              "\n",
              "    .colab-df-convert:hover {\n",
              "      background-color: #E2EBFA;\n",
              "      box-shadow: 0px 1px 2px rgba(60, 64, 67, 0.3), 0px 1px 3px 1px rgba(60, 64, 67, 0.15);\n",
              "      fill: #174EA6;\n",
              "    }\n",
              "\n",
              "    .colab-df-buttons div {\n",
              "      margin-bottom: 4px;\n",
              "    }\n",
              "\n",
              "    [theme=dark] .colab-df-convert {\n",
              "      background-color: #3B4455;\n",
              "      fill: #D2E3FC;\n",
              "    }\n",
              "\n",
              "    [theme=dark] .colab-df-convert:hover {\n",
              "      background-color: #434B5C;\n",
              "      box-shadow: 0px 1px 3px 1px rgba(0, 0, 0, 0.15);\n",
              "      filter: drop-shadow(0px 1px 2px rgba(0, 0, 0, 0.3));\n",
              "      fill: #FFFFFF;\n",
              "    }\n",
              "  </style>\n",
              "\n",
              "    <script>\n",
              "      const buttonEl =\n",
              "        document.querySelector('#df-df88d36c-918f-40c3-94e5-7d30cf00a8e8 button.colab-df-convert');\n",
              "      buttonEl.style.display =\n",
              "        google.colab.kernel.accessAllowed ? 'block' : 'none';\n",
              "\n",
              "      async function convertToInteractive(key) {\n",
              "        const element = document.querySelector('#df-df88d36c-918f-40c3-94e5-7d30cf00a8e8');\n",
              "        const dataTable =\n",
              "          await google.colab.kernel.invokeFunction('convertToInteractive',\n",
              "                                                    [key], {});\n",
              "        if (!dataTable) return;\n",
              "\n",
              "        const docLinkHtml = 'Like what you see? Visit the ' +\n",
              "          '<a target=\"_blank\" href=https://colab.research.google.com/notebooks/data_table.ipynb>data table notebook</a>'\n",
              "          + ' to learn more about interactive tables.';\n",
              "        element.innerHTML = '';\n",
              "        dataTable['output_type'] = 'display_data';\n",
              "        await google.colab.output.renderOutput(dataTable, element);\n",
              "        const docLink = document.createElement('div');\n",
              "        docLink.innerHTML = docLinkHtml;\n",
              "        element.appendChild(docLink);\n",
              "      }\n",
              "    </script>\n",
              "  </div>\n",
              "\n",
              "\n",
              "<div id=\"df-2c6699cb-b645-4b21-83d4-6537ca1dd19f\">\n",
              "  <button class=\"colab-df-quickchart\" onclick=\"quickchart('df-2c6699cb-b645-4b21-83d4-6537ca1dd19f')\"\n",
              "            title=\"Suggest charts\"\n",
              "            style=\"display:none;\">\n",
              "\n",
              "<svg xmlns=\"http://www.w3.org/2000/svg\" height=\"24px\"viewBox=\"0 0 24 24\"\n",
              "     width=\"24px\">\n",
              "    <g>\n",
              "        <path d=\"M19 3H5c-1.1 0-2 .9-2 2v14c0 1.1.9 2 2 2h14c1.1 0 2-.9 2-2V5c0-1.1-.9-2-2-2zM9 17H7v-7h2v7zm4 0h-2V7h2v10zm4 0h-2v-4h2v4z\"/>\n",
              "    </g>\n",
              "</svg>\n",
              "  </button>\n",
              "\n",
              "<style>\n",
              "  .colab-df-quickchart {\n",
              "      --bg-color: #E8F0FE;\n",
              "      --fill-color: #1967D2;\n",
              "      --hover-bg-color: #E2EBFA;\n",
              "      --hover-fill-color: #174EA6;\n",
              "      --disabled-fill-color: #AAA;\n",
              "      --disabled-bg-color: #DDD;\n",
              "  }\n",
              "\n",
              "  [theme=dark] .colab-df-quickchart {\n",
              "      --bg-color: #3B4455;\n",
              "      --fill-color: #D2E3FC;\n",
              "      --hover-bg-color: #434B5C;\n",
              "      --hover-fill-color: #FFFFFF;\n",
              "      --disabled-bg-color: #3B4455;\n",
              "      --disabled-fill-color: #666;\n",
              "  }\n",
              "\n",
              "  .colab-df-quickchart {\n",
              "    background-color: var(--bg-color);\n",
              "    border: none;\n",
              "    border-radius: 50%;\n",
              "    cursor: pointer;\n",
              "    display: none;\n",
              "    fill: var(--fill-color);\n",
              "    height: 32px;\n",
              "    padding: 0;\n",
              "    width: 32px;\n",
              "  }\n",
              "\n",
              "  .colab-df-quickchart:hover {\n",
              "    background-color: var(--hover-bg-color);\n",
              "    box-shadow: 0 1px 2px rgba(60, 64, 67, 0.3), 0 1px 3px 1px rgba(60, 64, 67, 0.15);\n",
              "    fill: var(--button-hover-fill-color);\n",
              "  }\n",
              "\n",
              "  .colab-df-quickchart-complete:disabled,\n",
              "  .colab-df-quickchart-complete:disabled:hover {\n",
              "    background-color: var(--disabled-bg-color);\n",
              "    fill: var(--disabled-fill-color);\n",
              "    box-shadow: none;\n",
              "  }\n",
              "\n",
              "  .colab-df-spinner {\n",
              "    border: 2px solid var(--fill-color);\n",
              "    border-color: transparent;\n",
              "    border-bottom-color: var(--fill-color);\n",
              "    animation:\n",
              "      spin 1s steps(1) infinite;\n",
              "  }\n",
              "\n",
              "  @keyframes spin {\n",
              "    0% {\n",
              "      border-color: transparent;\n",
              "      border-bottom-color: var(--fill-color);\n",
              "      border-left-color: var(--fill-color);\n",
              "    }\n",
              "    20% {\n",
              "      border-color: transparent;\n",
              "      border-left-color: var(--fill-color);\n",
              "      border-top-color: var(--fill-color);\n",
              "    }\n",
              "    30% {\n",
              "      border-color: transparent;\n",
              "      border-left-color: var(--fill-color);\n",
              "      border-top-color: var(--fill-color);\n",
              "      border-right-color: var(--fill-color);\n",
              "    }\n",
              "    40% {\n",
              "      border-color: transparent;\n",
              "      border-right-color: var(--fill-color);\n",
              "      border-top-color: var(--fill-color);\n",
              "    }\n",
              "    60% {\n",
              "      border-color: transparent;\n",
              "      border-right-color: var(--fill-color);\n",
              "    }\n",
              "    80% {\n",
              "      border-color: transparent;\n",
              "      border-right-color: var(--fill-color);\n",
              "      border-bottom-color: var(--fill-color);\n",
              "    }\n",
              "    90% {\n",
              "      border-color: transparent;\n",
              "      border-bottom-color: var(--fill-color);\n",
              "    }\n",
              "  }\n",
              "</style>\n",
              "\n",
              "  <script>\n",
              "    async function quickchart(key) {\n",
              "      const quickchartButtonEl =\n",
              "        document.querySelector('#' + key + ' button');\n",
              "      quickchartButtonEl.disabled = true;  // To prevent multiple clicks.\n",
              "      quickchartButtonEl.classList.add('colab-df-spinner');\n",
              "      try {\n",
              "        const charts = await google.colab.kernel.invokeFunction(\n",
              "            'suggestCharts', [key], {});\n",
              "      } catch (error) {\n",
              "        console.error('Error during call to suggestCharts:', error);\n",
              "      }\n",
              "      quickchartButtonEl.classList.remove('colab-df-spinner');\n",
              "      quickchartButtonEl.classList.add('colab-df-quickchart-complete');\n",
              "    }\n",
              "    (() => {\n",
              "      let quickchartButtonEl =\n",
              "        document.querySelector('#df-2c6699cb-b645-4b21-83d4-6537ca1dd19f button');\n",
              "      quickchartButtonEl.style.display =\n",
              "        google.colab.kernel.accessAllowed ? 'block' : 'none';\n",
              "    })();\n",
              "  </script>\n",
              "</div>\n",
              "\n",
              "    </div>\n",
              "  </div>\n"
            ],
            "application/vnd.google.colaboratory.intrinsic+json": {
              "type": "dataframe",
              "variable_name": "df",
              "summary": "{\n  \"name\": \"df\",\n  \"rows\": 954,\n  \"fields\": [\n    {\n      \"column\": \"Age\",\n      \"properties\": {\n        \"dtype\": \"number\",\n        \"std\": 3,\n        \"min\": 27,\n        \"max\": 38,\n        \"num_unique_values\": 11,\n        \"samples\": [\n          28,\n          34,\n          33\n        ],\n        \"semantic_type\": \"\",\n        \"description\": \"\"\n      }\n    },\n    {\n      \"column\": \"FrequentFlyer\",\n      \"properties\": {\n        \"dtype\": \"category\",\n        \"num_unique_values\": 3,\n        \"samples\": [\n          \"No\",\n          \"Yes\",\n          \"No Record\"\n        ],\n        \"semantic_type\": \"\",\n        \"description\": \"\"\n      }\n    },\n    {\n      \"column\": \"AnnualIncomeClass\",\n      \"properties\": {\n        \"dtype\": \"category\",\n        \"num_unique_values\": 3,\n        \"samples\": [\n          \"Middle Income\",\n          \"Low Income\",\n          \"High Income\"\n        ],\n        \"semantic_type\": \"\",\n        \"description\": \"\"\n      }\n    },\n    {\n      \"column\": \"ServicesOpted\",\n      \"properties\": {\n        \"dtype\": \"number\",\n        \"std\": 1,\n        \"min\": 1,\n        \"max\": 6,\n        \"num_unique_values\": 6,\n        \"samples\": [\n          6,\n          5,\n          4\n        ],\n        \"semantic_type\": \"\",\n        \"description\": \"\"\n      }\n    },\n    {\n      \"column\": \"AccountSyncedToSocialMedia\",\n      \"properties\": {\n        \"dtype\": \"category\",\n        \"num_unique_values\": 2,\n        \"samples\": [\n          \"Yes\",\n          \"No\"\n        ],\n        \"semantic_type\": \"\",\n        \"description\": \"\"\n      }\n    },\n    {\n      \"column\": \"BookedHotelOrNot\",\n      \"properties\": {\n        \"dtype\": \"category\",\n        \"num_unique_values\": 2,\n        \"samples\": [\n          \"No\",\n          \"Yes\"\n        ],\n        \"semantic_type\": \"\",\n        \"description\": \"\"\n      }\n    },\n    {\n      \"column\": \"Target\",\n      \"properties\": {\n        \"dtype\": \"number\",\n        \"std\": 0,\n        \"min\": 0,\n        \"max\": 1,\n        \"num_unique_values\": 2,\n        \"samples\": [\n          1,\n          0\n        ],\n        \"semantic_type\": \"\",\n        \"description\": \"\"\n      }\n    }\n  ]\n}"
            }
          },
          "metadata": {},
          "execution_count": 181
        }
      ],
      "source": [
        "# view the imported dataframe\n",
        "df.head()"
      ]
    },
    {
      "cell_type": "code",
      "execution_count": 182,
      "metadata": {
        "colab": {
          "base_uri": "https://localhost:8080/",
          "height": 175
        },
        "id": "embVjFUUB9yZ",
        "outputId": "092dd969-76a2-4499-d10b-dcaea04a6e56"
      },
      "outputs": [
        {
          "output_type": "execute_result",
          "data": {
            "text/plain": [
              "          Age                                                     \\\n",
              "        count       mean       std   min   25%   50%   75%   max   \n",
              "Target                                                             \n",
              "0       730.0  32.352055  3.209323  27.0  30.0  31.0  35.0  38.0   \n",
              "1       224.0  31.316964  3.620133  27.0  28.0  30.0  35.0  38.0   \n",
              "\n",
              "       ServicesOpted                                               \n",
              "               count      mean       std  min  25%  50%  75%  max  \n",
              "Target                                                             \n",
              "0              730.0  2.402740  1.554495  1.0  1.0  2.0  3.0  6.0  \n",
              "1              224.0  2.549107  1.763430  1.0  1.0  2.0  4.0  6.0  "
            ],
            "text/html": [
              "\n",
              "  <div id=\"df-448fa328-39e1-4e11-9c53-a3396818b845\" class=\"colab-df-container\">\n",
              "    <div>\n",
              "<style scoped>\n",
              "    .dataframe tbody tr th:only-of-type {\n",
              "        vertical-align: middle;\n",
              "    }\n",
              "\n",
              "    .dataframe tbody tr th {\n",
              "        vertical-align: top;\n",
              "    }\n",
              "\n",
              "    .dataframe thead tr th {\n",
              "        text-align: left;\n",
              "    }\n",
              "\n",
              "    .dataframe thead tr:last-of-type th {\n",
              "        text-align: right;\n",
              "    }\n",
              "</style>\n",
              "<table border=\"1\" class=\"dataframe\">\n",
              "  <thead>\n",
              "    <tr>\n",
              "      <th></th>\n",
              "      <th colspan=\"8\" halign=\"left\">Age</th>\n",
              "      <th colspan=\"8\" halign=\"left\">ServicesOpted</th>\n",
              "    </tr>\n",
              "    <tr>\n",
              "      <th></th>\n",
              "      <th>count</th>\n",
              "      <th>mean</th>\n",
              "      <th>std</th>\n",
              "      <th>min</th>\n",
              "      <th>25%</th>\n",
              "      <th>50%</th>\n",
              "      <th>75%</th>\n",
              "      <th>max</th>\n",
              "      <th>count</th>\n",
              "      <th>mean</th>\n",
              "      <th>std</th>\n",
              "      <th>min</th>\n",
              "      <th>25%</th>\n",
              "      <th>50%</th>\n",
              "      <th>75%</th>\n",
              "      <th>max</th>\n",
              "    </tr>\n",
              "    <tr>\n",
              "      <th>Target</th>\n",
              "      <th></th>\n",
              "      <th></th>\n",
              "      <th></th>\n",
              "      <th></th>\n",
              "      <th></th>\n",
              "      <th></th>\n",
              "      <th></th>\n",
              "      <th></th>\n",
              "      <th></th>\n",
              "      <th></th>\n",
              "      <th></th>\n",
              "      <th></th>\n",
              "      <th></th>\n",
              "      <th></th>\n",
              "      <th></th>\n",
              "      <th></th>\n",
              "    </tr>\n",
              "  </thead>\n",
              "  <tbody>\n",
              "    <tr>\n",
              "      <th>0</th>\n",
              "      <td>730.0</td>\n",
              "      <td>32.352055</td>\n",
              "      <td>3.209323</td>\n",
              "      <td>27.0</td>\n",
              "      <td>30.0</td>\n",
              "      <td>31.0</td>\n",
              "      <td>35.0</td>\n",
              "      <td>38.0</td>\n",
              "      <td>730.0</td>\n",
              "      <td>2.402740</td>\n",
              "      <td>1.554495</td>\n",
              "      <td>1.0</td>\n",
              "      <td>1.0</td>\n",
              "      <td>2.0</td>\n",
              "      <td>3.0</td>\n",
              "      <td>6.0</td>\n",
              "    </tr>\n",
              "    <tr>\n",
              "      <th>1</th>\n",
              "      <td>224.0</td>\n",
              "      <td>31.316964</td>\n",
              "      <td>3.620133</td>\n",
              "      <td>27.0</td>\n",
              "      <td>28.0</td>\n",
              "      <td>30.0</td>\n",
              "      <td>35.0</td>\n",
              "      <td>38.0</td>\n",
              "      <td>224.0</td>\n",
              "      <td>2.549107</td>\n",
              "      <td>1.763430</td>\n",
              "      <td>1.0</td>\n",
              "      <td>1.0</td>\n",
              "      <td>2.0</td>\n",
              "      <td>4.0</td>\n",
              "      <td>6.0</td>\n",
              "    </tr>\n",
              "  </tbody>\n",
              "</table>\n",
              "</div>\n",
              "    <div class=\"colab-df-buttons\">\n",
              "\n",
              "  <div class=\"colab-df-container\">\n",
              "    <button class=\"colab-df-convert\" onclick=\"convertToInteractive('df-448fa328-39e1-4e11-9c53-a3396818b845')\"\n",
              "            title=\"Convert this dataframe to an interactive table.\"\n",
              "            style=\"display:none;\">\n",
              "\n",
              "  <svg xmlns=\"http://www.w3.org/2000/svg\" height=\"24px\" viewBox=\"0 -960 960 960\">\n",
              "    <path d=\"M120-120v-720h720v720H120Zm60-500h600v-160H180v160Zm220 220h160v-160H400v160Zm0 220h160v-160H400v160ZM180-400h160v-160H180v160Zm440 0h160v-160H620v160ZM180-180h160v-160H180v160Zm440 0h160v-160H620v160Z\"/>\n",
              "  </svg>\n",
              "    </button>\n",
              "\n",
              "  <style>\n",
              "    .colab-df-container {\n",
              "      display:flex;\n",
              "      gap: 12px;\n",
              "    }\n",
              "\n",
              "    .colab-df-convert {\n",
              "      background-color: #E8F0FE;\n",
              "      border: none;\n",
              "      border-radius: 50%;\n",
              "      cursor: pointer;\n",
              "      display: none;\n",
              "      fill: #1967D2;\n",
              "      height: 32px;\n",
              "      padding: 0 0 0 0;\n",
              "      width: 32px;\n",
              "    }\n",
              "\n",
              "    .colab-df-convert:hover {\n",
              "      background-color: #E2EBFA;\n",
              "      box-shadow: 0px 1px 2px rgba(60, 64, 67, 0.3), 0px 1px 3px 1px rgba(60, 64, 67, 0.15);\n",
              "      fill: #174EA6;\n",
              "    }\n",
              "\n",
              "    .colab-df-buttons div {\n",
              "      margin-bottom: 4px;\n",
              "    }\n",
              "\n",
              "    [theme=dark] .colab-df-convert {\n",
              "      background-color: #3B4455;\n",
              "      fill: #D2E3FC;\n",
              "    }\n",
              "\n",
              "    [theme=dark] .colab-df-convert:hover {\n",
              "      background-color: #434B5C;\n",
              "      box-shadow: 0px 1px 3px 1px rgba(0, 0, 0, 0.15);\n",
              "      filter: drop-shadow(0px 1px 2px rgba(0, 0, 0, 0.3));\n",
              "      fill: #FFFFFF;\n",
              "    }\n",
              "  </style>\n",
              "\n",
              "    <script>\n",
              "      const buttonEl =\n",
              "        document.querySelector('#df-448fa328-39e1-4e11-9c53-a3396818b845 button.colab-df-convert');\n",
              "      buttonEl.style.display =\n",
              "        google.colab.kernel.accessAllowed ? 'block' : 'none';\n",
              "\n",
              "      async function convertToInteractive(key) {\n",
              "        const element = document.querySelector('#df-448fa328-39e1-4e11-9c53-a3396818b845');\n",
              "        const dataTable =\n",
              "          await google.colab.kernel.invokeFunction('convertToInteractive',\n",
              "                                                    [key], {});\n",
              "        if (!dataTable) return;\n",
              "\n",
              "        const docLinkHtml = 'Like what you see? Visit the ' +\n",
              "          '<a target=\"_blank\" href=https://colab.research.google.com/notebooks/data_table.ipynb>data table notebook</a>'\n",
              "          + ' to learn more about interactive tables.';\n",
              "        element.innerHTML = '';\n",
              "        dataTable['output_type'] = 'display_data';\n",
              "        await google.colab.output.renderOutput(dataTable, element);\n",
              "        const docLink = document.createElement('div');\n",
              "        docLink.innerHTML = docLinkHtml;\n",
              "        element.appendChild(docLink);\n",
              "      }\n",
              "    </script>\n",
              "  </div>\n",
              "\n",
              "\n",
              "<div id=\"df-1644715d-7219-4b55-b725-d8d9ba605586\">\n",
              "  <button class=\"colab-df-quickchart\" onclick=\"quickchart('df-1644715d-7219-4b55-b725-d8d9ba605586')\"\n",
              "            title=\"Suggest charts\"\n",
              "            style=\"display:none;\">\n",
              "\n",
              "<svg xmlns=\"http://www.w3.org/2000/svg\" height=\"24px\"viewBox=\"0 0 24 24\"\n",
              "     width=\"24px\">\n",
              "    <g>\n",
              "        <path d=\"M19 3H5c-1.1 0-2 .9-2 2v14c0 1.1.9 2 2 2h14c1.1 0 2-.9 2-2V5c0-1.1-.9-2-2-2zM9 17H7v-7h2v7zm4 0h-2V7h2v10zm4 0h-2v-4h2v4z\"/>\n",
              "    </g>\n",
              "</svg>\n",
              "  </button>\n",
              "\n",
              "<style>\n",
              "  .colab-df-quickchart {\n",
              "      --bg-color: #E8F0FE;\n",
              "      --fill-color: #1967D2;\n",
              "      --hover-bg-color: #E2EBFA;\n",
              "      --hover-fill-color: #174EA6;\n",
              "      --disabled-fill-color: #AAA;\n",
              "      --disabled-bg-color: #DDD;\n",
              "  }\n",
              "\n",
              "  [theme=dark] .colab-df-quickchart {\n",
              "      --bg-color: #3B4455;\n",
              "      --fill-color: #D2E3FC;\n",
              "      --hover-bg-color: #434B5C;\n",
              "      --hover-fill-color: #FFFFFF;\n",
              "      --disabled-bg-color: #3B4455;\n",
              "      --disabled-fill-color: #666;\n",
              "  }\n",
              "\n",
              "  .colab-df-quickchart {\n",
              "    background-color: var(--bg-color);\n",
              "    border: none;\n",
              "    border-radius: 50%;\n",
              "    cursor: pointer;\n",
              "    display: none;\n",
              "    fill: var(--fill-color);\n",
              "    height: 32px;\n",
              "    padding: 0;\n",
              "    width: 32px;\n",
              "  }\n",
              "\n",
              "  .colab-df-quickchart:hover {\n",
              "    background-color: var(--hover-bg-color);\n",
              "    box-shadow: 0 1px 2px rgba(60, 64, 67, 0.3), 0 1px 3px 1px rgba(60, 64, 67, 0.15);\n",
              "    fill: var(--button-hover-fill-color);\n",
              "  }\n",
              "\n",
              "  .colab-df-quickchart-complete:disabled,\n",
              "  .colab-df-quickchart-complete:disabled:hover {\n",
              "    background-color: var(--disabled-bg-color);\n",
              "    fill: var(--disabled-fill-color);\n",
              "    box-shadow: none;\n",
              "  }\n",
              "\n",
              "  .colab-df-spinner {\n",
              "    border: 2px solid var(--fill-color);\n",
              "    border-color: transparent;\n",
              "    border-bottom-color: var(--fill-color);\n",
              "    animation:\n",
              "      spin 1s steps(1) infinite;\n",
              "  }\n",
              "\n",
              "  @keyframes spin {\n",
              "    0% {\n",
              "      border-color: transparent;\n",
              "      border-bottom-color: var(--fill-color);\n",
              "      border-left-color: var(--fill-color);\n",
              "    }\n",
              "    20% {\n",
              "      border-color: transparent;\n",
              "      border-left-color: var(--fill-color);\n",
              "      border-top-color: var(--fill-color);\n",
              "    }\n",
              "    30% {\n",
              "      border-color: transparent;\n",
              "      border-left-color: var(--fill-color);\n",
              "      border-top-color: var(--fill-color);\n",
              "      border-right-color: var(--fill-color);\n",
              "    }\n",
              "    40% {\n",
              "      border-color: transparent;\n",
              "      border-right-color: var(--fill-color);\n",
              "      border-top-color: var(--fill-color);\n",
              "    }\n",
              "    60% {\n",
              "      border-color: transparent;\n",
              "      border-right-color: var(--fill-color);\n",
              "    }\n",
              "    80% {\n",
              "      border-color: transparent;\n",
              "      border-right-color: var(--fill-color);\n",
              "      border-bottom-color: var(--fill-color);\n",
              "    }\n",
              "    90% {\n",
              "      border-color: transparent;\n",
              "      border-bottom-color: var(--fill-color);\n",
              "    }\n",
              "  }\n",
              "</style>\n",
              "\n",
              "  <script>\n",
              "    async function quickchart(key) {\n",
              "      const quickchartButtonEl =\n",
              "        document.querySelector('#' + key + ' button');\n",
              "      quickchartButtonEl.disabled = true;  // To prevent multiple clicks.\n",
              "      quickchartButtonEl.classList.add('colab-df-spinner');\n",
              "      try {\n",
              "        const charts = await google.colab.kernel.invokeFunction(\n",
              "            'suggestCharts', [key], {});\n",
              "      } catch (error) {\n",
              "        console.error('Error during call to suggestCharts:', error);\n",
              "      }\n",
              "      quickchartButtonEl.classList.remove('colab-df-spinner');\n",
              "      quickchartButtonEl.classList.add('colab-df-quickchart-complete');\n",
              "    }\n",
              "    (() => {\n",
              "      let quickchartButtonEl =\n",
              "        document.querySelector('#df-1644715d-7219-4b55-b725-d8d9ba605586 button');\n",
              "      quickchartButtonEl.style.display =\n",
              "        google.colab.kernel.accessAllowed ? 'block' : 'none';\n",
              "    })();\n",
              "  </script>\n",
              "</div>\n",
              "\n",
              "    </div>\n",
              "  </div>\n"
            ],
            "application/vnd.google.colaboratory.intrinsic+json": {
              "type": "dataframe",
              "summary": "{\n  \"name\": \"df\",\n  \"rows\": 2,\n  \"fields\": [\n    {\n      \"column\": [\n        \"Target\",\n        \"\"\n      ],\n      \"properties\": {\n        \"dtype\": \"number\",\n        \"std\": 0,\n        \"min\": 0,\n        \"max\": 1,\n        \"num_unique_values\": 2,\n        \"samples\": [\n          1,\n          0\n        ],\n        \"semantic_type\": \"\",\n        \"description\": \"\"\n      }\n    },\n    {\n      \"column\": [\n        \"Age\",\n        \"count\"\n      ],\n      \"properties\": {\n        \"dtype\": \"number\",\n        \"std\": 357.79603128039304,\n        \"min\": 224.0,\n        \"max\": 730.0,\n        \"num_unique_values\": 2,\n        \"samples\": [\n          224.0,\n          730.0\n        ],\n        \"semantic_type\": \"\",\n        \"description\": \"\"\n      }\n    },\n    {\n      \"column\": [\n        \"Age\",\n        \"mean\"\n      ],\n      \"properties\": {\n        \"dtype\": \"number\",\n        \"std\": 0.7319195179187425,\n        \"min\": 31.316964285714285,\n        \"max\": 32.35205479452055,\n        \"num_unique_values\": 2,\n        \"samples\": [\n          31.316964285714285,\n          32.35205479452055\n        ],\n        \"semantic_type\": \"\",\n        \"description\": \"\"\n      }\n    },\n    {\n      \"column\": [\n        \"Age\",\n        \"std\"\n      ],\n      \"properties\": {\n        \"dtype\": \"number\",\n        \"std\": 0.29048618573163687,\n        \"min\": 3.209323249091311,\n        \"max\": 3.6201327526350218,\n        \"num_unique_values\": 2,\n        \"samples\": [\n          3.6201327526350218,\n          3.209323249091311\n        ],\n        \"semantic_type\": \"\",\n        \"description\": \"\"\n      }\n    },\n    {\n      \"column\": [\n        \"Age\",\n        \"min\"\n      ],\n      \"properties\": {\n        \"dtype\": \"number\",\n        \"std\": 0.0,\n        \"min\": 27.0,\n        \"max\": 27.0,\n        \"num_unique_values\": 1,\n        \"samples\": [\n          27.0\n        ],\n        \"semantic_type\": \"\",\n        \"description\": \"\"\n      }\n    },\n    {\n      \"column\": [\n        \"Age\",\n        \"25%\"\n      ],\n      \"properties\": {\n        \"dtype\": \"number\",\n        \"std\": 1.4142135623730951,\n        \"min\": 28.0,\n        \"max\": 30.0,\n        \"num_unique_values\": 2,\n        \"samples\": [\n          28.0\n        ],\n        \"semantic_type\": \"\",\n        \"description\": \"\"\n      }\n    },\n    {\n      \"column\": [\n        \"Age\",\n        \"50%\"\n      ],\n      \"properties\": {\n        \"dtype\": \"number\",\n        \"std\": 0.7071067811865476,\n        \"min\": 30.0,\n        \"max\": 31.0,\n        \"num_unique_values\": 2,\n        \"samples\": [\n          30.0\n        ],\n        \"semantic_type\": \"\",\n        \"description\": \"\"\n      }\n    },\n    {\n      \"column\": [\n        \"Age\",\n        \"75%\"\n      ],\n      \"properties\": {\n        \"dtype\": \"number\",\n        \"std\": 0.0,\n        \"min\": 35.0,\n        \"max\": 35.0,\n        \"num_unique_values\": 1,\n        \"samples\": [\n          35.0\n        ],\n        \"semantic_type\": \"\",\n        \"description\": \"\"\n      }\n    },\n    {\n      \"column\": [\n        \"Age\",\n        \"max\"\n      ],\n      \"properties\": {\n        \"dtype\": \"number\",\n        \"std\": 0.0,\n        \"min\": 38.0,\n        \"max\": 38.0,\n        \"num_unique_values\": 1,\n        \"samples\": [\n          38.0\n        ],\n        \"semantic_type\": \"\",\n        \"description\": \"\"\n      }\n    },\n    {\n      \"column\": [\n        \"ServicesOpted\",\n        \"count\"\n      ],\n      \"properties\": {\n        \"dtype\": \"number\",\n        \"std\": 357.79603128039304,\n        \"min\": 224.0,\n        \"max\": 730.0,\n        \"num_unique_values\": 2,\n        \"samples\": [\n          224.0\n        ],\n        \"semantic_type\": \"\",\n        \"description\": \"\"\n      }\n    },\n    {\n      \"column\": [\n        \"ServicesOpted\",\n        \"mean\"\n      ],\n      \"properties\": {\n        \"dtype\": \"number\",\n        \"std\": 0.10349739298507106,\n        \"min\": 2.4027397260273973,\n        \"max\": 2.549107142857143,\n        \"num_unique_values\": 2,\n        \"samples\": [\n          2.549107142857143\n        ],\n        \"semantic_type\": \"\",\n        \"description\": \"\"\n      }\n    },\n    {\n      \"column\": [\n        \"ServicesOpted\",\n        \"std\"\n      ],\n      \"properties\": {\n        \"dtype\": \"number\",\n        \"std\": 0.14773964121771668,\n        \"min\": 1.554494576688723,\n        \"max\": 1.763429980998953,\n        \"num_unique_values\": 2,\n        \"samples\": [\n          1.763429980998953\n        ],\n        \"semantic_type\": \"\",\n        \"description\": \"\"\n      }\n    },\n    {\n      \"column\": [\n        \"ServicesOpted\",\n        \"min\"\n      ],\n      \"properties\": {\n        \"dtype\": \"number\",\n        \"std\": 0.0,\n        \"min\": 1.0,\n        \"max\": 1.0,\n        \"num_unique_values\": 1,\n        \"samples\": [\n          1.0\n        ],\n        \"semantic_type\": \"\",\n        \"description\": \"\"\n      }\n    },\n    {\n      \"column\": [\n        \"ServicesOpted\",\n        \"25%\"\n      ],\n      \"properties\": {\n        \"dtype\": \"number\",\n        \"std\": 0.0,\n        \"min\": 1.0,\n        \"max\": 1.0,\n        \"num_unique_values\": 1,\n        \"samples\": [\n          1.0\n        ],\n        \"semantic_type\": \"\",\n        \"description\": \"\"\n      }\n    },\n    {\n      \"column\": [\n        \"ServicesOpted\",\n        \"50%\"\n      ],\n      \"properties\": {\n        \"dtype\": \"number\",\n        \"std\": 0.0,\n        \"min\": 2.0,\n        \"max\": 2.0,\n        \"num_unique_values\": 1,\n        \"samples\": [\n          2.0\n        ],\n        \"semantic_type\": \"\",\n        \"description\": \"\"\n      }\n    },\n    {\n      \"column\": [\n        \"ServicesOpted\",\n        \"75%\"\n      ],\n      \"properties\": {\n        \"dtype\": \"number\",\n        \"std\": 0.7071067811865476,\n        \"min\": 3.0,\n        \"max\": 4.0,\n        \"num_unique_values\": 2,\n        \"samples\": [\n          4.0\n        ],\n        \"semantic_type\": \"\",\n        \"description\": \"\"\n      }\n    },\n    {\n      \"column\": [\n        \"ServicesOpted\",\n        \"max\"\n      ],\n      \"properties\": {\n        \"dtype\": \"number\",\n        \"std\": 0.0,\n        \"min\": 6.0,\n        \"max\": 6.0,\n        \"num_unique_values\": 1,\n        \"samples\": [\n          6.0\n        ],\n        \"semantic_type\": \"\",\n        \"description\": \"\"\n      }\n    }\n  ]\n}"
            }
          },
          "metadata": {},
          "execution_count": 182
        }
      ],
      "source": [
        "df.groupby('Target').describe()"
      ]
    },
    {
      "cell_type": "code",
      "execution_count": 183,
      "metadata": {
        "colab": {
          "base_uri": "https://localhost:8080/"
        },
        "id": "6U0GJkmzB9yZ",
        "outputId": "87b6c8f9-7e2b-44a0-d53a-7fbba4a489d1"
      },
      "outputs": [
        {
          "output_type": "stream",
          "name": "stdout",
          "text": [
            "<class 'pandas.core.frame.DataFrame'>\n",
            "RangeIndex: 954 entries, 0 to 953\n",
            "Data columns (total 7 columns):\n",
            " #   Column                      Non-Null Count  Dtype \n",
            "---  ------                      --------------  ----- \n",
            " 0   Age                         954 non-null    int64 \n",
            " 1   FrequentFlyer               954 non-null    object\n",
            " 2   AnnualIncomeClass           954 non-null    object\n",
            " 3   ServicesOpted               954 non-null    int64 \n",
            " 4   AccountSyncedToSocialMedia  954 non-null    object\n",
            " 5   BookedHotelOrNot            954 non-null    object\n",
            " 6   Target                      954 non-null    int64 \n",
            "dtypes: int64(3), object(4)\n",
            "memory usage: 52.3+ KB\n"
          ]
        }
      ],
      "source": [
        "df.info()"
      ]
    },
    {
      "cell_type": "code",
      "execution_count": 184,
      "metadata": {
        "id": "baaQQB35B9ya"
      },
      "outputs": [],
      "source": [
        "# replace replace <Men's aparel> with <Men's Apparel>\n",
        "\n",
        "df['FrequentFlyer'] = df['FrequentFlyer'].replace(\"No Record\", \"No\")"
      ]
    },
    {
      "cell_type": "code",
      "execution_count": 185,
      "metadata": {
        "colab": {
          "base_uri": "https://localhost:8080/"
        },
        "id": "_ShMF_j-B9yb",
        "outputId": "f59ab90b-1e5b-4616-d21c-9033cc8b1006"
      },
      "outputs": [
        {
          "output_type": "stream",
          "name": "stdout",
          "text": [
            "<class 'pandas.core.frame.DataFrame'>\n",
            "RangeIndex: 954 entries, 0 to 953\n",
            "Data columns (total 7 columns):\n",
            " #   Column                      Non-Null Count  Dtype \n",
            "---  ------                      --------------  ----- \n",
            " 0   Age                         954 non-null    int64 \n",
            " 1   FrequentFlyer               954 non-null    object\n",
            " 2   AnnualIncomeClass           954 non-null    object\n",
            " 3   ServicesOpted               954 non-null    int64 \n",
            " 4   AccountSyncedToSocialMedia  954 non-null    object\n",
            " 5   BookedHotelOrNot            954 non-null    object\n",
            " 6   Target                      954 non-null    int64 \n",
            "dtypes: int64(3), object(4)\n",
            "memory usage: 52.3+ KB\n"
          ]
        }
      ],
      "source": [
        "df.info()"
      ]
    },
    {
      "cell_type": "markdown",
      "metadata": {
        "id": "yoiTbi5HB9yc"
      },
      "source": [
        "# 2. Correlation\n",
        "\n"
      ]
    },
    {
      "cell_type": "code",
      "source": [
        "df0 = df[['Age', 'ServicesOpted', 'Target']]"
      ],
      "metadata": {
        "id": "78Kx8M3MQXbT"
      },
      "execution_count": 186,
      "outputs": []
    },
    {
      "cell_type": "code",
      "execution_count": 187,
      "metadata": {
        "colab": {
          "base_uri": "https://localhost:8080/",
          "height": 545
        },
        "id": "BOMnh80HB9yc",
        "outputId": "f56da4ec-3400-437d-875a-e79b761859a4"
      },
      "outputs": [
        {
          "output_type": "display_data",
          "data": {
            "text/plain": [
              "<Figure size 800x600 with 2 Axes>"
            ],
            "image/png": "[encoded data removed]"
          },
          "metadata": {}
        }
      ],
      "source": [
        "#heatmap correlation\n",
        "plt.figure(figsize = (8,6))\n",
        "sns.heatmap(df0.corr(), annot = True, cmap = 'YlOrRd')\n",
        "plt.title(\"Pearson Correlation\")\n",
        "plt.show()"
      ]
    },
    {
      "cell_type": "code",
      "execution_count": 188,
      "metadata": {
        "id": "CciteBNeB9yc"
      },
      "outputs": [],
      "source": [
        "df_to_plot = df.select_dtypes(include=['float','int'])\n",
        "df_to_plot.drop(columns=[ 'Target' ],\n",
        "               inplace=True)"
      ]
    },
    {
      "cell_type": "code",
      "execution_count": 189,
      "metadata": {
        "colab": {
          "base_uri": "https://localhost:8080/",
          "height": 295
        },
        "id": "thz5OfPfB9yd",
        "outputId": "97c87f3b-dbe4-45e1-bf49-3b69c26a6b30"
      },
      "outputs": [
        {
          "output_type": "display_data",
          "data": {
            "text/plain": [
              "<Figure size 1200x1400 with 16 Axes>"
            ],
            "image/png": "[encoded data removed]"
          },
          "metadata": {}
        }
      ],
      "source": [
        "df_to_plot.plot(subplots=True, layout=(4,4), kind='box', figsize=(12,14))\n",
        "plt.subplots_adjust(wspace=0.5);"
      ]
    },
    {
      "cell_type": "code",
      "execution_count": 190,
      "metadata": {
        "colab": {
          "base_uri": "https://localhost:8080/"
        },
        "id": "_uLhrhEmB9yd",
        "outputId": "7f1eebd6-982e-4387-9a14-673cc0818a50"
      },
      "outputs": [
        {
          "output_type": "execute_result",
          "data": {
            "text/plain": [
              "Index(['Age', 'ServicesOpted'], dtype='object')"
            ]
          },
          "metadata": {},
          "execution_count": 190
        }
      ],
      "source": [
        "numeric = df_to_plot.columns\n",
        "numeric"
      ]
    },
    {
      "cell_type": "code",
      "execution_count": 191,
      "metadata": {
        "colab": {
          "base_uri": "https://localhost:8080/",
          "height": 365
        },
        "id": "A5GVYe0JB9yd",
        "outputId": "31e16b16-72a7-4a63-c43c-b5cb55132f47"
      },
      "outputs": [
        {
          "output_type": "stream",
          "name": "stderr",
          "text": [
            "<ipython-input-191-64a3166fce8c>:4: UserWarning:\n",
            "\n",
            "To output multiple subplots, the figure containing the passed axes is being cleared.\n",
            "\n"
          ]
        },
        {
          "output_type": "display_data",
          "data": {
            "text/plain": [
              "<Figure size 1500x1000 with 16 Axes>"
            ],
            "image/png": "[encoded data removed]"
          },
          "metadata": {}
        }
      ],
      "source": [
        "fig = plt.figure(figsize=(15,10))\n",
        "ax = plt.gca()\n",
        "\n",
        "df0.hist(bins=50, ax=ax, layout=(4,4), column=numeric)\n",
        "plt.tight_layout()\n",
        "plt.show()"
      ]
    },
    {
      "cell_type": "markdown",
      "metadata": {
        "id": "E_cBNbeHB9ye"
      },
      "source": [
        "# 2.Data Visualization"
      ]
    },
    {
      "cell_type": "markdown",
      "metadata": {
        "id": "yomffJDqB9ye"
      },
      "source": [
        "##  AGE"
      ]
    },
    {
      "cell_type": "code",
      "execution_count": 192,
      "metadata": {
        "colab": {
          "base_uri": "https://localhost:8080/",
          "height": 468
        },
        "id": "UQBzB2vBB9ye",
        "outputId": "ff73134d-a3aa-4aef-9023-6f10dc07e5b5"
      },
      "outputs": [
        {
          "output_type": "execute_result",
          "data": {
            "text/plain": [
              "<Axes: xlabel='Age', ylabel='count'>"
            ]
          },
          "metadata": {},
          "execution_count": 192
        },
        {
          "output_type": "display_data",
          "data": {
            "text/plain": [
              "<Figure size 640x480 with 1 Axes>"
            ],
            "image/png": "[encoded data removed]"
          },
          "metadata": {}
        }
      ],
      "source": [
        "sns.countplot(data=df, x='Age', hue='Target')"
      ]
    },
    {
      "cell_type": "code",
      "execution_count": 193,
      "metadata": {
        "id": "O5GbsC21B9ye"
      },
      "outputs": [],
      "source": [
        "def barPerc(df,xVar,ax):\n",
        "    '''\n",
        "    barPerc(): Add percentage for hues to bar plots\n",
        "    args:\n",
        "        df: pandas dataframe\n",
        "        xVar: (string) X variable\n",
        "        ax: Axes object (for Seaborn Countplot/Bar plot or\n",
        "                         pandas bar plot)\n",
        "    '''\n",
        "    # 1. how many X categories\n",
        "    ##   check for NaN and remove\n",
        "    numX=len([x for x in df[xVar].unique() if x==x])\n",
        "\n",
        "    # 2. The bars are created in hue order, organize them\n",
        "    bars = ax.patches\n",
        "    ## 2a. For each X variable\n",
        "    for ind in range(numX):\n",
        "        ## 2b. Get every hue bar\n",
        "        ##     ex. 8 X categories, 4 hues =>\n",
        "        ##    [0, 8, 16, 24] are hue bars for 1st X category\n",
        "        hueBars=bars[ind:][::numX]\n",
        "        ## 2c. Get the total height (for percentages)\n",
        "        total = sum([x.get_height() for x in hueBars])\n",
        "\n",
        "        # 3. Print the percentage on the bars\n",
        "        for bar in hueBars:\n",
        "            ax.text(bar.get_x() + bar.get_width()/2.,\n",
        "                    bar.get_height(),\n",
        "                    f'{bar.get_height()/total:.0%}',\n",
        "                    ha=\"center\",va=\"bottom\")"
      ]
    },
    {
      "cell_type": "code",
      "execution_count": 194,
      "metadata": {
        "colab": {
          "base_uri": "https://localhost:8080/",
          "height": 449
        },
        "id": "cy6R94alB9ye",
        "outputId": "fcbda472-34fa-4d39-ccbe-c4c05c4fb2d7"
      },
      "outputs": [
        {
          "output_type": "display_data",
          "data": {
            "text/plain": [
              "<Figure size 640x480 with 1 Axes>"
            ],
            "image/png": "[encoded data removed]"
          },
          "metadata": {}
        }
      ],
      "source": [
        "ax = sns.countplot(x='Age', hue='Target', data=df)\n",
        "barPerc(df, 'Age', ax)"
      ]
    },
    {
      "cell_type": "code",
      "execution_count": 195,
      "metadata": {
        "colab": {
          "base_uri": "https://localhost:8080/",
          "height": 175
        },
        "id": "qf2RDoARB9yf",
        "outputId": "5888eb3d-43b0-4f96-a0b2-094e363362c3"
      },
      "outputs": [
        {
          "output_type": "execute_result",
          "data": {
            "text/plain": [
              "          Age                                                     \\\n",
              "        count       mean       std   min   25%   50%   75%   max   \n",
              "Target                                                             \n",
              "0       730.0  32.352055  3.209323  27.0  30.0  31.0  35.0  38.0   \n",
              "1       224.0  31.316964  3.620133  27.0  28.0  30.0  35.0  38.0   \n",
              "\n",
              "       ServicesOpted                                               \n",
              "               count      mean       std  min  25%  50%  75%  max  \n",
              "Target                                                             \n",
              "0              730.0  2.402740  1.554495  1.0  1.0  2.0  3.0  6.0  \n",
              "1              224.0  2.549107  1.763430  1.0  1.0  2.0  4.0  6.0  "
            ],
            "text/html": [
              "\n",
              "  <div id=\"df-01c7906c-a9b1-48af-b86a-eec01f58bd7a\" class=\"colab-df-container\">\n",
              "    <div>\n",
              "<style scoped>\n",
              "    .dataframe tbody tr th:only-of-type {\n",
              "        vertical-align: middle;\n",
              "    }\n",
              "\n",
              "    .dataframe tbody tr th {\n",
              "        vertical-align: top;\n",
              "    }\n",
              "\n",
              "    .dataframe thead tr th {\n",
              "        text-align: left;\n",
              "    }\n",
              "\n",
              "    .dataframe thead tr:last-of-type th {\n",
              "        text-align: right;\n",
              "    }\n",
              "</style>\n",
              "<table border=\"1\" class=\"dataframe\">\n",
              "  <thead>\n",
              "    <tr>\n",
              "      <th></th>\n",
              "      <th colspan=\"8\" halign=\"left\">Age</th>\n",
              "      <th colspan=\"8\" halign=\"left\">ServicesOpted</th>\n",
              "    </tr>\n",
              "    <tr>\n",
              "      <th></th>\n",
              "      <th>count</th>\n",
              "      <th>mean</th>\n",
              "      <th>std</th>\n",
              "      <th>min</th>\n",
              "      <th>25%</th>\n",
              "      <th>50%</th>\n",
              "      <th>75%</th>\n",
              "      <th>max</th>\n",
              "      <th>count</th>\n",
              "      <th>mean</th>\n",
              "      <th>std</th>\n",
              "      <th>min</th>\n",
              "      <th>25%</th>\n",
              "      <th>50%</th>\n",
              "      <th>75%</th>\n",
              "      <th>max</th>\n",
              "    </tr>\n",
              "    <tr>\n",
              "      <th>Target</th>\n",
              "      <th></th>\n",
              "      <th></th>\n",
              "      <th></th>\n",
              "      <th></th>\n",
              "      <th></th>\n",
              "      <th></th>\n",
              "      <th></th>\n",
              "      <th></th>\n",
              "      <th></th>\n",
              "      <th></th>\n",
              "      <th></th>\n",
              "      <th></th>\n",
              "      <th></th>\n",
              "      <th></th>\n",
              "      <th></th>\n",
              "      <th></th>\n",
              "    </tr>\n",
              "  </thead>\n",
              "  <tbody>\n",
              "    <tr>\n",
              "      <th>0</th>\n",
              "      <td>730.0</td>\n",
              "      <td>32.352055</td>\n",
              "      <td>3.209323</td>\n",
              "      <td>27.0</td>\n",
              "      <td>30.0</td>\n",
              "      <td>31.0</td>\n",
              "      <td>35.0</td>\n",
              "      <td>38.0</td>\n",
              "      <td>730.0</td>\n",
              "      <td>2.402740</td>\n",
              "      <td>1.554495</td>\n",
              "      <td>1.0</td>\n",
              "      <td>1.0</td>\n",
              "      <td>2.0</td>\n",
              "      <td>3.0</td>\n",
              "      <td>6.0</td>\n",
              "    </tr>\n",
              "    <tr>\n",
              "      <th>1</th>\n",
              "      <td>224.0</td>\n",
              "      <td>31.316964</td>\n",
              "      <td>3.620133</td>\n",
              "      <td>27.0</td>\n",
              "      <td>28.0</td>\n",
              "      <td>30.0</td>\n",
              "      <td>35.0</td>\n",
              "      <td>38.0</td>\n",
              "      <td>224.0</td>\n",
              "      <td>2.549107</td>\n",
              "      <td>1.763430</td>\n",
              "      <td>1.0</td>\n",
              "      <td>1.0</td>\n",
              "      <td>2.0</td>\n",
              "      <td>4.0</td>\n",
              "      <td>6.0</td>\n",
              "    </tr>\n",
              "  </tbody>\n",
              "</table>\n",
              "</div>\n",
              "    <div class=\"colab-df-buttons\">\n",
              "\n",
              "  <div class=\"colab-df-container\">\n",
              "    <button class=\"colab-df-convert\" onclick=\"convertToInteractive('df-01c7906c-a9b1-48af-b86a-eec01f58bd7a')\"\n",
              "            title=\"Convert this dataframe to an interactive table.\"\n",
              "            style=\"display:none;\">\n",
              "\n",
              "  <svg xmlns=\"http://www.w3.org/2000/svg\" height=\"24px\" viewBox=\"0 -960 960 960\">\n",
              "    <path d=\"M120-120v-720h720v720H120Zm60-500h600v-160H180v160Zm220 220h160v-160H400v160Zm0 220h160v-160H400v160ZM180-400h160v-160H180v160Zm440 0h160v-160H620v160ZM180-180h160v-160H180v160Zm440 0h160v-160H620v160Z\"/>\n",
              "  </svg>\n",
              "    </button>\n",
              "\n",
              "  <style>\n",
              "    .colab-df-container {\n",
              "      display:flex;\n",
              "      gap: 12px;\n",
              "    }\n",
              "\n",
              "    .colab-df-convert {\n",
              "      background-color: #E8F0FE;\n",
              "      border: none;\n",
              "      border-radius: 50%;\n",
              "      cursor: pointer;\n",
              "      display: none;\n",
              "      fill: #1967D2;\n",
              "      height: 32px;\n",
              "      padding: 0 0 0 0;\n",
              "      width: 32px;\n",
              "    }\n",
              "\n",
              "    .colab-df-convert:hover {\n",
              "      background-color: #E2EBFA;\n",
              "      box-shadow: 0px 1px 2px rgba(60, 64, 67, 0.3), 0px 1px 3px 1px rgba(60, 64, 67, 0.15);\n",
              "      fill: #174EA6;\n",
              "    }\n",
              "\n",
              "    .colab-df-buttons div {\n",
              "      margin-bottom: 4px;\n",
              "    }\n",
              "\n",
              "    [theme=dark] .colab-df-convert {\n",
              "      background-color: #3B4455;\n",
              "      fill: #D2E3FC;\n",
              "    }\n",
              "\n",
              "    [theme=dark] .colab-df-convert:hover {\n",
              "      background-color: #434B5C;\n",
              "      box-shadow: 0px 1px 3px 1px rgba(0, 0, 0, 0.15);\n",
              "      filter: drop-shadow(0px 1px 2px rgba(0, 0, 0, 0.3));\n",
              "      fill: #FFFFFF;\n",
              "    }\n",
              "  </style>\n",
              "\n",
              "    <script>\n",
              "      const buttonEl =\n",
              "        document.querySelector('#df-01c7906c-a9b1-48af-b86a-eec01f58bd7a button.colab-df-convert');\n",
              "      buttonEl.style.display =\n",
              "        google.colab.kernel.accessAllowed ? 'block' : 'none';\n",
              "\n",
              "      async function convertToInteractive(key) {\n",
              "        const element = document.querySelector('#df-01c7906c-a9b1-48af-b86a-eec01f58bd7a');\n",
              "        const dataTable =\n",
              "          await google.colab.kernel.invokeFunction('convertToInteractive',\n",
              "                                                    [key], {});\n",
              "        if (!dataTable) return;\n",
              "\n",
              "        const docLinkHtml = 'Like what you see? Visit the ' +\n",
              "          '<a target=\"_blank\" href=https://colab.research.google.com/notebooks/data_table.ipynb>data table notebook</a>'\n",
              "          + ' to learn more about interactive tables.';\n",
              "        element.innerHTML = '';\n",
              "        dataTable['output_type'] = 'display_data';\n",
              "        await google.colab.output.renderOutput(dataTable, element);\n",
              "        const docLink = document.createElement('div');\n",
              "        docLink.innerHTML = docLinkHtml;\n",
              "        element.appendChild(docLink);\n",
              "      }\n",
              "    </script>\n",
              "  </div>\n",
              "\n",
              "\n",
              "<div id=\"df-5f51e0f3-d673-4f48-8d87-4408a73cd5c4\">\n",
              "  <button class=\"colab-df-quickchart\" onclick=\"quickchart('df-5f51e0f3-d673-4f48-8d87-4408a73cd5c4')\"\n",
              "            title=\"Suggest charts\"\n",
              "            style=\"display:none;\">\n",
              "\n",
              "<svg xmlns=\"http://www.w3.org/2000/svg\" height=\"24px\"viewBox=\"0 0 24 24\"\n",
              "     width=\"24px\">\n",
              "    <g>\n",
              "        <path d=\"M19 3H5c-1.1 0-2 .9-2 2v14c0 1.1.9 2 2 2h14c1.1 0 2-.9 2-2V5c0-1.1-.9-2-2-2zM9 17H7v-7h2v7zm4 0h-2V7h2v10zm4 0h-2v-4h2v4z\"/>\n",
              "    </g>\n",
              "</svg>\n",
              "  </button>\n",
              "\n",
              "<style>\n",
              "  .colab-df-quickchart {\n",
              "      --bg-color: #E8F0FE;\n",
              "      --fill-color: #1967D2;\n",
              "      --hover-bg-color: #E2EBFA;\n",
              "      --hover-fill-color: #174EA6;\n",
              "      --disabled-fill-color: #AAA;\n",
              "      --disabled-bg-color: #DDD;\n",
              "  }\n",
              "\n",
              "  [theme=dark] .colab-df-quickchart {\n",
              "      --bg-color: #3B4455;\n",
              "      --fill-color: #D2E3FC;\n",
              "      --hover-bg-color: #434B5C;\n",
              "      --hover-fill-color: #FFFFFF;\n",
              "      --disabled-bg-color: #3B4455;\n",
              "      --disabled-fill-color: #666;\n",
              "  }\n",
              "\n",
              "  .colab-df-quickchart {\n",
              "    background-color: var(--bg-color);\n",
              "    border: none;\n",
              "    border-radius: 50%;\n",
              "    cursor: pointer;\n",
              "    display: none;\n",
              "    fill: var(--fill-color);\n",
              "    height: 32px;\n",
              "    padding: 0;\n",
              "    width: 32px;\n",
              "  }\n",
              "\n",
              "  .colab-df-quickchart:hover {\n",
              "    background-color: var(--hover-bg-color);\n",
              "    box-shadow: 0 1px 2px rgba(60, 64, 67, 0.3), 0 1px 3px 1px rgba(60, 64, 67, 0.15);\n",
              "    fill: var(--button-hover-fill-color);\n",
              "  }\n",
              "\n",
              "  .colab-df-quickchart-complete:disabled,\n",
              "  .colab-df-quickchart-complete:disabled:hover {\n",
              "    background-color: var(--disabled-bg-color);\n",
              "    fill: var(--disabled-fill-color);\n",
              "    box-shadow: none;\n",
              "  }\n",
              "\n",
              "  .colab-df-spinner {\n",
              "    border: 2px solid var(--fill-color);\n",
              "    border-color: transparent;\n",
              "    border-bottom-color: var(--fill-color);\n",
              "    animation:\n",
              "      spin 1s steps(1) infinite;\n",
              "  }\n",
              "\n",
              "  @keyframes spin {\n",
              "    0% {\n",
              "      border-color: transparent;\n",
              "      border-bottom-color: var(--fill-color);\n",
              "      border-left-color: var(--fill-color);\n",
              "    }\n",
              "    20% {\n",
              "      border-color: transparent;\n",
              "      border-left-color: var(--fill-color);\n",
              "      border-top-color: var(--fill-color);\n",
              "    }\n",
              "    30% {\n",
              "      border-color: transparent;\n",
              "      border-left-color: var(--fill-color);\n",
              "      border-top-color: var(--fill-color);\n",
              "      border-right-color: var(--fill-color);\n",
              "    }\n",
              "    40% {\n",
              "      border-color: transparent;\n",
              "      border-right-color: var(--fill-color);\n",
              "      border-top-color: var(--fill-color);\n",
              "    }\n",
              "    60% {\n",
              "      border-color: transparent;\n",
              "      border-right-color: var(--fill-color);\n",
              "    }\n",
              "    80% {\n",
              "      border-color: transparent;\n",
              "      border-right-color: var(--fill-color);\n",
              "      border-bottom-color: var(--fill-color);\n",
              "    }\n",
              "    90% {\n",
              "      border-color: transparent;\n",
              "      border-bottom-color: var(--fill-color);\n",
              "    }\n",
              "  }\n",
              "</style>\n",
              "\n",
              "  <script>\n",
              "    async function quickchart(key) {\n",
              "      const quickchartButtonEl =\n",
              "        document.querySelector('#' + key + ' button');\n",
              "      quickchartButtonEl.disabled = true;  // To prevent multiple clicks.\n",
              "      quickchartButtonEl.classList.add('colab-df-spinner');\n",
              "      try {\n",
              "        const charts = await google.colab.kernel.invokeFunction(\n",
              "            'suggestCharts', [key], {});\n",
              "      } catch (error) {\n",
              "        console.error('Error during call to suggestCharts:', error);\n",
              "      }\n",
              "      quickchartButtonEl.classList.remove('colab-df-spinner');\n",
              "      quickchartButtonEl.classList.add('colab-df-quickchart-complete');\n",
              "    }\n",
              "    (() => {\n",
              "      let quickchartButtonEl =\n",
              "        document.querySelector('#df-5f51e0f3-d673-4f48-8d87-4408a73cd5c4 button');\n",
              "      quickchartButtonEl.style.display =\n",
              "        google.colab.kernel.accessAllowed ? 'block' : 'none';\n",
              "    })();\n",
              "  </script>\n",
              "</div>\n",
              "\n",
              "    </div>\n",
              "  </div>\n"
            ],
            "application/vnd.google.colaboratory.intrinsic+json": {
              "type": "dataframe",
              "summary": "{\n  \"name\": \"df\",\n  \"rows\": 2,\n  \"fields\": [\n    {\n      \"column\": [\n        \"Target\",\n        \"\"\n      ],\n      \"properties\": {\n        \"dtype\": \"number\",\n        \"std\": 0,\n        \"min\": 0,\n        \"max\": 1,\n        \"num_unique_values\": 2,\n        \"samples\": [\n          1,\n          0\n        ],\n        \"semantic_type\": \"\",\n        \"description\": \"\"\n      }\n    },\n    {\n      \"column\": [\n        \"Age\",\n        \"count\"\n      ],\n      \"properties\": {\n        \"dtype\": \"number\",\n        \"std\": 357.79603128039304,\n        \"min\": 224.0,\n        \"max\": 730.0,\n        \"num_unique_values\": 2,\n        \"samples\": [\n          224.0,\n          730.0\n        ],\n        \"semantic_type\": \"\",\n        \"description\": \"\"\n      }\n    },\n    {\n      \"column\": [\n        \"Age\",\n        \"mean\"\n      ],\n      \"properties\": {\n        \"dtype\": \"number\",\n        \"std\": 0.7319195179187425,\n        \"min\": 31.316964285714285,\n        \"max\": 32.35205479452055,\n        \"num_unique_values\": 2,\n        \"samples\": [\n          31.316964285714285,\n          32.35205479452055\n        ],\n        \"semantic_type\": \"\",\n        \"description\": \"\"\n      }\n    },\n    {\n      \"column\": [\n        \"Age\",\n        \"std\"\n      ],\n      \"properties\": {\n        \"dtype\": \"number\",\n        \"std\": 0.29048618573163687,\n        \"min\": 3.209323249091311,\n        \"max\": 3.6201327526350218,\n        \"num_unique_values\": 2,\n        \"samples\": [\n          3.6201327526350218,\n          3.209323249091311\n        ],\n        \"semantic_type\": \"\",\n        \"description\": \"\"\n      }\n    },\n    {\n      \"column\": [\n        \"Age\",\n        \"min\"\n      ],\n      \"properties\": {\n        \"dtype\": \"number\",\n        \"std\": 0.0,\n        \"min\": 27.0,\n        \"max\": 27.0,\n        \"num_unique_values\": 1,\n        \"samples\": [\n          27.0\n        ],\n        \"semantic_type\": \"\",\n        \"description\": \"\"\n      }\n    },\n    {\n      \"column\": [\n        \"Age\",\n        \"25%\"\n      ],\n      \"properties\": {\n        \"dtype\": \"number\",\n        \"std\": 1.4142135623730951,\n        \"min\": 28.0,\n        \"max\": 30.0,\n        \"num_unique_values\": 2,\n        \"samples\": [\n          28.0\n        ],\n        \"semantic_type\": \"\",\n        \"description\": \"\"\n      }\n    },\n    {\n      \"column\": [\n        \"Age\",\n        \"50%\"\n      ],\n      \"properties\": {\n        \"dtype\": \"number\",\n        \"std\": 0.7071067811865476,\n        \"min\": 30.0,\n        \"max\": 31.0,\n        \"num_unique_values\": 2,\n        \"samples\": [\n          30.0\n        ],\n        \"semantic_type\": \"\",\n        \"description\": \"\"\n      }\n    },\n    {\n      \"column\": [\n        \"Age\",\n        \"75%\"\n      ],\n      \"properties\": {\n        \"dtype\": \"number\",\n        \"std\": 0.0,\n        \"min\": 35.0,\n        \"max\": 35.0,\n        \"num_unique_values\": 1,\n        \"samples\": [\n          35.0\n        ],\n        \"semantic_type\": \"\",\n        \"description\": \"\"\n      }\n    },\n    {\n      \"column\": [\n        \"Age\",\n        \"max\"\n      ],\n      \"properties\": {\n        \"dtype\": \"number\",\n        \"std\": 0.0,\n        \"min\": 38.0,\n        \"max\": 38.0,\n        \"num_unique_values\": 1,\n        \"samples\": [\n          38.0\n        ],\n        \"semantic_type\": \"\",\n        \"description\": \"\"\n      }\n    },\n    {\n      \"column\": [\n        \"ServicesOpted\",\n        \"count\"\n      ],\n      \"properties\": {\n        \"dtype\": \"number\",\n        \"std\": 357.79603128039304,\n        \"min\": 224.0,\n        \"max\": 730.0,\n        \"num_unique_values\": 2,\n        \"samples\": [\n          224.0\n        ],\n        \"semantic_type\": \"\",\n        \"description\": \"\"\n      }\n    },\n    {\n      \"column\": [\n        \"ServicesOpted\",\n        \"mean\"\n      ],\n      \"properties\": {\n        \"dtype\": \"number\",\n        \"std\": 0.10349739298507106,\n        \"min\": 2.4027397260273973,\n        \"max\": 2.549107142857143,\n        \"num_unique_values\": 2,\n        \"samples\": [\n          2.549107142857143\n        ],\n        \"semantic_type\": \"\",\n        \"description\": \"\"\n      }\n    },\n    {\n      \"column\": [\n        \"ServicesOpted\",\n        \"std\"\n      ],\n      \"properties\": {\n        \"dtype\": \"number\",\n        \"std\": 0.14773964121771668,\n        \"min\": 1.554494576688723,\n        \"max\": 1.763429980998953,\n        \"num_unique_values\": 2,\n        \"samples\": [\n          1.763429980998953\n        ],\n        \"semantic_type\": \"\",\n        \"description\": \"\"\n      }\n    },\n    {\n      \"column\": [\n        \"ServicesOpted\",\n        \"min\"\n      ],\n      \"properties\": {\n        \"dtype\": \"number\",\n        \"std\": 0.0,\n        \"min\": 1.0,\n        \"max\": 1.0,\n        \"num_unique_values\": 1,\n        \"samples\": [\n          1.0\n        ],\n        \"semantic_type\": \"\",\n        \"description\": \"\"\n      }\n    },\n    {\n      \"column\": [\n        \"ServicesOpted\",\n        \"25%\"\n      ],\n      \"properties\": {\n        \"dtype\": \"number\",\n        \"std\": 0.0,\n        \"min\": 1.0,\n        \"max\": 1.0,\n        \"num_unique_values\": 1,\n        \"samples\": [\n          1.0\n        ],\n        \"semantic_type\": \"\",\n        \"description\": \"\"\n      }\n    },\n    {\n      \"column\": [\n        \"ServicesOpted\",\n        \"50%\"\n      ],\n      \"properties\": {\n        \"dtype\": \"number\",\n        \"std\": 0.0,\n        \"min\": 2.0,\n        \"max\": 2.0,\n        \"num_unique_values\": 1,\n        \"samples\": [\n          2.0\n        ],\n        \"semantic_type\": \"\",\n        \"description\": \"\"\n      }\n    },\n    {\n      \"column\": [\n        \"ServicesOpted\",\n        \"75%\"\n      ],\n      \"properties\": {\n        \"dtype\": \"number\",\n        \"std\": 0.7071067811865476,\n        \"min\": 3.0,\n        \"max\": 4.0,\n        \"num_unique_values\": 2,\n        \"samples\": [\n          4.0\n        ],\n        \"semantic_type\": \"\",\n        \"description\": \"\"\n      }\n    },\n    {\n      \"column\": [\n        \"ServicesOpted\",\n        \"max\"\n      ],\n      \"properties\": {\n        \"dtype\": \"number\",\n        \"std\": 0.0,\n        \"min\": 6.0,\n        \"max\": 6.0,\n        \"num_unique_values\": 1,\n        \"samples\": [\n          6.0\n        ],\n        \"semantic_type\": \"\",\n        \"description\": \"\"\n      }\n    }\n  ]\n}"
            }
          },
          "metadata": {},
          "execution_count": 195
        }
      ],
      "source": [
        "df.groupby('Target').describe()"
      ]
    },
    {
      "cell_type": "code",
      "execution_count": 196,
      "metadata": {
        "colab": {
          "base_uri": "https://localhost:8080/"
        },
        "id": "cx2wawPZB9yf",
        "outputId": "7eb90fa3-b9af-43ce-e24c-570099a17d11"
      },
      "outputs": [
        {
          "output_type": "execute_result",
          "data": {
            "text/plain": [
              "array(['Middle Income', 'Low Income', 'High Income'], dtype=object)"
            ]
          },
          "metadata": {},
          "execution_count": 196
        }
      ],
      "source": [
        "df['AnnualIncomeClass'].unique()"
      ]
    },
    {
      "cell_type": "code",
      "execution_count": 197,
      "metadata": {
        "colab": {
          "base_uri": "https://localhost:8080/",
          "height": 455
        },
        "id": "qbmaj1WUB9yf",
        "outputId": "e874a125-2ea3-42be-a7a4-af4a7fd97441"
      },
      "outputs": [
        {
          "output_type": "display_data",
          "data": {
            "text/plain": [
              "<Figure size 640x480 with 1 Axes>"
            ],
            "image/png": "[encoded data removed]"
          },
          "metadata": {}
        }
      ],
      "source": [
        "ax = sns.countplot(x='AnnualIncomeClass', hue='Target', data=df)\n",
        "barPerc(df, 'AnnualIncomeClass', ax)"
      ]
    },
    {
      "cell_type": "markdown",
      "source": [
        "Category : 0 (Low Income), 1 (Middle Income), 2 (High Income)\n",
        "Middle Income people travel more than High Income, there will be may reason behind it like they don't have enough time to travel they are busy in their work to earn more money or anything else also happens"
      ],
      "metadata": {
        "id": "tkC5EI4yHz3w"
      }
    },
    {
      "cell_type": "code",
      "execution_count": 198,
      "metadata": {
        "colab": {
          "base_uri": "https://localhost:8080/",
          "height": 468
        },
        "id": "Q85ncLTLB9yg",
        "outputId": "d16b6d5d-6e07-427a-9de6-12070a724323"
      },
      "outputs": [
        {
          "output_type": "execute_result",
          "data": {
            "text/plain": [
              "<Axes: xlabel='AnnualIncomeClass', ylabel='Age'>"
            ]
          },
          "metadata": {},
          "execution_count": 198
        },
        {
          "output_type": "display_data",
          "data": {
            "text/plain": [
              "<Figure size 640x480 with 1 Axes>"
            ],
            "image/png": "[encoded data removed]"
          },
          "metadata": {}
        }
      ],
      "source": [
        "sns.boxplot(data =df, x='AnnualIncomeClass', y='Age', hue='Target')\n",
        "\n",
        "# Income yang lebih tinggi cenderung menerima/membeli penawaran campaign"
      ]
    },
    {
      "cell_type": "code",
      "execution_count": 199,
      "metadata": {
        "colab": {
          "base_uri": "https://localhost:8080/"
        },
        "id": "d6DYpDpAB9yg",
        "outputId": "785eb340-b3d1-4493-8197-79102272c37a"
      },
      "outputs": [
        {
          "output_type": "execute_result",
          "data": {
            "text/plain": [
              "array(['No', 'Yes'], dtype=object)"
            ]
          },
          "metadata": {},
          "execution_count": 199
        }
      ],
      "source": [
        "df['FrequentFlyer'].unique()"
      ]
    },
    {
      "cell_type": "code",
      "execution_count": 200,
      "metadata": {
        "id": "-_4fcOcPB9yh"
      },
      "outputs": [],
      "source": [
        "import plotly.express as px"
      ]
    },
    {
      "cell_type": "code",
      "execution_count": 201,
      "metadata": {
        "colab": {
          "base_uri": "https://localhost:8080/",
          "height": 542
        },
        "id": "HywlMTuHB9yh",
        "outputId": "32e77a2e-0eff-40e4-b541-524fd870ed62"
      },
      "outputs": [
        {
          "output_type": "display_data",
          "data": {
            "text/html": [
              "<html>\n",
              "<head><meta charset=\"utf-8\" /></head>\n",
              "<body>\n",
              "    <div>            <script src=\"https://cdnjs.cloudflare.com/ajax/libs/mathjax/2.7.5/MathJax.js?config=TeX-AMS-MML_SVG\"></script><script type=\"text/javascript\">if (window.MathJax && window.MathJax.Hub && window.MathJax.Hub.Config) {window.MathJax.Hub.Config({SVG: {font: \"STIX-Web\"}});}</script>                <script type=\"text/javascript\">window.PlotlyConfig = {MathJaxConfig: 'local'};</script>\n",
              "        <script charset=\"utf-8\" src=\"https://cdn.plot.ly/plotly-2.35.2.min.js\"></script>                <div id=\"8f22a765-8b40-4ec9-b6e9-65ac4c6f9932\" class=\"plotly-graph-div\" style=\"height:525px; width:100%;\"></div>            <script type=\"text/javascript\">                                    window.PLOTLYENV=window.PLOTLYENV || {};                                    if (document.getElementById(\"8f22a765-8b40-4ec9-b6e9-65ac4c6f9932\")) {                    Plotly.newPlot(                        \"8f22a765-8b40-4ec9-b6e9-65ac4c6f9932\",                        [{\"alignmentgroup\":\"True\",\"bingroup\":\"x\",\"hovertemplate\":\"FrequentFlyer=No\\u003cbr\\u003eAnnualIncomeClass=%{x}\\u003cbr\\u003ecount=%{y}\\u003cextra\\u003e\\u003c\\u002fextra\\u003e\",\"legendgroup\":\"No\",\"marker\":{\"color\":\"#636efa\",\"pattern\":{\"shape\":\"\"}},\"name\":\"No\",\"offsetgroup\":\"No\",\"orientation\":\"v\",\"showlegend\":true,\"x\":[\"Middle Income\",\"Middle Income\",\"Middle Income\",\"Low Income\",\"Middle Income\",\"Low Income\",\"Low Income\",\"Low Income\",\"Middle Income\",\"Middle Income\",\"Middle Income\",\"Low Income\",\"Middle Income\",\"Low Income\",\"Middle Income\",\"Middle Income\",\"Middle Income\",\"Middle Income\",\"Middle Income\",\"Low Income\",\"Middle Income\",\"Low Income\",\"Middle Income\",\"Low Income\",\"Middle Income\",\"Middle Income\",\"Middle Income\",\"Low Income\",\"Middle Income\",\"Low Income\",\"Middle Income\",\"Low Income\",\"Middle Income\",\"Middle Income\",\"Middle Income\",\"Low Income\",\"Middle Income\",\"Low Income\",\"Middle Income\",\"Low Income\",\"Middle Income\",\"Middle Income\",\"Middle Income\",\"Middle Income\",\"Middle Income\",\"Low Income\",\"Middle Income\",\"Low Income\",\"Low Income\",\"Middle Income\",\"Middle Income\",\"Middle Income\",\"Low Income\",\"Low Income\",\"Middle Income\",\"Low Income\",\"Middle Income\",\"Middle Income\",\"Middle Income\",\"Middle Income\",\"Low Income\",\"Middle Income\",\"Low Income\",\"Low Income\",\"Low Income\",\"Middle Income\",\"Middle Income\",\"Middle Income\",\"Low Income\",\"Low Income\",\"Middle Income\",\"Low Income\",\"Middle Income\",\"Middle Income\",\"Middle Income\",\"Middle Income\",\"Middle Income\",\"Low Income\",\"Middle Income\",\"Low Income\",\"Middle Income\",\"Low Income\",\"Middle Income\",\"Low Income\",\"Middle Income\",\"Middle Income\",\"Low Income\",\"Middle Income\",\"Low Income\",\"Middle Income\",\"Low Income\",\"Middle Income\",\"Middle Income\",\"Low Income\",\"Middle Income\",\"Low Income\",\"Middle Income\",\"Low Income\",\"Middle Income\",\"Low Income\",\"Middle Income\",\"Middle Income\",\"Middle Income\",\"Middle Income\",\"Low Income\",\"Middle Income\",\"Low Income\",\"Middle Income\",\"Low Income\",\"Middle Income\",\"Middle Income\",\"Middle Income\",\"Low Income\",\"Low Income\",\"Middle Income\",\"Low Income\",\"Middle Income\",\"Middle Income\",\"Middle Income\",\"Middle Income\",\"Low Income\",\"Middle Income\",\"Low Income\",\"Low Income\",\"Middle Income\",\"Middle Income\",\"Middle Income\",\"Low Income\",\"Low Income\",\"Middle Income\",\"Low Income\",\"Middle Income\",\"Low Income\",\"Middle Income\",\"Middle Income\",\"Middle Income\",\"Middle Income\",\"Low Income\",\"Middle Income\",\"Low Income\",\"Middle Income\",\"Low Income\",\"Middle Income\",\"Middle Income\",\"Middle Income\",\"Low Income\",\"Middle Income\",\"Low Income\",\"Middle Income\",\"Low Income\",\"Middle Income\",\"Middle Income\",\"Low Income\",\"Middle Income\",\"Low Income\",\"Middle Income\",\"Low Income\",\"Middle Income\",\"Low Income\",\"Middle Income\",\"Middle Income\",\"Middle Income\",\"Middle Income\",\"Low Income\",\"Middle Income\",\"Low Income\",\"Middle Income\",\"Low Income\",\"Low Income\",\"Middle Income\",\"Middle Income\",\"Middle Income\",\"Low Income\",\"Low Income\",\"Middle Income\",\"Low Income\",\"Middle Income\",\"Middle Income\",\"Middle Income\",\"Middle Income\",\"Low Income\",\"Middle Income\",\"Low Income\",\"Low Income\",\"Low Income\",\"Middle Income\",\"Middle Income\",\"Middle Income\",\"Low Income\",\"Middle Income\",\"Low Income\",\"Middle Income\",\"Middle Income\",\"Middle Income\",\"Middle Income\",\"Middle Income\",\"Low Income\",\"Middle Income\",\"Low Income\",\"Middle Income\",\"Low Income\",\"Middle Income\",\"Low Income\",\"Middle Income\",\"Middle Income\",\"Low Income\",\"Middle Income\",\"Low Income\",\"Middle Income\",\"Low Income\",\"Middle Income\",\"Middle Income\",\"Middle Income\",\"Low Income\",\"Middle Income\",\"Low Income\",\"Middle Income\",\"Low Income\",\"Middle Income\",\"Middle Income\",\"Middle Income\",\"Middle Income\",\"Middle Income\",\"Low Income\",\"Middle Income\",\"Low Income\",\"Middle Income\",\"Middle Income\",\"Middle Income\",\"Low Income\",\"Low Income\",\"Middle Income\",\"Low Income\",\"Middle Income\",\"Middle Income\",\"Middle Income\",\"Middle Income\",\"Low Income\",\"Middle Income\",\"Low Income\",\"Low Income\",\"Middle Income\",\"Middle Income\",\"Middle Income\",\"Low Income\",\"Low Income\",\"Middle Income\",\"Low Income\",\"Middle Income\",\"Middle Income\",\"Middle Income\",\"Middle Income\",\"Middle Income\",\"Low Income\",\"Middle Income\",\"Low Income\",\"Middle Income\",\"Low Income\",\"Middle Income\",\"Low Income\",\"Middle Income\",\"Middle Income\",\"Low Income\",\"Middle Income\",\"Low Income\",\"Middle Income\",\"Low Income\",\"Middle Income\",\"Middle Income\",\"Low Income\",\"Middle Income\",\"Low Income\",\"Middle Income\",\"Low Income\",\"Middle Income\",\"Low Income\",\"Middle Income\",\"Middle Income\",\"Middle Income\",\"Middle Income\",\"Low Income\",\"Middle Income\",\"Low Income\",\"Middle Income\",\"Low Income\",\"Low Income\",\"Middle Income\",\"Middle Income\",\"Middle Income\",\"Low Income\",\"Low Income\",\"Middle Income\",\"Low Income\",\"Middle Income\",\"Middle Income\",\"Middle Income\",\"Middle Income\",\"Low Income\",\"Middle Income\",\"Low Income\",\"Low Income\",\"Low Income\",\"Middle Income\",\"Middle Income\",\"Middle Income\",\"Low Income\",\"Middle Income\",\"Low Income\",\"Middle Income\",\"Low Income\",\"Middle Income\",\"Middle Income\",\"Middle Income\",\"Middle Income\",\"Low Income\",\"Middle Income\",\"Low Income\",\"Middle Income\",\"Low Income\",\"Middle Income\",\"Low Income\",\"Middle Income\",\"Middle Income\",\"Low Income\",\"Middle Income\",\"Middle Income\",\"Low Income\",\"Middle Income\",\"Middle Income\",\"Low Income\",\"Middle Income\",\"Low Income\",\"Middle Income\",\"Low Income\",\"Middle Income\",\"Low Income\",\"Middle Income\",\"Middle Income\",\"Middle Income\",\"Middle Income\",\"Middle Income\",\"Low Income\",\"Middle Income\",\"Low Income\",\"Low Income\",\"Middle Income\",\"Middle Income\",\"Middle Income\",\"Low Income\",\"Low Income\",\"Low Income\",\"Middle Income\",\"Low Income\",\"Middle Income\",\"Middle Income\",\"Middle Income\",\"Middle Income\",\"Low Income\",\"Middle Income\",\"Low Income\",\"Low Income\",\"Low Income\",\"Middle Income\",\"Middle Income\",\"Middle Income\",\"Low Income\",\"Low Income\",\"Middle Income\",\"Low Income\",\"Middle Income\",\"Middle Income\",\"Middle Income\",\"Middle Income\",\"Middle Income\",\"Low Income\",\"Middle Income\",\"Low Income\",\"Middle Income\",\"Low Income\",\"Middle Income\",\"Low Income\",\"Middle Income\",\"Middle Income\",\"Low Income\",\"Middle Income\",\"Low Income\",\"Middle Income\",\"Low Income\",\"Middle Income\",\"Middle Income\",\"Middle Income\",\"Low Income\",\"Middle Income\",\"Low Income\",\"Middle Income\",\"Low Income\",\"Middle Income\",\"Middle Income\",\"Middle Income\",\"Middle Income\",\"Middle Income\",\"Low Income\",\"Middle Income\",\"Low Income\",\"Low Income\",\"Middle Income\",\"Middle Income\",\"Middle Income\",\"Low Income\",\"Low Income\",\"Low Income\",\"Middle Income\",\"Low Income\",\"Middle Income\",\"Middle Income\",\"Middle Income\",\"Middle Income\",\"Low Income\",\"Middle Income\",\"Low Income\",\"Low Income\",\"Middle Income\",\"Middle Income\",\"Middle Income\",\"Low Income\",\"Middle Income\",\"Low Income\",\"Middle Income\",\"Middle Income\",\"Middle Income\",\"Middle Income\",\"Middle Income\",\"Low Income\",\"Middle Income\",\"Low Income\",\"Middle Income\",\"Low Income\",\"Middle Income\",\"Middle Income\",\"Middle Income\",\"Low Income\",\"Middle Income\",\"Middle Income\",\"Low Income\",\"Middle Income\",\"Middle Income\",\"Low Income\",\"Middle Income\",\"Low Income\",\"Middle Income\",\"Low Income\",\"Middle Income\",\"Low Income\",\"Middle Income\",\"Middle Income\",\"Middle Income\",\"Middle Income\",\"Middle Income\",\"Low Income\",\"Middle Income\",\"Low Income\",\"Middle Income\",\"Middle Income\",\"Middle Income\",\"Low Income\",\"Low Income\",\"Low Income\",\"Middle Income\",\"Low Income\",\"Middle Income\",\"Middle Income\",\"Middle Income\",\"Middle Income\",\"Low Income\",\"Middle Income\",\"Low Income\",\"Low Income\",\"Low Income\",\"Middle Income\",\"Middle Income\",\"Middle Income\",\"Low Income\",\"Low Income\",\"Middle Income\",\"Low Income\",\"Middle Income\",\"Middle Income\",\"Middle Income\",\"Middle Income\",\"Middle Income\",\"Low Income\",\"Middle Income\",\"Low Income\",\"Middle Income\",\"Low Income\",\"Middle Income\",\"Middle Income\",\"Middle Income\",\"Low Income\",\"Middle Income\",\"Low Income\",\"Middle Income\",\"Low Income\",\"Middle Income\",\"Middle Income\",\"Middle Income\",\"Low Income\",\"Middle Income\",\"Low Income\",\"Middle Income\",\"Low Income\",\"Middle Income\",\"Middle Income\",\"Middle Income\",\"Middle Income\",\"Middle Income\",\"Low Income\",\"Middle Income\",\"Low Income\",\"Low Income\",\"Middle Income\",\"Middle Income\",\"Middle Income\",\"Low Income\",\"Low Income\",\"Middle Income\",\"Low Income\",\"Middle Income\",\"Middle Income\",\"Middle Income\",\"Middle Income\",\"Low Income\",\"Middle Income\",\"Low Income\",\"Low Income\",\"Low Income\",\"Middle Income\",\"Middle Income\",\"Middle Income\",\"Low Income\",\"Low Income\",\"Middle Income\",\"Low Income\",\"Middle Income\",\"Low Income\",\"Middle Income\",\"Middle Income\",\"Middle Income\",\"Middle Income\",\"Low Income\",\"Middle Income\",\"Low Income\",\"Middle Income\",\"Low Income\",\"Middle Income\",\"Low Income\",\"Middle Income\",\"Middle Income\",\"Low Income\",\"Middle Income\",\"Middle Income\",\"Low Income\",\"Middle Income\",\"Middle Income\",\"Middle Income\",\"Low Income\",\"Middle Income\",\"Low Income\",\"Middle Income\",\"Low Income\",\"Middle Income\",\"Middle Income\",\"Middle Income\",\"Middle Income\",\"Low Income\",\"Middle Income\",\"Low Income\",\"Middle Income\",\"Low Income\",\"Middle Income\",\"Middle Income\",\"Middle Income\",\"Low Income\",\"Low Income\",\"Middle Income\",\"Low Income\",\"Middle Income\",\"Middle Income\",\"Middle Income\",\"Middle Income\",\"Low Income\",\"Middle Income\",\"Low Income\",\"Low Income\",\"Middle Income\",\"Middle Income\",\"Middle Income\",\"Low Income\",\"Low Income\",\"Middle Income\",\"Low Income\",\"Middle Income\",\"Low Income\",\"Middle Income\",\"Middle Income\",\"Middle Income\",\"Middle Income\",\"Low Income\",\"Middle Income\",\"Low Income\",\"Middle Income\",\"Low Income\",\"Middle Income\",\"Low Income\",\"Middle Income\",\"Middle Income\",\"Low Income\",\"Middle Income\",\"Low Income\",\"Middle Income\",\"Low Income\",\"Middle Income\",\"Middle Income\",\"Middle Income\",\"Low Income\",\"Middle Income\",\"Low Income\",\"Middle Income\",\"Low Income\",\"Middle Income\",\"Middle Income\",\"Middle Income\",\"Middle Income\",\"Low Income\",\"Middle Income\",\"Low Income\",\"Middle Income\",\"Low Income\",\"Low Income\",\"Middle Income\",\"Middle Income\",\"Middle Income\",\"Low Income\",\"Low Income\",\"Middle Income\",\"Low Income\",\"Middle Income\",\"Middle Income\",\"Middle Income\",\"Middle Income\",\"Low Income\",\"Middle Income\",\"Low Income\",\"Low Income\",\"Low Income\",\"Middle Income\",\"Middle Income\",\"Middle Income\",\"Low Income\",\"Middle Income\",\"Low Income\",\"Middle Income\",\"Low Income\",\"Middle Income\",\"Middle Income\",\"Middle Income\",\"Middle Income\",\"Low Income\"],\"xaxis\":\"x\",\"yaxis\":\"y\",\"type\":\"histogram\"},{\"alignmentgroup\":\"True\",\"bingroup\":\"x\",\"hovertemplate\":\"FrequentFlyer=Yes\\u003cbr\\u003eAnnualIncomeClass=%{x}\\u003cbr\\u003ecount=%{y}\\u003cextra\\u003e\\u003c\\u002fextra\\u003e\",\"legendgroup\":\"Yes\",\"marker\":{\"color\":\"#EF553B\",\"pattern\":{\"shape\":\"\"}},\"name\":\"Yes\",\"offsetgroup\":\"Yes\",\"orientation\":\"v\",\"showlegend\":true,\"x\":[\"Low Income\",\"High Income\",\"High Income\",\"Low Income\",\"Low Income\",\"High Income\",\"High Income\",\"Low Income\",\"Low Income\",\"High Income\",\"High Income\",\"Low Income\",\"Low Income\",\"High Income\",\"High Income\",\"Low Income\",\"Low Income\",\"High Income\",\"High Income\",\"Low Income\",\"Low Income\",\"High Income\",\"High Income\",\"Low Income\",\"High Income\",\"Low Income\",\"High Income\",\"Low Income\",\"High Income\",\"High Income\",\"Low Income\",\"High Income\",\"High Income\",\"Low Income\",\"Low Income\",\"High Income\",\"High Income\",\"Low Income\",\"High Income\",\"High Income\",\"Low Income\",\"High Income\",\"High Income\",\"Low Income\",\"High Income\",\"High Income\",\"Low Income\",\"Low Income\",\"High Income\",\"Low Income\",\"High Income\",\"Low Income\",\"High Income\",\"Low Income\",\"High Income\",\"Low Income\",\"High Income\",\"High Income\",\"Low Income\",\"High Income\",\"High Income\",\"Low Income\",\"Low Income\",\"High Income\",\"High Income\",\"Low Income\",\"High Income\",\"High Income\",\"Low Income\",\"High Income\",\"High Income\",\"Low Income\",\"High Income\",\"Low Income\",\"High Income\",\"Low Income\",\"High Income\",\"High Income\",\"Low Income\",\"Low Income\",\"High Income\",\"High Income\",\"Low Income\",\"Low Income\",\"High Income\",\"High Income\",\"Low Income\",\"High Income\",\"High Income\",\"Low Income\",\"Low Income\",\"High Income\",\"High Income\",\"Low Income\",\"Low Income\",\"High Income\",\"High Income\",\"Low Income\",\"Low Income\",\"High Income\",\"Low Income\",\"High Income\",\"Low Income\",\"High Income\",\"Low Income\",\"High Income\",\"Low Income\",\"High Income\",\"High Income\",\"Low Income\",\"Low Income\",\"High Income\",\"High Income\",\"Low Income\",\"High Income\",\"High Income\",\"Low Income\",\"High Income\",\"High Income\",\"Low Income\",\"High Income\",\"High Income\",\"Low Income\",\"High Income\",\"Low Income\",\"High Income\",\"Low Income\",\"High Income\",\"High Income\",\"Low Income\",\"Low Income\",\"High Income\",\"High Income\",\"Low Income\",\"High Income\",\"High Income\",\"Low Income\",\"High Income\",\"Low Income\",\"High Income\",\"Low Income\",\"High Income\",\"High Income\",\"Low Income\",\"Low Income\",\"High Income\",\"High Income\",\"Low Income\",\"High Income\",\"High Income\",\"Low Income\",\"High Income\",\"High Income\",\"Low Income\",\"High Income\",\"High Income\",\"Low Income\",\"Low Income\",\"High Income\",\"High Income\",\"Low Income\",\"High Income\",\"High Income\",\"Low Income\",\"Low Income\",\"High Income\",\"High Income\",\"Low Income\",\"Low Income\",\"High Income\",\"High Income\",\"Low Income\",\"High Income\",\"High Income\",\"Low Income\",\"High Income\",\"Low Income\",\"High Income\",\"Low Income\",\"Low Income\",\"High Income\",\"High Income\",\"Low Income\",\"Low Income\",\"High Income\",\"High Income\",\"Low Income\",\"Low Income\",\"High Income\",\"Low Income\",\"High Income\",\"Low Income\",\"High Income\",\"High Income\",\"Low Income\",\"Low Income\",\"High Income\",\"High Income\",\"Low Income\",\"Low Income\",\"High Income\",\"High Income\",\"Low Income\",\"High Income\",\"High Income\",\"Low Income\",\"High Income\",\"High Income\",\"Low Income\",\"Low Income\",\"High Income\",\"High Income\",\"Low Income\",\"Low Income\",\"High Income\",\"High Income\",\"Low Income\",\"Low Income\",\"High Income\",\"High Income\",\"Low Income\",\"Low Income\",\"High Income\",\"High Income\",\"Low Income\",\"High Income\",\"Low Income\",\"High Income\",\"Low Income\",\"High Income\",\"High Income\",\"Low Income\",\"High Income\",\"High Income\",\"Low Income\",\"High Income\",\"High Income\",\"Low Income\",\"High Income\",\"Low Income\",\"High Income\",\"Low Income\",\"Low Income\",\"High Income\",\"High Income\",\"Low Income\",\"High Income\",\"High Income\",\"Low Income\",\"Low Income\",\"High Income\",\"Low Income\",\"High Income\",\"Low Income\",\"High Income\",\"Low Income\",\"High Income\",\"Low Income\",\"High Income\",\"High Income\",\"Low Income\",\"High Income\",\"High Income\",\"Low Income\",\"High Income\",\"High Income\",\"Low Income\",\"Low Income\",\"High Income\",\"High Income\",\"Low Income\",\"High Income\",\"High Income\",\"Low Income\",\"High Income\",\"Low Income\",\"High Income\",\"Low Income\",\"High Income\",\"High Income\",\"Low Income\",\"Low Income\",\"High Income\",\"High Income\",\"Low Income\",\"High Income\"],\"xaxis\":\"x\",\"yaxis\":\"y\",\"type\":\"histogram\"}],                        {\"template\":{\"data\":{\"histogram2dcontour\":[{\"type\":\"histogram2dcontour\",\"colorbar\":{\"outlinewidth\":0,\"ticks\":\"\"},\"colorscale\":[[0.0,\"#0d0887\"],[0.1111111111111111,\"#46039f\"],[0.2222222222222222,\"#7201a8\"],[0.3333333333333333,\"#9c179e\"],[0.4444444444444444,\"#bd3786\"],[0.5555555555555556,\"#d8576b\"],[0.6666666666666666,\"#ed7953\"],[0.7777777777777778,\"#fb9f3a\"],[0.8888888888888888,\"#fdca26\"],[1.0,\"#f0f921\"]]}],\"choropleth\":[{\"type\":\"choropleth\",\"colorbar\":{\"outlinewidth\":0,\"ticks\":\"\"}}],\"histogram2d\":[{\"type\":\"histogram2d\",\"colorbar\":{\"outlinewidth\":0,\"ticks\":\"\"},\"colorscale\":[[0.0,\"#0d0887\"],[0.1111111111111111,\"#46039f\"],[0.2222222222222222,\"#7201a8\"],[0.3333333333333333,\"#9c179e\"],[0.4444444444444444,\"#bd3786\"],[0.5555555555555556,\"#d8576b\"],[0.6666666666666666,\"#ed7953\"],[0.7777777777777778,\"#fb9f3a\"],[0.8888888888888888,\"#fdca26\"],[1.0,\"#f0f921\"]]}],\"heatmap\":[{\"type\":\"heatmap\",\"colorbar\":{\"outlinewidth\":0,\"ticks\":\"\"},\"colorscale\":[[0.0,\"#0d0887\"],[0.1111111111111111,\"#46039f\"],[0.2222222222222222,\"#7201a8\"],[0.3333333333333333,\"#9c179e\"],[0.4444444444444444,\"#bd3786\"],[0.5555555555555556,\"#d8576b\"],[0.6666666666666666,\"#ed7953\"],[0.7777777777777778,\"#fb9f3a\"],[0.8888888888888888,\"#fdca26\"],[1.0,\"#f0f921\"]]}],\"heatmapgl\":[{\"type\":\"heatmapgl\",\"colorbar\":{\"outlinewidth\":0,\"ticks\":\"\"},\"colorscale\":[[0.0,\"#0d0887\"],[0.1111111111111111,\"#46039f\"],[0.2222222222222222,\"#7201a8\"],[0.3333333333333333,\"#9c179e\"],[0.4444444444444444,\"#bd3786\"],[0.5555555555555556,\"#d8576b\"],[0.6666666666666666,\"#ed7953\"],[0.7777777777777778,\"#fb9f3a\"],[0.8888888888888888,\"#fdca26\"],[1.0,\"#f0f921\"]]}],\"contourcarpet\":[{\"type\":\"contourcarpet\",\"colorbar\":{\"outlinewidth\":0,\"ticks\":\"\"}}],\"contour\":[{\"type\":\"contour\",\"colorbar\":{\"outlinewidth\":0,\"ticks\":\"\"},\"colorscale\":[[0.0,\"#0d0887\"],[0.1111111111111111,\"#46039f\"],[0.2222222222222222,\"#7201a8\"],[0.3333333333333333,\"#9c179e\"],[0.4444444444444444,\"#bd3786\"],[0.5555555555555556,\"#d8576b\"],[0.6666666666666666,\"#ed7953\"],[0.7777777777777778,\"#fb9f3a\"],[0.8888888888888888,\"#fdca26\"],[1.0,\"#f0f921\"]]}],\"surface\":[{\"type\":\"surface\",\"colorbar\":{\"outlinewidth\":0,\"ticks\":\"\"},\"colorscale\":[[0.0,\"#0d0887\"],[0.1111111111111111,\"#46039f\"],[0.2222222222222222,\"#7201a8\"],[0.3333333333333333,\"#9c179e\"],[0.4444444444444444,\"#bd3786\"],[0.5555555555555556,\"#d8576b\"],[0.6666666666666666,\"#ed7953\"],[0.7777777777777778,\"#fb9f3a\"],[0.8888888888888888,\"#fdca26\"],[1.0,\"#f0f921\"]]}],\"mesh3d\":[{\"type\":\"mesh3d\",\"colorbar\":{\"outlinewidth\":0,\"ticks\":\"\"}}],\"scatter\":[{\"fillpattern\":{\"fillmode\":\"overlay\",\"size\":10,\"solidity\":0.2},\"type\":\"scatter\"}],\"parcoords\":[{\"type\":\"parcoords\",\"line\":{\"colorbar\":{\"outlinewidth\":0,\"ticks\":\"\"}}}],\"scatterpolargl\":[{\"type\":\"scatterpolargl\",\"marker\":{\"colorbar\":{\"outlinewidth\":0,\"ticks\":\"\"}}}],\"bar\":[{\"error_x\":{\"color\":\"#2a3f5f\"},\"error_y\":{\"color\":\"#2a3f5f\"},\"marker\":{\"line\":{\"color\":\"#E5ECF6\",\"width\":0.5},\"pattern\":{\"fillmode\":\"overlay\",\"size\":10,\"solidity\":0.2}},\"type\":\"bar\"}],\"scattergeo\":[{\"type\":\"scattergeo\",\"marker\":{\"colorbar\":{\"outlinewidth\":0,\"ticks\":\"\"}}}],\"scatterpolar\":[{\"type\":\"scatterpolar\",\"marker\":{\"colorbar\":{\"outlinewidth\":0,\"ticks\":\"\"}}}],\"histogram\":[{\"marker\":{\"pattern\":{\"fillmode\":\"overlay\",\"size\":10,\"solidity\":0.2}},\"type\":\"histogram\"}],\"scattergl\":[{\"type\":\"scattergl\",\"marker\":{\"colorbar\":{\"outlinewidth\":0,\"ticks\":\"\"}}}],\"scatter3d\":[{\"type\":\"scatter3d\",\"line\":{\"colorbar\":{\"outlinewidth\":0,\"ticks\":\"\"}},\"marker\":{\"colorbar\":{\"outlinewidth\":0,\"ticks\":\"\"}}}],\"scattermapbox\":[{\"type\":\"scattermapbox\",\"marker\":{\"colorbar\":{\"outlinewidth\":0,\"ticks\":\"\"}}}],\"scatterternary\":[{\"type\":\"scatterternary\",\"marker\":{\"colorbar\":{\"outlinewidth\":0,\"ticks\":\"\"}}}],\"scattercarpet\":[{\"type\":\"scattercarpet\",\"marker\":{\"colorbar\":{\"outlinewidth\":0,\"ticks\":\"\"}}}],\"carpet\":[{\"aaxis\":{\"endlinecolor\":\"#2a3f5f\",\"gridcolor\":\"white\",\"linecolor\":\"white\",\"minorgridcolor\":\"white\",\"startlinecolor\":\"#2a3f5f\"},\"baxis\":{\"endlinecolor\":\"#2a3f5f\",\"gridcolor\":\"white\",\"linecolor\":\"white\",\"minorgridcolor\":\"white\",\"startlinecolor\":\"#2a3f5f\"},\"type\":\"carpet\"}],\"table\":[{\"cells\":{\"fill\":{\"color\":\"#EBF0F8\"},\"line\":{\"color\":\"white\"}},\"header\":{\"fill\":{\"color\":\"#C8D4E3\"},\"line\":{\"color\":\"white\"}},\"type\":\"table\"}],\"barpolar\":[{\"marker\":{\"line\":{\"color\":\"#E5ECF6\",\"width\":0.5},\"pattern\":{\"fillmode\":\"overlay\",\"size\":10,\"solidity\":0.2}},\"type\":\"barpolar\"}],\"pie\":[{\"automargin\":true,\"type\":\"pie\"}]},\"layout\":{\"autotypenumbers\":\"strict\",\"colorway\":[\"#636efa\",\"#EF553B\",\"#00cc96\",\"#ab63fa\",\"#FFA15A\",\"#19d3f3\",\"#FF6692\",\"#B6E880\",\"#FF97FF\",\"#FECB52\"],\"font\":{\"color\":\"#2a3f5f\"},\"hovermode\":\"closest\",\"hoverlabel\":{\"align\":\"left\"},\"paper_bgcolor\":\"white\",\"plot_bgcolor\":\"#E5ECF6\",\"polar\":{\"bgcolor\":\"#E5ECF6\",\"angularaxis\":{\"gridcolor\":\"white\",\"linecolor\":\"white\",\"ticks\":\"\"},\"radialaxis\":{\"gridcolor\":\"white\",\"linecolor\":\"white\",\"ticks\":\"\"}},\"ternary\":{\"bgcolor\":\"#E5ECF6\",\"aaxis\":{\"gridcolor\":\"white\",\"linecolor\":\"white\",\"ticks\":\"\"},\"baxis\":{\"gridcolor\":\"white\",\"linecolor\":\"white\",\"ticks\":\"\"},\"caxis\":{\"gridcolor\":\"white\",\"linecolor\":\"white\",\"ticks\":\"\"}},\"coloraxis\":{\"colorbar\":{\"outlinewidth\":0,\"ticks\":\"\"}},\"colorscale\":{\"sequential\":[[0.0,\"#0d0887\"],[0.1111111111111111,\"#46039f\"],[0.2222222222222222,\"#7201a8\"],[0.3333333333333333,\"#9c179e\"],[0.4444444444444444,\"#bd3786\"],[0.5555555555555556,\"#d8576b\"],[0.6666666666666666,\"#ed7953\"],[0.7777777777777778,\"#fb9f3a\"],[0.8888888888888888,\"#fdca26\"],[1.0,\"#f0f921\"]],\"sequentialminus\":[[0.0,\"#0d0887\"],[0.1111111111111111,\"#46039f\"],[0.2222222222222222,\"#7201a8\"],[0.3333333333333333,\"#9c179e\"],[0.4444444444444444,\"#bd3786\"],[0.5555555555555556,\"#d8576b\"],[0.6666666666666666,\"#ed7953\"],[0.7777777777777778,\"#fb9f3a\"],[0.8888888888888888,\"#fdca26\"],[1.0,\"#f0f921\"]],\"diverging\":[[0,\"#8e0152\"],[0.1,\"#c51b7d\"],[0.2,\"#de77ae\"],[0.3,\"#f1b6da\"],[0.4,\"#fde0ef\"],[0.5,\"#f7f7f7\"],[0.6,\"#e6f5d0\"],[0.7,\"#b8e186\"],[0.8,\"#7fbc41\"],[0.9,\"#4d9221\"],[1,\"#276419\"]]},\"xaxis\":{\"gridcolor\":\"white\",\"linecolor\":\"white\",\"ticks\":\"\",\"title\":{\"standoff\":15},\"zerolinecolor\":\"white\",\"automargin\":true,\"zerolinewidth\":2},\"yaxis\":{\"gridcolor\":\"white\",\"linecolor\":\"white\",\"ticks\":\"\",\"title\":{\"standoff\":15},\"zerolinecolor\":\"white\",\"automargin\":true,\"zerolinewidth\":2},\"scene\":{\"xaxis\":{\"backgroundcolor\":\"#E5ECF6\",\"gridcolor\":\"white\",\"linecolor\":\"white\",\"showbackground\":true,\"ticks\":\"\",\"zerolinecolor\":\"white\",\"gridwidth\":2},\"yaxis\":{\"backgroundcolor\":\"#E5ECF6\",\"gridcolor\":\"white\",\"linecolor\":\"white\",\"showbackground\":true,\"ticks\":\"\",\"zerolinecolor\":\"white\",\"gridwidth\":2},\"zaxis\":{\"backgroundcolor\":\"#E5ECF6\",\"gridcolor\":\"white\",\"linecolor\":\"white\",\"showbackground\":true,\"ticks\":\"\",\"zerolinecolor\":\"white\",\"gridwidth\":2}},\"shapedefaults\":{\"line\":{\"color\":\"#2a3f5f\"}},\"annotationdefaults\":{\"arrowcolor\":\"#2a3f5f\",\"arrowhead\":0,\"arrowwidth\":1},\"geo\":{\"bgcolor\":\"white\",\"landcolor\":\"#E5ECF6\",\"subunitcolor\":\"white\",\"showland\":true,\"showlakes\":true,\"lakecolor\":\"white\"},\"title\":{\"x\":0.05},\"mapbox\":{\"style\":\"light\"}}},\"xaxis\":{\"anchor\":\"y\",\"domain\":[0.0,1.0],\"title\":{\"text\":\"AnnualIncomeClass\"}},\"yaxis\":{\"anchor\":\"x\",\"domain\":[0.0,1.0],\"title\":{\"text\":\"count\"}},\"legend\":{\"title\":{\"text\":\"FrequentFlyer\"},\"tracegroupgap\":0},\"margin\":{\"t\":60},\"barmode\":\"relative\"},                        {\"responsive\": true}                    ).then(function(){\n",
              "                            \n",
              "var gd = document.getElementById('8f22a765-8b40-4ec9-b6e9-65ac4c6f9932');\n",
              "var x = new MutationObserver(function (mutations, observer) {{\n",
              "        var display = window.getComputedStyle(gd).display;\n",
              "        if (!display || display === 'none') {{\n",
              "            console.log([gd, 'removed!']);\n",
              "            Plotly.purge(gd);\n",
              "            observer.disconnect();\n",
              "        }}\n",
              "}});\n",
              "\n",
              "// Listen for the removal of the full notebook cells\n",
              "var notebookContainer = gd.closest('#notebook-container');\n",
              "if (notebookContainer) {{\n",
              "    x.observe(notebookContainer, {childList: true});\n",
              "}}\n",
              "\n",
              "// Listen for the clearing of the current output cell\n",
              "var outputEl = gd.closest('.output');\n",
              "if (outputEl) {{\n",
              "    x.observe(outputEl, {childList: true});\n",
              "}}\n",
              "\n",
              "                        })                };                            </script>        </div>\n",
              "</body>\n",
              "</html>"
            ]
          },
          "metadata": {}
        }
      ],
      "source": [
        "fig = px.histogram(df,x='AnnualIncomeClass',color='FrequentFlyer')\n",
        "fig.show()"
      ]
    },
    {
      "cell_type": "code",
      "execution_count": 202,
      "metadata": {
        "colab": {
          "base_uri": "https://localhost:8080/",
          "height": 304
        },
        "id": "LC4chugxB9yh",
        "outputId": "afe8d459-338a-4366-c0b6-a7fe1cdb3830"
      },
      "outputs": [
        {
          "output_type": "execute_result",
          "data": {
            "text/plain": [
              "ServicesOpted\n",
              "1    404\n",
              "2    176\n",
              "3    124\n",
              "4    117\n",
              "5     69\n",
              "6     64\n",
              "Name: count, dtype: int64"
            ],
            "text/html": [
              "<div>\n",
              "<style scoped>\n",
              "    .dataframe tbody tr th:only-of-type {\n",
              "        vertical-align: middle;\n",
              "    }\n",
              "\n",
              "    .dataframe tbody tr th {\n",
              "        vertical-align: top;\n",
              "    }\n",
              "\n",
              "    .dataframe thead th {\n",
              "        text-align: right;\n",
              "    }\n",
              "</style>\n",
              "<table border=\"1\" class=\"dataframe\">\n",
              "  <thead>\n",
              "    <tr style=\"text-align: right;\">\n",
              "      <th></th>\n",
              "      <th>count</th>\n",
              "    </tr>\n",
              "    <tr>\n",
              "      <th>ServicesOpted</th>\n",
              "      <th></th>\n",
              "    </tr>\n",
              "  </thead>\n",
              "  <tbody>\n",
              "    <tr>\n",
              "      <th>1</th>\n",
              "      <td>404</td>\n",
              "    </tr>\n",
              "    <tr>\n",
              "      <th>2</th>\n",
              "      <td>176</td>\n",
              "    </tr>\n",
              "    <tr>\n",
              "      <th>3</th>\n",
              "      <td>124</td>\n",
              "    </tr>\n",
              "    <tr>\n",
              "      <th>4</th>\n",
              "      <td>117</td>\n",
              "    </tr>\n",
              "    <tr>\n",
              "      <th>5</th>\n",
              "      <td>69</td>\n",
              "    </tr>\n",
              "    <tr>\n",
              "      <th>6</th>\n",
              "      <td>64</td>\n",
              "    </tr>\n",
              "  </tbody>\n",
              "</table>\n",
              "</div><br><label><b>dtype:</b> int64</label>"
            ]
          },
          "metadata": {},
          "execution_count": 202
        }
      ],
      "source": [
        "df['ServicesOpted'].value_counts()"
      ]
    },
    {
      "cell_type": "code",
      "execution_count": 203,
      "metadata": {
        "colab": {
          "base_uri": "https://localhost:8080/",
          "height": 542
        },
        "id": "YvNKpewKB9yh",
        "outputId": "e185b234-0367-47fd-c4b5-f6255d24e182"
      },
      "outputs": [
        {
          "output_type": "display_data",
          "data": {
            "text/html": [
              "<html>\n",
              "<head><meta charset=\"utf-8\" /></head>\n",
              "<body>\n",
              "    <div>            <script src=\"https://cdnjs.cloudflare.com/ajax/libs/mathjax/2.7.5/MathJax.js?config=TeX-AMS-MML_SVG\"></script><script type=\"text/javascript\">if (window.MathJax && window.MathJax.Hub && window.MathJax.Hub.Config) {window.MathJax.Hub.Config({SVG: {font: \"STIX-Web\"}});}</script>                <script type=\"text/javascript\">window.PlotlyConfig = {MathJaxConfig: 'local'};</script>\n",
              "        <script charset=\"utf-8\" src=\"https://cdn.plot.ly/plotly-2.35.2.min.js\"></script>                <div id=\"143b6c3b-72fe-432f-a787-39402a40a0a8\" class=\"plotly-graph-div\" style=\"height:525px; width:100%;\"></div>            <script type=\"text/javascript\">                                    window.PLOTLYENV=window.PLOTLYENV || {};                                    if (document.getElementById(\"143b6c3b-72fe-432f-a787-39402a40a0a8\")) {                    Plotly.newPlot(                        \"143b6c3b-72fe-432f-a787-39402a40a0a8\",                        [{\"alignmentgroup\":\"True\",\"bingroup\":\"x\",\"hovertemplate\":\"ServicesOpted=6\\u003cbr\\u003eAnnualIncomeClass=%{x}\\u003cbr\\u003ecount=%{y}\\u003cextra\\u003e\\u003c\\u002fextra\\u003e\",\"legendgroup\":\"6\",\"marker\":{\"color\":\"#636efa\",\"pattern\":{\"shape\":\"\"}},\"name\":\"6\",\"offsetgroup\":\"6\",\"orientation\":\"v\",\"showlegend\":true,\"x\":[\"Middle Income\",\"Low Income\",\"Middle Income\",\"High Income\",\"Middle Income\",\"Middle Income\",\"Middle Income\",\"High Income\",\"Low Income\",\"Middle Income\",\"Middle Income\",\"High Income\",\"Middle Income\",\"Middle Income\",\"Middle Income\",\"High Income\",\"Middle Income\",\"Middle Income\",\"Middle Income\",\"High Income\",\"Middle Income\",\"Middle Income\",\"Low Income\",\"High Income\",\"Middle Income\",\"Middle Income\",\"Middle Income\",\"High Income\",\"Middle Income\",\"Low Income\",\"Middle Income\",\"High Income\",\"Middle Income\",\"Middle Income\",\"Middle Income\",\"High Income\",\"Low Income\",\"Middle Income\",\"Middle Income\",\"High Income\",\"Middle Income\",\"Middle Income\",\"Middle Income\",\"High Income\",\"Middle Income\",\"Middle Income\",\"Middle Income\",\"High Income\",\"Middle Income\",\"Middle Income\",\"Low Income\",\"High Income\",\"Middle Income\",\"Middle Income\",\"Middle Income\",\"High Income\",\"Middle Income\",\"Low Income\",\"Middle Income\",\"High Income\",\"Middle Income\",\"Middle Income\",\"Middle Income\",\"High Income\"],\"xaxis\":\"x\",\"yaxis\":\"y\",\"type\":\"histogram\"},{\"alignmentgroup\":\"True\",\"bingroup\":\"x\",\"hovertemplate\":\"ServicesOpted=5\\u003cbr\\u003eAnnualIncomeClass=%{x}\\u003cbr\\u003ecount=%{y}\\u003cextra\\u003e\\u003c\\u002fextra\\u003e\",\"legendgroup\":\"5\",\"marker\":{\"color\":\"#EF553B\",\"pattern\":{\"shape\":\"\"}},\"name\":\"5\",\"offsetgroup\":\"5\",\"orientation\":\"v\",\"showlegend\":true,\"x\":[\"Low Income\",\"Middle Income\",\"Middle Income\",\"Low Income\",\"High Income\",\"Middle Income\",\"Low Income\",\"Low Income\",\"Low Income\",\"Middle Income\",\"Middle Income\",\"Low Income\",\"Middle Income\",\"Low Income\",\"Low Income\",\"High Income\",\"Middle Income\",\"Low Income\",\"Middle Income\",\"High Income\",\"Low Income\",\"Middle Income\",\"Low Income\",\"Middle Income\",\"Middle Income\",\"Low Income\",\"High Income\",\"Middle Income\",\"Low Income\",\"Middle Income\",\"High Income\",\"Low Income\",\"Middle Income\",\"Low Income\",\"Low Income\",\"Middle Income\",\"Low Income\",\"High Income\",\"Middle Income\",\"Low Income\",\"Middle Income\",\"High Income\",\"Low Income\",\"Middle Income\",\"Middle Income\",\"Low Income\",\"Low Income\",\"Middle Income\",\"Low Income\",\"High Income\",\"Low Income\",\"Middle Income\",\"High Income\",\"Low Income\",\"Middle Income\",\"Middle Income\",\"Low Income\",\"Middle Income\",\"Middle Income\",\"Low Income\",\"High Income\",\"Middle Income\",\"Low Income\",\"Middle Income\",\"Low Income\",\"Low Income\",\"Middle Income\",\"Low Income\",\"Middle Income\"],\"xaxis\":\"x\",\"yaxis\":\"y\",\"type\":\"histogram\"},{\"alignmentgroup\":\"True\",\"bingroup\":\"x\",\"hovertemplate\":\"ServicesOpted=3\\u003cbr\\u003eAnnualIncomeClass=%{x}\\u003cbr\\u003ecount=%{y}\\u003cextra\\u003e\\u003c\\u002fextra\\u003e\",\"legendgroup\":\"3\",\"marker\":{\"color\":\"#00cc96\",\"pattern\":{\"shape\":\"\"}},\"name\":\"3\",\"offsetgroup\":\"3\",\"orientation\":\"v\",\"showlegend\":true,\"x\":[\"Middle Income\",\"Low Income\",\"Middle Income\",\"Middle Income\",\"Middle Income\",\"Middle Income\",\"Low Income\",\"Middle Income\",\"Middle Income\",\"Middle Income\",\"Middle Income\",\"Middle Income\",\"Middle Income\",\"Middle Income\",\"Middle Income\",\"Middle Income\",\"Middle Income\",\"Low Income\",\"Middle Income\",\"Middle Income\",\"Middle Income\",\"Middle Income\",\"Low Income\",\"Middle Income\",\"Middle Income\",\"Middle Income\",\"Middle Income\",\"Middle Income\",\"Low Income\",\"Middle Income\",\"Middle Income\",\"Middle Income\",\"Middle Income\",\"Low Income\",\"Middle Income\",\"Middle Income\",\"Middle Income\",\"Middle Income\",\"Middle Income\",\"Low Income\",\"Middle Income\",\"Middle Income\",\"Middle Income\",\"Middle Income\",\"Low Income\",\"Middle Income\",\"Middle Income\",\"Middle Income\",\"Middle Income\",\"Middle Income\",\"Low Income\",\"Middle Income\",\"Middle Income\",\"Middle Income\",\"Middle Income\",\"Low Income\",\"Middle Income\",\"Middle Income\",\"Middle Income\",\"Middle Income\",\"Middle Income\",\"Low Income\",\"Middle Income\",\"Middle Income\",\"Middle Income\",\"Middle Income\",\"Middle Income\",\"Low Income\",\"Middle Income\",\"Middle Income\",\"Middle Income\",\"Middle Income\",\"Middle Income\",\"Low Income\",\"Middle Income\",\"Middle Income\",\"Middle Income\",\"Middle Income\",\"Low Income\",\"Middle Income\",\"Middle Income\",\"Middle Income\",\"Middle Income\",\"Middle Income\",\"Middle Income\",\"Middle Income\",\"Middle Income\",\"Middle Income\",\"Middle Income\",\"Low Income\",\"Middle Income\",\"Middle Income\",\"Middle Income\",\"Middle Income\",\"Low Income\",\"Middle Income\",\"Middle Income\",\"Middle Income\",\"Middle Income\",\"Middle Income\",\"Low Income\",\"Middle Income\",\"Middle Income\",\"Middle Income\",\"Middle Income\",\"Low Income\",\"Middle Income\",\"Middle Income\",\"Middle Income\",\"Middle Income\",\"Middle Income\",\"Low Income\",\"Middle Income\",\"Middle Income\",\"Middle Income\",\"Middle Income\",\"Low Income\",\"Middle Income\",\"Middle Income\",\"Middle Income\",\"Middle Income\",\"Middle Income\",\"Low Income\",\"Middle Income\"],\"xaxis\":\"x\",\"yaxis\":\"y\",\"type\":\"histogram\"},{\"alignmentgroup\":\"True\",\"bingroup\":\"x\",\"hovertemplate\":\"ServicesOpted=2\\u003cbr\\u003eAnnualIncomeClass=%{x}\\u003cbr\\u003ecount=%{y}\\u003cextra\\u003e\\u003c\\u002fextra\\u003e\",\"legendgroup\":\"2\",\"marker\":{\"color\":\"#ab63fa\",\"pattern\":{\"shape\":\"\"}},\"name\":\"2\",\"offsetgroup\":\"2\",\"orientation\":\"v\",\"showlegend\":true,\"x\":[\"Middle Income\",\"Low Income\",\"Middle Income\",\"Low Income\",\"Middle Income\",\"Low Income\",\"Middle Income\",\"Middle Income\",\"Low Income\",\"Middle Income\",\"Middle Income\",\"Middle Income\",\"Middle Income\",\"Low Income\",\"Low Income\",\"Middle Income\",\"Low Income\",\"Middle Income\",\"Low Income\",\"Low Income\",\"Middle Income\",\"Low Income\",\"Middle Income\",\"Middle Income\",\"Low Income\",\"Middle Income\",\"Middle Income\",\"Low Income\",\"Low Income\",\"Middle Income\",\"Low Income\",\"Middle Income\",\"Low Income\",\"Middle Income\",\"Low Income\",\"Middle Income\",\"Low Income\",\"Middle Income\",\"Middle Income\",\"Low Income\",\"Middle Income\",\"Middle Income\",\"Middle Income\",\"Middle Income\",\"Low Income\",\"Middle Income\",\"Low Income\",\"Low Income\",\"Middle Income\",\"Low Income\",\"Low Income\",\"Middle Income\",\"Low Income\",\"Middle Income\",\"Low Income\",\"Middle Income\",\"Middle Income\",\"Middle Income\",\"Low Income\",\"Low Income\",\"Middle Income\",\"Low Income\",\"Low Income\",\"Middle Income\",\"Low Income\",\"Low Income\",\"Middle Income\",\"Low Income\",\"Middle Income\",\"Low Income\",\"Middle Income\",\"Middle Income\",\"Middle Income\",\"Middle Income\",\"Low Income\",\"Low Income\",\"Middle Income\",\"Low Income\",\"Middle Income\",\"Low Income\",\"Middle Income\",\"Low Income\",\"Low Income\",\"Middle Income\",\"Middle Income\",\"Low Income\",\"Middle Income\",\"Middle Income\",\"Middle Income\",\"Middle Income\",\"Low Income\",\"Low Income\",\"Low Income\",\"Middle Income\",\"Low Income\",\"Middle Income\",\"Low Income\",\"Low Income\",\"Middle Income\",\"Low Income\",\"Middle Income\",\"Middle Income\",\"Middle Income\",\"Middle Income\",\"Middle Income\",\"Low Income\",\"Low Income\",\"Middle Income\",\"Low Income\",\"Middle Income\",\"Low Income\",\"Low Income\",\"Low Income\",\"Middle Income\",\"Low Income\",\"Middle Income\",\"Middle Income\",\"Low Income\",\"Middle Income\",\"Middle Income\",\"Middle Income\",\"Low Income\",\"Low Income\",\"Middle Income\",\"Low Income\",\"Low Income\",\"Middle Income\",\"Low Income\",\"Low Income\",\"Middle Income\",\"Middle Income\",\"Middle Income\",\"Low Income\",\"Middle Income\",\"Middle Income\",\"Middle Income\",\"Low Income\",\"Low Income\",\"Middle Income\",\"Low Income\",\"Middle Income\",\"Low Income\",\"Middle Income\",\"Low Income\",\"Low Income\",\"Middle Income\",\"Low Income\",\"Middle Income\",\"Low Income\",\"Middle Income\",\"Middle Income\",\"Middle Income\",\"Low Income\",\"Low Income\",\"Middle Income\",\"Low Income\",\"Middle Income\",\"Low Income\",\"Middle Income\",\"Middle Income\",\"Low Income\",\"Middle Income\",\"Middle Income\",\"Low Income\",\"Middle Income\",\"Middle Income\",\"Middle Income\",\"Middle Income\",\"Low Income\",\"Low Income\",\"Middle Income\",\"Low Income\",\"Middle Income\",\"Low Income\",\"Low Income\",\"Middle Income\"],\"xaxis\":\"x\",\"yaxis\":\"y\",\"type\":\"histogram\"},{\"alignmentgroup\":\"True\",\"bingroup\":\"x\",\"hovertemplate\":\"ServicesOpted=1\\u003cbr\\u003eAnnualIncomeClass=%{x}\\u003cbr\\u003ecount=%{y}\\u003cextra\\u003e\\u003c\\u002fextra\\u003e\",\"legendgroup\":\"1\",\"marker\":{\"color\":\"#FFA15A\",\"pattern\":{\"shape\":\"\"}},\"name\":\"1\",\"offsetgroup\":\"1\",\"orientation\":\"v\",\"showlegend\":true,\"x\":[\"Low Income\",\"High Income\",\"High Income\",\"Low Income\",\"Middle Income\",\"Low Income\",\"High Income\",\"Middle Income\",\"High Income\",\"Low Income\",\"Middle Income\",\"Low Income\",\"Low Income\",\"High Income\",\"High Income\",\"Low Income\",\"Low Income\",\"Middle Income\",\"Low Income\",\"Low Income\",\"Low Income\",\"Middle Income\",\"High Income\",\"Low Income\",\"Low Income\",\"Low Income\",\"High Income\",\"Low Income\",\"Middle Income\",\"Low Income\",\"High Income\",\"Low Income\",\"High Income\",\"Low Income\",\"Middle Income\",\"Low Income\",\"Low Income\",\"High Income\",\"High Income\",\"Low Income\",\"Middle Income\",\"Low Income\",\"High Income\",\"Middle Income\",\"Low Income\",\"Middle Income\",\"Low Income\",\"Low Income\",\"High Income\",\"Middle Income\",\"High Income\",\"Low Income\",\"Low Income\",\"Middle Income\",\"High Income\",\"Low Income\",\"Low Income\",\"Low Income\",\"High Income\",\"Middle Income\",\"High Income\",\"Low Income\",\"Low Income\",\"Low Income\",\"High Income\",\"Low Income\",\"Middle Income\",\"High Income\",\"Low Income\",\"Low Income\",\"Middle Income\",\"Low Income\",\"Low Income\",\"High Income\",\"High Income\",\"Low Income\",\"Low Income\",\"High Income\",\"Middle Income\",\"High Income\",\"Low Income\",\"Middle Income\",\"Low Income\",\"High Income\",\"Middle Income\",\"High Income\",\"Low Income\",\"Low Income\",\"Low Income\",\"High Income\",\"Low Income\",\"Low Income\",\"Low Income\",\"High Income\",\"Low Income\",\"Middle Income\",\"Low Income\",\"Low Income\",\"High Income\",\"Middle Income\",\"Low Income\",\"Low Income\",\"High Income\",\"Low Income\",\"High Income\",\"Low Income\",\"Middle Income\",\"Low Income\",\"Low Income\",\"High Income\",\"Low Income\",\"Middle Income\",\"Low Income\",\"High Income\",\"High Income\",\"Middle Income\",\"Low Income\",\"Low Income\",\"High Income\",\"Middle Income\",\"Low Income\",\"Low Income\",\"Low Income\",\"Middle Income\",\"High Income\",\"Low Income\",\"Low Income\",\"Low Income\",\"High Income\",\"Middle Income\",\"High Income\",\"Low Income\",\"Middle Income\",\"Low Income\",\"High Income\",\"Middle Income\",\"Low Income\",\"Middle Income\",\"Low Income\",\"High Income\",\"High Income\",\"Low Income\",\"Middle Income\",\"Low Income\",\"Low Income\",\"High Income\",\"Low Income\",\"Middle Income\",\"High Income\",\"Middle Income\",\"High Income\",\"Low Income\",\"Low Income\",\"Low Income\",\"Middle Income\",\"High Income\",\"Low Income\",\"Low Income\",\"Low Income\",\"High Income\",\"Low Income\",\"Low Income\",\"Low Income\",\"High Income\",\"High Income\",\"Low Income\",\"Middle Income\",\"Low Income\",\"Low Income\",\"High Income\",\"Middle Income\",\"Low Income\",\"Middle Income\",\"Low Income\",\"High Income\",\"Low Income\",\"Low Income\",\"Low Income\",\"Low Income\",\"High Income\",\"High Income\",\"Middle Income\",\"Low Income\",\"High Income\",\"Middle Income\",\"High Income\",\"Low Income\",\"Middle Income\",\"Low Income\",\"Low Income\",\"High Income\",\"High Income\",\"Low Income\",\"Low Income\",\"Middle Income\",\"Low Income\",\"Low Income\",\"High Income\",\"Middle Income\",\"High Income\",\"Low Income\",\"Low Income\",\"Low Income\",\"High Income\",\"Middle Income\",\"Low Income\",\"Middle Income\",\"Low Income\",\"High Income\",\"Low Income\",\"High Income\",\"Low Income\",\"Middle Income\",\"Low Income\",\"High Income\",\"High Income\",\"Low Income\",\"Middle Income\",\"Low Income\",\"Middle Income\",\"Low Income\",\"Middle Income\",\"Low Income\",\"Low Income\",\"High Income\",\"High Income\",\"Low Income\",\"Low Income\",\"Middle Income\",\"High Income\",\"Low Income\",\"Low Income\",\"Low Income\",\"High Income\",\"Middle Income\",\"High Income\",\"Low Income\",\"Middle Income\",\"Low Income\",\"Low Income\",\"High Income\",\"Low Income\",\"Middle Income\",\"Low Income\",\"High Income\",\"Low Income\",\"Middle Income\",\"Low Income\",\"Low Income\",\"High Income\",\"High Income\",\"Low Income\",\"Low Income\",\"High Income\",\"Middle Income\",\"High Income\",\"Low Income\",\"Low Income\",\"Low Income\",\"High Income\",\"Middle Income\",\"High Income\",\"Low Income\",\"Low Income\",\"High Income\",\"Low Income\",\"Low Income\",\"Low Income\",\"High Income\",\"Middle Income\",\"Low Income\",\"Middle Income\",\"Low Income\",\"Low Income\",\"High Income\",\"Middle Income\",\"Low Income\",\"Low Income\",\"High Income\",\"Low Income\",\"High Income\",\"Low Income\",\"Middle Income\",\"Low Income\",\"Low Income\",\"High Income\",\"Low Income\",\"Middle Income\",\"Low Income\",\"High Income\",\"High Income\",\"Low Income\",\"Middle Income\",\"Low Income\",\"Low Income\",\"High Income\",\"Middle Income\",\"Low Income\",\"Low Income\",\"Low Income\",\"Middle Income\",\"High Income\",\"Low Income\",\"Low Income\",\"Low Income\",\"High Income\",\"Middle Income\",\"Low Income\",\"Middle Income\",\"Low Income\",\"Low Income\",\"High Income\",\"Middle Income\",\"Middle Income\",\"Low Income\",\"High Income\",\"High Income\",\"Low Income\",\"Middle Income\",\"Low Income\",\"Low Income\",\"High Income\",\"Low Income\",\"Low Income\",\"High Income\",\"Middle Income\",\"High Income\",\"Low Income\",\"Low Income\",\"High Income\",\"Middle Income\",\"High Income\",\"Low Income\",\"Low Income\",\"Low Income\",\"Middle Income\",\"High Income\",\"Low Income\",\"Low Income\",\"Low Income\",\"High Income\",\"High Income\",\"Low Income\",\"Middle Income\",\"Low Income\",\"High Income\",\"Middle Income\",\"Low Income\",\"Middle Income\",\"Low Income\",\"Low Income\",\"High Income\",\"Low Income\",\"Low Income\",\"Low Income\",\"High Income\",\"High Income\",\"Low Income\",\"Middle Income\",\"Low Income\",\"High Income\",\"Middle Income\",\"High Income\",\"Low Income\",\"Middle Income\",\"Low Income\",\"Low Income\",\"High Income\",\"High Income\",\"Low Income\",\"Low Income\",\"Low Income\",\"Middle Income\",\"Low Income\",\"Low Income\",\"Low Income\",\"High Income\",\"Middle Income\",\"High Income\",\"Low Income\",\"Low Income\",\"High Income\",\"Middle Income\",\"Low Income\",\"Middle Income\",\"Low Income\",\"High Income\",\"Low Income\",\"High Income\",\"Low Income\",\"Low Income\",\"Low Income\",\"High Income\",\"High Income\",\"Low Income\",\"Middle Income\",\"Low Income\",\"High Income\",\"Middle Income\",\"Low Income\",\"Middle Income\",\"Low Income\",\"Low Income\",\"High Income\"],\"xaxis\":\"x\",\"yaxis\":\"y\",\"type\":\"histogram\"},{\"alignmentgroup\":\"True\",\"bingroup\":\"x\",\"hovertemplate\":\"ServicesOpted=4\\u003cbr\\u003eAnnualIncomeClass=%{x}\\u003cbr\\u003ecount=%{y}\\u003cextra\\u003e\\u003c\\u002fextra\\u003e\",\"legendgroup\":\"4\",\"marker\":{\"color\":\"#19d3f3\",\"pattern\":{\"shape\":\"\"}},\"name\":\"4\",\"offsetgroup\":\"4\",\"orientation\":\"v\",\"showlegend\":true,\"x\":[\"Middle Income\",\"Low Income\",\"Middle Income\",\"Low Income\",\"High Income\",\"Middle Income\",\"Low Income\",\"Middle Income\",\"High Income\",\"Low Income\",\"Middle Income\",\"Low Income\",\"Middle Income\",\"Middle Income\",\"High Income\",\"Middle Income\",\"Low Income\",\"Middle Income\",\"High Income\",\"Low Income\",\"Middle Income\",\"Middle Income\",\"Low Income\",\"Middle Income\",\"Low Income\",\"Middle Income\",\"Low Income\",\"Middle Income\",\"High Income\",\"Low Income\",\"Middle Income\",\"Middle Income\",\"Low Income\",\"Middle Income\",\"Middle Income\",\"Low Income\",\"High Income\",\"Low Income\",\"Middle Income\",\"High Income\",\"Low Income\",\"Middle Income\",\"Middle Income\",\"Low Income\",\"Middle Income\",\"Middle Income\",\"Low Income\",\"High Income\",\"Middle Income\",\"Middle Income\",\"Low Income\",\"Middle Income\",\"Middle Income\",\"Low Income\",\"Middle Income\",\"Middle Income\",\"Low Income\",\"High Income\",\"Middle Income\",\"Low Income\",\"High Income\",\"Low Income\",\"Middle Income\",\"Low Income\",\"Middle Income\",\"Middle Income\",\"Low Income\",\"High Income\",\"Middle Income\",\"Low Income\",\"Middle Income\",\"Low Income\",\"Middle Income\",\"Middle Income\",\"Low Income\",\"Middle Income\",\"Low Income\",\"High Income\",\"Middle Income\",\"Low Income\",\"Middle Income\",\"High Income\",\"Middle Income\",\"Middle Income\",\"Low Income\",\"Middle Income\",\"Middle Income\",\"Low Income\",\"High Income\",\"Low Income\",\"Middle Income\",\"High Income\",\"Low Income\",\"Middle Income\",\"Low Income\",\"Middle Income\",\"Middle Income\",\"Low Income\",\"High Income\",\"Middle Income\",\"Low Income\",\"Middle Income\",\"Low Income\",\"Middle Income\",\"Low Income\",\"Middle Income\",\"Middle Income\",\"Low Income\",\"High Income\",\"Middle Income\",\"Low Income\",\"Middle Income\",\"High Income\",\"Low Income\",\"Middle Income\",\"Middle Income\",\"Middle Income\"],\"xaxis\":\"x\",\"yaxis\":\"y\",\"type\":\"histogram\"}],                        {\"template\":{\"data\":{\"histogram2dcontour\":[{\"type\":\"histogram2dcontour\",\"colorbar\":{\"outlinewidth\":0,\"ticks\":\"\"},\"colorscale\":[[0.0,\"#0d0887\"],[0.1111111111111111,\"#46039f\"],[0.2222222222222222,\"#7201a8\"],[0.3333333333333333,\"#9c179e\"],[0.4444444444444444,\"#bd3786\"],[0.5555555555555556,\"#d8576b\"],[0.6666666666666666,\"#ed7953\"],[0.7777777777777778,\"#fb9f3a\"],[0.8888888888888888,\"#fdca26\"],[1.0,\"#f0f921\"]]}],\"choropleth\":[{\"type\":\"choropleth\",\"colorbar\":{\"outlinewidth\":0,\"ticks\":\"\"}}],\"histogram2d\":[{\"type\":\"histogram2d\",\"colorbar\":{\"outlinewidth\":0,\"ticks\":\"\"},\"colorscale\":[[0.0,\"#0d0887\"],[0.1111111111111111,\"#46039f\"],[0.2222222222222222,\"#7201a8\"],[0.3333333333333333,\"#9c179e\"],[0.4444444444444444,\"#bd3786\"],[0.5555555555555556,\"#d8576b\"],[0.6666666666666666,\"#ed7953\"],[0.7777777777777778,\"#fb9f3a\"],[0.8888888888888888,\"#fdca26\"],[1.0,\"#f0f921\"]]}],\"heatmap\":[{\"type\":\"heatmap\",\"colorbar\":{\"outlinewidth\":0,\"ticks\":\"\"},\"colorscale\":[[0.0,\"#0d0887\"],[0.1111111111111111,\"#46039f\"],[0.2222222222222222,\"#7201a8\"],[0.3333333333333333,\"#9c179e\"],[0.4444444444444444,\"#bd3786\"],[0.5555555555555556,\"#d8576b\"],[0.6666666666666666,\"#ed7953\"],[0.7777777777777778,\"#fb9f3a\"],[0.8888888888888888,\"#fdca26\"],[1.0,\"#f0f921\"]]}],\"heatmapgl\":[{\"type\":\"heatmapgl\",\"colorbar\":{\"outlinewidth\":0,\"ticks\":\"\"},\"colorscale\":[[0.0,\"#0d0887\"],[0.1111111111111111,\"#46039f\"],[0.2222222222222222,\"#7201a8\"],[0.3333333333333333,\"#9c179e\"],[0.4444444444444444,\"#bd3786\"],[0.5555555555555556,\"#d8576b\"],[0.6666666666666666,\"#ed7953\"],[0.7777777777777778,\"#fb9f3a\"],[0.8888888888888888,\"#fdca26\"],[1.0,\"#f0f921\"]]}],\"contourcarpet\":[{\"type\":\"contourcarpet\",\"colorbar\":{\"outlinewidth\":0,\"ticks\":\"\"}}],\"contour\":[{\"type\":\"contour\",\"colorbar\":{\"outlinewidth\":0,\"ticks\":\"\"},\"colorscale\":[[0.0,\"#0d0887\"],[0.1111111111111111,\"#46039f\"],[0.2222222222222222,\"#7201a8\"],[0.3333333333333333,\"#9c179e\"],[0.4444444444444444,\"#bd3786\"],[0.5555555555555556,\"#d8576b\"],[0.6666666666666666,\"#ed7953\"],[0.7777777777777778,\"#fb9f3a\"],[0.8888888888888888,\"#fdca26\"],[1.0,\"#f0f921\"]]}],\"surface\":[{\"type\":\"surface\",\"colorbar\":{\"outlinewidth\":0,\"ticks\":\"\"},\"colorscale\":[[0.0,\"#0d0887\"],[0.1111111111111111,\"#46039f\"],[0.2222222222222222,\"#7201a8\"],[0.3333333333333333,\"#9c179e\"],[0.4444444444444444,\"#bd3786\"],[0.5555555555555556,\"#d8576b\"],[0.6666666666666666,\"#ed7953\"],[0.7777777777777778,\"#fb9f3a\"],[0.8888888888888888,\"#fdca26\"],[1.0,\"#f0f921\"]]}],\"mesh3d\":[{\"type\":\"mesh3d\",\"colorbar\":{\"outlinewidth\":0,\"ticks\":\"\"}}],\"scatter\":[{\"fillpattern\":{\"fillmode\":\"overlay\",\"size\":10,\"solidity\":0.2},\"type\":\"scatter\"}],\"parcoords\":[{\"type\":\"parcoords\",\"line\":{\"colorbar\":{\"outlinewidth\":0,\"ticks\":\"\"}}}],\"scatterpolargl\":[{\"type\":\"scatterpolargl\",\"marker\":{\"colorbar\":{\"outlinewidth\":0,\"ticks\":\"\"}}}],\"bar\":[{\"error_x\":{\"color\":\"#2a3f5f\"},\"error_y\":{\"color\":\"#2a3f5f\"},\"marker\":{\"line\":{\"color\":\"#E5ECF6\",\"width\":0.5},\"pattern\":{\"fillmode\":\"overlay\",\"size\":10,\"solidity\":0.2}},\"type\":\"bar\"}],\"scattergeo\":[{\"type\":\"scattergeo\",\"marker\":{\"colorbar\":{\"outlinewidth\":0,\"ticks\":\"\"}}}],\"scatterpolar\":[{\"type\":\"scatterpolar\",\"marker\":{\"colorbar\":{\"outlinewidth\":0,\"ticks\":\"\"}}}],\"histogram\":[{\"marker\":{\"pattern\":{\"fillmode\":\"overlay\",\"size\":10,\"solidity\":0.2}},\"type\":\"histogram\"}],\"scattergl\":[{\"type\":\"scattergl\",\"marker\":{\"colorbar\":{\"outlinewidth\":0,\"ticks\":\"\"}}}],\"scatter3d\":[{\"type\":\"scatter3d\",\"line\":{\"colorbar\":{\"outlinewidth\":0,\"ticks\":\"\"}},\"marker\":{\"colorbar\":{\"outlinewidth\":0,\"ticks\":\"\"}}}],\"scattermapbox\":[{\"type\":\"scattermapbox\",\"marker\":{\"colorbar\":{\"outlinewidth\":0,\"ticks\":\"\"}}}],\"scatterternary\":[{\"type\":\"scatterternary\",\"marker\":{\"colorbar\":{\"outlinewidth\":0,\"ticks\":\"\"}}}],\"scattercarpet\":[{\"type\":\"scattercarpet\",\"marker\":{\"colorbar\":{\"outlinewidth\":0,\"ticks\":\"\"}}}],\"carpet\":[{\"aaxis\":{\"endlinecolor\":\"#2a3f5f\",\"gridcolor\":\"white\",\"linecolor\":\"white\",\"minorgridcolor\":\"white\",\"startlinecolor\":\"#2a3f5f\"},\"baxis\":{\"endlinecolor\":\"#2a3f5f\",\"gridcolor\":\"white\",\"linecolor\":\"white\",\"minorgridcolor\":\"white\",\"startlinecolor\":\"#2a3f5f\"},\"type\":\"carpet\"}],\"table\":[{\"cells\":{\"fill\":{\"color\":\"#EBF0F8\"},\"line\":{\"color\":\"white\"}},\"header\":{\"fill\":{\"color\":\"#C8D4E3\"},\"line\":{\"color\":\"white\"}},\"type\":\"table\"}],\"barpolar\":[{\"marker\":{\"line\":{\"color\":\"#E5ECF6\",\"width\":0.5},\"pattern\":{\"fillmode\":\"overlay\",\"size\":10,\"solidity\":0.2}},\"type\":\"barpolar\"}],\"pie\":[{\"automargin\":true,\"type\":\"pie\"}]},\"layout\":{\"autotypenumbers\":\"strict\",\"colorway\":[\"#636efa\",\"#EF553B\",\"#00cc96\",\"#ab63fa\",\"#FFA15A\",\"#19d3f3\",\"#FF6692\",\"#B6E880\",\"#FF97FF\",\"#FECB52\"],\"font\":{\"color\":\"#2a3f5f\"},\"hovermode\":\"closest\",\"hoverlabel\":{\"align\":\"left\"},\"paper_bgcolor\":\"white\",\"plot_bgcolor\":\"#E5ECF6\",\"polar\":{\"bgcolor\":\"#E5ECF6\",\"angularaxis\":{\"gridcolor\":\"white\",\"linecolor\":\"white\",\"ticks\":\"\"},\"radialaxis\":{\"gridcolor\":\"white\",\"linecolor\":\"white\",\"ticks\":\"\"}},\"ternary\":{\"bgcolor\":\"#E5ECF6\",\"aaxis\":{\"gridcolor\":\"white\",\"linecolor\":\"white\",\"ticks\":\"\"},\"baxis\":{\"gridcolor\":\"white\",\"linecolor\":\"white\",\"ticks\":\"\"},\"caxis\":{\"gridcolor\":\"white\",\"linecolor\":\"white\",\"ticks\":\"\"}},\"coloraxis\":{\"colorbar\":{\"outlinewidth\":0,\"ticks\":\"\"}},\"colorscale\":{\"sequential\":[[0.0,\"#0d0887\"],[0.1111111111111111,\"#46039f\"],[0.2222222222222222,\"#7201a8\"],[0.3333333333333333,\"#9c179e\"],[0.4444444444444444,\"#bd3786\"],[0.5555555555555556,\"#d8576b\"],[0.6666666666666666,\"#ed7953\"],[0.7777777777777778,\"#fb9f3a\"],[0.8888888888888888,\"#fdca26\"],[1.0,\"#f0f921\"]],\"sequentialminus\":[[0.0,\"#0d0887\"],[0.1111111111111111,\"#46039f\"],[0.2222222222222222,\"#7201a8\"],[0.3333333333333333,\"#9c179e\"],[0.4444444444444444,\"#bd3786\"],[0.5555555555555556,\"#d8576b\"],[0.6666666666666666,\"#ed7953\"],[0.7777777777777778,\"#fb9f3a\"],[0.8888888888888888,\"#fdca26\"],[1.0,\"#f0f921\"]],\"diverging\":[[0,\"#8e0152\"],[0.1,\"#c51b7d\"],[0.2,\"#de77ae\"],[0.3,\"#f1b6da\"],[0.4,\"#fde0ef\"],[0.5,\"#f7f7f7\"],[0.6,\"#e6f5d0\"],[0.7,\"#b8e186\"],[0.8,\"#7fbc41\"],[0.9,\"#4d9221\"],[1,\"#276419\"]]},\"xaxis\":{\"gridcolor\":\"white\",\"linecolor\":\"white\",\"ticks\":\"\",\"title\":{\"standoff\":15},\"zerolinecolor\":\"white\",\"automargin\":true,\"zerolinewidth\":2},\"yaxis\":{\"gridcolor\":\"white\",\"linecolor\":\"white\",\"ticks\":\"\",\"title\":{\"standoff\":15},\"zerolinecolor\":\"white\",\"automargin\":true,\"zerolinewidth\":2},\"scene\":{\"xaxis\":{\"backgroundcolor\":\"#E5ECF6\",\"gridcolor\":\"white\",\"linecolor\":\"white\",\"showbackground\":true,\"ticks\":\"\",\"zerolinecolor\":\"white\",\"gridwidth\":2},\"yaxis\":{\"backgroundcolor\":\"#E5ECF6\",\"gridcolor\":\"white\",\"linecolor\":\"white\",\"showbackground\":true,\"ticks\":\"\",\"zerolinecolor\":\"white\",\"gridwidth\":2},\"zaxis\":{\"backgroundcolor\":\"#E5ECF6\",\"gridcolor\":\"white\",\"linecolor\":\"white\",\"showbackground\":true,\"ticks\":\"\",\"zerolinecolor\":\"white\",\"gridwidth\":2}},\"shapedefaults\":{\"line\":{\"color\":\"#2a3f5f\"}},\"annotationdefaults\":{\"arrowcolor\":\"#2a3f5f\",\"arrowhead\":0,\"arrowwidth\":1},\"geo\":{\"bgcolor\":\"white\",\"landcolor\":\"#E5ECF6\",\"subunitcolor\":\"white\",\"showland\":true,\"showlakes\":true,\"lakecolor\":\"white\"},\"title\":{\"x\":0.05},\"mapbox\":{\"style\":\"light\"}}},\"xaxis\":{\"anchor\":\"y\",\"domain\":[0.0,1.0],\"title\":{\"text\":\"AnnualIncomeClass\"}},\"yaxis\":{\"anchor\":\"x\",\"domain\":[0.0,1.0],\"title\":{\"text\":\"count\"}},\"legend\":{\"title\":{\"text\":\"ServicesOpted\"},\"tracegroupgap\":0},\"margin\":{\"t\":60},\"barmode\":\"relative\"},                        {\"responsive\": true}                    ).then(function(){\n",
              "                            \n",
              "var gd = document.getElementById('143b6c3b-72fe-432f-a787-39402a40a0a8');\n",
              "var x = new MutationObserver(function (mutations, observer) {{\n",
              "        var display = window.getComputedStyle(gd).display;\n",
              "        if (!display || display === 'none') {{\n",
              "            console.log([gd, 'removed!']);\n",
              "            Plotly.purge(gd);\n",
              "            observer.disconnect();\n",
              "        }}\n",
              "}});\n",
              "\n",
              "// Listen for the removal of the full notebook cells\n",
              "var notebookContainer = gd.closest('#notebook-container');\n",
              "if (notebookContainer) {{\n",
              "    x.observe(notebookContainer, {childList: true});\n",
              "}}\n",
              "\n",
              "// Listen for the clearing of the current output cell\n",
              "var outputEl = gd.closest('.output');\n",
              "if (outputEl) {{\n",
              "    x.observe(outputEl, {childList: true});\n",
              "}}\n",
              "\n",
              "                        })                };                            </script>        </div>\n",
              "</body>\n",
              "</html>"
            ]
          },
          "metadata": {}
        }
      ],
      "source": [
        "fig = px.histogram(df,x='AnnualIncomeClass',color='ServicesOpted')\n",
        "fig.show()"
      ]
    },
    {
      "cell_type": "code",
      "execution_count": 204,
      "metadata": {
        "colab": {
          "base_uri": "https://localhost:8080/",
          "height": 542
        },
        "id": "VrBwkHbPB9yi",
        "outputId": "976c0970-4f56-40bf-8379-cdb1ee89ea28"
      },
      "outputs": [
        {
          "output_type": "display_data",
          "data": {
            "text/html": [
              "<html>\n",
              "<head><meta charset=\"utf-8\" /></head>\n",
              "<body>\n",
              "    <div>            <script src=\"https://cdnjs.cloudflare.com/ajax/libs/mathjax/2.7.5/MathJax.js?config=TeX-AMS-MML_SVG\"></script><script type=\"text/javascript\">if (window.MathJax && window.MathJax.Hub && window.MathJax.Hub.Config) {window.MathJax.Hub.Config({SVG: {font: \"STIX-Web\"}});}</script>                <script type=\"text/javascript\">window.PlotlyConfig = {MathJaxConfig: 'local'};</script>\n",
              "        <script charset=\"utf-8\" src=\"https://cdn.plot.ly/plotly-2.35.2.min.js\"></script>                <div id=\"dead5648-eb0e-4d02-91e6-69340796b2a1\" class=\"plotly-graph-div\" style=\"height:525px; width:100%;\"></div>            <script type=\"text/javascript\">                                    window.PLOTLYENV=window.PLOTLYENV || {};                                    if (document.getElementById(\"dead5648-eb0e-4d02-91e6-69340796b2a1\")) {                    Plotly.newPlot(                        \"dead5648-eb0e-4d02-91e6-69340796b2a1\",                        [{\"alignmentgroup\":\"True\",\"bingroup\":\"x\",\"hovertemplate\":\"BookedHotelOrNot=Yes\\u003cbr\\u003eAnnualIncomeClass=%{x}\\u003cbr\\u003ecount=%{y}\\u003cextra\\u003e\\u003c\\u002fextra\\u003e\",\"legendgroup\":\"Yes\",\"marker\":{\"color\":\"#636efa\",\"pattern\":{\"shape\":\"\"}},\"name\":\"Yes\",\"offsetgroup\":\"Yes\",\"orientation\":\"v\",\"showlegend\":true,\"x\":[\"Middle Income\",\"High Income\",\"Middle Income\",\"Low Income\",\"Low Income\",\"Middle Income\",\"Low Income\",\"Low Income\",\"Middle Income\",\"Middle Income\",\"Middle Income\",\"Low Income\",\"Middle Income\",\"Middle Income\",\"Low Income\",\"Low Income\",\"Middle Income\",\"High Income\",\"Middle Income\",\"Low Income\",\"Middle Income\",\"Low Income\",\"Middle Income\",\"Middle Income\",\"Low Income\",\"High Income\",\"Middle Income\",\"Low Income\",\"Middle Income\",\"Middle Income\",\"Low Income\",\"Middle Income\",\"Middle Income\",\"Low Income\",\"Low Income\",\"Middle Income\",\"Middle Income\",\"Middle Income\",\"Low Income\",\"Middle Income\",\"Middle Income\",\"High Income\",\"Middle Income\",\"Middle Income\",\"Low Income\",\"Middle Income\",\"Low Income\",\"Low Income\",\"High Income\",\"Middle Income\",\"Middle Income\",\"Low Income\",\"Middle Income\",\"Middle Income\",\"Low Income\",\"Middle Income\",\"Middle Income\",\"Middle Income\",\"Low Income\",\"Middle Income\",\"Middle Income\",\"Low Income\",\"Middle Income\",\"Low Income\",\"Low Income\",\"High Income\",\"Middle Income\",\"Middle Income\",\"Middle Income\",\"Low Income\",\"Low Income\",\"Middle Income\",\"High Income\",\"Middle Income\",\"Low Income\",\"Middle Income\",\"Middle Income\",\"Middle Income\",\"Middle Income\",\"Low Income\",\"Low Income\",\"Low Income\",\"Middle Income\",\"Middle Income\",\"Middle Income\",\"Low Income\",\"Middle Income\",\"Middle Income\",\"High Income\",\"Middle Income\",\"Middle Income\",\"Low Income\",\"Middle Income\",\"Low Income\",\"Middle Income\",\"High Income\",\"Low Income\",\"Middle Income\",\"Low Income\",\"Middle Income\",\"Middle Income\",\"Low Income\",\"Middle Income\",\"Low Income\",\"Middle Income\",\"Low Income\",\"Middle Income\",\"Middle Income\",\"Middle Income\",\"Middle Income\",\"Low Income\",\"Middle Income\",\"High Income\",\"Low Income\",\"Middle Income\",\"Middle Income\",\"Low Income\",\"Middle Income\",\"Middle Income\",\"Low Income\",\"High Income\",\"Middle Income\",\"Low Income\",\"Middle Income\",\"Middle Income\",\"Middle Income\",\"Middle Income\",\"Middle Income\",\"Low Income\",\"Low Income\",\"Low Income\",\"Middle Income\",\"Middle Income\",\"Low Income\",\"Middle Income\",\"Low Income\",\"High Income\",\"Middle Income\",\"Middle Income\",\"Low Income\",\"Middle Income\",\"Low Income\",\"Middle Income\",\"High Income\",\"Middle Income\",\"Middle Income\",\"Low Income\",\"Low Income\",\"Middle Income\",\"Low Income\",\"Middle Income\",\"Middle Income\",\"Middle Income\",\"Low Income\",\"Middle Income\",\"Middle Income\",\"Middle Income\",\"Middle Income\",\"Low Income\",\"Middle Income\",\"High Income\",\"Middle Income\",\"Middle Income\",\"Low Income\",\"Low Income\",\"Middle Income\",\"Middle Income\",\"Low Income\",\"High Income\",\"Middle Income\",\"Low Income\",\"Middle Income\",\"Low Income\",\"Middle Income\",\"Middle Income\",\"Middle Income\",\"Low Income\",\"Low Income\",\"Middle Income\",\"Middle Income\",\"Low Income\",\"Low Income\",\"Middle Income\",\"Middle Income\",\"High Income\",\"Middle Income\",\"Low Income\",\"Low Income\",\"Middle Income\",\"Low Income\",\"Middle Income\",\"High Income\",\"Middle Income\",\"Middle Income\",\"Low Income\",\"Middle Income\",\"Middle Income\",\"Low Income\",\"Low Income\",\"Middle Income\",\"Middle Income\",\"Low Income\",\"Middle Income\",\"Low Income\",\"Middle Income\",\"Middle Income\",\"Low Income\",\"Middle Income\",\"High Income\",\"Middle Income\",\"Middle Income\",\"Middle Income\",\"Low Income\",\"Middle Income\",\"Low Income\",\"Low Income\",\"High Income\",\"Middle Income\",\"Low Income\",\"Middle Income\",\"Middle Income\",\"Middle Income\",\"Middle Income\",\"Middle Income\",\"Low Income\",\"Low Income\",\"Middle Income\",\"Low Income\",\"Middle Income\",\"Low Income\",\"Low Income\",\"Middle Income\",\"High Income\",\"Middle Income\",\"Middle Income\",\"Middle Income\",\"Low Income\",\"Middle Income\",\"High Income\",\"Middle Income\",\"Middle Income\",\"Low Income\",\"Middle Income\",\"Middle Income\",\"Low Income\",\"Middle Income\",\"Middle Income\",\"Low Income\",\"Low Income\",\"Middle Income\",\"Middle Income\",\"Middle Income\",\"Middle Income\",\"Low Income\",\"Middle Income\",\"High Income\",\"Middle Income\",\"Middle Income\",\"Middle Income\",\"Low Income\",\"Middle Income\",\"Middle Income\",\"Low Income\",\"High Income\",\"Low Income\",\"Low Income\",\"Middle Income\",\"Middle Income\",\"Middle Income\",\"Low Income\",\"Middle Income\",\"Low Income\",\"Low Income\",\"Middle Income\",\"Middle Income\",\"Middle Income\",\"Low Income\",\"Middle Income\",\"Middle Income\",\"High Income\",\"Low Income\",\"Middle Income\",\"Low Income\",\"Middle Income\",\"Low Income\",\"Middle Income\",\"High Income\",\"Middle Income\",\"Middle Income\",\"Low Income\",\"Middle Income\",\"Middle Income\",\"Low Income\",\"Middle Income\",\"Middle Income\",\"Middle Income\",\"Low Income\",\"Low Income\",\"Middle Income\",\"Middle Income\",\"Middle Income\",\"Low Income\",\"Middle Income\",\"High Income\",\"Middle Income\",\"Middle Income\",\"Middle Income\",\"Low Income\",\"Middle Income\",\"Low Income\",\"High Income\",\"Middle Income\",\"Low Income\",\"Low Income\",\"Middle Income\",\"Middle Income\",\"Middle Income\",\"Middle Income\",\"Low Income\",\"Low Income\",\"Middle Income\",\"Middle Income\",\"Middle Income\",\"Low Income\",\"Middle Income\",\"Middle Income\",\"High Income\",\"Middle Income\",\"Middle Income\",\"Low Income\",\"Low Income\",\"Low Income\",\"Middle Income\",\"High Income\",\"Middle Income\",\"Low Income\",\"Low Income\",\"Middle Income\",\"Low Income\",\"Low Income\",\"Middle Income\",\"Middle Income\",\"Middle Income\",\"Low Income\",\"Middle Income\",\"Middle Income\",\"Middle Income\",\"Low Income\",\"Low Income\",\"Middle Income\",\"High Income\",\"Middle Income\",\"Low Income\",\"Middle Income\",\"Low Income\",\"Middle Income\",\"Middle Income\",\"Low Income\",\"High Income\",\"Middle Income\",\"Low Income\",\"Middle Income\",\"Middle Income\",\"Low Income\",\"Middle Income\",\"Middle Income\",\"Low Income\",\"Low Income\",\"Middle Income\",\"Middle Income\",\"Middle Income\",\"Low Income\",\"Middle Income\",\"Middle Income\",\"High Income\",\"Middle Income\",\"Middle Income\",\"Low Income\"],\"xaxis\":\"x\",\"yaxis\":\"y\",\"type\":\"histogram\"},{\"alignmentgroup\":\"True\",\"bingroup\":\"x\",\"hovertemplate\":\"BookedHotelOrNot=No\\u003cbr\\u003eAnnualIncomeClass=%{x}\\u003cbr\\u003ecount=%{y}\\u003cextra\\u003e\\u003c\\u002fextra\\u003e\",\"legendgroup\":\"No\",\"marker\":{\"color\":\"#EF553B\",\"pattern\":{\"shape\":\"\"}},\"name\":\"No\",\"offsetgroup\":\"No\",\"orientation\":\"v\",\"showlegend\":true,\"x\":[\"Low Income\",\"Middle Income\",\"Middle Income\",\"Low Income\",\"Low Income\",\"High Income\",\"Middle Income\",\"Low Income\",\"Middle Income\",\"High Income\",\"Low Income\",\"High Income\",\"Low Income\",\"Middle Income\",\"Middle Income\",\"Middle Income\",\"Low Income\",\"High Income\",\"Low Income\",\"Middle Income\",\"High Income\",\"Low Income\",\"Low Income\",\"Middle Income\",\"Middle Income\",\"High Income\",\"Low Income\",\"Middle Income\",\"Low Income\",\"Middle Income\",\"Low Income\",\"Middle Income\",\"Low Income\",\"High Income\",\"High Income\",\"Low Income\",\"Middle Income\",\"Low Income\",\"Middle Income\",\"Middle Income\",\"Low Income\",\"Middle Income\",\"High Income\",\"Low Income\",\"Low Income\",\"Middle Income\",\"Low Income\",\"High Income\",\"Low Income\",\"High Income\",\"Low Income\",\"Middle Income\",\"Middle Income\",\"Middle Income\",\"High Income\",\"Low Income\",\"Low Income\",\"High Income\",\"Low Income\",\"Low Income\",\"Middle Income\",\"Low Income\",\"High Income\",\"Low Income\",\"Low Income\",\"Middle Income\",\"Low Income\",\"Middle Income\",\"High Income\",\"Middle Income\",\"High Income\",\"Low Income\",\"Middle Income\",\"Low Income\",\"Middle Income\",\"Middle Income\",\"Low Income\",\"Low Income\",\"High Income\",\"Middle Income\",\"Low Income\",\"Low Income\",\"High Income\",\"Low Income\",\"High Income\",\"Low Income\",\"Middle Income\",\"Middle Income\",\"Middle Income\",\"Low Income\",\"High Income\",\"Low Income\",\"High Income\",\"Low Income\",\"Low Income\",\"Middle Income\",\"Middle Income\",\"High Income\",\"Low Income\",\"Middle Income\",\"Low Income\",\"Middle Income\",\"Low Income\",\"Middle Income\",\"Low Income\",\"High Income\",\"High Income\",\"Low Income\",\"Middle Income\",\"Low Income\",\"Middle Income\",\"Low Income\",\"Low Income\",\"Low Income\",\"Middle Income\",\"High Income\",\"Middle Income\",\"Low Income\",\"Middle Income\",\"Low Income\",\"High Income\",\"Low Income\",\"High Income\",\"Low Income\",\"Middle Income\",\"Middle Income\",\"Middle Income\",\"High Income\",\"Low Income\",\"Middle Income\",\"High Income\",\"Low Income\",\"Low Income\",\"Low Income\",\"Middle Income\",\"High Income\",\"Low Income\",\"Low Income\",\"Middle Income\",\"Low Income\",\"Middle Income\",\"High Income\",\"Middle Income\",\"High Income\",\"Low Income\",\"Low Income\",\"Low Income\",\"Middle Income\",\"Middle Income\",\"Low Income\",\"Low Income\",\"High Income\",\"Middle Income\",\"Low Income\",\"Middle Income\",\"High Income\",\"Low Income\",\"High Income\",\"Low Income\",\"Middle Income\",\"Middle Income\",\"Low Income\",\"Low Income\",\"High Income\",\"Low Income\",\"High Income\",\"Low Income\",\"Low Income\",\"Middle Income\",\"Middle Income\",\"High Income\",\"Low Income\",\"Middle Income\",\"Low Income\",\"Middle Income\",\"Low Income\",\"Middle Income\",\"Low Income\",\"High Income\",\"High Income\",\"Low Income\",\"Middle Income\",\"Low Income\",\"Low Income\",\"Middle Income\",\"Low Income\",\"Middle Income\",\"High Income\",\"Middle Income\",\"Low Income\",\"Middle Income\",\"Low Income\",\"High Income\",\"Low Income\",\"High Income\",\"Low Income\",\"Low Income\",\"Middle Income\",\"Middle Income\",\"High Income\",\"Low Income\",\"Middle Income\",\"High Income\",\"Low Income\",\"Low Income\",\"Middle Income\",\"Middle Income\",\"High Income\",\"Low Income\",\"Low Income\",\"Middle Income\",\"Low Income\",\"Low Income\",\"High Income\",\"Middle Income\",\"High Income\",\"Low Income\",\"Middle Income\",\"Low Income\",\"Middle Income\",\"Middle Income\",\"Low Income\",\"Low Income\",\"High Income\",\"Middle Income\",\"Low Income\",\"Middle Income\",\"High Income\",\"Low Income\",\"High Income\",\"Low Income\",\"Middle Income\",\"Low Income\",\"Middle Income\",\"Low Income\",\"High Income\",\"Low Income\",\"High Income\",\"Low Income\",\"Low Income\",\"Middle Income\",\"Middle Income\",\"High Income\",\"Low Income\",\"Middle Income\",\"Low Income\",\"Low Income\",\"Low Income\",\"Middle Income\",\"Low Income\",\"High Income\",\"High Income\",\"Low Income\",\"Middle Income\",\"Low Income\",\"Middle Income\",\"Middle Income\",\"Low Income\",\"Low Income\",\"High Income\",\"Middle Income\",\"Low Income\",\"Middle Income\",\"Low Income\",\"High Income\",\"Low Income\",\"High Income\",\"Low Income\",\"Middle Income\",\"Middle Income\",\"Middle Income\",\"High Income\",\"Low Income\",\"Middle Income\",\"High Income\",\"Low Income\",\"Low Income\",\"Middle Income\",\"Middle Income\",\"High Income\",\"Low Income\",\"Low Income\",\"Middle Income\",\"Low Income\",\"Middle Income\",\"High Income\",\"Middle Income\",\"High Income\",\"Low Income\",\"Middle Income\",\"Low Income\",\"Middle Income\",\"Middle Income\",\"Low Income\",\"Low Income\",\"High Income\",\"Low Income\",\"Low Income\",\"Middle Income\",\"High Income\",\"Low Income\",\"High Income\",\"Low Income\",\"Middle Income\",\"Middle Income\",\"Middle Income\",\"Low Income\",\"High Income\",\"Low Income\",\"High Income\",\"Low Income\",\"Low Income\",\"Middle Income\",\"Low Income\",\"High Income\",\"Low Income\",\"Middle Income\",\"Low Income\",\"Middle Income\",\"Low Income\",\"Middle Income\",\"Low Income\",\"High Income\",\"High Income\",\"Low Income\",\"Middle Income\",\"Low Income\",\"Middle Income\",\"Middle Income\",\"Low Income\",\"Middle Income\",\"High Income\",\"Middle Income\",\"Low Income\",\"Low Income\",\"Low Income\",\"High Income\",\"Low Income\",\"High Income\",\"Low Income\",\"Middle Income\",\"Middle Income\",\"Middle Income\",\"High Income\",\"Low Income\",\"Middle Income\",\"High Income\",\"Low Income\",\"Low Income\",\"Middle Income\",\"Middle Income\",\"High Income\",\"Low Income\",\"Low Income\",\"Middle Income\",\"Low Income\",\"Middle Income\",\"Low Income\",\"High Income\",\"Low Income\",\"High Income\",\"Low Income\",\"Middle Income\",\"Low Income\",\"Middle Income\",\"Low Income\",\"Low Income\",\"Low Income\",\"High Income\",\"Middle Income\",\"Low Income\",\"Middle Income\",\"High Income\",\"Low Income\",\"High Income\",\"Low Income\",\"Middle Income\",\"Middle Income\",\"Middle Income\",\"Low Income\",\"High Income\",\"Low Income\",\"High Income\",\"Low Income\",\"Low Income\",\"Low Income\",\"Middle Income\",\"High Income\",\"Low Income\",\"Middle Income\",\"Low Income\",\"Middle Income\",\"Low Income\",\"Middle Income\",\"Low Income\",\"High Income\",\"High Income\",\"Low Income\",\"Low Income\",\"Low Income\",\"Middle Income\",\"Middle Income\",\"Low Income\",\"Middle Income\",\"High Income\",\"Middle Income\",\"Low Income\",\"Middle Income\",\"Low Income\",\"High Income\",\"Low Income\",\"High Income\",\"Low Income\",\"Middle Income\",\"Middle Income\",\"Low Income\",\"High Income\",\"Low Income\",\"Middle Income\",\"High Income\",\"Low Income\",\"Low Income\",\"Middle Income\",\"Middle Income\",\"High Income\",\"Low Income\",\"Low Income\",\"Middle Income\",\"Low Income\",\"Middle Income\",\"High Income\",\"Middle Income\",\"High Income\",\"Low Income\",\"Middle Income\",\"Low Income\",\"Low Income\",\"Middle Income\",\"Low Income\",\"Low Income\",\"High Income\",\"Middle Income\",\"Low Income\",\"Middle Income\",\"High Income\",\"Low Income\",\"High Income\",\"Low Income\",\"Low Income\",\"Middle Income\",\"Middle Income\",\"Low Income\",\"High Income\",\"Low Income\",\"High Income\",\"Low Income\",\"Low Income\",\"Middle Income\",\"Middle Income\",\"High Income\",\"Low Income\",\"Low Income\",\"Low Income\",\"Middle Income\",\"Low Income\",\"Low Income\",\"Low Income\",\"High Income\",\"Middle Income\",\"High Income\",\"Low Income\",\"Middle Income\",\"Low Income\",\"Middle Income\",\"Middle Income\",\"Low Income\",\"Middle Income\",\"High Income\",\"Middle Income\",\"Low Income\",\"Middle Income\",\"Low Income\",\"High Income\",\"Low Income\",\"High Income\",\"Low Income\",\"Middle Income\",\"Low Income\",\"Middle Income\",\"High Income\",\"Low Income\",\"Middle Income\",\"High Income\",\"Low Income\",\"Low Income\",\"Middle Income\",\"Middle Income\",\"High Income\",\"Low Income\",\"Low Income\",\"Low Income\",\"Low Income\",\"Middle Income\",\"High Income\",\"Middle Income\",\"High Income\",\"Low Income\",\"Middle Income\",\"Low Income\",\"Middle Income\",\"Middle Income\",\"Low Income\",\"Low Income\",\"High Income\",\"Middle Income\",\"Low Income\",\"Middle Income\",\"High Income\",\"Low Income\",\"High Income\",\"Low Income\",\"Middle Income\",\"Middle Income\",\"Middle Income\",\"Low Income\",\"High Income\",\"Low Income\",\"High Income\",\"Low Income\",\"Low Income\",\"Middle Income\",\"Middle Income\",\"High Income\",\"Low Income\",\"Middle Income\",\"Low Income\",\"Middle Income\",\"Low Income\",\"Middle Income\",\"Low Income\",\"High Income\",\"High Income\",\"Low Income\",\"Middle Income\",\"Low Income\",\"Middle Income\",\"Middle Income\",\"Low Income\",\"Middle Income\",\"High Income\",\"Low Income\",\"Low Income\",\"Middle Income\",\"Low Income\",\"High Income\",\"Low Income\",\"High Income\",\"Low Income\",\"Middle Income\",\"Middle Income\",\"Middle Income\",\"High Income\",\"Low Income\",\"Low Income\",\"High Income\",\"Low Income\",\"Low Income\",\"Middle Income\",\"Low Income\",\"High Income\",\"Low Income\",\"Low Income\",\"Middle Income\",\"Low Income\",\"Middle Income\",\"High Income\"],\"xaxis\":\"x\",\"yaxis\":\"y\",\"type\":\"histogram\"}],                        {\"template\":{\"data\":{\"histogram2dcontour\":[{\"type\":\"histogram2dcontour\",\"colorbar\":{\"outlinewidth\":0,\"ticks\":\"\"},\"colorscale\":[[0.0,\"#0d0887\"],[0.1111111111111111,\"#46039f\"],[0.2222222222222222,\"#7201a8\"],[0.3333333333333333,\"#9c179e\"],[0.4444444444444444,\"#bd3786\"],[0.5555555555555556,\"#d8576b\"],[0.6666666666666666,\"#ed7953\"],[0.7777777777777778,\"#fb9f3a\"],[0.8888888888888888,\"#fdca26\"],[1.0,\"#f0f921\"]]}],\"choropleth\":[{\"type\":\"choropleth\",\"colorbar\":{\"outlinewidth\":0,\"ticks\":\"\"}}],\"histogram2d\":[{\"type\":\"histogram2d\",\"colorbar\":{\"outlinewidth\":0,\"ticks\":\"\"},\"colorscale\":[[0.0,\"#0d0887\"],[0.1111111111111111,\"#46039f\"],[0.2222222222222222,\"#7201a8\"],[0.3333333333333333,\"#9c179e\"],[0.4444444444444444,\"#bd3786\"],[0.5555555555555556,\"#d8576b\"],[0.6666666666666666,\"#ed7953\"],[0.7777777777777778,\"#fb9f3a\"],[0.8888888888888888,\"#fdca26\"],[1.0,\"#f0f921\"]]}],\"heatmap\":[{\"type\":\"heatmap\",\"colorbar\":{\"outlinewidth\":0,\"ticks\":\"\"},\"colorscale\":[[0.0,\"#0d0887\"],[0.1111111111111111,\"#46039f\"],[0.2222222222222222,\"#7201a8\"],[0.3333333333333333,\"#9c179e\"],[0.4444444444444444,\"#bd3786\"],[0.5555555555555556,\"#d8576b\"],[0.6666666666666666,\"#ed7953\"],[0.7777777777777778,\"#fb9f3a\"],[0.8888888888888888,\"#fdca26\"],[1.0,\"#f0f921\"]]}],\"heatmapgl\":[{\"type\":\"heatmapgl\",\"colorbar\":{\"outlinewidth\":0,\"ticks\":\"\"},\"colorscale\":[[0.0,\"#0d0887\"],[0.1111111111111111,\"#46039f\"],[0.2222222222222222,\"#7201a8\"],[0.3333333333333333,\"#9c179e\"],[0.4444444444444444,\"#bd3786\"],[0.5555555555555556,\"#d8576b\"],[0.6666666666666666,\"#ed7953\"],[0.7777777777777778,\"#fb9f3a\"],[0.8888888888888888,\"#fdca26\"],[1.0,\"#f0f921\"]]}],\"contourcarpet\":[{\"type\":\"contourcarpet\",\"colorbar\":{\"outlinewidth\":0,\"ticks\":\"\"}}],\"contour\":[{\"type\":\"contour\",\"colorbar\":{\"outlinewidth\":0,\"ticks\":\"\"},\"colorscale\":[[0.0,\"#0d0887\"],[0.1111111111111111,\"#46039f\"],[0.2222222222222222,\"#7201a8\"],[0.3333333333333333,\"#9c179e\"],[0.4444444444444444,\"#bd3786\"],[0.5555555555555556,\"#d8576b\"],[0.6666666666666666,\"#ed7953\"],[0.7777777777777778,\"#fb9f3a\"],[0.8888888888888888,\"#fdca26\"],[1.0,\"#f0f921\"]]}],\"surface\":[{\"type\":\"surface\",\"colorbar\":{\"outlinewidth\":0,\"ticks\":\"\"},\"colorscale\":[[0.0,\"#0d0887\"],[0.1111111111111111,\"#46039f\"],[0.2222222222222222,\"#7201a8\"],[0.3333333333333333,\"#9c179e\"],[0.4444444444444444,\"#bd3786\"],[0.5555555555555556,\"#d8576b\"],[0.6666666666666666,\"#ed7953\"],[0.7777777777777778,\"#fb9f3a\"],[0.8888888888888888,\"#fdca26\"],[1.0,\"#f0f921\"]]}],\"mesh3d\":[{\"type\":\"mesh3d\",\"colorbar\":{\"outlinewidth\":0,\"ticks\":\"\"}}],\"scatter\":[{\"fillpattern\":{\"fillmode\":\"overlay\",\"size\":10,\"solidity\":0.2},\"type\":\"scatter\"}],\"parcoords\":[{\"type\":\"parcoords\",\"line\":{\"colorbar\":{\"outlinewidth\":0,\"ticks\":\"\"}}}],\"scatterpolargl\":[{\"type\":\"scatterpolargl\",\"marker\":{\"colorbar\":{\"outlinewidth\":0,\"ticks\":\"\"}}}],\"bar\":[{\"error_x\":{\"color\":\"#2a3f5f\"},\"error_y\":{\"color\":\"#2a3f5f\"},\"marker\":{\"line\":{\"color\":\"#E5ECF6\",\"width\":0.5},\"pattern\":{\"fillmode\":\"overlay\",\"size\":10,\"solidity\":0.2}},\"type\":\"bar\"}],\"scattergeo\":[{\"type\":\"scattergeo\",\"marker\":{\"colorbar\":{\"outlinewidth\":0,\"ticks\":\"\"}}}],\"scatterpolar\":[{\"type\":\"scatterpolar\",\"marker\":{\"colorbar\":{\"outlinewidth\":0,\"ticks\":\"\"}}}],\"histogram\":[{\"marker\":{\"pattern\":{\"fillmode\":\"overlay\",\"size\":10,\"solidity\":0.2}},\"type\":\"histogram\"}],\"scattergl\":[{\"type\":\"scattergl\",\"marker\":{\"colorbar\":{\"outlinewidth\":0,\"ticks\":\"\"}}}],\"scatter3d\":[{\"type\":\"scatter3d\",\"line\":{\"colorbar\":{\"outlinewidth\":0,\"ticks\":\"\"}},\"marker\":{\"colorbar\":{\"outlinewidth\":0,\"ticks\":\"\"}}}],\"scattermapbox\":[{\"type\":\"scattermapbox\",\"marker\":{\"colorbar\":{\"outlinewidth\":0,\"ticks\":\"\"}}}],\"scatterternary\":[{\"type\":\"scatterternary\",\"marker\":{\"colorbar\":{\"outlinewidth\":0,\"ticks\":\"\"}}}],\"scattercarpet\":[{\"type\":\"scattercarpet\",\"marker\":{\"colorbar\":{\"outlinewidth\":0,\"ticks\":\"\"}}}],\"carpet\":[{\"aaxis\":{\"endlinecolor\":\"#2a3f5f\",\"gridcolor\":\"white\",\"linecolor\":\"white\",\"minorgridcolor\":\"white\",\"startlinecolor\":\"#2a3f5f\"},\"baxis\":{\"endlinecolor\":\"#2a3f5f\",\"gridcolor\":\"white\",\"linecolor\":\"white\",\"minorgridcolor\":\"white\",\"startlinecolor\":\"#2a3f5f\"},\"type\":\"carpet\"}],\"table\":[{\"cells\":{\"fill\":{\"color\":\"#EBF0F8\"},\"line\":{\"color\":\"white\"}},\"header\":{\"fill\":{\"color\":\"#C8D4E3\"},\"line\":{\"color\":\"white\"}},\"type\":\"table\"}],\"barpolar\":[{\"marker\":{\"line\":{\"color\":\"#E5ECF6\",\"width\":0.5},\"pattern\":{\"fillmode\":\"overlay\",\"size\":10,\"solidity\":0.2}},\"type\":\"barpolar\"}],\"pie\":[{\"automargin\":true,\"type\":\"pie\"}]},\"layout\":{\"autotypenumbers\":\"strict\",\"colorway\":[\"#636efa\",\"#EF553B\",\"#00cc96\",\"#ab63fa\",\"#FFA15A\",\"#19d3f3\",\"#FF6692\",\"#B6E880\",\"#FF97FF\",\"#FECB52\"],\"font\":{\"color\":\"#2a3f5f\"},\"hovermode\":\"closest\",\"hoverlabel\":{\"align\":\"left\"},\"paper_bgcolor\":\"white\",\"plot_bgcolor\":\"#E5ECF6\",\"polar\":{\"bgcolor\":\"#E5ECF6\",\"angularaxis\":{\"gridcolor\":\"white\",\"linecolor\":\"white\",\"ticks\":\"\"},\"radialaxis\":{\"gridcolor\":\"white\",\"linecolor\":\"white\",\"ticks\":\"\"}},\"ternary\":{\"bgcolor\":\"#E5ECF6\",\"aaxis\":{\"gridcolor\":\"white\",\"linecolor\":\"white\",\"ticks\":\"\"},\"baxis\":{\"gridcolor\":\"white\",\"linecolor\":\"white\",\"ticks\":\"\"},\"caxis\":{\"gridcolor\":\"white\",\"linecolor\":\"white\",\"ticks\":\"\"}},\"coloraxis\":{\"colorbar\":{\"outlinewidth\":0,\"ticks\":\"\"}},\"colorscale\":{\"sequential\":[[0.0,\"#0d0887\"],[0.1111111111111111,\"#46039f\"],[0.2222222222222222,\"#7201a8\"],[0.3333333333333333,\"#9c179e\"],[0.4444444444444444,\"#bd3786\"],[0.5555555555555556,\"#d8576b\"],[0.6666666666666666,\"#ed7953\"],[0.7777777777777778,\"#fb9f3a\"],[0.8888888888888888,\"#fdca26\"],[1.0,\"#f0f921\"]],\"sequentialminus\":[[0.0,\"#0d0887\"],[0.1111111111111111,\"#46039f\"],[0.2222222222222222,\"#7201a8\"],[0.3333333333333333,\"#9c179e\"],[0.4444444444444444,\"#bd3786\"],[0.5555555555555556,\"#d8576b\"],[0.6666666666666666,\"#ed7953\"],[0.7777777777777778,\"#fb9f3a\"],[0.8888888888888888,\"#fdca26\"],[1.0,\"#f0f921\"]],\"diverging\":[[0,\"#8e0152\"],[0.1,\"#c51b7d\"],[0.2,\"#de77ae\"],[0.3,\"#f1b6da\"],[0.4,\"#fde0ef\"],[0.5,\"#f7f7f7\"],[0.6,\"#e6f5d0\"],[0.7,\"#b8e186\"],[0.8,\"#7fbc41\"],[0.9,\"#4d9221\"],[1,\"#276419\"]]},\"xaxis\":{\"gridcolor\":\"white\",\"linecolor\":\"white\",\"ticks\":\"\",\"title\":{\"standoff\":15},\"zerolinecolor\":\"white\",\"automargin\":true,\"zerolinewidth\":2},\"yaxis\":{\"gridcolor\":\"white\",\"linecolor\":\"white\",\"ticks\":\"\",\"title\":{\"standoff\":15},\"zerolinecolor\":\"white\",\"automargin\":true,\"zerolinewidth\":2},\"scene\":{\"xaxis\":{\"backgroundcolor\":\"#E5ECF6\",\"gridcolor\":\"white\",\"linecolor\":\"white\",\"showbackground\":true,\"ticks\":\"\",\"zerolinecolor\":\"white\",\"gridwidth\":2},\"yaxis\":{\"backgroundcolor\":\"#E5ECF6\",\"gridcolor\":\"white\",\"linecolor\":\"white\",\"showbackground\":true,\"ticks\":\"\",\"zerolinecolor\":\"white\",\"gridwidth\":2},\"zaxis\":{\"backgroundcolor\":\"#E5ECF6\",\"gridcolor\":\"white\",\"linecolor\":\"white\",\"showbackground\":true,\"ticks\":\"\",\"zerolinecolor\":\"white\",\"gridwidth\":2}},\"shapedefaults\":{\"line\":{\"color\":\"#2a3f5f\"}},\"annotationdefaults\":{\"arrowcolor\":\"#2a3f5f\",\"arrowhead\":0,\"arrowwidth\":1},\"geo\":{\"bgcolor\":\"white\",\"landcolor\":\"#E5ECF6\",\"subunitcolor\":\"white\",\"showland\":true,\"showlakes\":true,\"lakecolor\":\"white\"},\"title\":{\"x\":0.05},\"mapbox\":{\"style\":\"light\"}}},\"xaxis\":{\"anchor\":\"y\",\"domain\":[0.0,1.0],\"title\":{\"text\":\"AnnualIncomeClass\"}},\"yaxis\":{\"anchor\":\"x\",\"domain\":[0.0,1.0],\"title\":{\"text\":\"count\"}},\"legend\":{\"title\":{\"text\":\"BookedHotelOrNot\"},\"tracegroupgap\":0},\"margin\":{\"t\":60},\"barmode\":\"relative\"},                        {\"responsive\": true}                    ).then(function(){\n",
              "                            \n",
              "var gd = document.getElementById('dead5648-eb0e-4d02-91e6-69340796b2a1');\n",
              "var x = new MutationObserver(function (mutations, observer) {{\n",
              "        var display = window.getComputedStyle(gd).display;\n",
              "        if (!display || display === 'none') {{\n",
              "            console.log([gd, 'removed!']);\n",
              "            Plotly.purge(gd);\n",
              "            observer.disconnect();\n",
              "        }}\n",
              "}});\n",
              "\n",
              "// Listen for the removal of the full notebook cells\n",
              "var notebookContainer = gd.closest('#notebook-container');\n",
              "if (notebookContainer) {{\n",
              "    x.observe(notebookContainer, {childList: true});\n",
              "}}\n",
              "\n",
              "// Listen for the clearing of the current output cell\n",
              "var outputEl = gd.closest('.output');\n",
              "if (outputEl) {{\n",
              "    x.observe(outputEl, {childList: true});\n",
              "}}\n",
              "\n",
              "                        })                };                            </script>        </div>\n",
              "</body>\n",
              "</html>"
            ]
          },
          "metadata": {}
        }
      ],
      "source": [
        "fig = px.histogram(df,x='AnnualIncomeClass',color='BookedHotelOrNot')\n",
        "fig.show()"
      ]
    },
    {
      "cell_type": "markdown",
      "metadata": {
        "id": "5smmg5woB9yi"
      },
      "source": [
        "Mainly Low Income Class people not booking hotel while travelling\n",
        "\n",
        "And very low amount of High Income Clss booked hotels"
      ]
    },
    {
      "cell_type": "markdown",
      "metadata": {
        "id": "xwq8HpxPB9yi"
      },
      "source": [
        "Middle Income people travel more than High Income, there will be may reason behind it like they don't have enough time to travel they are busy in their work to earn more money or anything else also happens"
      ]
    },
    {
      "cell_type": "markdown",
      "metadata": {
        "id": "HwlAeCUHB9yi"
      },
      "source": [
        "Note : Company need to focus on how they can attract High Income family or people to their travelling plan and also attract Low Income people by provind jaw dropping deals or offers"
      ]
    },
    {
      "cell_type": "markdown",
      "metadata": {
        "id": "RvBbcJlVB9yi"
      },
      "source": [
        "As per the data Middle Income class are not a FrequentFlyer"
      ]
    },
    {
      "cell_type": "code",
      "execution_count": 205,
      "metadata": {
        "colab": {
          "base_uri": "https://localhost:8080/",
          "height": 304
        },
        "id": "vKM_TdkPB9yo",
        "outputId": "fd5b4630-407e-4b3a-df82-d7d720892545"
      },
      "outputs": [
        {
          "output_type": "execute_result",
          "data": {
            "text/plain": [
              "ServicesOpted\n",
              "1    404\n",
              "2    176\n",
              "3    124\n",
              "4    117\n",
              "5     69\n",
              "6     64\n",
              "Name: count, dtype: int64"
            ],
            "text/html": [
              "<div>\n",
              "<style scoped>\n",
              "    .dataframe tbody tr th:only-of-type {\n",
              "        vertical-align: middle;\n",
              "    }\n",
              "\n",
              "    .dataframe tbody tr th {\n",
              "        vertical-align: top;\n",
              "    }\n",
              "\n",
              "    .dataframe thead th {\n",
              "        text-align: right;\n",
              "    }\n",
              "</style>\n",
              "<table border=\"1\" class=\"dataframe\">\n",
              "  <thead>\n",
              "    <tr style=\"text-align: right;\">\n",
              "      <th></th>\n",
              "      <th>count</th>\n",
              "    </tr>\n",
              "    <tr>\n",
              "      <th>ServicesOpted</th>\n",
              "      <th></th>\n",
              "    </tr>\n",
              "  </thead>\n",
              "  <tbody>\n",
              "    <tr>\n",
              "      <th>1</th>\n",
              "      <td>404</td>\n",
              "    </tr>\n",
              "    <tr>\n",
              "      <th>2</th>\n",
              "      <td>176</td>\n",
              "    </tr>\n",
              "    <tr>\n",
              "      <th>3</th>\n",
              "      <td>124</td>\n",
              "    </tr>\n",
              "    <tr>\n",
              "      <th>4</th>\n",
              "      <td>117</td>\n",
              "    </tr>\n",
              "    <tr>\n",
              "      <th>5</th>\n",
              "      <td>69</td>\n",
              "    </tr>\n",
              "    <tr>\n",
              "      <th>6</th>\n",
              "      <td>64</td>\n",
              "    </tr>\n",
              "  </tbody>\n",
              "</table>\n",
              "</div><br><label><b>dtype:</b> int64</label>"
            ]
          },
          "metadata": {},
          "execution_count": 205
        }
      ],
      "source": [
        "df['ServicesOpted'].value_counts()"
      ]
    },
    {
      "cell_type": "markdown",
      "metadata": {
        "id": "PLf2RQ8iB9yp"
      },
      "source": [
        "Mainly Low Income Class people not booking hotel while travelling\n",
        "\n",
        "And very low amount of High Income Clss booked hotels"
      ]
    },
    {
      "cell_type": "code",
      "source": [
        "#transform categorical variable\n",
        "cleanup_nums = {'FrequentFlyer': {'No': 0, 'Yes': 1},\n",
        "                'AnnualIncomeClass': {'Low Income': 0, 'Middle Income': 1, 'High Income': 2},\n",
        "                'AccountSyncedToSocialMedia': {'No':0, 'Yes': 1},\n",
        "                'BookedHotelOrNot': {'No': 0, 'Yes': 1}}"
      ],
      "metadata": {
        "id": "xL4lbja4NWSS"
      },
      "execution_count": 206,
      "outputs": []
    },
    {
      "cell_type": "code",
      "source": [
        "df1 = df.replace(cleanup_nums)\n",
        "df1.head()"
      ],
      "metadata": {
        "colab": {
          "base_uri": "https://localhost:8080/",
          "height": 302
        },
        "id": "e8PZHdPBNdBH",
        "outputId": "6d52eec6-34fc-4507-d753-2a965d63b268"
      },
      "execution_count": 207,
      "outputs": [
        {
          "output_type": "stream",
          "name": "stderr",
          "text": [
            "<ipython-input-207-b929d7cbd704>:1: FutureWarning:\n",
            "\n",
            "Downcasting behavior in `replace` is deprecated and will be removed in a future version. To retain the old behavior, explicitly call `result.infer_objects(copy=False)`. To opt-in to the future behavior, set `pd.set_option('future.no_silent_downcasting', True)`\n",
            "\n"
          ]
        },
        {
          "output_type": "execute_result",
          "data": {
            "text/plain": [
              "   Age  FrequentFlyer  AnnualIncomeClass  ServicesOpted  \\\n",
              "0   34              0                  1              6   \n",
              "1   34              1                  0              5   \n",
              "2   37              0                  1              3   \n",
              "3   30              0                  1              2   \n",
              "4   30              0                  0              1   \n",
              "\n",
              "   AccountSyncedToSocialMedia  BookedHotelOrNot  Target  \n",
              "0                           0                 1       0  \n",
              "1                           1                 0       1  \n",
              "2                           1                 0       0  \n",
              "3                           0                 0       0  \n",
              "4                           0                 0       0  "
            ],
            "text/html": [
              "\n",
              "  <div id=\"df-3e44ee9a-3188-48da-9eb9-80657cec68ab\" class=\"colab-df-container\">\n",
              "    <div>\n",
              "<style scoped>\n",
              "    .dataframe tbody tr th:only-of-type {\n",
              "        vertical-align: middle;\n",
              "    }\n",
              "\n",
              "    .dataframe tbody tr th {\n",
              "        vertical-align: top;\n",
              "    }\n",
              "\n",
              "    .dataframe thead th {\n",
              "        text-align: right;\n",
              "    }\n",
              "</style>\n",
              "<table border=\"1\" class=\"dataframe\">\n",
              "  <thead>\n",
              "    <tr style=\"text-align: right;\">\n",
              "      <th></th>\n",
              "      <th>Age</th>\n",
              "      <th>FrequentFlyer</th>\n",
              "      <th>AnnualIncomeClass</th>\n",
              "      <th>ServicesOpted</th>\n",
              "      <th>AccountSyncedToSocialMedia</th>\n",
              "      <th>BookedHotelOrNot</th>\n",
              "      <th>Target</th>\n",
              "    </tr>\n",
              "  </thead>\n",
              "  <tbody>\n",
              "    <tr>\n",
              "      <th>0</th>\n",
              "      <td>34</td>\n",
              "      <td>0</td>\n",
              "      <td>1</td>\n",
              "      <td>6</td>\n",
              "      <td>0</td>\n",
              "      <td>1</td>\n",
              "      <td>0</td>\n",
              "    </tr>\n",
              "    <tr>\n",
              "      <th>1</th>\n",
              "      <td>34</td>\n",
              "      <td>1</td>\n",
              "      <td>0</td>\n",
              "      <td>5</td>\n",
              "      <td>1</td>\n",
              "      <td>0</td>\n",
              "      <td>1</td>\n",
              "    </tr>\n",
              "    <tr>\n",
              "      <th>2</th>\n",
              "      <td>37</td>\n",
              "      <td>0</td>\n",
              "      <td>1</td>\n",
              "      <td>3</td>\n",
              "      <td>1</td>\n",
              "      <td>0</td>\n",
              "      <td>0</td>\n",
              "    </tr>\n",
              "    <tr>\n",
              "      <th>3</th>\n",
              "      <td>30</td>\n",
              "      <td>0</td>\n",
              "      <td>1</td>\n",
              "      <td>2</td>\n",
              "      <td>0</td>\n",
              "      <td>0</td>\n",
              "      <td>0</td>\n",
              "    </tr>\n",
              "    <tr>\n",
              "      <th>4</th>\n",
              "      <td>30</td>\n",
              "      <td>0</td>\n",
              "      <td>0</td>\n",
              "      <td>1</td>\n",
              "      <td>0</td>\n",
              "      <td>0</td>\n",
              "      <td>0</td>\n",
              "    </tr>\n",
              "  </tbody>\n",
              "</table>\n",
              "</div>\n",
              "    <div class=\"colab-df-buttons\">\n",
              "\n",
              "  <div class=\"colab-df-container\">\n",
              "    <button class=\"colab-df-convert\" onclick=\"convertToInteractive('df-3e44ee9a-3188-48da-9eb9-80657cec68ab')\"\n",
              "            title=\"Convert this dataframe to an interactive table.\"\n",
              "            style=\"display:none;\">\n",
              "\n",
              "  <svg xmlns=\"http://www.w3.org/2000/svg\" height=\"24px\" viewBox=\"0 -960 960 960\">\n",
              "    <path d=\"M120-120v-720h720v720H120Zm60-500h600v-160H180v160Zm220 220h160v-160H400v160Zm0 220h160v-160H400v160ZM180-400h160v-160H180v160Zm440 0h160v-160H620v160ZM180-180h160v-160H180v160Zm440 0h160v-160H620v160Z\"/>\n",
              "  </svg>\n",
              "    </button>\n",
              "\n",
              "  <style>\n",
              "    .colab-df-container {\n",
              "      display:flex;\n",
              "      gap: 12px;\n",
              "    }\n",
              "\n",
              "    .colab-df-convert {\n",
              "      background-color: #E8F0FE;\n",
              "      border: none;\n",
              "      border-radius: 50%;\n",
              "      cursor: pointer;\n",
              "      display: none;\n",
              "      fill: #1967D2;\n",
              "      height: 32px;\n",
              "      padding: 0 0 0 0;\n",
              "      width: 32px;\n",
              "    }\n",
              "\n",
              "    .colab-df-convert:hover {\n",
              "      background-color: #E2EBFA;\n",
              "      box-shadow: 0px 1px 2px rgba(60, 64, 67, 0.3), 0px 1px 3px 1px rgba(60, 64, 67, 0.15);\n",
              "      fill: #174EA6;\n",
              "    }\n",
              "\n",
              "    .colab-df-buttons div {\n",
              "      margin-bottom: 4px;\n",
              "    }\n",
              "\n",
              "    [theme=dark] .colab-df-convert {\n",
              "      background-color: #3B4455;\n",
              "      fill: #D2E3FC;\n",
              "    }\n",
              "\n",
              "    [theme=dark] .colab-df-convert:hover {\n",
              "      background-color: #434B5C;\n",
              "      box-shadow: 0px 1px 3px 1px rgba(0, 0, 0, 0.15);\n",
              "      filter: drop-shadow(0px 1px 2px rgba(0, 0, 0, 0.3));\n",
              "      fill: #FFFFFF;\n",
              "    }\n",
              "  </style>\n",
              "\n",
              "    <script>\n",
              "      const buttonEl =\n",
              "        document.querySelector('#df-3e44ee9a-3188-48da-9eb9-80657cec68ab button.colab-df-convert');\n",
              "      buttonEl.style.display =\n",
              "        google.colab.kernel.accessAllowed ? 'block' : 'none';\n",
              "\n",
              "      async function convertToInteractive(key) {\n",
              "        const element = document.querySelector('#df-3e44ee9a-3188-48da-9eb9-80657cec68ab');\n",
              "        const dataTable =\n",
              "          await google.colab.kernel.invokeFunction('convertToInteractive',\n",
              "                                                    [key], {});\n",
              "        if (!dataTable) return;\n",
              "\n",
              "        const docLinkHtml = 'Like what you see? Visit the ' +\n",
              "          '<a target=\"_blank\" href=https://colab.research.google.com/notebooks/data_table.ipynb>data table notebook</a>'\n",
              "          + ' to learn more about interactive tables.';\n",
              "        element.innerHTML = '';\n",
              "        dataTable['output_type'] = 'display_data';\n",
              "        await google.colab.output.renderOutput(dataTable, element);\n",
              "        const docLink = document.createElement('div');\n",
              "        docLink.innerHTML = docLinkHtml;\n",
              "        element.appendChild(docLink);\n",
              "      }\n",
              "    </script>\n",
              "  </div>\n",
              "\n",
              "\n",
              "<div id=\"df-adebb26f-48a0-48fc-b682-1e1ae51abc71\">\n",
              "  <button class=\"colab-df-quickchart\" onclick=\"quickchart('df-adebb26f-48a0-48fc-b682-1e1ae51abc71')\"\n",
              "            title=\"Suggest charts\"\n",
              "            style=\"display:none;\">\n",
              "\n",
              "<svg xmlns=\"http://www.w3.org/2000/svg\" height=\"24px\"viewBox=\"0 0 24 24\"\n",
              "     width=\"24px\">\n",
              "    <g>\n",
              "        <path d=\"M19 3H5c-1.1 0-2 .9-2 2v14c0 1.1.9 2 2 2h14c1.1 0 2-.9 2-2V5c0-1.1-.9-2-2-2zM9 17H7v-7h2v7zm4 0h-2V7h2v10zm4 0h-2v-4h2v4z\"/>\n",
              "    </g>\n",
              "</svg>\n",
              "  </button>\n",
              "\n",
              "<style>\n",
              "  .colab-df-quickchart {\n",
              "      --bg-color: #E8F0FE;\n",
              "      --fill-color: #1967D2;\n",
              "      --hover-bg-color: #E2EBFA;\n",
              "      --hover-fill-color: #174EA6;\n",
              "      --disabled-fill-color: #AAA;\n",
              "      --disabled-bg-color: #DDD;\n",
              "  }\n",
              "\n",
              "  [theme=dark] .colab-df-quickchart {\n",
              "      --bg-color: #3B4455;\n",
              "      --fill-color: #D2E3FC;\n",
              "      --hover-bg-color: #434B5C;\n",
              "      --hover-fill-color: #FFFFFF;\n",
              "      --disabled-bg-color: #3B4455;\n",
              "      --disabled-fill-color: #666;\n",
              "  }\n",
              "\n",
              "  .colab-df-quickchart {\n",
              "    background-color: var(--bg-color);\n",
              "    border: none;\n",
              "    border-radius: 50%;\n",
              "    cursor: pointer;\n",
              "    display: none;\n",
              "    fill: var(--fill-color);\n",
              "    height: 32px;\n",
              "    padding: 0;\n",
              "    width: 32px;\n",
              "  }\n",
              "\n",
              "  .colab-df-quickchart:hover {\n",
              "    background-color: var(--hover-bg-color);\n",
              "    box-shadow: 0 1px 2px rgba(60, 64, 67, 0.3), 0 1px 3px 1px rgba(60, 64, 67, 0.15);\n",
              "    fill: var(--button-hover-fill-color);\n",
              "  }\n",
              "\n",
              "  .colab-df-quickchart-complete:disabled,\n",
              "  .colab-df-quickchart-complete:disabled:hover {\n",
              "    background-color: var(--disabled-bg-color);\n",
              "    fill: var(--disabled-fill-color);\n",
              "    box-shadow: none;\n",
              "  }\n",
              "\n",
              "  .colab-df-spinner {\n",
              "    border: 2px solid var(--fill-color);\n",
              "    border-color: transparent;\n",
              "    border-bottom-color: var(--fill-color);\n",
              "    animation:\n",
              "      spin 1s steps(1) infinite;\n",
              "  }\n",
              "\n",
              "  @keyframes spin {\n",
              "    0% {\n",
              "      border-color: transparent;\n",
              "      border-bottom-color: var(--fill-color);\n",
              "      border-left-color: var(--fill-color);\n",
              "    }\n",
              "    20% {\n",
              "      border-color: transparent;\n",
              "      border-left-color: var(--fill-color);\n",
              "      border-top-color: var(--fill-color);\n",
              "    }\n",
              "    30% {\n",
              "      border-color: transparent;\n",
              "      border-left-color: var(--fill-color);\n",
              "      border-top-color: var(--fill-color);\n",
              "      border-right-color: var(--fill-color);\n",
              "    }\n",
              "    40% {\n",
              "      border-color: transparent;\n",
              "      border-right-color: var(--fill-color);\n",
              "      border-top-color: var(--fill-color);\n",
              "    }\n",
              "    60% {\n",
              "      border-color: transparent;\n",
              "      border-right-color: var(--fill-color);\n",
              "    }\n",
              "    80% {\n",
              "      border-color: transparent;\n",
              "      border-right-color: var(--fill-color);\n",
              "      border-bottom-color: var(--fill-color);\n",
              "    }\n",
              "    90% {\n",
              "      border-color: transparent;\n",
              "      border-bottom-color: var(--fill-color);\n",
              "    }\n",
              "  }\n",
              "</style>\n",
              "\n",
              "  <script>\n",
              "    async function quickchart(key) {\n",
              "      const quickchartButtonEl =\n",
              "        document.querySelector('#' + key + ' button');\n",
              "      quickchartButtonEl.disabled = true;  // To prevent multiple clicks.\n",
              "      quickchartButtonEl.classList.add('colab-df-spinner');\n",
              "      try {\n",
              "        const charts = await google.colab.kernel.invokeFunction(\n",
              "            'suggestCharts', [key], {});\n",
              "      } catch (error) {\n",
              "        console.error('Error during call to suggestCharts:', error);\n",
              "      }\n",
              "      quickchartButtonEl.classList.remove('colab-df-spinner');\n",
              "      quickchartButtonEl.classList.add('colab-df-quickchart-complete');\n",
              "    }\n",
              "    (() => {\n",
              "      let quickchartButtonEl =\n",
              "        document.querySelector('#df-adebb26f-48a0-48fc-b682-1e1ae51abc71 button');\n",
              "      quickchartButtonEl.style.display =\n",
              "        google.colab.kernel.accessAllowed ? 'block' : 'none';\n",
              "    })();\n",
              "  </script>\n",
              "</div>\n",
              "\n",
              "    </div>\n",
              "  </div>\n"
            ],
            "application/vnd.google.colaboratory.intrinsic+json": {
              "type": "dataframe",
              "variable_name": "df1",
              "summary": "{\n  \"name\": \"df1\",\n  \"rows\": 954,\n  \"fields\": [\n    {\n      \"column\": \"Age\",\n      \"properties\": {\n        \"dtype\": \"number\",\n        \"std\": 3,\n        \"min\": 27,\n        \"max\": 38,\n        \"num_unique_values\": 11,\n        \"samples\": [\n          28,\n          34,\n          33\n        ],\n        \"semantic_type\": \"\",\n        \"description\": \"\"\n      }\n    },\n    {\n      \"column\": \"FrequentFlyer\",\n      \"properties\": {\n        \"dtype\": \"number\",\n        \"std\": 0,\n        \"min\": 0,\n        \"max\": 1,\n        \"num_unique_values\": 2,\n        \"samples\": [\n          1,\n          0\n        ],\n        \"semantic_type\": \"\",\n        \"description\": \"\"\n      }\n    },\n    {\n      \"column\": \"AnnualIncomeClass\",\n      \"properties\": {\n        \"dtype\": \"number\",\n        \"std\": 0,\n        \"min\": 0,\n        \"max\": 2,\n        \"num_unique_values\": 3,\n        \"samples\": [\n          1,\n          0\n        ],\n        \"semantic_type\": \"\",\n        \"description\": \"\"\n      }\n    },\n    {\n      \"column\": \"ServicesOpted\",\n      \"properties\": {\n        \"dtype\": \"number\",\n        \"std\": 1,\n        \"min\": 1,\n        \"max\": 6,\n        \"num_unique_values\": 6,\n        \"samples\": [\n          6,\n          5\n        ],\n        \"semantic_type\": \"\",\n        \"description\": \"\"\n      }\n    },\n    {\n      \"column\": \"AccountSyncedToSocialMedia\",\n      \"properties\": {\n        \"dtype\": \"number\",\n        \"std\": 0,\n        \"min\": 0,\n        \"max\": 1,\n        \"num_unique_values\": 2,\n        \"samples\": [\n          1,\n          0\n        ],\n        \"semantic_type\": \"\",\n        \"description\": \"\"\n      }\n    },\n    {\n      \"column\": \"BookedHotelOrNot\",\n      \"properties\": {\n        \"dtype\": \"number\",\n        \"std\": 0,\n        \"min\": 0,\n        \"max\": 1,\n        \"num_unique_values\": 2,\n        \"samples\": [\n          0,\n          1\n        ],\n        \"semantic_type\": \"\",\n        \"description\": \"\"\n      }\n    },\n    {\n      \"column\": \"Target\",\n      \"properties\": {\n        \"dtype\": \"number\",\n        \"std\": 0,\n        \"min\": 0,\n        \"max\": 1,\n        \"num_unique_values\": 2,\n        \"samples\": [\n          1,\n          0\n        ],\n        \"semantic_type\": \"\",\n        \"description\": \"\"\n      }\n    }\n  ]\n}"
            }
          },
          "metadata": {},
          "execution_count": 207
        }
      ]
    },
    {
      "cell_type": "code",
      "execution_count": 208,
      "metadata": {
        "colab": {
          "base_uri": "https://localhost:8080/"
        },
        "id": "s8U1nOlZB9yp",
        "outputId": "740f60e8-8cda-43da-d4ef-f50b4dc77d19"
      },
      "outputs": [
        {
          "output_type": "stream",
          "name": "stdout",
          "text": [
            "(667, 6)\n",
            "(667,)\n",
            "(287, 6)\n",
            "(287,)\n"
          ]
        }
      ],
      "source": [
        "#split data\n",
        "X = df1.drop('Target', axis = 1)\n",
        "y = df1['Target']\n",
        "X_train, X_test, y_train, y_test = train_test_split(X, y, test_size = 0.3, random_state = 0)\n",
        "print(X_train.shape)\n",
        "print(y_train.shape)\n",
        "print(X_test.shape)\n",
        "print(y_test.shape)"
      ]
    },
    {
      "cell_type": "markdown",
      "metadata": {
        "id": "TfsCLUJrB9yp"
      },
      "source": [
        "#Classification Model"
      ]
    },
    {
      "cell_type": "code",
      "execution_count": 209,
      "metadata": {
        "id": "n1G5wImwB9yq"
      },
      "outputs": [],
      "source": [
        "#prepare models\n",
        "classifiers = [\n",
        "    KNeighborsClassifier(n_neighbors = 5),\n",
        "    SVC(kernel = 'linear', gamma = 'auto', C = 5, probability = True),\n",
        "    LinearSVC(),\n",
        "    DecisionTreeClassifier(max_depth = 3),\n",
        "    RandomForestClassifier(random_state = 1, max_features = 'sqrt', n_jobs = 1, verbose = 1),\n",
        "    XGBClassifier(),\n",
        "    AdaBoostClassifier(),\n",
        "    GradientBoostingClassifier(),\n",
        "    GaussianNB(),\n",
        "    LinearDiscriminantAnalysis(),\n",
        "    QuadraticDiscriminantAnalysis()]"
      ]
    },
    {
      "cell_type": "markdown",
      "metadata": {
        "id": "KOsxcsJYB9yq"
      },
      "source": [
        "# Data Extraction"
      ]
    },
    {
      "cell_type": "code",
      "execution_count": 210,
      "metadata": {
        "colab": {
          "base_uri": "https://localhost:8080/"
        },
        "id": "Pk9JjrBnB9yq",
        "outputId": "c4e58219-f325-48f6-b791-4d7933355ad1"
      },
      "outputs": [
        {
          "output_type": "stream",
          "name": "stderr",
          "text": [
            "<ipython-input-210-82ed46dd77e3>:22: FutureWarning:\n",
            "\n",
            "The behavior of DataFrame concatenation with empty or all-NA entries is deprecated. In a future version, this will no longer exclude empty or all-NA columns when determining the result dtypes. To retain the old behavior, exclude the relevant entries before the concat operation.\n",
            "\n"
          ]
        },
        {
          "output_type": "stream",
          "name": "stdout",
          "text": [
            "==============================\n",
            "KNeighborsClassifier\n",
            "****Results****\n",
            "Accuracy: 87.1080%\n",
            "Log Loss: 4.646742771419284\n",
            "\n",
            "\n",
            "==============================\n",
            "SVC\n",
            "****Results****\n",
            "Accuracy: 82.2300%\n",
            "Log Loss: 6.404969766010365\n",
            "\n",
            "\n",
            "==============================\n",
            "LinearSVC\n",
            "****Results****\n",
            "Accuracy: 83.6237%\n",
            "Log Loss: 5.902619196127199\n",
            "\n",
            "\n",
            "==============================\n",
            "DecisionTreeClassifier\n",
            "****Results****\n",
            "Accuracy: 84.6690%\n",
            "Log Loss: 5.525856268714825\n",
            "\n",
            "\n"
          ]
        },
        {
          "output_type": "stream",
          "name": "stderr",
          "text": [
            "[Parallel(n_jobs=1)]: Done  49 tasks      | elapsed:    0.1s\n",
            "[Parallel(n_jobs=1)]: Done  49 tasks      | elapsed:    0.0s\n",
            "[Parallel(n_jobs=1)]: Done  49 tasks      | elapsed:    0.0s\n"
          ]
        },
        {
          "output_type": "stream",
          "name": "stdout",
          "text": [
            "==============================\n",
            "RandomForestClassifier\n",
            "****Results****\n",
            "Accuracy: 87.8049%\n",
            "Log Loss: 4.3955674864777015\n",
            "\n",
            "\n",
            "==============================\n",
            "XGBClassifier\n",
            "****Results****\n",
            "Accuracy: 88.5017%\n",
            "Log Loss: 4.144392201536118\n",
            "\n",
            "\n",
            "==============================\n",
            "AdaBoostClassifier\n",
            "****Results****\n"
          ]
        },
        {
          "output_type": "stream",
          "name": "stderr",
          "text": [
            "/usr/local/lib/python3.10/dist-packages/sklearn/ensemble/_weight_boosting.py:527: FutureWarning:\n",
            "\n",
            "The SAMME.R algorithm (the default) is deprecated and will be removed in 1.6. Use the SAMME algorithm to circumvent this warning.\n",
            "\n"
          ]
        },
        {
          "output_type": "stream",
          "name": "stdout",
          "text": [
            "Accuracy: 85.0174%\n",
            "Log Loss: 5.400268626244033\n",
            "\n",
            "\n",
            "==============================\n",
            "GradientBoostingClassifier\n",
            "****Results****\n",
            "Accuracy: 89.5470%\n",
            "Log Loss: 3.7676292741237445\n",
            "\n",
            "\n",
            "==============================\n",
            "GaussianNB\n",
            "****Results****\n",
            "Accuracy: 79.7909%\n",
            "Log Loss: 7.284083263305905\n",
            "\n",
            "\n",
            "==============================\n",
            "LinearDiscriminantAnalysis\n",
            "****Results****\n",
            "Accuracy: 82.9268%\n",
            "Log Loss: 6.153794481068781\n",
            "\n",
            "\n",
            "==============================\n",
            "QuadraticDiscriminantAnalysis\n",
            "****Results****\n",
            "Accuracy: 83.2753%\n",
            "Log Loss: 6.02820683859799\n",
            "\n",
            "\n",
            "==============================\n"
          ]
        }
      ],
      "source": [
        "#report models\n",
        "log_cols=[\"Classifier\", \"Accuracy\", \"Log Loss\"]\n",
        "log = pd.DataFrame(columns = log_cols)\n",
        "\n",
        "for clf in classifiers:\n",
        "    clf.fit(X_train, y_train)\n",
        "    name = clf.__class__.__name__\n",
        "    print(\"=\" * 30)\n",
        "    print(name)\n",
        "    print('****Results****')\n",
        "\n",
        "    train_predictions = clf.predict(X_test)\n",
        "    acc = accuracy_score(y_test, train_predictions)\n",
        "    print(\"Accuracy: {:.4%}\".format(acc))\n",
        "\n",
        "    train_predictions = clf.predict(X_test)\n",
        "    ll = log_loss(y_test, train_predictions)\n",
        "    print(\"Log Loss: {}\".format(ll))\n",
        "    print(\"\\n\")\n",
        "\n",
        "    log_entry = pd.DataFrame([[name, acc * 100, ll]], columns = log_cols)\n",
        "    log = pd.concat([log, log_entry], ignore_index=True)  # Concatenate and reset index\n",
        "\n",
        "# If 'log' doesn't exist yet:\n",
        "if log is None:\n",
        "    log = log_entry.copy()  # Create a new DataFrame from the first entry\n",
        "\n",
        "print(\"=\" * 30)"
      ]
    },
    {
      "cell_type": "code",
      "execution_count": 211,
      "metadata": {
        "colab": {
          "base_uri": "https://localhost:8080/",
          "height": 564
        },
        "id": "LixYMongB9yr",
        "outputId": "42b9378c-47a3-4fd4-fed7-3edbb48a3f7b"
      },
      "outputs": [
        {
          "output_type": "display_data",
          "data": {
            "text/plain": [
              "<Figure size 1000x600 with 1 Axes>"
            ],
            "image/png": "[encoded data removed]"
          },
          "metadata": {}
        }
      ],
      "source": [
        "#visualize accuracy models\n",
        "plt.figure(figsize = (10,6))\n",
        "sns.set_color_codes(\"muted\")\n",
        "sns.barplot(x = 'Accuracy', y = 'Classifier', data = log, color = \"red\")\n",
        "plt.xlabel('Accuracy %')\n",
        "plt.title('Accuracy of Classification Model')\n",
        "plt.show()\n",
        "sns.set_color_codes(\"muted\")\n",
        "plt.show()"
      ]
    },
    {
      "cell_type": "code",
      "execution_count": 212,
      "metadata": {
        "id": "8STtBtqqB9yr",
        "colab": {
          "base_uri": "https://localhost:8080/",
          "height": 564
        },
        "outputId": "21b03d56-d05c-4071-d8af-6190c2431a86"
      },
      "outputs": [
        {
          "output_type": "display_data",
          "data": {
            "text/plain": [
              "<Figure size 1000x600 with 1 Axes>"
            ],
            "image/png": "[encoded data removed]"
          },
          "metadata": {}
        }
      ],
      "source": [
        "#visualize log loss models\n",
        "plt.figure(figsize = (10,6))\n",
        "sns.barplot(x = 'Log Loss', y = 'Classifier', data = log, color = \"blue\")\n",
        "plt.xlabel('Log Loss')\n",
        "plt.title('Log Loss of Classification Model')\n",
        "plt.show()"
      ]
    },
    {
      "cell_type": "markdown",
      "metadata": {
        "id": "NlBsc_yNB9yr"
      },
      "source": [
        "## Extreme Gradient Boosting Model is the best score result"
      ]
    },
    {
      "cell_type": "code",
      "execution_count": 213,
      "metadata": {
        "id": "LBWQTYkiB9yr",
        "colab": {
          "base_uri": "https://localhost:8080/"
        },
        "outputId": "007ea873-8687-4654-9195-6d97e62a6607"
      },
      "outputs": [
        {
          "output_type": "stream",
          "name": "stdout",
          "text": [
            "CPU times: user 109 ms, sys: 892 µs, total: 110 ms\n",
            "Wall time: 86.2 ms\n"
          ]
        },
        {
          "output_type": "execute_result",
          "data": {
            "text/plain": [
              "0.8850174216027874"
            ]
          },
          "metadata": {},
          "execution_count": 213
        }
      ],
      "source": [
        "#build model\n",
        "xgb = XGBClassifier()\n",
        "%time xgb.fit(X_train, y_train)\n",
        "xgb.score(X_test, y_test)"
      ]
    },
    {
      "cell_type": "code",
      "execution_count": 214,
      "metadata": {
        "id": "WGPF0EO9B9yr",
        "colab": {
          "base_uri": "https://localhost:8080/"
        },
        "outputId": "27253503-6238-4ced-c34e-5aad9c310a27"
      },
      "outputs": [
        {
          "output_type": "stream",
          "name": "stdout",
          "text": [
            "[0 0 0 0 0 0 0 0 1 1 0 0 1 0 1 1 0 1 1 0 0 0 0 0 1 0 0 1 0 0 0 1 0 0 0 0 0\n",
            " 0 0 0 0 0 0 0 0 0 0 0 1 0 0 0 0 0 0 0 0 0 1 0 0 0 0 1 1 0 1 0 0 0 0 1 0 0\n",
            " 0 0 0 1 1 0 0 0 0 0 0 1 0 0 0 0 0 1 0 0 1 0 0 0 0 0 0 1 1 0 1 0 0 0 0 0 0\n",
            " 0 0 0 1 0 0 0 0 1 0 0 0 0 0 0 0 0 0 0 0 0 0 0 1 0 0 0 0 0 0 0 1 0 0 0 0 0\n",
            " 0 1 1 1 0 1 0 1 0 0 0 0 1 0 0 0 0 0 0 0 1 1 0 0 1 0 0 0 0 0 0 0 0 0 0 0 0\n",
            " 0 0 0 1 0 0 0 0 0 0 1 0 1 1 0 0 1 0 1 0 0 0 0 0 1 0 0 1 0 0 0 0 0 1 0 1 0\n",
            " 1 0 0 0 0 0 0 0 0 0 1 0 0 0 0 0 0 1 0 0 0 0 0 0 0 0 0 1 0 0 0 0 1 0 1 0 0\n",
            " 0 0 0 0 0 0 0 0 1 0 0 1 0 1 0 1 0 0 0 1 0 1 1 0 0 1 0 1]\n"
          ]
        }
      ],
      "source": [
        "#prediction\n",
        "y_pred = xgb.predict(X_test)\n",
        "print(y_pred)"
      ]
    },
    {
      "cell_type": "code",
      "execution_count": 215,
      "metadata": {
        "id": "qk2SkqSsB9ys",
        "colab": {
          "base_uri": "https://localhost:8080/"
        },
        "outputId": "1d014f27-b612-407c-ebc0-79cf1ab2d65e"
      },
      "outputs": [
        {
          "output_type": "stream",
          "name": "stdout",
          "text": [
            "MSE: 0.11498257839721254\n",
            "RMSE: 0.33909081143141073\n"
          ]
        }
      ],
      "source": [
        "#report of MSE & RMSE\n",
        "mse = metrics.mean_squared_error(y_test, y_pred)\n",
        "print('MSE: '+ str(mse))\n",
        "rmse = math.sqrt(metrics.mean_squared_error(y_test, y_pred))\n",
        "print('RMSE: '+ str(rmse))"
      ]
    },
    {
      "cell_type": "code",
      "execution_count": 216,
      "metadata": {
        "id": "uPlp0dUrB9ys",
        "colab": {
          "base_uri": "https://localhost:8080/",
          "height": 602
        },
        "outputId": "cedf0fec-de95-4baa-888b-dbac56a1d3c7"
      },
      "outputs": [
        {
          "output_type": "stream",
          "name": "stdout",
          "text": [
            "[[208  16]\n",
            " [ 17  46]]\n"
          ]
        },
        {
          "output_type": "display_data",
          "data": {
            "text/plain": [
              "<Figure size 800x600 with 2 Axes>"
            ],
            "image/png": "[encoded data removed]"
          },
          "metadata": {}
        }
      ],
      "source": [
        "#confusion matrix\n",
        "matrix = metrics.confusion_matrix(y_test, y_pred)\n",
        "print(matrix)\n",
        "\n",
        "#heatmap matrix\n",
        "plt.figure(figsize = (8,6))\n",
        "sns.heatmap(matrix, annot = True, fmt = \".0f\", cmap = 'viridis')\n",
        "plt.title(\"Confusion Matrix\")\n",
        "plt.xlabel(\"Prediction\")\n",
        "plt.ylabel(\"Actual\")\n",
        "plt.show()"
      ]
    },
    {
      "cell_type": "code",
      "execution_count": 217,
      "metadata": {
        "id": "boAzxJp_B9ys",
        "colab": {
          "base_uri": "https://localhost:8080/"
        },
        "outputId": "ae2335ce-02f8-446f-ac97-fd031ae1fa10"
      },
      "outputs": [
        {
          "output_type": "stream",
          "name": "stdout",
          "text": [
            "              precision    recall  f1-score   support\n",
            "\n",
            "           0       0.92      0.93      0.93       224\n",
            "           1       0.74      0.73      0.74        63\n",
            "\n",
            "    accuracy                           0.89       287\n",
            "   macro avg       0.83      0.83      0.83       287\n",
            "weighted avg       0.88      0.89      0.88       287\n",
            "\n"
          ]
        }
      ],
      "source": [
        "#classification report\n",
        "report = metrics.classification_report(y_test, y_pred)\n",
        "print(report)"
      ]
    },
    {
      "cell_type": "markdown",
      "metadata": {
        "id": "OutdBMAWB9ys"
      },
      "source": [
        "# Visualization"
      ]
    },
    {
      "cell_type": "code",
      "execution_count": 230,
      "metadata": {
        "id": "5mMfHdoEB9ys",
        "colab": {
          "base_uri": "https://localhost:8080/",
          "height": 1000
        },
        "outputId": "9576418f-9cee-4a19-f418-2e9d3097c847"
      },
      "outputs": [
        {
          "output_type": "stream",
          "name": "stderr",
          "text": [
            "<ipython-input-230-719fe07e8b9b>:2: FutureWarning:\n",
            "\n",
            "ChainedAssignmentError: behaviour will change in pandas 3.0!\n",
            "You are setting values through chained assignment. Currently this works in certain cases, but when using Copy-on-Write (which will become the default behaviour in pandas 3.0) this will never work to update the original DataFrame or Series, because the intermediate object on which we are setting values will behave as a copy.\n",
            "A typical example is when you are setting values in a column of a DataFrame, like:\n",
            "\n",
            "df[\"col\"][row_indexer] = value\n",
            "\n",
            "Use `df.loc[row_indexer, \"col\"] = values` instead, to perform the assignment in a single step and ensure this keeps updating the original `df`.\n",
            "\n",
            "See the caveats in the documentation: https://pandas.pydata.org/pandas-docs/stable/user_guide/indexing.html#returning-a-view-versus-a-copy\n",
            "\n",
            "\n",
            "<ipython-input-230-719fe07e8b9b>:2: FutureWarning:\n",
            "\n",
            "Setting an item of incompatible dtype is deprecated and will raise an error in a future version of pandas. Value 'No' has dtype incompatible with int64, please explicitly cast to a compatible dtype first.\n",
            "\n",
            "<ipython-input-230-719fe07e8b9b>:3: FutureWarning:\n",
            "\n",
            "ChainedAssignmentError: behaviour will change in pandas 3.0!\n",
            "You are setting values through chained assignment. Currently this works in certain cases, but when using Copy-on-Write (which will become the default behaviour in pandas 3.0) this will never work to update the original DataFrame or Series, because the intermediate object on which we are setting values will behave as a copy.\n",
            "A typical example is when you are setting values in a column of a DataFrame, like:\n",
            "\n",
            "df[\"col\"][row_indexer] = value\n",
            "\n",
            "Use `df.loc[row_indexer, \"col\"] = values` instead, to perform the assignment in a single step and ensure this keeps updating the original `df`.\n",
            "\n",
            "See the caveats in the documentation: https://pandas.pydata.org/pandas-docs/stable/user_guide/indexing.html#returning-a-view-versus-a-copy\n",
            "\n",
            "\n",
            "<ipython-input-230-719fe07e8b9b>:3: SettingWithCopyWarning:\n",
            "\n",
            "\n",
            "A value is trying to be set on a copy of a slice from a DataFrame\n",
            "\n",
            "See the caveats in the documentation: https://pandas.pydata.org/pandas-docs/stable/user_guide/indexing.html#returning-a-view-versus-a-copy\n",
            "\n",
            "<ipython-input-230-719fe07e8b9b>:6: FutureWarning:\n",
            "\n",
            "ChainedAssignmentError: behaviour will change in pandas 3.0!\n",
            "You are setting values through chained assignment. Currently this works in certain cases, but when using Copy-on-Write (which will become the default behaviour in pandas 3.0) this will never work to update the original DataFrame or Series, because the intermediate object on which we are setting values will behave as a copy.\n",
            "A typical example is when you are setting values in a column of a DataFrame, like:\n",
            "\n",
            "df[\"col\"][row_indexer] = value\n",
            "\n",
            "Use `df.loc[row_indexer, \"col\"] = values` instead, to perform the assignment in a single step and ensure this keeps updating the original `df`.\n",
            "\n",
            "See the caveats in the documentation: https://pandas.pydata.org/pandas-docs/stable/user_guide/indexing.html#returning-a-view-versus-a-copy\n",
            "\n",
            "\n",
            "<ipython-input-230-719fe07e8b9b>:6: SettingWithCopyWarning:\n",
            "\n",
            "\n",
            "A value is trying to be set on a copy of a slice from a DataFrame\n",
            "\n",
            "See the caveats in the documentation: https://pandas.pydata.org/pandas-docs/stable/user_guide/indexing.html#returning-a-view-versus-a-copy\n",
            "\n",
            "<ipython-input-230-719fe07e8b9b>:6: FutureWarning:\n",
            "\n",
            "Setting an item of incompatible dtype is deprecated and will raise an error in a future version of pandas. Value 'Low Income' has dtype incompatible with int64, please explicitly cast to a compatible dtype first.\n",
            "\n",
            "<ipython-input-230-719fe07e8b9b>:11: FutureWarning:\n",
            "\n",
            "ChainedAssignmentError: behaviour will change in pandas 3.0!\n",
            "You are setting values through chained assignment. Currently this works in certain cases, but when using Copy-on-Write (which will become the default behaviour in pandas 3.0) this will never work to update the original DataFrame or Series, because the intermediate object on which we are setting values will behave as a copy.\n",
            "A typical example is when you are setting values in a column of a DataFrame, like:\n",
            "\n",
            "df[\"col\"][row_indexer] = value\n",
            "\n",
            "Use `df.loc[row_indexer, \"col\"] = values` instead, to perform the assignment in a single step and ensure this keeps updating the original `df`.\n",
            "\n",
            "See the caveats in the documentation: https://pandas.pydata.org/pandas-docs/stable/user_guide/indexing.html#returning-a-view-versus-a-copy\n",
            "\n",
            "\n",
            "<ipython-input-230-719fe07e8b9b>:11: SettingWithCopyWarning:\n",
            "\n",
            "\n",
            "A value is trying to be set on a copy of a slice from a DataFrame\n",
            "\n",
            "See the caveats in the documentation: https://pandas.pydata.org/pandas-docs/stable/user_guide/indexing.html#returning-a-view-versus-a-copy\n",
            "\n",
            "<ipython-input-230-719fe07e8b9b>:11: FutureWarning:\n",
            "\n",
            "Setting an item of incompatible dtype is deprecated and will raise an error in a future version of pandas. Value 'No' has dtype incompatible with int64, please explicitly cast to a compatible dtype first.\n",
            "\n",
            "<ipython-input-230-719fe07e8b9b>:15: FutureWarning:\n",
            "\n",
            "ChainedAssignmentError: behaviour will change in pandas 3.0!\n",
            "You are setting values through chained assignment. Currently this works in certain cases, but when using Copy-on-Write (which will become the default behaviour in pandas 3.0) this will never work to update the original DataFrame or Series, because the intermediate object on which we are setting values will behave as a copy.\n",
            "A typical example is when you are setting values in a column of a DataFrame, like:\n",
            "\n",
            "df[\"col\"][row_indexer] = value\n",
            "\n",
            "Use `df.loc[row_indexer, \"col\"] = values` instead, to perform the assignment in a single step and ensure this keeps updating the original `df`.\n",
            "\n",
            "See the caveats in the documentation: https://pandas.pydata.org/pandas-docs/stable/user_guide/indexing.html#returning-a-view-versus-a-copy\n",
            "\n",
            "\n",
            "<ipython-input-230-719fe07e8b9b>:15: SettingWithCopyWarning:\n",
            "\n",
            "\n",
            "A value is trying to be set on a copy of a slice from a DataFrame\n",
            "\n",
            "See the caveats in the documentation: https://pandas.pydata.org/pandas-docs/stable/user_guide/indexing.html#returning-a-view-versus-a-copy\n",
            "\n",
            "<ipython-input-230-719fe07e8b9b>:15: FutureWarning:\n",
            "\n",
            "Setting an item of incompatible dtype is deprecated and will raise an error in a future version of pandas. Value 'No' has dtype incompatible with int64, please explicitly cast to a compatible dtype first.\n",
            "\n",
            "<ipython-input-230-719fe07e8b9b>:19: SettingWithCopyWarning:\n",
            "\n",
            "\n",
            "A value is trying to be set on a copy of a slice from a DataFrame\n",
            "\n",
            "See the caveats in the documentation: https://pandas.pydata.org/pandas-docs/stable/user_guide/indexing.html#returning-a-view-versus-a-copy\n",
            "\n",
            "<ipython-input-230-719fe07e8b9b>:19: FutureWarning:\n",
            "\n",
            "Setting an item of incompatible dtype is deprecated and will raise an error in a future version of pandas. Value 'Customer Does Not Churn' has dtype incompatible with int64, please explicitly cast to a compatible dtype first.\n",
            "\n"
          ]
        },
        {
          "output_type": "execute_result",
          "data": {
            "text/plain": [
              "   Age FrequentFlyer AnnualIncomeClass  ServicesOpted  \\\n",
              "0   34            No     Middle Income              6   \n",
              "1   34             1        Low Income              5   \n",
              "2   37            No     Middle Income              3   \n",
              "3   30            No     Middle Income              2   \n",
              "4   30            No        Low Income              1   \n",
              "\n",
              "  AccountSyncedToSocialMedia BookedHotelOrNot                   Target  \n",
              "0                         No              Yes  Customer Does Not Churn  \n",
              "1                        Yes               No           Customer Churn  \n",
              "2                        Yes               No  Customer Does Not Churn  \n",
              "3                         No               No  Customer Does Not Churn  \n",
              "4                         No               No  Customer Does Not Churn  "
            ],
            "text/html": [
              "\n",
              "  <div id=\"df-9cc29dbf-1df2-4685-9eb9-fa6b445a3fe4\" class=\"colab-df-container\">\n",
              "    <div>\n",
              "<style scoped>\n",
              "    .dataframe tbody tr th:only-of-type {\n",
              "        vertical-align: middle;\n",
              "    }\n",
              "\n",
              "    .dataframe tbody tr th {\n",
              "        vertical-align: top;\n",
              "    }\n",
              "\n",
              "    .dataframe thead th {\n",
              "        text-align: right;\n",
              "    }\n",
              "</style>\n",
              "<table border=\"1\" class=\"dataframe\">\n",
              "  <thead>\n",
              "    <tr style=\"text-align: right;\">\n",
              "      <th></th>\n",
              "      <th>Age</th>\n",
              "      <th>FrequentFlyer</th>\n",
              "      <th>AnnualIncomeClass</th>\n",
              "      <th>ServicesOpted</th>\n",
              "      <th>AccountSyncedToSocialMedia</th>\n",
              "      <th>BookedHotelOrNot</th>\n",
              "      <th>Target</th>\n",
              "    </tr>\n",
              "  </thead>\n",
              "  <tbody>\n",
              "    <tr>\n",
              "      <th>0</th>\n",
              "      <td>34</td>\n",
              "      <td>No</td>\n",
              "      <td>Middle Income</td>\n",
              "      <td>6</td>\n",
              "      <td>No</td>\n",
              "      <td>Yes</td>\n",
              "      <td>Customer Does Not Churn</td>\n",
              "    </tr>\n",
              "    <tr>\n",
              "      <th>1</th>\n",
              "      <td>34</td>\n",
              "      <td>1</td>\n",
              "      <td>Low Income</td>\n",
              "      <td>5</td>\n",
              "      <td>Yes</td>\n",
              "      <td>No</td>\n",
              "      <td>Customer Churn</td>\n",
              "    </tr>\n",
              "    <tr>\n",
              "      <th>2</th>\n",
              "      <td>37</td>\n",
              "      <td>No</td>\n",
              "      <td>Middle Income</td>\n",
              "      <td>3</td>\n",
              "      <td>Yes</td>\n",
              "      <td>No</td>\n",
              "      <td>Customer Does Not Churn</td>\n",
              "    </tr>\n",
              "    <tr>\n",
              "      <th>3</th>\n",
              "      <td>30</td>\n",
              "      <td>No</td>\n",
              "      <td>Middle Income</td>\n",
              "      <td>2</td>\n",
              "      <td>No</td>\n",
              "      <td>No</td>\n",
              "      <td>Customer Does Not Churn</td>\n",
              "    </tr>\n",
              "    <tr>\n",
              "      <th>4</th>\n",
              "      <td>30</td>\n",
              "      <td>No</td>\n",
              "      <td>Low Income</td>\n",
              "      <td>1</td>\n",
              "      <td>No</td>\n",
              "      <td>No</td>\n",
              "      <td>Customer Does Not Churn</td>\n",
              "    </tr>\n",
              "  </tbody>\n",
              "</table>\n",
              "</div>\n",
              "    <div class=\"colab-df-buttons\">\n",
              "\n",
              "  <div class=\"colab-df-container\">\n",
              "    <button class=\"colab-df-convert\" onclick=\"convertToInteractive('df-9cc29dbf-1df2-4685-9eb9-fa6b445a3fe4')\"\n",
              "            title=\"Convert this dataframe to an interactive table.\"\n",
              "            style=\"display:none;\">\n",
              "\n",
              "  <svg xmlns=\"http://www.w3.org/2000/svg\" height=\"24px\" viewBox=\"0 -960 960 960\">\n",
              "    <path d=\"M120-120v-720h720v720H120Zm60-500h600v-160H180v160Zm220 220h160v-160H400v160Zm0 220h160v-160H400v160ZM180-400h160v-160H180v160Zm440 0h160v-160H620v160ZM180-180h160v-160H180v160Zm440 0h160v-160H620v160Z\"/>\n",
              "  </svg>\n",
              "    </button>\n",
              "\n",
              "  <style>\n",
              "    .colab-df-container {\n",
              "      display:flex;\n",
              "      gap: 12px;\n",
              "    }\n",
              "\n",
              "    .colab-df-convert {\n",
              "      background-color: #E8F0FE;\n",
              "      border: none;\n",
              "      border-radius: 50%;\n",
              "      cursor: pointer;\n",
              "      display: none;\n",
              "      fill: #1967D2;\n",
              "      height: 32px;\n",
              "      padding: 0 0 0 0;\n",
              "      width: 32px;\n",
              "    }\n",
              "\n",
              "    .colab-df-convert:hover {\n",
              "      background-color: #E2EBFA;\n",
              "      box-shadow: 0px 1px 2px rgba(60, 64, 67, 0.3), 0px 1px 3px 1px rgba(60, 64, 67, 0.15);\n",
              "      fill: #174EA6;\n",
              "    }\n",
              "\n",
              "    .colab-df-buttons div {\n",
              "      margin-bottom: 4px;\n",
              "    }\n",
              "\n",
              "    [theme=dark] .colab-df-convert {\n",
              "      background-color: #3B4455;\n",
              "      fill: #D2E3FC;\n",
              "    }\n",
              "\n",
              "    [theme=dark] .colab-df-convert:hover {\n",
              "      background-color: #434B5C;\n",
              "      box-shadow: 0px 1px 3px 1px rgba(0, 0, 0, 0.15);\n",
              "      filter: drop-shadow(0px 1px 2px rgba(0, 0, 0, 0.3));\n",
              "      fill: #FFFFFF;\n",
              "    }\n",
              "  </style>\n",
              "\n",
              "    <script>\n",
              "      const buttonEl =\n",
              "        document.querySelector('#df-9cc29dbf-1df2-4685-9eb9-fa6b445a3fe4 button.colab-df-convert');\n",
              "      buttonEl.style.display =\n",
              "        google.colab.kernel.accessAllowed ? 'block' : 'none';\n",
              "\n",
              "      async function convertToInteractive(key) {\n",
              "        const element = document.querySelector('#df-9cc29dbf-1df2-4685-9eb9-fa6b445a3fe4');\n",
              "        const dataTable =\n",
              "          await google.colab.kernel.invokeFunction('convertToInteractive',\n",
              "                                                    [key], {});\n",
              "        if (!dataTable) return;\n",
              "\n",
              "        const docLinkHtml = 'Like what you see? Visit the ' +\n",
              "          '<a target=\"_blank\" href=https://colab.research.google.com/notebooks/data_table.ipynb>data table notebook</a>'\n",
              "          + ' to learn more about interactive tables.';\n",
              "        element.innerHTML = '';\n",
              "        dataTable['output_type'] = 'display_data';\n",
              "        await google.colab.output.renderOutput(dataTable, element);\n",
              "        const docLink = document.createElement('div');\n",
              "        docLink.innerHTML = docLinkHtml;\n",
              "        element.appendChild(docLink);\n",
              "      }\n",
              "    </script>\n",
              "  </div>\n",
              "\n",
              "\n",
              "<div id=\"df-fa19462e-0531-4037-a5db-fa52f8d67b90\">\n",
              "  <button class=\"colab-df-quickchart\" onclick=\"quickchart('df-fa19462e-0531-4037-a5db-fa52f8d67b90')\"\n",
              "            title=\"Suggest charts\"\n",
              "            style=\"display:none;\">\n",
              "\n",
              "<svg xmlns=\"http://www.w3.org/2000/svg\" height=\"24px\"viewBox=\"0 0 24 24\"\n",
              "     width=\"24px\">\n",
              "    <g>\n",
              "        <path d=\"M19 3H5c-1.1 0-2 .9-2 2v14c0 1.1.9 2 2 2h14c1.1 0 2-.9 2-2V5c0-1.1-.9-2-2-2zM9 17H7v-7h2v7zm4 0h-2V7h2v10zm4 0h-2v-4h2v4z\"/>\n",
              "    </g>\n",
              "</svg>\n",
              "  </button>\n",
              "\n",
              "<style>\n",
              "  .colab-df-quickchart {\n",
              "      --bg-color: #E8F0FE;\n",
              "      --fill-color: #1967D2;\n",
              "      --hover-bg-color: #E2EBFA;\n",
              "      --hover-fill-color: #174EA6;\n",
              "      --disabled-fill-color: #AAA;\n",
              "      --disabled-bg-color: #DDD;\n",
              "  }\n",
              "\n",
              "  [theme=dark] .colab-df-quickchart {\n",
              "      --bg-color: #3B4455;\n",
              "      --fill-color: #D2E3FC;\n",
              "      --hover-bg-color: #434B5C;\n",
              "      --hover-fill-color: #FFFFFF;\n",
              "      --disabled-bg-color: #3B4455;\n",
              "      --disabled-fill-color: #666;\n",
              "  }\n",
              "\n",
              "  .colab-df-quickchart {\n",
              "    background-color: var(--bg-color);\n",
              "    border: none;\n",
              "    border-radius: 50%;\n",
              "    cursor: pointer;\n",
              "    display: none;\n",
              "    fill: var(--fill-color);\n",
              "    height: 32px;\n",
              "    padding: 0;\n",
              "    width: 32px;\n",
              "  }\n",
              "\n",
              "  .colab-df-quickchart:hover {\n",
              "    background-color: var(--hover-bg-color);\n",
              "    box-shadow: 0 1px 2px rgba(60, 64, 67, 0.3), 0 1px 3px 1px rgba(60, 64, 67, 0.15);\n",
              "    fill: var(--button-hover-fill-color);\n",
              "  }\n",
              "\n",
              "  .colab-df-quickchart-complete:disabled,\n",
              "  .colab-df-quickchart-complete:disabled:hover {\n",
              "    background-color: var(--disabled-bg-color);\n",
              "    fill: var(--disabled-fill-color);\n",
              "    box-shadow: none;\n",
              "  }\n",
              "\n",
              "  .colab-df-spinner {\n",
              "    border: 2px solid var(--fill-color);\n",
              "    border-color: transparent;\n",
              "    border-bottom-color: var(--fill-color);\n",
              "    animation:\n",
              "      spin 1s steps(1) infinite;\n",
              "  }\n",
              "\n",
              "  @keyframes spin {\n",
              "    0% {\n",
              "      border-color: transparent;\n",
              "      border-bottom-color: var(--fill-color);\n",
              "      border-left-color: var(--fill-color);\n",
              "    }\n",
              "    20% {\n",
              "      border-color: transparent;\n",
              "      border-left-color: var(--fill-color);\n",
              "      border-top-color: var(--fill-color);\n",
              "    }\n",
              "    30% {\n",
              "      border-color: transparent;\n",
              "      border-left-color: var(--fill-color);\n",
              "      border-top-color: var(--fill-color);\n",
              "      border-right-color: var(--fill-color);\n",
              "    }\n",
              "    40% {\n",
              "      border-color: transparent;\n",
              "      border-right-color: var(--fill-color);\n",
              "      border-top-color: var(--fill-color);\n",
              "    }\n",
              "    60% {\n",
              "      border-color: transparent;\n",
              "      border-right-color: var(--fill-color);\n",
              "    }\n",
              "    80% {\n",
              "      border-color: transparent;\n",
              "      border-right-color: var(--fill-color);\n",
              "      border-bottom-color: var(--fill-color);\n",
              "    }\n",
              "    90% {\n",
              "      border-color: transparent;\n",
              "      border-bottom-color: var(--fill-color);\n",
              "    }\n",
              "  }\n",
              "</style>\n",
              "\n",
              "  <script>\n",
              "    async function quickchart(key) {\n",
              "      const quickchartButtonEl =\n",
              "        document.querySelector('#' + key + ' button');\n",
              "      quickchartButtonEl.disabled = true;  // To prevent multiple clicks.\n",
              "      quickchartButtonEl.classList.add('colab-df-spinner');\n",
              "      try {\n",
              "        const charts = await google.colab.kernel.invokeFunction(\n",
              "            'suggestCharts', [key], {});\n",
              "      } catch (error) {\n",
              "        console.error('Error during call to suggestCharts:', error);\n",
              "      }\n",
              "      quickchartButtonEl.classList.remove('colab-df-spinner');\n",
              "      quickchartButtonEl.classList.add('colab-df-quickchart-complete');\n",
              "    }\n",
              "    (() => {\n",
              "      let quickchartButtonEl =\n",
              "        document.querySelector('#df-fa19462e-0531-4037-a5db-fa52f8d67b90 button');\n",
              "      quickchartButtonEl.style.display =\n",
              "        google.colab.kernel.accessAllowed ? 'block' : 'none';\n",
              "    })();\n",
              "  </script>\n",
              "</div>\n",
              "\n",
              "    </div>\n",
              "  </div>\n"
            ],
            "application/vnd.google.colaboratory.intrinsic+json": {
              "type": "dataframe",
              "variable_name": "df1",
              "summary": "{\n  \"name\": \"df1\",\n  \"rows\": 954,\n  \"fields\": [\n    {\n      \"column\": \"Age\",\n      \"properties\": {\n        \"dtype\": \"number\",\n        \"std\": 3,\n        \"min\": 27,\n        \"max\": 38,\n        \"num_unique_values\": 11,\n        \"samples\": [\n          28,\n          34,\n          33\n        ],\n        \"semantic_type\": \"\",\n        \"description\": \"\"\n      }\n    },\n    {\n      \"column\": \"FrequentFlyer\",\n      \"properties\": {\n        \"dtype\": \"category\",\n        \"num_unique_values\": 2,\n        \"samples\": [\n          1,\n          \"No\"\n        ],\n        \"semantic_type\": \"\",\n        \"description\": \"\"\n      }\n    },\n    {\n      \"column\": \"AnnualIncomeClass\",\n      \"properties\": {\n        \"dtype\": \"category\",\n        \"num_unique_values\": 3,\n        \"samples\": [\n          \"Middle Income\",\n          \"Low Income\"\n        ],\n        \"semantic_type\": \"\",\n        \"description\": \"\"\n      }\n    },\n    {\n      \"column\": \"ServicesOpted\",\n      \"properties\": {\n        \"dtype\": \"number\",\n        \"std\": 1,\n        \"min\": 1,\n        \"max\": 6,\n        \"num_unique_values\": 6,\n        \"samples\": [\n          6,\n          5\n        ],\n        \"semantic_type\": \"\",\n        \"description\": \"\"\n      }\n    },\n    {\n      \"column\": \"AccountSyncedToSocialMedia\",\n      \"properties\": {\n        \"dtype\": \"category\",\n        \"num_unique_values\": 2,\n        \"samples\": [\n          \"Yes\",\n          \"No\"\n        ],\n        \"semantic_type\": \"\",\n        \"description\": \"\"\n      }\n    },\n    {\n      \"column\": \"BookedHotelOrNot\",\n      \"properties\": {\n        \"dtype\": \"category\",\n        \"num_unique_values\": 2,\n        \"samples\": [\n          \"No\",\n          \"Yes\"\n        ],\n        \"semantic_type\": \"\",\n        \"description\": \"\"\n      }\n    },\n    {\n      \"column\": \"Target\",\n      \"properties\": {\n        \"dtype\": \"category\",\n        \"num_unique_values\": 2,\n        \"samples\": [\n          \"Customer Churn\",\n          \"Customer Does Not Churn\"\n        ],\n        \"semantic_type\": \"\",\n        \"description\": \"\"\n      }\n    }\n  ]\n}"
            }
          },
          "metadata": {},
          "execution_count": 230
        }
      ],
      "source": [
        "#transform Frequent Flyer\n",
        "df1.FrequentFlyer[df1['FrequentFlyer'] == 0] = 'No'\n",
        "df.FrequentFlyer[df1['FrequentFlyer'] == 1] = 'Yes'\n",
        "\n",
        "#transform Annual Income Class\n",
        "df1.AnnualIncomeClass[df1['AnnualIncomeClass'] == 0] = 'Low Income'\n",
        "df1.AnnualIncomeClass[df1['AnnualIncomeClass'] == 1] = 'Middle Income'\n",
        "df1.AnnualIncomeClass[df1['AnnualIncomeClass'] == 2] = 'High Income'\n",
        "\n",
        "#transform Account Synced To Social Media\n",
        "df1.AccountSyncedToSocialMedia[df1['AccountSyncedToSocialMedia'] == 0] = 'No'\n",
        "df1.AccountSyncedToSocialMedia[df1['AccountSyncedToSocialMedia'] == 1] = 'Yes'\n",
        "\n",
        "#transform Booked Hotel Or Not\n",
        "df1.BookedHotelOrNot[df1['BookedHotelOrNot'] == 0] = 'No'\n",
        "df1.BookedHotelOrNot[df1['BookedHotelOrNot'] == 1] = 'Yes'\n",
        "\n",
        "#transform target\n",
        "df1.Target[df1['Target'] == 0] = 'Customer Does Not Churn'\n",
        "df1.Target[df1['Target'] == 1] = 'Customer Churn'\n",
        "df1.head()\n"
      ]
    },
    {
      "cell_type": "code",
      "execution_count": 233,
      "metadata": {
        "id": "oEBq1AUNB9yt",
        "colab": {
          "base_uri": "https://localhost:8080/",
          "height": 696
        },
        "outputId": "6592db91-bc20-429f-da1a-6cbb31b8fb34"
      },
      "outputs": [
        {
          "output_type": "stream",
          "name": "stderr",
          "text": [
            "<ipython-input-233-e5a47b66dc58>:3: FutureWarning:\n",
            "\n",
            "\n",
            "\n",
            "Passing `palette` without assigning `hue` is deprecated and will be removed in v0.14.0. Assign the `x` variable to `hue` and set `legend=False` for the same effect.\n",
            "\n",
            "\n"
          ]
        },
        {
          "output_type": "display_data",
          "data": {
            "text/plain": [
              "<Figure size 800x600 with 1 Axes>"
            ],
            "image/png": "[encoded data removed]"
          },
          "metadata": {}
        }
      ],
      "source": [
        "#visualize target ~ age\n",
        "plt.figure(figsize = (8,6))\n",
        "sns.boxplot(data = df1, x = 'Target', y = 'Age', palette = 'Set1')\n",
        "plt.title(\"Target ~ Age\")\n",
        "plt.show()"
      ]
    },
    {
      "cell_type": "code",
      "execution_count": 220,
      "metadata": {
        "id": "492Z_AnqB9yt",
        "colab": {
          "base_uri": "https://localhost:8080/"
        },
        "outputId": "93e2e0e9-fdab-44ce-994a-ddf88e968c4e"
      },
      "outputs": [
        {
          "output_type": "stream",
          "name": "stdout",
          "text": [
            "   Target  FrequentFlyer  Count\n",
            "0       0              0    591\n",
            "1       0              1    139\n",
            "2       1              0     77\n",
            "3       1              1    147\n"
          ]
        }
      ],
      "source": [
        "#group frequent flyer & target\n",
        "flyer_target = df1.groupby(['Target', 'FrequentFlyer']).size().reset_index(name = 'Count')\n",
        "print(flyer_target)"
      ]
    },
    {
      "cell_type": "code",
      "execution_count": 221,
      "metadata": {
        "id": "0DEB2RvQB9yt",
        "colab": {
          "base_uri": "https://localhost:8080/",
          "height": 564
        },
        "outputId": "a91ffd37-8f8d-487f-fab4-2d7a5b7ed3c9"
      },
      "outputs": [
        {
          "output_type": "display_data",
          "data": {
            "text/plain": [
              "<Figure size 800x600 with 1 Axes>"
            ],
            "image/png": "[encoded data removed]"
          },
          "metadata": {}
        }
      ],
      "source": [
        "#visualize frequent flyer ~ target\n",
        "plt.figure(figsize = (8,6))\n",
        "sns.barplot(x = 'Target', y = 'Count', hue = 'FrequentFlyer', data = flyer_target)\n",
        "plt.title(\"Target ~ Frequent Flyer\")\n",
        "plt.show()"
      ]
    },
    {
      "cell_type": "code",
      "execution_count": 222,
      "metadata": {
        "id": "rXqKznFiB9yu",
        "colab": {
          "base_uri": "https://localhost:8080/"
        },
        "outputId": "c670df78-bf6e-4a7e-cb02-4583b65ba036"
      },
      "outputs": [
        {
          "output_type": "stream",
          "name": "stdout",
          "text": [
            "   Target  AnnualIncomeClass  Count\n",
            "0       0                  0    282\n",
            "1       0                  1    381\n",
            "2       0                  2     67\n",
            "3       1                  0    104\n",
            "4       1                  1     28\n",
            "5       1                  2     92\n"
          ]
        }
      ],
      "source": [
        "#group annual income class & target\n",
        "income_target = df1.groupby(['Target', 'AnnualIncomeClass']).size().reset_index(name = 'Count')\n",
        "print(income_target)"
      ]
    },
    {
      "cell_type": "code",
      "execution_count": 223,
      "metadata": {
        "id": "UKtkG2hXB9yu",
        "colab": {
          "base_uri": "https://localhost:8080/",
          "height": 564
        },
        "outputId": "ec9a8fae-6565-4483-b526-85e08d6d43f4"
      },
      "outputs": [
        {
          "output_type": "display_data",
          "data": {
            "text/plain": [
              "<Figure size 800x600 with 1 Axes>"
            ],
            "image/png": "[encoded data removed]"
          },
          "metadata": {}
        }
      ],
      "source": [
        "#visualize annual income class ~ target\n",
        "plt.figure(figsize = (8,6))\n",
        "sns.barplot(x = 'Target', y = 'Count', hue = 'AnnualIncomeClass', data = income_target, palette = 'Set1')\n",
        "plt.title(\"Target ~ Annual Income Class\")\n",
        "plt.show()"
      ]
    },
    {
      "cell_type": "code",
      "execution_count": 224,
      "metadata": {
        "id": "mnf07lr_B9yu",
        "colab": {
          "base_uri": "https://localhost:8080/",
          "height": 696
        },
        "outputId": "a65ed539-05d0-47a8-978f-078f6e02e63c"
      },
      "outputs": [
        {
          "output_type": "stream",
          "name": "stderr",
          "text": [
            "<ipython-input-224-aadad97a5260>:3: FutureWarning:\n",
            "\n",
            "\n",
            "\n",
            "Passing `palette` without assigning `hue` is deprecated and will be removed in v0.14.0. Assign the `x` variable to `hue` and set `legend=False` for the same effect.\n",
            "\n",
            "\n"
          ]
        },
        {
          "output_type": "display_data",
          "data": {
            "text/plain": [
              "<Figure size 800x600 with 1 Axes>"
            ],
            "image/png": "[encoded data removed]"
          },
          "metadata": {}
        }
      ],
      "source": [
        "#visualize target ~ services opted\n",
        "plt.figure(figsize = (8,6))\n",
        "sns.boxplot(data = df1, x = 'Target', y = 'ServicesOpted', palette = 'Set2')\n",
        "plt.title(\"Target ~ Services Opted\")\n",
        "plt.show()"
      ]
    },
    {
      "cell_type": "code",
      "execution_count": 225,
      "metadata": {
        "id": "_OQSqMffB9yu",
        "colab": {
          "base_uri": "https://localhost:8080/"
        },
        "outputId": "5fff7e3e-6f12-4314-9a48-52f321290ce6"
      },
      "outputs": [
        {
          "output_type": "stream",
          "name": "stdout",
          "text": [
            "   Target  AccountSyncedToSocialMedia  Count\n",
            "0       0                           0    469\n",
            "1       0                           1    261\n",
            "2       1                           0    125\n",
            "3       1                           1     99\n"
          ]
        }
      ],
      "source": [
        "#group account synced to social media ~ target\n",
        "acc_target = df1.groupby(['Target', 'AccountSyncedToSocialMedia']).size().reset_index(name = 'Count')\n",
        "print(acc_target)"
      ]
    },
    {
      "cell_type": "code",
      "execution_count": 226,
      "metadata": {
        "id": "ThWUJWxlB9yv",
        "colab": {
          "base_uri": "https://localhost:8080/",
          "height": 564
        },
        "outputId": "5524c1f9-06e1-4274-d511-22e0428bedae"
      },
      "outputs": [
        {
          "output_type": "display_data",
          "data": {
            "text/plain": [
              "<Figure size 800x600 with 1 Axes>"
            ],
            "image/png": "[encoded data removed]"
          },
          "metadata": {}
        }
      ],
      "source": [
        "#visualize account synced to social media ~ target\n",
        "plt.figure(figsize = (8,6))\n",
        "sns.barplot(x = 'Target', y = 'Count', hue = 'AccountSyncedToSocialMedia', data = acc_target)\n",
        "plt.title(\"Target ~ Account Synced To Social Media\")\n",
        "plt.show()"
      ]
    },
    {
      "cell_type": "code",
      "execution_count": 227,
      "metadata": {
        "id": "rEW_Ut2AB9yv",
        "colab": {
          "base_uri": "https://localhost:8080/"
        },
        "outputId": "2a63c74b-bf3f-4687-d45e-f5af27a58513"
      },
      "outputs": [
        {
          "output_type": "stream",
          "name": "stdout",
          "text": [
            "   Target  BookedHotelOrNot  Count\n",
            "0       0                 0    400\n",
            "1       0                 1    330\n",
            "2       1                 0    176\n",
            "3       1                 1     48\n"
          ]
        }
      ],
      "source": [
        "#group booked hotel or not & target\n",
        "book_target = df1.groupby(['Target', 'BookedHotelOrNot']).size().reset_index(name = 'Count')\n",
        "print(book_target)"
      ]
    },
    {
      "cell_type": "code",
      "execution_count": 228,
      "metadata": {
        "id": "cHpI4QxTB9yv",
        "colab": {
          "base_uri": "https://localhost:8080/",
          "height": 564
        },
        "outputId": "03d07602-358d-4cad-a19a-a7e567fc4cba"
      },
      "outputs": [
        {
          "output_type": "display_data",
          "data": {
            "text/plain": [
              "<Figure size 800x600 with 1 Axes>"
            ],
            "image/png": "[encoded data removed]"
          },
          "metadata": {}
        }
      ],
      "source": [
        "#visualize booked hotel or not ~ target\n",
        "plt.figure(figsize = (8,6))\n",
        "sns.barplot(x = 'Target', y = 'Count', hue = 'BookedHotelOrNot', data = book_target, palette = 'Set1')\n",
        "plt.title(\"Target ~ Booked Hotel Or Not\")\n",
        "plt.show()"
      ]
    },
    {
      "cell_type": "code",
      "execution_count": 234,
      "metadata": {
        "id": "8Ja9rFNEB9yv",
        "colab": {
          "base_uri": "https://localhost:8080/",
          "height": 521
        },
        "outputId": "12b08774-b18c-41be-b8f2-4ba4035d8e1a"
      },
      "outputs": [
        {
          "output_type": "display_data",
          "data": {
            "text/plain": [
              "<Figure size 800x600 with 1 Axes>"
            ],
            "image/png": "[encoded data removed]"
          },
          "metadata": {}
        }
      ],
      "source": [
        "#visualize Target\n",
        "plt.figure(figsize = (8,6))\n",
        "x = [np.count_nonzero(df1['Target'] == 'Customer Does Not Churn'),\n",
        "    np.count_nonzero(df1['Target'] == 'Customer Churn')]\n",
        "activities = ['Customer Does Not Churn', 'Customer Churn']\n",
        "plt.pie(x, labels = activities, startangle = 50, autopct = '%.1f%%', shadow = True)\n",
        "plt.title(\"Target\")\n",
        "plt.show()"
      ]
    }
  ],
  "metadata": {
    "kernelspec": {
      "display_name": "Python 3",
      "language": "python",
      "name": "python3"
    },
    "language_info": {
      "codemirror_mode": {
        "name": "ipython",
        "version": 3
      },
      "file_extension": ".py",
      "mimetype": "text/x-python",
      "name": "python",
      "nbconvert_exporter": "python",
      "pygments_lexer": "ipython3",
      "version": "3.12.2"
    },
    "colab": {
      "provenance": [],
      "include_colab_link": true
    }
  },
  "nbformat": 4,
  "nbformat_minor": 0
}